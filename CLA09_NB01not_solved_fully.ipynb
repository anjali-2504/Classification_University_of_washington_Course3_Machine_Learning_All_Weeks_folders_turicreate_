{
  "nbformat": 4,
  "nbformat_minor": 0,
  "metadata": {
    "kernelspec": {
      "display_name": "Python 3",
      "language": "python",
      "name": "python3"
    },
    "language_info": {
      "codemirror_mode": {
        "name": "ipython",
        "version": 3
      },
      "file_extension": ".py",
      "mimetype": "text/x-python",
      "name": "python",
      "nbconvert_exporter": "python",
      "pygments_lexer": "ipython3",
      "version": "3.6.8"
    },
    "colab": {
      "name": "CLA09-NB01not solved fully.ipynb",
      "provenance": [],
      "collapsed_sections": [],
      "toc_visible": true,
      "include_colab_link": true
    }
  },
  "cells": [
    {
      "cell_type": "markdown",
      "metadata": {
        "id": "view-in-github",
        "colab_type": "text"
      },
      "source": [
        "<a href=\"https://colab.research.google.com/github/anjali-2504/Classification_University_of_washington_Course3_Machine_Learning_All_Weeks_folders_turicreate_/blob/main/CLA09_NB01not_solved_fully.ipynb\" target=\"_parent\"><img src=\"https://colab.research.google.com/assets/colab-badge.svg\" alt=\"Open In Colab\"/></a>"
      ]
    },
    {
      "cell_type": "code",
      "metadata": {
        "id": "L0rTCgyjHOBE"
      },
      "source": [
        ""
      ],
      "execution_count": null,
      "outputs": []
    },
    {
      "cell_type": "code",
      "metadata": {
        "colab": {
          "base_uri": "https://localhost:8080/"
        },
        "id": "M5-KtBZ2HMRP",
        "outputId": "10e3d86a-2258-42c9-dcb8-98e7101e7f59"
      },
      "source": [
        "!pip install turicreate"
      ],
      "execution_count": 2,
      "outputs": [
        {
          "output_type": "stream",
          "text": [
            "Collecting turicreate\n",
            "\u001b[?25l  Downloading https://files.pythonhosted.org/packages/25/9f/a76acc465d873d217f05eac4846bd73d640b9db6d6f4a3c29ad92650fbbe/turicreate-6.4.1-cp37-cp37m-manylinux1_x86_64.whl (92.0MB)\n",
            "\u001b[K     |████████████████████████████████| 92.0MB 63kB/s \n",
            "\u001b[?25hRequirement already satisfied: pandas>=0.23.2 in /usr/local/lib/python3.7/dist-packages (from turicreate) (1.1.5)\n",
            "Collecting coremltools==3.3\n",
            "\u001b[?25l  Downloading https://files.pythonhosted.org/packages/1b/1d/b1a99beca7355b6a026ae61fd8d3d36136e5b36f13e92ec5f81aceffc7f1/coremltools-3.3-cp37-none-manylinux1_x86_64.whl (3.5MB)\n",
            "\u001b[K     |████████████████████████████████| 3.5MB 47.9MB/s \n",
            "\u001b[?25hCollecting numba<0.51.0\n",
            "\u001b[?25l  Downloading https://files.pythonhosted.org/packages/04/be/8c88cee3366de2a3a23a9ff1a8be34e79ad1eb1ceb0d0e33aca83655ac3c/numba-0.50.1-cp37-cp37m-manylinux2014_x86_64.whl (3.6MB)\n",
            "\u001b[K     |████████████████████████████████| 3.6MB 42.0MB/s \n",
            "\u001b[?25hRequirement already satisfied: six>=1.10.0 in /usr/local/lib/python3.7/dist-packages (from turicreate) (1.15.0)\n",
            "Requirement already satisfied: numpy in /usr/local/lib/python3.7/dist-packages (from turicreate) (1.19.5)\n",
            "Requirement already satisfied: decorator>=4.0.9 in /usr/local/lib/python3.7/dist-packages (from turicreate) (4.4.2)\n",
            "Collecting tensorflow<2.1.0,>=2.0.0\n",
            "\u001b[?25l  Downloading https://files.pythonhosted.org/packages/3c/b3/3eeae9bc44039ceadceac0c7ba1cc8b1482b172810b3d7624a1cad251437/tensorflow-2.0.4-cp37-cp37m-manylinux2010_x86_64.whl (86.4MB)\n",
            "\u001b[K     |████████████████████████████████| 86.4MB 52kB/s \n",
            "\u001b[?25hCollecting prettytable==0.7.2\n",
            "  Downloading https://files.pythonhosted.org/packages/ef/30/4b0746848746ed5941f052479e7c23d2b56d174b82f4fd34a25e389831f5/prettytable-0.7.2.tar.bz2\n",
            "Requirement already satisfied: pillow>=5.2.0 in /usr/local/lib/python3.7/dist-packages (from turicreate) (7.1.2)\n",
            "Requirement already satisfied: scipy>=1.1.0 in /usr/local/lib/python3.7/dist-packages (from turicreate) (1.4.1)\n",
            "Collecting resampy==0.2.1\n",
            "\u001b[?25l  Downloading https://files.pythonhosted.org/packages/14/b6/66a06d85474190b50aee1a6c09cdc95bb405ac47338b27e9b21409da1760/resampy-0.2.1.tar.gz (322kB)\n",
            "\u001b[K     |████████████████████████████████| 327kB 54.2MB/s \n",
            "\u001b[?25hRequirement already satisfied: requests>=2.9.1 in /usr/local/lib/python3.7/dist-packages (from turicreate) (2.23.0)\n",
            "Requirement already satisfied: python-dateutil>=2.7.3 in /usr/local/lib/python3.7/dist-packages (from pandas>=0.23.2->turicreate) (2.8.1)\n",
            "Requirement already satisfied: pytz>=2017.2 in /usr/local/lib/python3.7/dist-packages (from pandas>=0.23.2->turicreate) (2018.9)\n",
            "Requirement already satisfied: protobuf>=3.1.0 in /usr/local/lib/python3.7/dist-packages (from coremltools==3.3->turicreate) (3.12.4)\n",
            "Collecting llvmlite<0.34,>=0.33.0.dev0\n",
            "\u001b[?25l  Downloading https://files.pythonhosted.org/packages/0a/28/0a35b3c2685bf2ea327cef5577bdf91f387f0f4594417a2a05a1d42fb7c2/llvmlite-0.33.0-cp37-cp37m-manylinux1_x86_64.whl (18.3MB)\n",
            "\u001b[K     |████████████████████████████████| 18.3MB 218kB/s \n",
            "\u001b[?25hRequirement already satisfied: setuptools in /usr/local/lib/python3.7/dist-packages (from numba<0.51.0->turicreate) (54.2.0)\n",
            "Requirement already satisfied: astor>=0.6.0 in /usr/local/lib/python3.7/dist-packages (from tensorflow<2.1.0,>=2.0.0->turicreate) (0.8.1)\n",
            "Requirement already satisfied: google-pasta>=0.1.6 in /usr/local/lib/python3.7/dist-packages (from tensorflow<2.1.0,>=2.0.0->turicreate) (0.2.0)\n",
            "Requirement already satisfied: absl-py>=0.7.0 in /usr/local/lib/python3.7/dist-packages (from tensorflow<2.1.0,>=2.0.0->turicreate) (0.12.0)\n",
            "Requirement already satisfied: grpcio>=1.8.6 in /usr/local/lib/python3.7/dist-packages (from tensorflow<2.1.0,>=2.0.0->turicreate) (1.32.0)\n",
            "Requirement already satisfied: h5py<=2.10.0 in /usr/local/lib/python3.7/dist-packages (from tensorflow<2.1.0,>=2.0.0->turicreate) (2.10.0)\n",
            "Requirement already satisfied: termcolor>=1.1.0 in /usr/local/lib/python3.7/dist-packages (from tensorflow<2.1.0,>=2.0.0->turicreate) (1.1.0)\n",
            "Requirement already satisfied: keras-preprocessing>=1.0.5 in /usr/local/lib/python3.7/dist-packages (from tensorflow<2.1.0,>=2.0.0->turicreate) (1.1.2)\n",
            "Requirement already satisfied: opt-einsum>=2.3.2 in /usr/local/lib/python3.7/dist-packages (from tensorflow<2.1.0,>=2.0.0->turicreate) (3.3.0)\n",
            "Requirement already satisfied: wheel>=0.26; python_version >= \"3\" in /usr/local/lib/python3.7/dist-packages (from tensorflow<2.1.0,>=2.0.0->turicreate) (0.36.2)\n",
            "Collecting keras-applications>=1.0.8\n",
            "\u001b[?25l  Downloading https://files.pythonhosted.org/packages/71/e3/19762fdfc62877ae9102edf6342d71b28fbfd9dea3d2f96a882ce099b03f/Keras_Applications-1.0.8-py3-none-any.whl (50kB)\n",
            "\u001b[K     |████████████████████████████████| 51kB 6.5MB/s \n",
            "\u001b[?25hCollecting tensorflow-estimator<2.1.0,>=2.0.0\n",
            "\u001b[?25l  Downloading https://files.pythonhosted.org/packages/fc/08/8b927337b7019c374719145d1dceba21a8bb909b93b1ad6f8fb7d22c1ca1/tensorflow_estimator-2.0.1-py2.py3-none-any.whl (449kB)\n",
            "\u001b[K     |████████████████████████████████| 450kB 46.7MB/s \n",
            "\u001b[?25hRequirement already satisfied: wrapt>=1.11.1 in /usr/local/lib/python3.7/dist-packages (from tensorflow<2.1.0,>=2.0.0->turicreate) (1.12.1)\n",
            "Collecting gast==0.2.2\n",
            "  Downloading https://files.pythonhosted.org/packages/4e/35/11749bf99b2d4e3cceb4d55ca22590b0d7c2c62b9de38ac4a4a7f4687421/gast-0.2.2.tar.gz\n",
            "Collecting tensorboard<2.1.0,>=2.0.0\n",
            "\u001b[?25l  Downloading https://files.pythonhosted.org/packages/76/54/99b9d5d52d5cb732f099baaaf7740403e83fe6b0cedde940fabd2b13d75a/tensorboard-2.0.2-py3-none-any.whl (3.8MB)\n",
            "\u001b[K     |████████████████████████████████| 3.8MB 48.7MB/s \n",
            "\u001b[?25hRequirement already satisfied: chardet<4,>=3.0.2 in /usr/local/lib/python3.7/dist-packages (from requests>=2.9.1->turicreate) (3.0.4)\n",
            "Requirement already satisfied: certifi>=2017.4.17 in /usr/local/lib/python3.7/dist-packages (from requests>=2.9.1->turicreate) (2020.12.5)\n",
            "Requirement already satisfied: urllib3!=1.25.0,!=1.25.1,<1.26,>=1.21.1 in /usr/local/lib/python3.7/dist-packages (from requests>=2.9.1->turicreate) (1.24.3)\n",
            "Requirement already satisfied: idna<3,>=2.5 in /usr/local/lib/python3.7/dist-packages (from requests>=2.9.1->turicreate) (2.10)\n",
            "Requirement already satisfied: markdown>=2.6.8 in /usr/local/lib/python3.7/dist-packages (from tensorboard<2.1.0,>=2.0.0->tensorflow<2.1.0,>=2.0.0->turicreate) (3.3.4)\n",
            "Requirement already satisfied: google-auth-oauthlib<0.5,>=0.4.1 in /usr/local/lib/python3.7/dist-packages (from tensorboard<2.1.0,>=2.0.0->tensorflow<2.1.0,>=2.0.0->turicreate) (0.4.3)\n",
            "Requirement already satisfied: werkzeug>=0.11.15 in /usr/local/lib/python3.7/dist-packages (from tensorboard<2.1.0,>=2.0.0->tensorflow<2.1.0,>=2.0.0->turicreate) (1.0.1)\n",
            "Requirement already satisfied: google-auth<2,>=1.6.3 in /usr/local/lib/python3.7/dist-packages (from tensorboard<2.1.0,>=2.0.0->tensorflow<2.1.0,>=2.0.0->turicreate) (1.28.0)\n",
            "Requirement already satisfied: importlib-metadata; python_version < \"3.8\" in /usr/local/lib/python3.7/dist-packages (from markdown>=2.6.8->tensorboard<2.1.0,>=2.0.0->tensorflow<2.1.0,>=2.0.0->turicreate) (3.8.1)\n",
            "Requirement already satisfied: requests-oauthlib>=0.7.0 in /usr/local/lib/python3.7/dist-packages (from google-auth-oauthlib<0.5,>=0.4.1->tensorboard<2.1.0,>=2.0.0->tensorflow<2.1.0,>=2.0.0->turicreate) (1.3.0)\n",
            "Requirement already satisfied: pyasn1-modules>=0.2.1 in /usr/local/lib/python3.7/dist-packages (from google-auth<2,>=1.6.3->tensorboard<2.1.0,>=2.0.0->tensorflow<2.1.0,>=2.0.0->turicreate) (0.2.8)\n",
            "Requirement already satisfied: rsa<5,>=3.1.4; python_version >= \"3.6\" in /usr/local/lib/python3.7/dist-packages (from google-auth<2,>=1.6.3->tensorboard<2.1.0,>=2.0.0->tensorflow<2.1.0,>=2.0.0->turicreate) (4.7.2)\n",
            "Requirement already satisfied: cachetools<5.0,>=2.0.0 in /usr/local/lib/python3.7/dist-packages (from google-auth<2,>=1.6.3->tensorboard<2.1.0,>=2.0.0->tensorflow<2.1.0,>=2.0.0->turicreate) (4.2.1)\n",
            "Requirement already satisfied: zipp>=0.5 in /usr/local/lib/python3.7/dist-packages (from importlib-metadata; python_version < \"3.8\"->markdown>=2.6.8->tensorboard<2.1.0,>=2.0.0->tensorflow<2.1.0,>=2.0.0->turicreate) (3.4.1)\n",
            "Requirement already satisfied: typing-extensions>=3.6.4; python_version < \"3.8\" in /usr/local/lib/python3.7/dist-packages (from importlib-metadata; python_version < \"3.8\"->markdown>=2.6.8->tensorboard<2.1.0,>=2.0.0->tensorflow<2.1.0,>=2.0.0->turicreate) (3.7.4.3)\n",
            "Requirement already satisfied: oauthlib>=3.0.0 in /usr/local/lib/python3.7/dist-packages (from requests-oauthlib>=0.7.0->google-auth-oauthlib<0.5,>=0.4.1->tensorboard<2.1.0,>=2.0.0->tensorflow<2.1.0,>=2.0.0->turicreate) (3.1.0)\n",
            "Requirement already satisfied: pyasn1<0.5.0,>=0.4.6 in /usr/local/lib/python3.7/dist-packages (from pyasn1-modules>=0.2.1->google-auth<2,>=1.6.3->tensorboard<2.1.0,>=2.0.0->tensorflow<2.1.0,>=2.0.0->turicreate) (0.4.8)\n",
            "Building wheels for collected packages: prettytable, resampy, gast\n",
            "  Building wheel for prettytable (setup.py) ... \u001b[?25l\u001b[?25hdone\n",
            "  Created wheel for prettytable: filename=prettytable-0.7.2-cp37-none-any.whl size=13700 sha256=cd3d40acc3e25956645eb7b8c64ac34576390fed044c2045f659ecb1c3b89555\n",
            "  Stored in directory: /root/.cache/pip/wheels/80/34/1c/3967380d9676d162cb59513bd9dc862d0584e045a162095606\n",
            "  Building wheel for resampy (setup.py) ... \u001b[?25l\u001b[?25hdone\n",
            "  Created wheel for resampy: filename=resampy-0.2.1-cp37-none-any.whl size=320845 sha256=a446f068f3ac4e135e3abf3968ec9d0001f4d6277d20b578ec9c068e2700d47d\n",
            "  Stored in directory: /root/.cache/pip/wheels/ff/4f/ed/2e6c676c23efe5394bb40ade50662e90eb46e29b48324c5f9b\n",
            "  Building wheel for gast (setup.py) ... \u001b[?25l\u001b[?25hdone\n",
            "  Created wheel for gast: filename=gast-0.2.2-cp37-none-any.whl size=7540 sha256=c941116ab219a89202f06a48ea39c596d92a4f0c20e0dfb6e3e929523233a80b\n",
            "  Stored in directory: /root/.cache/pip/wheels/5c/2e/7e/a1d4d4fcebe6c381f378ce7743a3ced3699feb89bcfbdadadd\n",
            "Successfully built prettytable resampy gast\n",
            "\u001b[31mERROR: tensorflow 2.0.4 has requirement numpy<1.19.0,>=1.16.0, but you'll have numpy 1.19.5 which is incompatible.\u001b[0m\n",
            "\u001b[31mERROR: tensorflow-probability 0.12.1 has requirement gast>=0.3.2, but you'll have gast 0.2.2 which is incompatible.\u001b[0m\n",
            "\u001b[31mERROR: librosa 0.8.0 has requirement resampy>=0.2.2, but you'll have resampy 0.2.1 which is incompatible.\u001b[0m\n",
            "Installing collected packages: coremltools, llvmlite, numba, keras-applications, tensorflow-estimator, gast, tensorboard, tensorflow, prettytable, resampy, turicreate\n",
            "  Found existing installation: llvmlite 0.34.0\n",
            "    Uninstalling llvmlite-0.34.0:\n",
            "      Successfully uninstalled llvmlite-0.34.0\n",
            "  Found existing installation: numba 0.51.2\n",
            "    Uninstalling numba-0.51.2:\n",
            "      Successfully uninstalled numba-0.51.2\n",
            "  Found existing installation: tensorflow-estimator 2.4.0\n",
            "    Uninstalling tensorflow-estimator-2.4.0:\n",
            "      Successfully uninstalled tensorflow-estimator-2.4.0\n",
            "  Found existing installation: gast 0.3.3\n",
            "    Uninstalling gast-0.3.3:\n",
            "      Successfully uninstalled gast-0.3.3\n",
            "  Found existing installation: tensorboard 2.4.1\n",
            "    Uninstalling tensorboard-2.4.1:\n",
            "      Successfully uninstalled tensorboard-2.4.1\n",
            "  Found existing installation: tensorflow 2.4.1\n",
            "    Uninstalling tensorflow-2.4.1:\n",
            "      Successfully uninstalled tensorflow-2.4.1\n",
            "  Found existing installation: prettytable 2.1.0\n",
            "    Uninstalling prettytable-2.1.0:\n",
            "      Successfully uninstalled prettytable-2.1.0\n",
            "  Found existing installation: resampy 0.2.2\n",
            "    Uninstalling resampy-0.2.2:\n",
            "      Successfully uninstalled resampy-0.2.2\n",
            "Successfully installed coremltools-3.3 gast-0.2.2 keras-applications-1.0.8 llvmlite-0.33.0 numba-0.50.1 prettytable-0.7.2 resampy-0.2.1 tensorboard-2.0.2 tensorflow-2.0.4 tensorflow-estimator-2.0.1 turicreate-6.4.1\n"
          ],
          "name": "stdout"
        }
      ]
    },
    {
      "cell_type": "markdown",
      "metadata": {
        "id": "biJ1YeegHO5d"
      },
      "source": [
        ""
      ]
    },
    {
      "cell_type": "markdown",
      "metadata": {
        "id": "6CIYeQOIDQjx"
      },
      "source": [
        "# Exploring precision and recall\n",
        "\n",
        "The goal of this second notebook is to understand precision-recall in the context of classifiers.\n",
        "\n",
        " * Use Amazon review data in its entirety.\n",
        " * Train a logistic regression model.\n",
        " * Explore various evaluation metrics: accuracy, confusion matrix, precision, recall.\n",
        " * Explore how various metrics can be combined to produce a cost of making an error.\n",
        " * Explore precision and recall curves.\n",
        " \n",
        "Because we are using the full Amazon review dataset (not a subset of words or reviews), in this assignment we return to using Turi Create for its efficiency. As usual, let's start by **firing up Turi Create**.\n",
        "\n",
        "Make sure you have the latest version of Turi Create."
      ]
    },
    {
      "cell_type": "code",
      "metadata": {
        "id": "hBRMPPP5DQj2"
      },
      "source": [
        "from __future__ import division\n",
        "import turicreate\n",
        "import numpy as np"
      ],
      "execution_count": 3,
      "outputs": []
    },
    {
      "cell_type": "code",
      "metadata": {
        "colab": {
          "base_uri": "https://localhost:8080/"
        },
        "id": "K2oAeBLBDRuL",
        "outputId": "49077057-6f4e-4dbe-8e1a-c93c07ca9037"
      },
      "source": [
        "\n",
        "from google.colab import drive\n",
        "drive.mount('/content/gdrive')"
      ],
      "execution_count": 4,
      "outputs": [
        {
          "output_type": "stream",
          "text": [
            "Mounted at /content/gdrive\n"
          ],
          "name": "stdout"
        }
      ]
    },
    {
      "cell_type": "code",
      "metadata": {
        "colab": {
          "base_uri": "https://localhost:8080/"
        },
        "id": "Dn9GaZYTHWw8",
        "outputId": "74f653a5-bce4-4de7-ed98-c281eef45820"
      },
      "source": [
        "from zipfile import ZipFile\n",
        "file_name = \"/content/gdrive/MyDrive/amazon_baby.sframe.zip\"\n",
        "with ZipFile(file_name,'r')as zip:\n",
        "  zip.extractall()\n",
        "  print('Done')\n"
      ],
      "execution_count": 5,
      "outputs": [
        {
          "output_type": "stream",
          "text": [
            "Done\n"
          ],
          "name": "stdout"
        }
      ]
    },
    {
      "cell_type": "markdown",
      "metadata": {
        "id": "hdw7ZtcBDQj3"
      },
      "source": [
        "# Load amazon review dataset"
      ]
    },
    {
      "cell_type": "code",
      "metadata": {
        "id": "qzTuegCODQj3",
        "colab": {
          "base_uri": "https://localhost:8080/",
          "height": 428
        },
        "outputId": "2952cee4-c527-4aea-ab96-d97ddd53f839"
      },
      "source": [
        "products = turicreate.SFrame('amazon_baby.sframe/')\n",
        "products"
      ],
      "execution_count": 7,
      "outputs": [
        {
          "output_type": "execute_result",
          "data": {
            "text/html": [
              "<div style=\"max-height:1000px;max-width:1500px;overflow:auto;\"><table frame=\"box\" rules=\"cols\">\n",
              "    <tr>\n",
              "        <th style=\"padding-left: 1em; padding-right: 1em; text-align: center\">name</th>\n",
              "        <th style=\"padding-left: 1em; padding-right: 1em; text-align: center\">review</th>\n",
              "        <th style=\"padding-left: 1em; padding-right: 1em; text-align: center\">rating</th>\n",
              "    </tr>\n",
              "    <tr>\n",
              "        <td style=\"padding-left: 1em; padding-right: 1em; text-align: center; vertical-align: top\">Planetwise Flannel Wipes</td>\n",
              "        <td style=\"padding-left: 1em; padding-right: 1em; text-align: center; vertical-align: top\">These flannel wipes are<br>OK, but in my opinion ...</td>\n",
              "        <td style=\"padding-left: 1em; padding-right: 1em; text-align: center; vertical-align: top\">3.0</td>\n",
              "    </tr>\n",
              "    <tr>\n",
              "        <td style=\"padding-left: 1em; padding-right: 1em; text-align: center; vertical-align: top\">Planetwise Wipe Pouch</td>\n",
              "        <td style=\"padding-left: 1em; padding-right: 1em; text-align: center; vertical-align: top\">it came early and was not<br>disappointed. i love ...</td>\n",
              "        <td style=\"padding-left: 1em; padding-right: 1em; text-align: center; vertical-align: top\">5.0</td>\n",
              "    </tr>\n",
              "    <tr>\n",
              "        <td style=\"padding-left: 1em; padding-right: 1em; text-align: center; vertical-align: top\">Annas Dream Full Quilt<br>with 2 Shams ...</td>\n",
              "        <td style=\"padding-left: 1em; padding-right: 1em; text-align: center; vertical-align: top\">Very soft and comfortable<br>and warmer than it ...</td>\n",
              "        <td style=\"padding-left: 1em; padding-right: 1em; text-align: center; vertical-align: top\">5.0</td>\n",
              "    </tr>\n",
              "    <tr>\n",
              "        <td style=\"padding-left: 1em; padding-right: 1em; text-align: center; vertical-align: top\">Stop Pacifier Sucking<br>without tears with ...</td>\n",
              "        <td style=\"padding-left: 1em; padding-right: 1em; text-align: center; vertical-align: top\">This is a product well<br>worth the purchase.  I ...</td>\n",
              "        <td style=\"padding-left: 1em; padding-right: 1em; text-align: center; vertical-align: top\">5.0</td>\n",
              "    </tr>\n",
              "    <tr>\n",
              "        <td style=\"padding-left: 1em; padding-right: 1em; text-align: center; vertical-align: top\">Stop Pacifier Sucking<br>without tears with ...</td>\n",
              "        <td style=\"padding-left: 1em; padding-right: 1em; text-align: center; vertical-align: top\">All of my kids have cried<br>non-stop when I tried to ...</td>\n",
              "        <td style=\"padding-left: 1em; padding-right: 1em; text-align: center; vertical-align: top\">5.0</td>\n",
              "    </tr>\n",
              "    <tr>\n",
              "        <td style=\"padding-left: 1em; padding-right: 1em; text-align: center; vertical-align: top\">Stop Pacifier Sucking<br>without tears with ...</td>\n",
              "        <td style=\"padding-left: 1em; padding-right: 1em; text-align: center; vertical-align: top\">When the Binky Fairy came<br>to our house, we didn&#x27;t ...</td>\n",
              "        <td style=\"padding-left: 1em; padding-right: 1em; text-align: center; vertical-align: top\">5.0</td>\n",
              "    </tr>\n",
              "    <tr>\n",
              "        <td style=\"padding-left: 1em; padding-right: 1em; text-align: center; vertical-align: top\">A Tale of Baby&#x27;s Days<br>with Peter Rabbit ...</td>\n",
              "        <td style=\"padding-left: 1em; padding-right: 1em; text-align: center; vertical-align: top\">Lovely book, it&#x27;s bound<br>tightly so you may no ...</td>\n",
              "        <td style=\"padding-left: 1em; padding-right: 1em; text-align: center; vertical-align: top\">4.0</td>\n",
              "    </tr>\n",
              "    <tr>\n",
              "        <td style=\"padding-left: 1em; padding-right: 1em; text-align: center; vertical-align: top\">Baby Tracker&amp;reg; - Daily<br>Childcare Journal, ...</td>\n",
              "        <td style=\"padding-left: 1em; padding-right: 1em; text-align: center; vertical-align: top\">Perfect for new parents.<br>We were able to keep ...</td>\n",
              "        <td style=\"padding-left: 1em; padding-right: 1em; text-align: center; vertical-align: top\">5.0</td>\n",
              "    </tr>\n",
              "    <tr>\n",
              "        <td style=\"padding-left: 1em; padding-right: 1em; text-align: center; vertical-align: top\">Baby Tracker&amp;reg; - Daily<br>Childcare Journal, ...</td>\n",
              "        <td style=\"padding-left: 1em; padding-right: 1em; text-align: center; vertical-align: top\">A friend of mine pinned<br>this product on Pinte ...</td>\n",
              "        <td style=\"padding-left: 1em; padding-right: 1em; text-align: center; vertical-align: top\">5.0</td>\n",
              "    </tr>\n",
              "    <tr>\n",
              "        <td style=\"padding-left: 1em; padding-right: 1em; text-align: center; vertical-align: top\">Baby Tracker&amp;reg; - Daily<br>Childcare Journal, ...</td>\n",
              "        <td style=\"padding-left: 1em; padding-right: 1em; text-align: center; vertical-align: top\">This has been an easy way<br>for my nanny to record ...</td>\n",
              "        <td style=\"padding-left: 1em; padding-right: 1em; text-align: center; vertical-align: top\">4.0</td>\n",
              "    </tr>\n",
              "</table>\n",
              "[183531 rows x 3 columns]<br/>Note: Only the head of the SFrame is printed.<br/>You can use print_rows(num_rows=m, num_columns=n) to print more rows and columns.\n",
              "</div>"
            ],
            "text/plain": [
              "Columns:\n",
              "\tname\tstr\n",
              "\treview\tstr\n",
              "\trating\tfloat\n",
              "\n",
              "Rows: 183531\n",
              "\n",
              "Data:\n",
              "+-------------------------------+-------------------------------+--------+\n",
              "|              name             |             review            | rating |\n",
              "+-------------------------------+-------------------------------+--------+\n",
              "|    Planetwise Flannel Wipes   | These flannel wipes are OK... |  3.0   |\n",
              "|     Planetwise Wipe Pouch     | it came early and was not ... |  5.0   |\n",
              "| Annas Dream Full Quilt wit... | Very soft and comfortable ... |  5.0   |\n",
              "| Stop Pacifier Sucking with... | This is a product well wor... |  5.0   |\n",
              "| Stop Pacifier Sucking with... | All of my kids have cried ... |  5.0   |\n",
              "| Stop Pacifier Sucking with... | When the Binky Fairy came ... |  5.0   |\n",
              "| A Tale of Baby's Days with... | Lovely book, it's bound ti... |  4.0   |\n",
              "| Baby Tracker&reg; - Daily ... | Perfect for new parents. W... |  5.0   |\n",
              "| Baby Tracker&reg; - Daily ... | A friend of mine pinned th... |  5.0   |\n",
              "| Baby Tracker&reg; - Daily ... | This has been an easy way ... |  4.0   |\n",
              "+-------------------------------+-------------------------------+--------+\n",
              "[183531 rows x 3 columns]\n",
              "Note: Only the head of the SFrame is printed.\n",
              "You can use print_rows(num_rows=m, num_columns=n) to print more rows and columns."
            ]
          },
          "metadata": {
            "tags": []
          },
          "execution_count": 7
        }
      ]
    },
    {
      "cell_type": "markdown",
      "metadata": {
        "id": "T6bwOjoqDQj3"
      },
      "source": [
        "# Extract word counts and sentiments"
      ]
    },
    {
      "cell_type": "markdown",
      "metadata": {
        "id": "-088cjcPDQj4"
      },
      "source": [
        "As in the first assignment of this course, we compute the word counts for individual words and extract positive and negative sentiments from ratings. To summarize, we perform the following:\n",
        "\n",
        "1. Remove punctuation.\n",
        "2. Remove reviews with \"neutral\" sentiment (rating 3).\n",
        "3. Set reviews with rating 4 or more to be positive and those with 2 or less to be negative."
      ]
    },
    {
      "cell_type": "code",
      "metadata": {
        "collapsed": true,
        "id": "qQpg7dg0DQj4"
      },
      "source": [
        "import string\n",
        "\n",
        "def remove_punctuation(text):\n",
        "    try: # python 2.x\n",
        "        text = text.translate(None, string.punctuation) \n",
        "    except: # python 3.x\n",
        "        translator = text.maketrans('', '', string.punctuation)\n",
        "        text = text.translate(translator)\n",
        "    return text\n",
        "\n",
        "# Remove punctuation.\n",
        "review_clean = products['review'].apply(remove_punctuation)\n",
        "\n",
        "# Count words\n",
        "products['word_count'] = turicreate.text_analytics.count_words(review_clean)\n",
        "\n",
        "# Drop neutral sentiment reviews.\n",
        "products = products[products['rating'] != 3]\n",
        "\n",
        "# Positive sentiment to +1 and negative sentiment to -1\n",
        "products['sentiment'] = products['rating'].apply(lambda rating : +1 if rating > 3 else -1)"
      ],
      "execution_count": 8,
      "outputs": []
    },
    {
      "cell_type": "markdown",
      "metadata": {
        "id": "kNgPB4tRDQj4"
      },
      "source": [
        "Now, let's remember what the dataset looks like by taking a quick peek:"
      ]
    },
    {
      "cell_type": "code",
      "metadata": {
        "colab": {
          "base_uri": "https://localhost:8080/",
          "height": 428
        },
        "id": "0ENTfCGkDQj4",
        "outputId": "8d597606-c7c7-4f2e-9aeb-daf8daa351b3"
      },
      "source": [
        "products"
      ],
      "execution_count": 9,
      "outputs": [
        {
          "output_type": "execute_result",
          "data": {
            "text/html": [
              "<div style=\"max-height:1000px;max-width:1500px;overflow:auto;\"><table frame=\"box\" rules=\"cols\">\n",
              "    <tr>\n",
              "        <th style=\"padding-left: 1em; padding-right: 1em; text-align: center\">name</th>\n",
              "        <th style=\"padding-left: 1em; padding-right: 1em; text-align: center\">review</th>\n",
              "        <th style=\"padding-left: 1em; padding-right: 1em; text-align: center\">rating</th>\n",
              "        <th style=\"padding-left: 1em; padding-right: 1em; text-align: center\">word_count</th>\n",
              "        <th style=\"padding-left: 1em; padding-right: 1em; text-align: center\">sentiment</th>\n",
              "    </tr>\n",
              "    <tr>\n",
              "        <td style=\"padding-left: 1em; padding-right: 1em; text-align: center; vertical-align: top\">Planetwise Wipe Pouch</td>\n",
              "        <td style=\"padding-left: 1em; padding-right: 1em; text-align: center; vertical-align: top\">it came early and was not<br>disappointed. i love ...</td>\n",
              "        <td style=\"padding-left: 1em; padding-right: 1em; text-align: center; vertical-align: top\">5.0</td>\n",
              "        <td style=\"padding-left: 1em; padding-right: 1em; text-align: center; vertical-align: top\">{&#x27;recommend&#x27;: 1.0,<br>&#x27;highly&#x27;: 1.0, ...</td>\n",
              "        <td style=\"padding-left: 1em; padding-right: 1em; text-align: center; vertical-align: top\">1</td>\n",
              "    </tr>\n",
              "    <tr>\n",
              "        <td style=\"padding-left: 1em; padding-right: 1em; text-align: center; vertical-align: top\">Annas Dream Full Quilt<br>with 2 Shams ...</td>\n",
              "        <td style=\"padding-left: 1em; padding-right: 1em; text-align: center; vertical-align: top\">Very soft and comfortable<br>and warmer than it ...</td>\n",
              "        <td style=\"padding-left: 1em; padding-right: 1em; text-align: center; vertical-align: top\">5.0</td>\n",
              "        <td style=\"padding-left: 1em; padding-right: 1em; text-align: center; vertical-align: top\">{&#x27;quilt&#x27;: 1.0, &#x27;this&#x27;:<br>1.0, &#x27;for&#x27;: 1.0, ...</td>\n",
              "        <td style=\"padding-left: 1em; padding-right: 1em; text-align: center; vertical-align: top\">1</td>\n",
              "    </tr>\n",
              "    <tr>\n",
              "        <td style=\"padding-left: 1em; padding-right: 1em; text-align: center; vertical-align: top\">Stop Pacifier Sucking<br>without tears with ...</td>\n",
              "        <td style=\"padding-left: 1em; padding-right: 1em; text-align: center; vertical-align: top\">This is a product well<br>worth the purchase.  I ...</td>\n",
              "        <td style=\"padding-left: 1em; padding-right: 1em; text-align: center; vertical-align: top\">5.0</td>\n",
              "        <td style=\"padding-left: 1em; padding-right: 1em; text-align: center; vertical-align: top\">{&#x27;tool&#x27;: 1.0, &#x27;clever&#x27;:<br>1.0, &#x27;approach&#x27;: 2.0, ...</td>\n",
              "        <td style=\"padding-left: 1em; padding-right: 1em; text-align: center; vertical-align: top\">1</td>\n",
              "    </tr>\n",
              "    <tr>\n",
              "        <td style=\"padding-left: 1em; padding-right: 1em; text-align: center; vertical-align: top\">Stop Pacifier Sucking<br>without tears with ...</td>\n",
              "        <td style=\"padding-left: 1em; padding-right: 1em; text-align: center; vertical-align: top\">All of my kids have cried<br>non-stop when I tried to ...</td>\n",
              "        <td style=\"padding-left: 1em; padding-right: 1em; text-align: center; vertical-align: top\">5.0</td>\n",
              "        <td style=\"padding-left: 1em; padding-right: 1em; text-align: center; vertical-align: top\">{&#x27;rock&#x27;: 1.0,<br>&#x27;headachesthanks&#x27;: 1.0, ...</td>\n",
              "        <td style=\"padding-left: 1em; padding-right: 1em; text-align: center; vertical-align: top\">1</td>\n",
              "    </tr>\n",
              "    <tr>\n",
              "        <td style=\"padding-left: 1em; padding-right: 1em; text-align: center; vertical-align: top\">Stop Pacifier Sucking<br>without tears with ...</td>\n",
              "        <td style=\"padding-left: 1em; padding-right: 1em; text-align: center; vertical-align: top\">When the Binky Fairy came<br>to our house, we didn&#x27;t ...</td>\n",
              "        <td style=\"padding-left: 1em; padding-right: 1em; text-align: center; vertical-align: top\">5.0</td>\n",
              "        <td style=\"padding-left: 1em; padding-right: 1em; text-align: center; vertical-align: top\">{&#x27;thumb&#x27;: 1.0, &#x27;or&#x27;: 1.0,<br>&#x27;break&#x27;: 1.0, &#x27;trying&#x27;: ...</td>\n",
              "        <td style=\"padding-left: 1em; padding-right: 1em; text-align: center; vertical-align: top\">1</td>\n",
              "    </tr>\n",
              "    <tr>\n",
              "        <td style=\"padding-left: 1em; padding-right: 1em; text-align: center; vertical-align: top\">A Tale of Baby&#x27;s Days<br>with Peter Rabbit ...</td>\n",
              "        <td style=\"padding-left: 1em; padding-right: 1em; text-align: center; vertical-align: top\">Lovely book, it&#x27;s bound<br>tightly so you may no ...</td>\n",
              "        <td style=\"padding-left: 1em; padding-right: 1em; text-align: center; vertical-align: top\">4.0</td>\n",
              "        <td style=\"padding-left: 1em; padding-right: 1em; text-align: center; vertical-align: top\">{&#x27;2995&#x27;: 1.0, &#x27;for&#x27;: 1.0,<br>&#x27;barnes&#x27;: 1.0, &#x27;at&#x27;:  ...</td>\n",
              "        <td style=\"padding-left: 1em; padding-right: 1em; text-align: center; vertical-align: top\">1</td>\n",
              "    </tr>\n",
              "    <tr>\n",
              "        <td style=\"padding-left: 1em; padding-right: 1em; text-align: center; vertical-align: top\">Baby Tracker&amp;reg; - Daily<br>Childcare Journal, ...</td>\n",
              "        <td style=\"padding-left: 1em; padding-right: 1em; text-align: center; vertical-align: top\">Perfect for new parents.<br>We were able to keep ...</td>\n",
              "        <td style=\"padding-left: 1em; padding-right: 1em; text-align: center; vertical-align: top\">5.0</td>\n",
              "        <td style=\"padding-left: 1em; padding-right: 1em; text-align: center; vertical-align: top\">{&#x27;right&#x27;: 1.0, &#x27;because&#x27;:<br>1.0, &#x27;questions&#x27;: 1.0, ...</td>\n",
              "        <td style=\"padding-left: 1em; padding-right: 1em; text-align: center; vertical-align: top\">1</td>\n",
              "    </tr>\n",
              "    <tr>\n",
              "        <td style=\"padding-left: 1em; padding-right: 1em; text-align: center; vertical-align: top\">Baby Tracker&amp;reg; - Daily<br>Childcare Journal, ...</td>\n",
              "        <td style=\"padding-left: 1em; padding-right: 1em; text-align: center; vertical-align: top\">A friend of mine pinned<br>this product on Pinte ...</td>\n",
              "        <td style=\"padding-left: 1em; padding-right: 1em; text-align: center; vertical-align: top\">5.0</td>\n",
              "        <td style=\"padding-left: 1em; padding-right: 1em; text-align: center; vertical-align: top\">{&#x27;like&#x27;: 1.0, &#x27;and&#x27;: 1.0,<br>&#x27;changes&#x27;: 1.0, &#x27;the&#x27;: ...</td>\n",
              "        <td style=\"padding-left: 1em; padding-right: 1em; text-align: center; vertical-align: top\">1</td>\n",
              "    </tr>\n",
              "    <tr>\n",
              "        <td style=\"padding-left: 1em; padding-right: 1em; text-align: center; vertical-align: top\">Baby Tracker&amp;reg; - Daily<br>Childcare Journal, ...</td>\n",
              "        <td style=\"padding-left: 1em; padding-right: 1em; text-align: center; vertical-align: top\">This has been an easy way<br>for my nanny to record ...</td>\n",
              "        <td style=\"padding-left: 1em; padding-right: 1em; text-align: center; vertical-align: top\">4.0</td>\n",
              "        <td style=\"padding-left: 1em; padding-right: 1em; text-align: center; vertical-align: top\">{&#x27;in&#x27;: 1.0, &#x27;pages&#x27;: 1.0,<br>&#x27;out&#x27;: 1.0, &#x27;run&#x27;: 1.0, ...</td>\n",
              "        <td style=\"padding-left: 1em; padding-right: 1em; text-align: center; vertical-align: top\">1</td>\n",
              "    </tr>\n",
              "    <tr>\n",
              "        <td style=\"padding-left: 1em; padding-right: 1em; text-align: center; vertical-align: top\">Baby Tracker&amp;reg; - Daily<br>Childcare Journal, ...</td>\n",
              "        <td style=\"padding-left: 1em; padding-right: 1em; text-align: center; vertical-align: top\">I love this journal and<br>our nanny uses it ...</td>\n",
              "        <td style=\"padding-left: 1em; padding-right: 1em; text-align: center; vertical-align: top\">4.0</td>\n",
              "        <td style=\"padding-left: 1em; padding-right: 1em; text-align: center; vertical-align: top\">{&#x27;tracker&#x27;: 1.0, &#x27;now&#x27;:<br>1.0, &#x27;postits&#x27;: 1.0, ...</td>\n",
              "        <td style=\"padding-left: 1em; padding-right: 1em; text-align: center; vertical-align: top\">1</td>\n",
              "    </tr>\n",
              "</table>\n",
              "[166752 rows x 5 columns]<br/>Note: Only the head of the SFrame is printed.<br/>You can use print_rows(num_rows=m, num_columns=n) to print more rows and columns.\n",
              "</div>"
            ],
            "text/plain": [
              "Columns:\n",
              "\tname\tstr\n",
              "\treview\tstr\n",
              "\trating\tfloat\n",
              "\tword_count\tdict\n",
              "\tsentiment\tint\n",
              "\n",
              "Rows: 166752\n",
              "\n",
              "Data:\n",
              "+-------------------------------+-------------------------------+--------+\n",
              "|              name             |             review            | rating |\n",
              "+-------------------------------+-------------------------------+--------+\n",
              "|     Planetwise Wipe Pouch     | it came early and was not ... |  5.0   |\n",
              "| Annas Dream Full Quilt wit... | Very soft and comfortable ... |  5.0   |\n",
              "| Stop Pacifier Sucking with... | This is a product well wor... |  5.0   |\n",
              "| Stop Pacifier Sucking with... | All of my kids have cried ... |  5.0   |\n",
              "| Stop Pacifier Sucking with... | When the Binky Fairy came ... |  5.0   |\n",
              "| A Tale of Baby's Days with... | Lovely book, it's bound ti... |  4.0   |\n",
              "| Baby Tracker&reg; - Daily ... | Perfect for new parents. W... |  5.0   |\n",
              "| Baby Tracker&reg; - Daily ... | A friend of mine pinned th... |  5.0   |\n",
              "| Baby Tracker&reg; - Daily ... | This has been an easy way ... |  4.0   |\n",
              "| Baby Tracker&reg; - Daily ... | I love this journal and ou... |  4.0   |\n",
              "+-------------------------------+-------------------------------+--------+\n",
              "+-------------------------------+-----------+\n",
              "|           word_count          | sentiment |\n",
              "+-------------------------------+-----------+\n",
              "| {'recommend': 1.0, 'highly... |     1     |\n",
              "| {'quilt': 1.0, 'this': 1.0... |     1     |\n",
              "| {'tool': 1.0, 'clever': 1.... |     1     |\n",
              "| {'rock': 1.0, 'headachesth... |     1     |\n",
              "| {'thumb': 1.0, 'or': 1.0, ... |     1     |\n",
              "| {'2995': 1.0, 'for': 1.0, ... |     1     |\n",
              "| {'right': 1.0, 'because': ... |     1     |\n",
              "| {'like': 1.0, 'and': 1.0, ... |     1     |\n",
              "| {'in': 1.0, 'pages': 1.0, ... |     1     |\n",
              "| {'tracker': 1.0, 'now': 1.... |     1     |\n",
              "+-------------------------------+-----------+\n",
              "[166752 rows x 5 columns]\n",
              "Note: Only the head of the SFrame is printed.\n",
              "You can use print_rows(num_rows=m, num_columns=n) to print more rows and columns."
            ]
          },
          "metadata": {
            "tags": []
          },
          "execution_count": 9
        }
      ]
    },
    {
      "cell_type": "markdown",
      "metadata": {
        "id": "InjQEmobDQj5"
      },
      "source": [
        "## Split data into training and test sets\n",
        "\n",
        "We split the data into a 80-20 split where 80% is in the training set and 20% is in the test set."
      ]
    },
    {
      "cell_type": "code",
      "metadata": {
        "collapsed": true,
        "id": "ihkEYwXyDQj5"
      },
      "source": [
        "train_data, test_data = products.random_split(.8, seed=1)"
      ],
      "execution_count": 10,
      "outputs": []
    },
    {
      "cell_type": "markdown",
      "metadata": {
        "id": "6NluO0T4DQj5"
      },
      "source": [
        "## Train a logistic regression classifier\n",
        "\n",
        "We will now train a logistic regression classifier with **sentiment** as the target and **word_count** as the features. We will set `validation_set=None` to make sure everyone gets exactly the same results.  \n",
        "\n",
        "Remember, even though we now know how to implement logistic regression, we will use Turi Create for its efficiency at processing this Amazon dataset in its entirety.  The focus of this assignment is instead on the topic of precision and recall."
      ]
    },
    {
      "cell_type": "code",
      "metadata": {
        "scrolled": true,
        "colab": {
          "base_uri": "https://localhost:8080/",
          "height": 341
        },
        "id": "H18aZnBbDQj5",
        "outputId": "2347ab70-bc26-4e5d-df02-2f5bba44895b"
      },
      "source": [
        "model = turicreate.logistic_classifier.create(train_data, target='sentiment',\n",
        "                                              features=['word_count'],\n",
        "                                              validation_set=None)"
      ],
      "execution_count": 11,
      "outputs": [
        {
          "output_type": "display_data",
          "data": {
            "text/html": [
              "<pre>Logistic regression:</pre>"
            ],
            "text/plain": [
              "Logistic regression:"
            ]
          },
          "metadata": {
            "tags": []
          }
        },
        {
          "output_type": "display_data",
          "data": {
            "text/html": [
              "<pre>--------------------------------------------------------</pre>"
            ],
            "text/plain": [
              "--------------------------------------------------------"
            ]
          },
          "metadata": {
            "tags": []
          }
        },
        {
          "output_type": "display_data",
          "data": {
            "text/html": [
              "<pre>Number of examples          : 133416</pre>"
            ],
            "text/plain": [
              "Number of examples          : 133416"
            ]
          },
          "metadata": {
            "tags": []
          }
        },
        {
          "output_type": "display_data",
          "data": {
            "text/html": [
              "<pre>Number of classes           : 2</pre>"
            ],
            "text/plain": [
              "Number of classes           : 2"
            ]
          },
          "metadata": {
            "tags": []
          }
        },
        {
          "output_type": "display_data",
          "data": {
            "text/html": [
              "<pre>Number of feature columns   : 1</pre>"
            ],
            "text/plain": [
              "Number of feature columns   : 1"
            ]
          },
          "metadata": {
            "tags": []
          }
        },
        {
          "output_type": "display_data",
          "data": {
            "text/html": [
              "<pre>Number of unpacked features : 121712</pre>"
            ],
            "text/plain": [
              "Number of unpacked features : 121712"
            ]
          },
          "metadata": {
            "tags": []
          }
        },
        {
          "output_type": "display_data",
          "data": {
            "text/html": [
              "<pre>Number of coefficients      : 121713</pre>"
            ],
            "text/plain": [
              "Number of coefficients      : 121713"
            ]
          },
          "metadata": {
            "tags": []
          }
        },
        {
          "output_type": "display_data",
          "data": {
            "text/html": [
              "<pre>Starting L-BFGS</pre>"
            ],
            "text/plain": [
              "Starting L-BFGS"
            ]
          },
          "metadata": {
            "tags": []
          }
        },
        {
          "output_type": "display_data",
          "data": {
            "text/html": [
              "<pre>--------------------------------------------------------</pre>"
            ],
            "text/plain": [
              "--------------------------------------------------------"
            ]
          },
          "metadata": {
            "tags": []
          }
        },
        {
          "output_type": "display_data",
          "data": {
            "text/html": [
              "<pre>+-----------+----------+-----------+--------------+-------------------+</pre>"
            ],
            "text/plain": [
              "+-----------+----------+-----------+--------------+-------------------+"
            ]
          },
          "metadata": {
            "tags": []
          }
        },
        {
          "output_type": "display_data",
          "data": {
            "text/html": [
              "<pre>| Iteration | Passes   | Step size | Elapsed Time | Training Accuracy |</pre>"
            ],
            "text/plain": [
              "| Iteration | Passes   | Step size | Elapsed Time | Training Accuracy |"
            ]
          },
          "metadata": {
            "tags": []
          }
        },
        {
          "output_type": "display_data",
          "data": {
            "text/html": [
              "<pre>+-----------+----------+-----------+--------------+-------------------+</pre>"
            ],
            "text/plain": [
              "+-----------+----------+-----------+--------------+-------------------+"
            ]
          },
          "metadata": {
            "tags": []
          }
        },
        {
          "output_type": "display_data",
          "data": {
            "text/html": [
              "<pre>| 0         | 4        | 0.250000  | 2.277340     | 0.840754          |</pre>"
            ],
            "text/plain": [
              "| 0         | 4        | 0.250000  | 2.277340     | 0.840754          |"
            ]
          },
          "metadata": {
            "tags": []
          }
        },
        {
          "output_type": "display_data",
          "data": {
            "text/html": [
              "<pre>| 1         | 9        | 3.250000  | 4.070280     | 0.941514          |</pre>"
            ],
            "text/plain": [
              "| 1         | 9        | 3.250000  | 4.070280     | 0.941514          |"
            ]
          },
          "metadata": {
            "tags": []
          }
        },
        {
          "output_type": "display_data",
          "data": {
            "text/html": [
              "<pre>| 2         | 11       | 2.778177  | 4.925476     | 0.942638          |</pre>"
            ],
            "text/plain": [
              "| 2         | 11       | 2.778177  | 4.925476     | 0.942638          |"
            ]
          },
          "metadata": {
            "tags": []
          }
        },
        {
          "output_type": "display_data",
          "data": {
            "text/html": [
              "<pre>| 3         | 12       | 2.778177  | 5.456590     | 0.967822          |</pre>"
            ],
            "text/plain": [
              "| 3         | 12       | 2.778177  | 5.456590     | 0.967822          |"
            ]
          },
          "metadata": {
            "tags": []
          }
        },
        {
          "output_type": "display_data",
          "data": {
            "text/html": [
              "<pre>| 4         | 13       | 2.778177  | 5.999542     | 0.976495          |</pre>"
            ],
            "text/plain": [
              "| 4         | 13       | 2.778177  | 5.999542     | 0.976495          |"
            ]
          },
          "metadata": {
            "tags": []
          }
        },
        {
          "output_type": "display_data",
          "data": {
            "text/html": [
              "<pre>| 5         | 14       | 2.778177  | 6.521952     | 0.976495          |</pre>"
            ],
            "text/plain": [
              "| 5         | 14       | 2.778177  | 6.521952     | 0.976495          |"
            ]
          },
          "metadata": {
            "tags": []
          }
        },
        {
          "output_type": "display_data",
          "data": {
            "text/html": [
              "<pre>+-----------+----------+-----------+--------------+-------------------+</pre>"
            ],
            "text/plain": [
              "+-----------+----------+-----------+--------------+-------------------+"
            ]
          },
          "metadata": {
            "tags": []
          }
        }
      ]
    },
    {
      "cell_type": "markdown",
      "metadata": {
        "id": "NpUv4Ml6DQj6"
      },
      "source": [
        "# Model Evaluation"
      ]
    },
    {
      "cell_type": "markdown",
      "metadata": {
        "id": "bZDsJklNDQj6"
      },
      "source": [
        "We will explore the advanced model evaluation concepts that were discussed in the lectures.\n",
        "\n",
        "## Accuracy\n",
        "\n",
        "One performance metric we will use for our more advanced exploration is accuracy, which we have seen many times in past assignments.  Recall that the accuracy is given by\n",
        "\n",
        "$$\n",
        "\\mbox{accuracy} = \\frac{\\mbox{# correctly classified data points}}{\\mbox{# total data points}}\n",
        "$$\n",
        "\n",
        "To obtain the accuracy of our trained models using Turi Create, simply pass the option `metric='accuracy'` to the `evaluate` function. We compute the **accuracy** of our logistic regression model on the **test_data** as follows:"
      ]
    },
    {
      "cell_type": "code",
      "metadata": {
        "colab": {
          "base_uri": "https://localhost:8080/"
        },
        "id": "Y2NG3zF3DQj6",
        "outputId": "2c961a39-bce2-4826-cdcf-9bd3528d4848"
      },
      "source": [
        "accuracy= model.evaluate(test_data, metric='accuracy')['accuracy']\n",
        "print(\"Test Accuracy: %s\" % accuracy)"
      ],
      "execution_count": 12,
      "outputs": [
        {
          "output_type": "stream",
          "text": [
            "Test Accuracy: 0.9221862251019919\n"
          ],
          "name": "stdout"
        }
      ]
    },
    {
      "cell_type": "markdown",
      "metadata": {
        "id": "5n-FFEu7DQj6"
      },
      "source": [
        "## Baseline: Majority class prediction\n",
        "\n",
        "Recall from an earlier assignment that we used the **majority class classifier** as a baseline (i.e reference) model for a point of comparison with a more sophisticated classifier. The majority classifier model predicts the majority class for all data points. \n",
        "\n",
        "Typically, a good model should beat the majority class classifier. Since the majority class in this dataset is the positive class (i.e., there are more positive than negative reviews), the accuracy of the majority class classifier can be computed as follows:"
      ]
    },
    {
      "cell_type": "code",
      "metadata": {
        "colab": {
          "base_uri": "https://localhost:8080/"
        },
        "id": "pkaSvXEoDQj6",
        "outputId": "c26eabc2-c65a-451d-e9d9-5fd61db1fb97"
      },
      "source": [
        "baseline = len(test_data[test_data['sentiment'] == 1])/len(test_data)\n",
        "print(\"Baseline accuracy (majority class classifier): %s\" % baseline)"
      ],
      "execution_count": 13,
      "outputs": [
        {
          "output_type": "stream",
          "text": [
            "Baseline accuracy (majority class classifier): 0.8427825773938085\n"
          ],
          "name": "stdout"
        }
      ]
    },
    {
      "cell_type": "markdown",
      "metadata": {
        "id": "_tHCSE-oDQj7"
      },
      "source": [
        "**Quiz Question:** Using accuracy as the evaluation metric, was our **logistic regression model** better than the baseline (majority class classifier)?"
      ]
    },
    {
      "cell_type": "markdown",
      "metadata": {
        "id": "-b3MNtlxDQj7"
      },
      "source": [
        "## Confusion Matrix\n",
        "\n",
        "The accuracy, while convenient, does not tell the whole story. For a fuller picture, we turn to the **confusion matrix**. In the case of binary classification, the confusion matrix is a 2-by-2 matrix laying out correct and incorrect predictions made in each label as follows:\n",
        "```\n",
        "              +---------------------------------------------+\n",
        "              |                Predicted label              |\n",
        "              +----------------------+----------------------+\n",
        "              |          (+1)        |         (-1)         |\n",
        "+-------+-----+----------------------+----------------------+\n",
        "| True  |(+1) | # of true positives  | # of false negatives |\n",
        "| label +-----+----------------------+----------------------+\n",
        "|       |(-1) | # of false positives | # of true negatives  |\n",
        "+-------+-----+----------------------+----------------------+\n",
        "```\n",
        "To print out the confusion matrix for a classifier, use `metric='confusion_matrix'`:"
      ]
    },
    {
      "cell_type": "code",
      "metadata": {
        "colab": {
          "base_uri": "https://localhost:8080/",
          "height": 121
        },
        "id": "hVU3Q31xDQj7",
        "outputId": "2234377f-8cbd-4226-c517-b3c7a90814f5"
      },
      "source": [
        "confusion_matrix = model.evaluate(test_data, metric='confusion_matrix')['confusion_matrix']\n",
        "confusion_matrix"
      ],
      "execution_count": 14,
      "outputs": [
        {
          "output_type": "execute_result",
          "data": {
            "text/html": [
              "<div style=\"max-height:1000px;max-width:1500px;overflow:auto;\"><table frame=\"box\" rules=\"cols\">\n",
              "    <tr>\n",
              "        <th style=\"padding-left: 1em; padding-right: 1em; text-align: center\">target_label</th>\n",
              "        <th style=\"padding-left: 1em; padding-right: 1em; text-align: center\">predicted_label</th>\n",
              "        <th style=\"padding-left: 1em; padding-right: 1em; text-align: center\">count</th>\n",
              "    </tr>\n",
              "    <tr>\n",
              "        <td style=\"padding-left: 1em; padding-right: 1em; text-align: center; vertical-align: top\">1</td>\n",
              "        <td style=\"padding-left: 1em; padding-right: 1em; text-align: center; vertical-align: top\">-1</td>\n",
              "        <td style=\"padding-left: 1em; padding-right: 1em; text-align: center; vertical-align: top\">896</td>\n",
              "    </tr>\n",
              "    <tr>\n",
              "        <td style=\"padding-left: 1em; padding-right: 1em; text-align: center; vertical-align: top\">-1</td>\n",
              "        <td style=\"padding-left: 1em; padding-right: 1em; text-align: center; vertical-align: top\">-1</td>\n",
              "        <td style=\"padding-left: 1em; padding-right: 1em; text-align: center; vertical-align: top\">3543</td>\n",
              "    </tr>\n",
              "    <tr>\n",
              "        <td style=\"padding-left: 1em; padding-right: 1em; text-align: center; vertical-align: top\">-1</td>\n",
              "        <td style=\"padding-left: 1em; padding-right: 1em; text-align: center; vertical-align: top\">1</td>\n",
              "        <td style=\"padding-left: 1em; padding-right: 1em; text-align: center; vertical-align: top\">1698</td>\n",
              "    </tr>\n",
              "    <tr>\n",
              "        <td style=\"padding-left: 1em; padding-right: 1em; text-align: center; vertical-align: top\">1</td>\n",
              "        <td style=\"padding-left: 1em; padding-right: 1em; text-align: center; vertical-align: top\">1</td>\n",
              "        <td style=\"padding-left: 1em; padding-right: 1em; text-align: center; vertical-align: top\">27199</td>\n",
              "    </tr>\n",
              "</table>\n",
              "[4 rows x 3 columns]<br/>\n",
              "</div>"
            ],
            "text/plain": [
              "Columns:\n",
              "\ttarget_label\tint\n",
              "\tpredicted_label\tint\n",
              "\tcount\tint\n",
              "\n",
              "Rows: 4\n",
              "\n",
              "Data:\n",
              "+--------------+-----------------+-------+\n",
              "| target_label | predicted_label | count |\n",
              "+--------------+-----------------+-------+\n",
              "|      1       |        -1       |  896  |\n",
              "|      -1      |        -1       |  3543 |\n",
              "|      -1      |        1        |  1698 |\n",
              "|      1       |        1        | 27199 |\n",
              "+--------------+-----------------+-------+\n",
              "[4 rows x 3 columns]"
            ]
          },
          "metadata": {
            "tags": []
          },
          "execution_count": 14
        }
      ]
    },
    {
      "cell_type": "markdown",
      "metadata": {
        "id": "WfFqRbCJDQj7"
      },
      "source": [
        "**Quiz Question**: How many predicted values in the **test set** are **false positives**?"
      ]
    },
    {
      "cell_type": "code",
      "metadata": {
        "id": "L_RZDVhuDQj7"
      },
      "source": [
        ""
      ],
      "execution_count": null,
      "outputs": []
    },
    {
      "cell_type": "markdown",
      "metadata": {
        "id": "EyNH-S3fDQj8"
      },
      "source": [
        "## Computing the cost of mistakes\n",
        "\n",
        "\n",
        "Put yourself in the shoes of a manufacturer that sells a baby product on Amazon.com and you want to monitor your product's reviews in order to respond to complaints.  Even a few negative reviews may generate a lot of bad publicity about the product. So you don't want to miss any reviews with negative sentiments --- you'd rather put up with false alarms about potentially negative reviews instead of missing negative reviews entirely. In other words, **false positives cost more than false negatives**. (It may be the other way around for other scenarios, but let's stick with the manufacturer's scenario for now.)\n",
        "\n",
        "Suppose you know the costs involved in each kind of mistake: \n",
        "1. \\$100 for each false positive.\n",
        "2. \\$1 for each false negative.\n",
        "3. Correctly classified reviews incur no cost.\n",
        "\n",
        "**Quiz Question**: Given the stipulation, what is the cost associated with the logistic regression classifier's performance on the **test set**?"
      ]
    },
    {
      "cell_type": "code",
      "metadata": {
        "id": "WuvzC9gtDQj8"
      },
      "source": [
        ""
      ],
      "execution_count": null,
      "outputs": []
    },
    {
      "cell_type": "markdown",
      "metadata": {
        "id": "98V7vDxkDQj8"
      },
      "source": [
        "## Precision and Recall"
      ]
    },
    {
      "cell_type": "markdown",
      "metadata": {
        "id": "HsLCFmYFDQj8"
      },
      "source": [
        "You may not have exact dollar amounts for each kind of mistake. Instead, you may simply prefer to reduce the percentage of false positives to be less than, say, 3.5% of all positive predictions. This is where **precision** comes in:\n",
        "\n",
        "$$\n",
        "[\\text{precision}] = \\frac{[\\text{# positive data points with positive predicitions}]}{\\text{[# all data points with positive predictions]}} = \\frac{[\\text{# true positives}]}{[\\text{# true positives}] + [\\text{# false positives}]}\n",
        "$$"
      ]
    },
    {
      "cell_type": "markdown",
      "metadata": {
        "id": "S4AKK0RrDQj9"
      },
      "source": [
        "So to keep the percentage of false positives below 3.5% of positive predictions, we must raise the precision to 96.5% or higher. \n",
        "\n",
        "**First**, let us compute the precision of the logistic regression classifier on the **test_data**."
      ]
    },
    {
      "cell_type": "code",
      "metadata": {
        "colab": {
          "base_uri": "https://localhost:8080/"
        },
        "id": "MvnY5SNpDQj9",
        "outputId": "cbc1269c-a29f-45f7-8f8c-ae69dc4875ca"
      },
      "source": [
        "precision = model.evaluate(test_data, metric='precision')['precision']\n",
        "print(\"Precision on test data: %s\" % precision)"
      ],
      "execution_count": 15,
      "outputs": [
        {
          "output_type": "stream",
          "text": [
            "Precision on test data: 0.941239575042392\n"
          ],
          "name": "stdout"
        }
      ]
    },
    {
      "cell_type": "markdown",
      "metadata": {
        "id": "zA-FeX2SDQj9"
      },
      "source": [
        "**Quiz Question**: Out of all reviews in the **test set** that are predicted to be positive, what fraction of them are **false positives**? (Round to the second decimal place e.g. 0.25)"
      ]
    },
    {
      "cell_type": "code",
      "metadata": {
        "id": "Q-6y7ohQDQj-"
      },
      "source": [
        ""
      ],
      "execution_count": null,
      "outputs": []
    },
    {
      "cell_type": "markdown",
      "metadata": {
        "id": "QmMR4fvrDQj-"
      },
      "source": [
        "**Quiz Question:** Based on what we learned in lecture, if we wanted to reduce this fraction of false positives to be below 3.5%, we would (select one):\n",
        "\n",
        "- Discard a sufficient number of positive predictions\n",
        "- Discard a sufficient number of negative predictins\n",
        "- Increase threshold for predicting the positive class ($y_{hat} = +1$)\n",
        "- Decrease threshold for predicting the positive class ($y_{hat} = +1$)\n",
        "\n"
      ]
    },
    {
      "cell_type": "markdown",
      "metadata": {
        "id": "4_fqHoTlDQj-"
      },
      "source": [
        "A complementary metric is **recall**, which measures the ratio between the number of true positives and that of (ground-truth) positive reviews:\n",
        "\n",
        "$$\n",
        "[\\text{recall}] = \\frac{[\\text{# positive data points with positive predicitions}]}{\\text{[# all positive data points]}} = \\frac{[\\text{# true positives}]}{[\\text{# true positives}] + [\\text{# false negatives}]}\n",
        "$$\n",
        "\n",
        "Let us compute the recall on the **test_data**."
      ]
    },
    {
      "cell_type": "code",
      "metadata": {
        "colab": {
          "base_uri": "https://localhost:8080/"
        },
        "id": "r6ndGNOtDQj-",
        "outputId": "78a0dcbf-9df8-4356-e97b-8402756c6964"
      },
      "source": [
        "recall = model.evaluate(test_data, metric='recall')['recall']\n",
        "print(\"Recall on test data: %s\" % recall)"
      ],
      "execution_count": 16,
      "outputs": [
        {
          "output_type": "stream",
          "text": [
            "Recall on test data: 0.9681082043068162\n"
          ],
          "name": "stdout"
        }
      ]
    },
    {
      "cell_type": "markdown",
      "metadata": {
        "id": "kaFz3Y4-DQj-"
      },
      "source": [
        "**Quiz Question**: What fraction of the positive reviews in the **test_set** were correctly predicted as positive by the classifier?\n",
        "\n",
        "**Quiz Question**: What is the recall value for a classifier that predicts **+1** for all data points in the **test_data**?"
      ]
    },
    {
      "cell_type": "markdown",
      "metadata": {
        "collapsed": true,
        "id": "COXifxc6DQj_"
      },
      "source": [
        "# Precision-recall tradeoff\n",
        "\n",
        "In this part, we will explore the trade-off between precision and recall discussed in the lecture.  We first examine what happens when we use a different threshold value for making class predictions.  We then explore a range of threshold values and plot the associated precision-recall curve.  \n"
      ]
    },
    {
      "cell_type": "markdown",
      "metadata": {
        "id": "ovGZGxRxDQj_"
      },
      "source": [
        "## Varying the threshold\n",
        "\n",
        "False positives are costly in our example, so we may want to be more conservative about making positive predictions. To achieve this, instead of thresholding class probabilities at 0.5, we can choose a higher threshold. \n",
        "\n",
        "Write a function called `apply_threshold` that accepts two things\n",
        "* `probabilities` (an SArray of probability values)\n",
        "* `threshold` (a float between 0 and 1).\n",
        "\n",
        "The function should return an SArray, where each element is set to +1 or -1 depending whether the corresponding probability exceeds `threshold`."
      ]
    },
    {
      "cell_type": "code",
      "metadata": {
        "id": "LmFAQsPFebHg"
      },
      "source": [
        "from turicreate import SArray"
      ],
      "execution_count": 29,
      "outputs": []
    },
    {
      "cell_type": "code",
      "metadata": {
        "id": "S1kISBNhDQj_"
      },
      "source": [
        "def apply_threshold(probabilities, threshold):\n",
        "    ### YOUR CODE GOES HERE\n",
        "    # +1 if >= threshold and -1 otherwise.\n",
        "    result = np.ones(len(probabilities))\n",
        "    i=0\n",
        "    for p in probabilities:\n",
        "      if p<=threshold:\n",
        "        result[i]=-1\n",
        "        i+=1\n",
        "   \n",
        "    return result"
      ],
      "execution_count": 35,
      "outputs": []
    },
    {
      "cell_type": "markdown",
      "metadata": {
        "id": "A3SYFm4xDQkA"
      },
      "source": [
        "Run prediction with `output_type='probability'` to get the list of probability values. Then use thresholds set at 0.5 (default) and 0.9 to make predictions from these probability values."
      ]
    },
    {
      "cell_type": "code",
      "metadata": {
        "id": "cgEW_zknDQkA"
      },
      "source": [
        "probabilities = model.predict(test_data, output_type='probability')\n",
        "predictions_with_default_threshold = apply_threshold(probabilities, 0.5)\n",
        "predictions_with_high_threshold = apply_threshold(probabilities, 0.9)"
      ],
      "execution_count": 36,
      "outputs": []
    },
    {
      "cell_type": "code",
      "metadata": {
        "colab": {
          "base_uri": "https://localhost:8080/"
        },
        "id": "f6R97o_ZeOc1",
        "outputId": "90929dad-7838-469d-9bb8-a78f39de185e"
      },
      "source": [
        "len(predictions_with_high_threshold[predictions_with_high_threshold==1])"
      ],
      "execution_count": 37,
      "outputs": [
        {
          "output_type": "execute_result",
          "data": {
            "text/plain": [
              "25031"
            ]
          },
          "metadata": {
            "tags": []
          },
          "execution_count": 37
        }
      ]
    },
    {
      "cell_type": "code",
      "metadata": {
        "colab": {
          "base_uri": "https://localhost:8080/"
        },
        "id": "l8tILamceeDm",
        "outputId": "ebee0af3-2ba0-45e3-cd91-fe7c42468a4c"
      },
      "source": [
        "len(predictions_with_default_threshold[predictions_with_default_threshold==1])"
      ],
      "execution_count": 38,
      "outputs": [
        {
          "output_type": "execute_result",
          "data": {
            "text/plain": [
              "28897"
            ]
          },
          "metadata": {
            "tags": []
          },
          "execution_count": 38
        }
      ]
    },
    {
      "cell_type": "code",
      "metadata": {
        "id": "1FuJN-O4e2hw"
      },
      "source": [
        "predictions_with_default_threshold=np.array(predictions_with_default_threshold)\n",
        "predictions_with_high_threshold=np.array(predictions_with_high_threshold)"
      ],
      "execution_count": 39,
      "outputs": []
    },
    {
      "cell_type": "code",
      "metadata": {
        "colab": {
          "base_uri": "https://localhost:8080/"
        },
        "id": "DYtIBLLaDQkA",
        "outputId": "2404366e-f30f-40e5-8141-1311ab652091"
      },
      "source": [
        "print(\"Number of positive predicted reviews (threshold = 0.5): %s\" % (predictions_with_default_threshold == 1).sum())"
      ],
      "execution_count": 40,
      "outputs": [
        {
          "output_type": "stream",
          "text": [
            "Number of positive predicted reviews (threshold = 0.5): 28897\n"
          ],
          "name": "stdout"
        }
      ]
    },
    {
      "cell_type": "code",
      "metadata": {
        "id": "rM-GKomLc6Et"
      },
      "source": [
        "predictions_with_default_threshold=np.array(predictions_with_default_threshold)\n"
      ],
      "execution_count": 41,
      "outputs": []
    },
    {
      "cell_type": "code",
      "metadata": {
        "colab": {
          "base_uri": "https://localhost:8080/"
        },
        "id": "QJjdk4KsDQkA",
        "outputId": "72f77061-9a1c-4582-cae6-af7facd0d8af"
      },
      "source": [
        "print(\"Number of positive predicted reviews (threshold = 0.9): %s\" % (predictions_with_high_threshold == 1).sum())"
      ],
      "execution_count": 42,
      "outputs": [
        {
          "output_type": "stream",
          "text": [
            "Number of positive predicted reviews (threshold = 0.9): 25031\n"
          ],
          "name": "stdout"
        }
      ]
    },
    {
      "cell_type": "code",
      "metadata": {
        "colab": {
          "base_uri": "https://localhost:8080/"
        },
        "id": "KBbAHoMmdZgq",
        "outputId": "9fee05ca-0e80-4cf8-852b-05480e21d8cf"
      },
      "source": [
        "len(np.where(predictions_with_default_threshold==1)[0])"
      ],
      "execution_count": 22,
      "outputs": [
        {
          "output_type": "execute_result",
          "data": {
            "text/plain": [
              "33334"
            ]
          },
          "metadata": {
            "tags": []
          },
          "execution_count": 22
        }
      ]
    },
    {
      "cell_type": "code",
      "metadata": {
        "id": "j6WxrrhKMcJ5"
      },
      "source": [
        "predictions_with_high_threshold=np.array(predictions_with_high_threshold)"
      ],
      "execution_count": null,
      "outputs": []
    },
    {
      "cell_type": "markdown",
      "metadata": {
        "id": "s70iEytVDQkA"
      },
      "source": [
        "**Quiz Question**: What happens to the number of positive predicted reviews as the threshold increased from 0.5 to 0.9?"
      ]
    },
    {
      "cell_type": "code",
      "metadata": {
        "colab": {
          "base_uri": "https://localhost:8080/"
        },
        "id": "LteLxb0LclxM",
        "outputId": "8bbc3314-0473-48a5-834a-f9d6438bab2c"
      },
      "source": [
        "len(np.where(predictions_with_high_threshold==1)[0])"
      ],
      "execution_count": 21,
      "outputs": [
        {
          "output_type": "execute_result",
          "data": {
            "text/plain": [
              "33334"
            ]
          },
          "metadata": {
            "tags": []
          },
          "execution_count": 21
        }
      ]
    },
    {
      "cell_type": "markdown",
      "metadata": {
        "id": "tnkeaH88DQkA"
      },
      "source": [
        "## Exploring the associated precision and recall as the threshold varies"
      ]
    },
    {
      "cell_type": "markdown",
      "metadata": {
        "id": "Dz0u1jrDDQkB"
      },
      "source": [
        "By changing the probability threshold, it is possible to influence precision and recall. We can explore this as follows:"
      ]
    },
    {
      "cell_type": "code",
      "metadata": {
        "colab": {
          "base_uri": "https://localhost:8080/",
          "height": 180
        },
        "id": "lwl5F7ODfPHd",
        "outputId": "6e3d6e18-a6f8-4bc3-ce00-2fbfbfc64a4a"
      },
      "source": [
        "\n",
        "predictions_with_high_threshold=predictions_with_high_threshold.tolist()"
      ],
      "execution_count": 36,
      "outputs": [
        {
          "output_type": "error",
          "ename": "AttributeError",
          "evalue": "ignored",
          "traceback": [
            "\u001b[0;31m---------------------------------------------------------------------------\u001b[0m",
            "\u001b[0;31mAttributeError\u001b[0m                            Traceback (most recent call last)",
            "\u001b[0;32m<ipython-input-36-02641d8edaea>\u001b[0m in \u001b[0;36m<module>\u001b[0;34m()\u001b[0m\n\u001b[1;32m      1\u001b[0m \u001b[0;34m\u001b[0m\u001b[0m\n\u001b[0;32m----> 2\u001b[0;31m \u001b[0mpredictions_with_high_threshold\u001b[0m\u001b[0;34m=\u001b[0m\u001b[0mpredictions_with_high_threshold\u001b[0m\u001b[0;34m.\u001b[0m\u001b[0mtolist\u001b[0m\u001b[0;34m(\u001b[0m\u001b[0;34m)\u001b[0m\u001b[0;34m\u001b[0m\u001b[0;34m\u001b[0m\u001b[0m\n\u001b[0m",
            "\u001b[0;31mAttributeError\u001b[0m: 'list' object has no attribute 'tolist'"
          ]
        }
      ]
    },
    {
      "cell_type": "code",
      "metadata": {
        "colab": {
          "base_uri": "https://localhost:8080/",
          "height": 163
        },
        "id": "-rETKv3vggiF",
        "outputId": "a8f7e9e9-3557-4083-bfe6-faa52adf0ed1"
      },
      "source": [
        "predictions_with_default_threshold=predictions_with_default_threshold.tolis"
      ],
      "execution_count": 37,
      "outputs": [
        {
          "output_type": "error",
          "ename": "AttributeError",
          "evalue": "ignored",
          "traceback": [
            "\u001b[0;31m---------------------------------------------------------------------------\u001b[0m",
            "\u001b[0;31mAttributeError\u001b[0m                            Traceback (most recent call last)",
            "\u001b[0;32m<ipython-input-37-e8de60f44ec1>\u001b[0m in \u001b[0;36m<module>\u001b[0;34m()\u001b[0m\n\u001b[0;32m----> 1\u001b[0;31m \u001b[0mpredictions_with_default_threshold\u001b[0m\u001b[0;34m=\u001b[0m\u001b[0mpredictions_with_default_threshold\u001b[0m\u001b[0;34m.\u001b[0m\u001b[0mtolist\u001b[0m\u001b[0;34m(\u001b[0m\u001b[0;34m)\u001b[0m\u001b[0;34m\u001b[0m\u001b[0;34m\u001b[0m\u001b[0m\n\u001b[0m",
            "\u001b[0;31mAttributeError\u001b[0m: 'list' object has no attribute 'tolist'"
          ]
        }
      ]
    },
    {
      "cell_type": "code",
      "metadata": {
        "id": "fCLfZgwFiZD5"
      },
      "source": [
        "import pandas as pd"
      ],
      "execution_count": 47,
      "outputs": []
    },
    {
      "cell_type": "code",
      "metadata": {
        "colab": {
          "base_uri": "https://localhost:8080/"
        },
        "id": "N7kTYI71g0Su",
        "outputId": "1a78e904-5115-4d00-8bba-a09f6324ffda"
      },
      "source": [
        "print(type(predictions_with_default_threshold))"
      ],
      "execution_count": 39,
      "outputs": [
        {
          "output_type": "stream",
          "text": [
            "<class 'list'>\n"
          ],
          "name": "stdout"
        }
      ]
    },
    {
      "cell_type": "code",
      "metadata": {
        "id": "5_sylTHm13br"
      },
      "source": [
        "import pandas as pd"
      ],
      "execution_count": 45,
      "outputs": []
    },
    {
      "cell_type": "code",
      "metadata": {
        "colab": {
          "base_uri": "https://localhost:8080/",
          "height": 405
        },
        "id": "EDnU6nIUidEP",
        "outputId": "858e7071-f1ad-4b7e-c51b-bab8abb254bd"
      },
      "source": [
        "predictions_with_default_threshold = pd.DataFrame(predictions_with_default_threshold,columns=['sentiment'])\n",
        "predictions_with_default_threshold"
      ],
      "execution_count": 46,
      "outputs": [
        {
          "output_type": "execute_result",
          "data": {
            "text/html": [
              "<div>\n",
              "<style scoped>\n",
              "    .dataframe tbody tr th:only-of-type {\n",
              "        vertical-align: middle;\n",
              "    }\n",
              "\n",
              "    .dataframe tbody tr th {\n",
              "        vertical-align: top;\n",
              "    }\n",
              "\n",
              "    .dataframe thead th {\n",
              "        text-align: right;\n",
              "    }\n",
              "</style>\n",
              "<table border=\"1\" class=\"dataframe\">\n",
              "  <thead>\n",
              "    <tr style=\"text-align: right;\">\n",
              "      <th></th>\n",
              "      <th>sentiment</th>\n",
              "    </tr>\n",
              "  </thead>\n",
              "  <tbody>\n",
              "    <tr>\n",
              "      <th>0</th>\n",
              "      <td>-1.0</td>\n",
              "    </tr>\n",
              "    <tr>\n",
              "      <th>1</th>\n",
              "      <td>-1.0</td>\n",
              "    </tr>\n",
              "    <tr>\n",
              "      <th>2</th>\n",
              "      <td>-1.0</td>\n",
              "    </tr>\n",
              "    <tr>\n",
              "      <th>3</th>\n",
              "      <td>-1.0</td>\n",
              "    </tr>\n",
              "    <tr>\n",
              "      <th>4</th>\n",
              "      <td>-1.0</td>\n",
              "    </tr>\n",
              "    <tr>\n",
              "      <th>...</th>\n",
              "      <td>...</td>\n",
              "    </tr>\n",
              "    <tr>\n",
              "      <th>33331</th>\n",
              "      <td>1.0</td>\n",
              "    </tr>\n",
              "    <tr>\n",
              "      <th>33332</th>\n",
              "      <td>1.0</td>\n",
              "    </tr>\n",
              "    <tr>\n",
              "      <th>33333</th>\n",
              "      <td>1.0</td>\n",
              "    </tr>\n",
              "    <tr>\n",
              "      <th>33334</th>\n",
              "      <td>1.0</td>\n",
              "    </tr>\n",
              "    <tr>\n",
              "      <th>33335</th>\n",
              "      <td>1.0</td>\n",
              "    </tr>\n",
              "  </tbody>\n",
              "</table>\n",
              "<p>33336 rows × 1 columns</p>\n",
              "</div>"
            ],
            "text/plain": [
              "       sentiment\n",
              "0           -1.0\n",
              "1           -1.0\n",
              "2           -1.0\n",
              "3           -1.0\n",
              "4           -1.0\n",
              "...          ...\n",
              "33331        1.0\n",
              "33332        1.0\n",
              "33333        1.0\n",
              "33334        1.0\n",
              "33335        1.0\n",
              "\n",
              "[33336 rows x 1 columns]"
            ]
          },
          "metadata": {
            "tags": []
          },
          "execution_count": 46
        }
      ]
    },
    {
      "cell_type": "code",
      "metadata": {
        "colab": {
          "base_uri": "https://localhost:8080/",
          "height": 405
        },
        "id": "FplECpAb2RUS",
        "outputId": "830dfd77-4dc8-458d-dc3d-f715c9f913b5"
      },
      "source": [
        "predictions_with_high_threshold = pd.DataFrame(predictions_with_high_threshold,columns=['sentiment'])\n",
        "predictions_with_high_threshold"
      ],
      "execution_count": 47,
      "outputs": [
        {
          "output_type": "execute_result",
          "data": {
            "text/html": [
              "<div>\n",
              "<style scoped>\n",
              "    .dataframe tbody tr th:only-of-type {\n",
              "        vertical-align: middle;\n",
              "    }\n",
              "\n",
              "    .dataframe tbody tr th {\n",
              "        vertical-align: top;\n",
              "    }\n",
              "\n",
              "    .dataframe thead th {\n",
              "        text-align: right;\n",
              "    }\n",
              "</style>\n",
              "<table border=\"1\" class=\"dataframe\">\n",
              "  <thead>\n",
              "    <tr style=\"text-align: right;\">\n",
              "      <th></th>\n",
              "      <th>sentiment</th>\n",
              "    </tr>\n",
              "  </thead>\n",
              "  <tbody>\n",
              "    <tr>\n",
              "      <th>0</th>\n",
              "      <td>-1.0</td>\n",
              "    </tr>\n",
              "    <tr>\n",
              "      <th>1</th>\n",
              "      <td>-1.0</td>\n",
              "    </tr>\n",
              "    <tr>\n",
              "      <th>2</th>\n",
              "      <td>-1.0</td>\n",
              "    </tr>\n",
              "    <tr>\n",
              "      <th>3</th>\n",
              "      <td>-1.0</td>\n",
              "    </tr>\n",
              "    <tr>\n",
              "      <th>4</th>\n",
              "      <td>-1.0</td>\n",
              "    </tr>\n",
              "    <tr>\n",
              "      <th>...</th>\n",
              "      <td>...</td>\n",
              "    </tr>\n",
              "    <tr>\n",
              "      <th>33331</th>\n",
              "      <td>1.0</td>\n",
              "    </tr>\n",
              "    <tr>\n",
              "      <th>33332</th>\n",
              "      <td>1.0</td>\n",
              "    </tr>\n",
              "    <tr>\n",
              "      <th>33333</th>\n",
              "      <td>1.0</td>\n",
              "    </tr>\n",
              "    <tr>\n",
              "      <th>33334</th>\n",
              "      <td>1.0</td>\n",
              "    </tr>\n",
              "    <tr>\n",
              "      <th>33335</th>\n",
              "      <td>1.0</td>\n",
              "    </tr>\n",
              "  </tbody>\n",
              "</table>\n",
              "<p>33336 rows × 1 columns</p>\n",
              "</div>"
            ],
            "text/plain": [
              "       sentiment\n",
              "0           -1.0\n",
              "1           -1.0\n",
              "2           -1.0\n",
              "3           -1.0\n",
              "4           -1.0\n",
              "...          ...\n",
              "33331        1.0\n",
              "33332        1.0\n",
              "33333        1.0\n",
              "33334        1.0\n",
              "33335        1.0\n",
              "\n",
              "[33336 rows x 1 columns]"
            ]
          },
          "metadata": {
            "tags": []
          },
          "execution_count": 47
        }
      ]
    },
    {
      "cell_type": "code",
      "metadata": {
        "id": "dcZjn_tUhu0h"
      },
      "source": [
        "from turicreate import SArray"
      ],
      "execution_count": 59,
      "outputs": []
    },
    {
      "cell_type": "code",
      "metadata": {
        "id": "sX4O3cQC4dzh"
      },
      "source": [
        "predictions_with_default_threshold = SArray(pd.Series(predictions_with_default_threshold['sentiment']), int)"
      ],
      "execution_count": 48,
      "outputs": []
    },
    {
      "cell_type": "code",
      "metadata": {
        "id": "7XyDDoNX3qwa"
      },
      "source": [
        "\n",
        "predictions_with_high_threshold = SArray(pd.Series(predictions_with_high_threshold['sentiment']), int)"
      ],
      "execution_count": 49,
      "outputs": []
    },
    {
      "cell_type": "code",
      "metadata": {
        "colab": {
          "base_uri": "https://localhost:8080/"
        },
        "id": "og9OceQ-4Cyo",
        "outputId": "e3074fcb-b3f9-4bc5-a154-c1895a95115d"
      },
      "source": [
        "print(type(predictions_with_default_threshold))"
      ],
      "execution_count": 50,
      "outputs": [
        {
          "output_type": "stream",
          "text": [
            "<class 'turicreate.data_structures.sarray.SArray'>\n"
          ],
          "name": "stdout"
        }
      ]
    },
    {
      "cell_type": "code",
      "metadata": {
        "collapsed": true,
        "id": "QlcLkfdvDQkB"
      },
      "source": [
        "# Threshold = 0.5\n",
        "precision_with_default_threshold = turicreate.evaluation.precision(test_data['sentiment'],\n",
        "                                        predictions_with_default_threshold)\n",
        "\n",
        "recall_with_default_threshold = turicreate.evaluation.recall(test_data['sentiment'],\n",
        "                                        predictions_with_default_threshold)\n",
        "\n",
        "# Threshold = 0.9\n",
        "precision_with_high_threshold = turicreate.evaluation.precision(test_data['sentiment'],\n",
        "                                        predictions_with_high_threshold)\n",
        "recall_with_high_threshold = turicreate.evaluation.recall(test_data['sentiment'],\n",
        "                                        predictions_with_high_threshold)"
      ],
      "execution_count": 51,
      "outputs": []
    },
    {
      "cell_type": "code",
      "metadata": {
        "id": "HsC-8Qy7DQkB",
        "colab": {
          "base_uri": "https://localhost:8080/"
        },
        "outputId": "7c97b4af-9e2a-46d0-93ce-cb9173933d69"
      },
      "source": [
        "print(\"Precision (threshold = 0.5): %s\" % precision_with_default_threshold)\n",
        "print(\"Recall (threshold = 0.5)   : %s\" % recall_with_default_threshold)"
      ],
      "execution_count": 52,
      "outputs": [
        {
          "output_type": "stream",
          "text": [
            "Precision (threshold = 0.5): 0.8488424403917362\n",
            "Recall (threshold = 0.5)   : 0.8730735006228867\n"
          ],
          "name": "stdout"
        }
      ]
    },
    {
      "cell_type": "code",
      "metadata": {
        "id": "Et6A5VyxDQkB",
        "colab": {
          "base_uri": "https://localhost:8080/"
        },
        "outputId": "793ec3ac-7e38-499a-86bb-7ce4c7ef9d13"
      },
      "source": [
        "print(\"Precision (threshold = 0.9): %s\" % precision_with_high_threshold)\n",
        "print(\"Recall (threshold = 0.9)   : %s\" % recall_with_high_threshold)"
      ],
      "execution_count": 53,
      "outputs": [
        {
          "output_type": "stream",
          "text": [
            "Precision (threshold = 0.9): 0.8494666613399384\n",
            "Recall (threshold = 0.9)   : 0.7568250578394732\n"
          ],
          "name": "stdout"
        }
      ]
    },
    {
      "cell_type": "markdown",
      "metadata": {
        "id": "mEyRvZa0DQkB"
      },
      "source": [
        "**Quiz Question (variant 1)**: Does the **precision** increase with a higher threshold?\n",
        "\n",
        "**Quiz Question (variant 2)**: Does the **recall** increase with a higher threshold?"
      ]
    },
    {
      "cell_type": "markdown",
      "metadata": {
        "id": "wpLdijCFDQkB"
      },
      "source": [
        "## Precision-recall curve\n",
        "\n",
        "Now, we will explore various different values of tresholds, compute the precision and recall scores, and then plot the precision-recall curve."
      ]
    },
    {
      "cell_type": "code",
      "metadata": {
        "colab": {
          "base_uri": "https://localhost:8080/"
        },
        "id": "PTp9tcjcDQkB",
        "outputId": "a3890d42-3a5a-42ed-ed8c-fdb6289b9440"
      },
      "source": [
        "threshold_values = np.linspace(0.5, 1, num=100)\n",
        "print(threshold_values)"
      ],
      "execution_count": 54,
      "outputs": [
        {
          "output_type": "stream",
          "text": [
            "[0.5        0.50505051 0.51010101 0.51515152 0.52020202 0.52525253\n",
            " 0.53030303 0.53535354 0.54040404 0.54545455 0.55050505 0.55555556\n",
            " 0.56060606 0.56565657 0.57070707 0.57575758 0.58080808 0.58585859\n",
            " 0.59090909 0.5959596  0.6010101  0.60606061 0.61111111 0.61616162\n",
            " 0.62121212 0.62626263 0.63131313 0.63636364 0.64141414 0.64646465\n",
            " 0.65151515 0.65656566 0.66161616 0.66666667 0.67171717 0.67676768\n",
            " 0.68181818 0.68686869 0.69191919 0.6969697  0.7020202  0.70707071\n",
            " 0.71212121 0.71717172 0.72222222 0.72727273 0.73232323 0.73737374\n",
            " 0.74242424 0.74747475 0.75252525 0.75757576 0.76262626 0.76767677\n",
            " 0.77272727 0.77777778 0.78282828 0.78787879 0.79292929 0.7979798\n",
            " 0.8030303  0.80808081 0.81313131 0.81818182 0.82323232 0.82828283\n",
            " 0.83333333 0.83838384 0.84343434 0.84848485 0.85353535 0.85858586\n",
            " 0.86363636 0.86868687 0.87373737 0.87878788 0.88383838 0.88888889\n",
            " 0.89393939 0.8989899  0.9040404  0.90909091 0.91414141 0.91919192\n",
            " 0.92424242 0.92929293 0.93434343 0.93939394 0.94444444 0.94949495\n",
            " 0.95454545 0.95959596 0.96464646 0.96969697 0.97474747 0.97979798\n",
            " 0.98484848 0.98989899 0.99494949 1.        ]\n"
          ],
          "name": "stdout"
        }
      ]
    },
    {
      "cell_type": "markdown",
      "metadata": {
        "id": "r0waYm8gDQkC"
      },
      "source": [
        "For each of the values of threshold, we compute the precision and recall scores."
      ]
    },
    {
      "cell_type": "markdown",
      "metadata": {
        "id": "JQzElDdPDQkC"
      },
      "source": [
        "Now, let's plot the precision-recall curve to visualize the precision-recall tradeoff as we vary the threshold."
      ]
    },
    {
      "cell_type": "code",
      "metadata": {
        "id": "RAQD98UxSkdP"
      },
      "source": [
        "precision_all = []\n",
        "recall_all = []\n",
        "\n",
        "probabilities = model.predict(test_data, output_type='probability')\n",
        "for threshold in threshold_values:\n",
        "    predictions = apply_threshold(probabilities, threshold) \n",
        "    predictions= SArray(np.asarray(predictions), int)\n",
        "    precision = turicreate.evaluation.precision(test_data['sentiment'], predictions)\n",
        "    recall = turicreate.evaluation.recall(test_data['sentiment'], predictions)\n",
        "    \n",
        "    precision_all.append(precision)\n",
        "    recall_all.append(recall)\n",
        "    \n",
        "    \n",
        "    \n",
        "   "
      ],
      "execution_count": 55,
      "outputs": []
    },
    {
      "cell_type": "code",
      "metadata": {
        "colab": {
          "base_uri": "https://localhost:8080/"
        },
        "id": "PPas2oitUW8Z",
        "outputId": "6f59d0fd-911b-40ad-9557-dd5339e559fd"
      },
      "source": [
        "print(type(precision_all))\n",
        "print(recall_all)"
      ],
      "execution_count": 56,
      "outputs": [
        {
          "output_type": "stream",
          "text": [
            "<class 'list'>\n",
            "[0.8730735006228867, 0.8723260366613277, 0.8715785726997687, 0.8709734828261256, 0.8702972059085247, 0.8693717743370707, 0.8685887168535327, 0.8680904075458267, 0.8675920982381207, 0.8667734472326036, 0.8662751379248976, 0.8652785193094856, 0.8645310553479266, 0.8638191849083466, 0.8631073144687667, 0.8623242569852287, 0.8616479800676277, 0.8608293290621107, 0.8600818651005517, 0.8593344011389927, 0.8584445630895177, 0.8577682861719167, 0.8571987898202527, 0.8562733582487987, 0.8555970813311977, 0.8547784303256807, 0.8538174052322477, 0.8527140060508988, 0.8520733226552767, 0.8508987364299697, 0.8495817761167468, 0.8485139704573768, 0.8474105712760278, 0.8466631073144688, 0.8458800498309308, 0.8448122441715608, 0.8438156255561488, 0.8381562555614878, 0.8370884499021178, 0.8358782701548318, 0.8347392774515038, 0.8334579106602599, 0.8321053568250578, 0.8308951770777718, 0.8297561843744439, 0.8285460046271579, 0.8273714184018509, 0.8263747997864389, 0.8248442783413419, 0.8237408791599928, 0.8226374799786439, 0.8213205196654209, 0.820039152874177, 0.818330663819185, 0.817120484071899, 0.8158035237586759, 0.814415376401495, 0.8128492614344189, 0.8110695853354689, 0.809467876846414, 0.807937355401317, 0.8064068339562199, 0.804413596725396, 0.802206798362698, 0.800035593521979, 0.797686421071365, 0.7960847125823101, 0.7936643530877381, 0.791350774159103, 0.7882541377469301, 0.7863320875600641, 0.7837693539775761, 0.7810642463071721, 0.7782523580708312, 0.7756184374443851, 0.7722726463783591, 0.7681082043068161, 0.7648336002847482, 0.7613098416088272, 0.7575013347570743, 0.7536216408613632, 0.7483537996084713, 0.7428723972237052, 0.7377113365367504, 0.7318384054102154, 0.7257875066737853, 0.7186332087560064, 0.7115856914041644, 0.7033635878270155, 0.6926143441893575, 0.6810108560242036, 0.6678768464139526, 0.6529275671827728, 0.6353443673251469, 0.6147001245773269, 0.587969389571098, 0.5507029720590852, 0.4974194696565225, 0.41110517885744796, 0.0]\n"
          ],
          "name": "stdout"
        }
      ]
    },
    {
      "cell_type": "code",
      "metadata": {
        "id": "iOB2x8hkDQkC",
        "colab": {
          "base_uri": "https://localhost:8080/",
          "height": 674
        },
        "outputId": "38435bd0-9d0a-47e6-cccb-154b8ef28465"
      },
      "source": [
        "import matplotlib.pyplot as plt\n",
        "%matplotlib inline\n",
        "\n",
        "def plot_pr_curve(precision, recall, title):\n",
        "    plt.rcParams['figure.figsize'] = 7, 10\n",
        "    plt.locator_params(axis = 'x', nbins = 5)\n",
        "    print(precision)\n",
        "    print(recall)\n",
        "    plt.plot(precision, recall, 'g-', linewidth=4.0)\n",
        "    plt.title(title)\n",
        "    plt.xlabel('Precision')\n",
        "    plt.ylabel('Recall')\n",
        "    plt.rcParams.update({'font.size': 16})   \n",
        "plot_pr_curve(precision_all, recall_all, 'Precision recall curve (all)')"
      ],
      "execution_count": 57,
      "outputs": [
        {
          "output_type": "stream",
          "text": [
            "[0.8488424403917362, 0.848879498458661, 0.848887194065035, 0.8488864219801568, 0.8489930555555556, 0.8488861085045007, 0.8488295245052002, 0.8488444939440345, 0.8489186082958938, 0.8490342375008716, 0.8491086069148379, 0.8490203611217826, 0.8490579228860069, 0.8490711261938915, 0.8489654448062178, 0.8489680064477696, 0.8490460157126823, 0.8490433561523609, 0.8489618100692127, 0.8488801378291903, 0.8488368000563122, 0.8489150345216289, 0.8489495205865765, 0.8489008080736794, 0.848979303524758, 0.8490666100975817, 0.8490125291994054, 0.848876762809156, 0.8487803148489576, 0.8486332978345758, 0.8484945433862998, 0.8483629893238435, 0.8482559589553568, 0.8482330706415148, 0.8481441827266238, 0.8483451283151048, 0.8484664113668087, 0.848851879888973, 0.8487188740526885, 0.8486556808326106, 0.8487261146496815, 0.8485902732478074, 0.848443057269362, 0.8484716315923382, 0.8484804367606915, 0.8484472955241289, 0.8484505602803226, 0.8483575108707567, 0.8483672572851076, 0.8484126402228902, 0.8482713058797622, 0.8482208498750183, 0.8481758274122888, 0.8479696086748054, 0.8481232451603369, 0.848260547742413, 0.8481669570374764, 0.8481708449396471, 0.8482355568790947, 0.8483605028537322, 0.8483704589624758, 0.8486664668864249, 0.8485713212931326, 0.8485053836307507, 0.8485729386892178, 0.8485479535042217, 0.8487079269912344, 0.8487362971985384, 0.8486525688983891, 0.8482782395526104, 0.8486152191449314, 0.8486857319047252, 0.8488646474024216, 0.8491921702656517, 0.8492867721568321, 0.8491311834690044, 0.8489044490775344, 0.8488583392589081, 0.8491742099412418, 0.8495130129330991, 0.8494002487262807, 0.849117563910989, 0.8490013423910833, 0.8496003279360524, 0.8495578877778696, 0.8495542038163486, 0.8490685058244669, 0.8492778249787596, 0.8493144797352473, 0.8488853989442917, 0.8492232578783844, 0.8491650450287369, 0.8492985786378999, 0.8495549950026177, 0.8503200393894633, 0.8522856258384067, 0.8512792297111417, 0.8506299835656461, 0.8485160152806347, None]\n",
            "[0.8730735006228867, 0.8723260366613277, 0.8715785726997687, 0.8709734828261256, 0.8702972059085247, 0.8693717743370707, 0.8685887168535327, 0.8680904075458267, 0.8675920982381207, 0.8667734472326036, 0.8662751379248976, 0.8652785193094856, 0.8645310553479266, 0.8638191849083466, 0.8631073144687667, 0.8623242569852287, 0.8616479800676277, 0.8608293290621107, 0.8600818651005517, 0.8593344011389927, 0.8584445630895177, 0.8577682861719167, 0.8571987898202527, 0.8562733582487987, 0.8555970813311977, 0.8547784303256807, 0.8538174052322477, 0.8527140060508988, 0.8520733226552767, 0.8508987364299697, 0.8495817761167468, 0.8485139704573768, 0.8474105712760278, 0.8466631073144688, 0.8458800498309308, 0.8448122441715608, 0.8438156255561488, 0.8381562555614878, 0.8370884499021178, 0.8358782701548318, 0.8347392774515038, 0.8334579106602599, 0.8321053568250578, 0.8308951770777718, 0.8297561843744439, 0.8285460046271579, 0.8273714184018509, 0.8263747997864389, 0.8248442783413419, 0.8237408791599928, 0.8226374799786439, 0.8213205196654209, 0.820039152874177, 0.818330663819185, 0.817120484071899, 0.8158035237586759, 0.814415376401495, 0.8128492614344189, 0.8110695853354689, 0.809467876846414, 0.807937355401317, 0.8064068339562199, 0.804413596725396, 0.802206798362698, 0.800035593521979, 0.797686421071365, 0.7960847125823101, 0.7936643530877381, 0.791350774159103, 0.7882541377469301, 0.7863320875600641, 0.7837693539775761, 0.7810642463071721, 0.7782523580708312, 0.7756184374443851, 0.7722726463783591, 0.7681082043068161, 0.7648336002847482, 0.7613098416088272, 0.7575013347570743, 0.7536216408613632, 0.7483537996084713, 0.7428723972237052, 0.7377113365367504, 0.7318384054102154, 0.7257875066737853, 0.7186332087560064, 0.7115856914041644, 0.7033635878270155, 0.6926143441893575, 0.6810108560242036, 0.6678768464139526, 0.6529275671827728, 0.6353443673251469, 0.6147001245773269, 0.587969389571098, 0.5507029720590852, 0.4974194696565225, 0.41110517885744796, 0.0]\n"
          ],
          "name": "stdout"
        },
        {
          "output_type": "display_data",
          "data": {
            "image/png": "[encoded data removed]",
            "text/plain": [
              "<Figure size 504x720 with 1 Axes>"
            ]
          },
          "metadata": {
            "tags": [],
            "needs_background": "light"
          }
        }
      ]
    },
    {
      "cell_type": "markdown",
      "metadata": {
        "id": "Ry1Re8TnDQkC"
      },
      "source": [
        "**Quiz Question**: Among all the threshold values tried, what is the **smallest** threshold value that achieves a precision of 96.5% or better? Round your answer to 3 decimal places."
      ]
    },
    {
      "cell_type": "code",
      "metadata": {
        "id": "cVTlSVB2DQkD",
        "colab": {
          "base_uri": "https://localhost:8080/"
        },
        "outputId": "7c16454e-0f55-4a3d-b8a1-48dcced6d2ac"
      },
      "source": [
        "np.array(precision_all) "
      ],
      "execution_count": 109,
      "outputs": [
        {
          "output_type": "execute_result",
          "data": {
            "text/plain": [
              "array([0.84277314, 0.84277314, 0.84277314, 0.84277314, 0.84277314,\n",
              "       0.84277314, 0.84277314, 0.84277314, 0.84277314, 0.84277314,\n",
              "       0.84277314, 0.84277314, 0.84277314, 0.84277314, 0.84277314,\n",
              "       0.84277314, 0.84277314, 0.84277314, 0.84277314, 0.84277314,\n",
              "       0.84277314, 0.84277314, 0.84277314, 0.84277314, 0.84277314,\n",
              "       0.84277314, 0.84277314, 0.84277314, 0.84277314, 0.84277314,\n",
              "       0.84277314, 0.84277314, 0.84277314, 0.84277314, 0.84277314,\n",
              "       0.84277314, 0.84277314, 0.84277314, 0.84277314, 0.84277314,\n",
              "       0.84277314, 0.84277314, 0.84277314, 0.84277314, 0.84277314,\n",
              "       0.84277314, 0.84277314, 0.84277314, 0.84277314, 0.84277314,\n",
              "       0.84277314, 0.84277314, 0.84277314, 0.84277314, 0.84277314,\n",
              "       0.84277314, 0.84277314, 0.84277314, 0.84277314, 0.84277314,\n",
              "       0.84277314, 0.84277314, 0.84277314, 0.84277314, 0.84277314,\n",
              "       0.84277314, 0.84277314, 0.84277314, 0.84277314, 0.84277314,\n",
              "       0.84277314, 0.84277314, 0.84277314, 0.84277314, 0.84277314,\n",
              "       0.84277314, 0.84277314, 0.84277314, 0.84277314, 0.84277314,\n",
              "       0.84277314, 0.84277314, 0.84277314, 0.84277314, 0.84277314,\n",
              "       0.84277314, 0.84277314, 0.84277314, 0.84277314, 0.84277314,\n",
              "       0.84277314, 0.84277314, 0.84277314, 0.84277314, 0.84277314,\n",
              "       0.84277314, 0.84277314, 0.84277314, 0.84277314, 0.84277314])"
            ]
          },
          "metadata": {
            "tags": []
          },
          "execution_count": 109
        }
      ]
    },
    {
      "cell_type": "markdown",
      "metadata": {
        "id": "jHxMaLEBDQkD"
      },
      "source": [
        "**Quiz Question**: Using `threshold` = 0.98, how many **false negatives** do we get on the **test_data**? (**Hint**: You may use the `turicreate.evaluation.confusion_matrix` function implemented in Turi Create.)"
      ]
    },
    {
      "cell_type": "code",
      "metadata": {
        "id": "RM4KNGV_DQkD"
      },
      "source": [
        ""
      ],
      "execution_count": null,
      "outputs": []
    },
    {
      "cell_type": "markdown",
      "metadata": {
        "id": "zzqzuZYKDQkD"
      },
      "source": [
        "This is the number of false negatives (i.e the number of reviews to look at when not needed) that we have to deal with using this classifier."
      ]
    },
    {
      "cell_type": "markdown",
      "metadata": {
        "id": "H1vP7zdwDQkD"
      },
      "source": [
        "# Evaluating specific search terms"
      ]
    },
    {
      "cell_type": "markdown",
      "metadata": {
        "id": "SNsr1MGaDQkD"
      },
      "source": [
        "So far, we looked at the number of false positives for the **entire test set**. In this section, let's select reviews using a specific search term and optimize the precision on these reviews only. After all, a manufacturer would be interested in tuning the false positive rate just for their products (the reviews they want to read) rather than that of the entire set of products on Amazon.\n",
        "\n",
        "## Precision-Recall on all baby related items\n",
        "\n",
        "From the **test set**, select all the reviews for all products with the word 'baby' in them."
      ]
    },
    {
      "cell_type": "code",
      "metadata": {
        "id": "2Ah5lj5wDQkD"
      },
      "source": [
        "baby_reviews =  test_data[test_data['name'].apply(lambda x: 'baby' in x.lower())]"
      ],
      "execution_count": null,
      "outputs": []
    },
    {
      "cell_type": "markdown",
      "metadata": {
        "id": "3_S_NcXpDQkD"
      },
      "source": [
        "Now, let's predict the probability of classifying these reviews as positive:"
      ]
    },
    {
      "cell_type": "code",
      "metadata": {
        "id": "yw0FOTnlDQkE"
      },
      "source": [
        "probabilities = model.predict(baby_reviews, output_type='probability')"
      ],
      "execution_count": null,
      "outputs": []
    },
    {
      "cell_type": "markdown",
      "metadata": {
        "id": "MpMypJiUDQkE"
      },
      "source": [
        "Let's plot the precision-recall curve for the **baby_reviews** dataset.\n",
        "\n",
        "**First**, let's consider the following `threshold_values` ranging from 0.5 to 1:"
      ]
    },
    {
      "cell_type": "code",
      "metadata": {
        "collapsed": true,
        "id": "Cj_sWqcTDQkE"
      },
      "source": [
        "threshold_values = np.linspace(0.5, 1, num=100)"
      ],
      "execution_count": null,
      "outputs": []
    },
    {
      "cell_type": "markdown",
      "metadata": {
        "id": "Cy8Uh4OODQkE"
      },
      "source": [
        "**Second**, as we did above, let's compute precision and recall for each value in `threshold_values` on the **baby_reviews** dataset.  Complete the code block below."
      ]
    },
    {
      "cell_type": "code",
      "metadata": {
        "id": "vhOjdhMJDQkE"
      },
      "source": [
        "precision_all = []\n",
        "recall_all = []\n",
        "\n",
        "for threshold in threshold_values:\n",
        "    \n",
        "    # Make predictions. Use the `apply_threshold` function \n",
        "    ## YOUR CODE HERE \n",
        "    predictions = ...\n",
        "\n",
        "    # Calculate the precision.\n",
        "    # YOUR CODE HERE\n",
        "    precision = ...\n",
        "    \n",
        "    # YOUR CODE HERE\n",
        "    recall = ...\n",
        "    \n",
        "    # Append the precision and recall scores.\n",
        "    precision_all.append(precision)\n",
        "    recall_all.append(recall)"
      ],
      "execution_count": null,
      "outputs": []
    },
    {
      "cell_type": "markdown",
      "metadata": {
        "id": "bTJFWoSbDQkE"
      },
      "source": [
        "**Quiz Question**: Among all the threshold values tried, what is the **smallest** threshold value that achieves a precision of 96.5% or better for the reviews of data in **baby_reviews**? Round your answer to 3 decimal places."
      ]
    },
    {
      "cell_type": "code",
      "metadata": {
        "id": "-Pg_92YIDQkE"
      },
      "source": [
        ""
      ],
      "execution_count": null,
      "outputs": []
    },
    {
      "cell_type": "markdown",
      "metadata": {
        "id": "g_0PWIizDQkF"
      },
      "source": [
        "**Quiz Question:** Is this threshold value smaller or larger than the threshold used for the entire dataset to achieve the same specified precision of 96.5%?\n",
        "\n",
        "**Finally**, let's plot the precision recall curve."
      ]
    },
    {
      "cell_type": "code",
      "metadata": {
        "id": "uSqAow96DQkF"
      },
      "source": [
        "plot_pr_curve(precision_all, recall_all, \"Precision-Recall (Baby)\")"
      ],
      "execution_count": null,
      "outputs": []
    },
    {
      "cell_type": "code",
      "metadata": {
        "collapsed": true,
        "id": "lxtyIditDQkF"
      },
      "source": [
        ""
      ],
      "execution_count": null,
      "outputs": []
    }
  ]
}