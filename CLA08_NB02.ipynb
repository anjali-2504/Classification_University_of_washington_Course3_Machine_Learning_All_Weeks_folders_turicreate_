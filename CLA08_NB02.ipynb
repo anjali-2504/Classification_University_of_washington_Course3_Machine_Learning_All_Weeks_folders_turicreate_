{
  "nbformat": 4,
  "nbformat_minor": 0,
  "metadata": {
    "kernelspec": {
      "display_name": "Python 3",
      "language": "python",
      "name": "python3"
    },
    "language_info": {
      "codemirror_mode": {
        "name": "ipython",
        "version": 3
      },
      "file_extension": ".py",
      "mimetype": "text/x-python",
      "name": "python",
      "nbconvert_exporter": "python",
      "pygments_lexer": "ipython3",
      "version": "3.6.0"
    },
    "colab": {
      "name": "CLA08-NB02.ipynb",
      "provenance": [],
      "collapsed_sections": [],
      "include_colab_link": true
    }
  },
  "cells": [
    {
      "cell_type": "markdown",
      "metadata": {
        "id": "view-in-github",
        "colab_type": "text"
      },
      "source": [
        "<a href=\"https://colab.research.google.com/github/anjali-2504/Classification_University_of_washington_Course3_Machine_Learning_All_Weeks_folders_turicreate_/blob/main/CLA08_NB02.ipynb\" target=\"_parent\"><img src=\"https://colab.research.google.com/assets/colab-badge.svg\" alt=\"Open In Colab\"/></a>"
      ]
    },
    {
      "cell_type": "markdown",
      "metadata": {
        "id": "4HzHWoDPiTiD"
      },
      "source": [
        "# Boosting a decision stump\n",
        "\n",
        "The goal of this notebook is to implement your own boosting module.\n",
        "\n",
        "**Brace yourselves**! This is going to be a fun and challenging assignment.\n",
        "\n",
        "\n",
        "* Use SFrames to do some feature engineering.\n",
        "* Modify the decision trees to incorporate weights.\n",
        "* Implement Adaboost ensembling.\n",
        "* Use your implementation of Adaboost to train a boosted decision stump ensemble.\n",
        "* Evaluate the effect of boosting (adding more decision stumps) on performance of the model.\n",
        "* Explore the robustness of Adaboost to overfitting.\n",
        "\n",
        "Let's get started!"
      ]
    },
    {
      "cell_type": "markdown",
      "metadata": {
        "id": "-znoN04jiTiJ"
      },
      "source": [
        "## Fire up Turi Create"
      ]
    },
    {
      "cell_type": "markdown",
      "metadata": {
        "id": "XxyvdGTYiTiK"
      },
      "source": [
        "Make sure you have the latest version of Turi Create"
      ]
    },
    {
      "cell_type": "code",
      "metadata": {
        "colab": {
          "base_uri": "https://localhost:8080/"
        },
        "id": "KEmsjbKICcwP",
        "outputId": "dc0f8159-240b-46fa-96e3-0e07ebe5d349"
      },
      "source": [
        "!pip install turicreate"
      ],
      "execution_count": 5,
      "outputs": [
        {
          "output_type": "stream",
          "text": [
            "Collecting turicreate\n",
            "\u001b[?25l  Downloading https://files.pythonhosted.org/packages/25/9f/a76acc465d873d217f05eac4846bd73d640b9db6d6f4a3c29ad92650fbbe/turicreate-6.4.1-cp37-cp37m-manylinux1_x86_64.whl (92.0MB)\n",
            "\u001b[K     |████████████████████████████████| 92.0MB 48kB/s \n",
            "\u001b[?25hCollecting coremltools==3.3\n",
            "\u001b[?25l  Downloading https://files.pythonhosted.org/packages/1b/1d/b1a99beca7355b6a026ae61fd8d3d36136e5b36f13e92ec5f81aceffc7f1/coremltools-3.3-cp37-none-manylinux1_x86_64.whl (3.5MB)\n",
            "\u001b[K     |████████████████████████████████| 3.5MB 46.4MB/s \n",
            "\u001b[?25hCollecting tensorflow<2.1.0,>=2.0.0\n",
            "\u001b[?25l  Downloading https://files.pythonhosted.org/packages/3c/b3/3eeae9bc44039ceadceac0c7ba1cc8b1482b172810b3d7624a1cad251437/tensorflow-2.0.4-cp37-cp37m-manylinux2010_x86_64.whl (86.4MB)\n",
            "\u001b[K     |████████████████████████████████| 86.4MB 50kB/s \n",
            "\u001b[?25hRequirement already satisfied: numpy in /usr/local/lib/python3.7/dist-packages (from turicreate) (1.19.5)\n",
            "Requirement already satisfied: decorator>=4.0.9 in /usr/local/lib/python3.7/dist-packages (from turicreate) (4.4.2)\n",
            "Requirement already satisfied: pillow>=5.2.0 in /usr/local/lib/python3.7/dist-packages (from turicreate) (7.0.0)\n",
            "Requirement already satisfied: requests>=2.9.1 in /usr/local/lib/python3.7/dist-packages (from turicreate) (2.23.0)\n",
            "Collecting resampy==0.2.1\n",
            "\u001b[?25l  Downloading https://files.pythonhosted.org/packages/14/b6/66a06d85474190b50aee1a6c09cdc95bb405ac47338b27e9b21409da1760/resampy-0.2.1.tar.gz (322kB)\n",
            "\u001b[K     |████████████████████████████████| 327kB 57.1MB/s \n",
            "\u001b[?25hCollecting numba<0.51.0\n",
            "\u001b[?25l  Downloading https://files.pythonhosted.org/packages/04/be/8c88cee3366de2a3a23a9ff1a8be34e79ad1eb1ceb0d0e33aca83655ac3c/numba-0.50.1-cp37-cp37m-manylinux2014_x86_64.whl (3.6MB)\n",
            "\u001b[K     |████████████████████████████████| 3.6MB 47.4MB/s \n",
            "\u001b[?25hRequirement already satisfied: six>=1.10.0 in /usr/local/lib/python3.7/dist-packages (from turicreate) (1.15.0)\n",
            "Collecting prettytable==0.7.2\n",
            "  Downloading https://files.pythonhosted.org/packages/ef/30/4b0746848746ed5941f052479e7c23d2b56d174b82f4fd34a25e389831f5/prettytable-0.7.2.tar.bz2\n",
            "Requirement already satisfied: scipy>=1.1.0 in /usr/local/lib/python3.7/dist-packages (from turicreate) (1.4.1)\n",
            "Requirement already satisfied: pandas>=0.23.2 in /usr/local/lib/python3.7/dist-packages (from turicreate) (1.1.5)\n",
            "Requirement already satisfied: protobuf>=3.1.0 in /usr/local/lib/python3.7/dist-packages (from coremltools==3.3->turicreate) (3.12.4)\n",
            "Collecting tensorboard<2.1.0,>=2.0.0\n",
            "\u001b[?25l  Downloading https://files.pythonhosted.org/packages/76/54/99b9d5d52d5cb732f099baaaf7740403e83fe6b0cedde940fabd2b13d75a/tensorboard-2.0.2-py3-none-any.whl (3.8MB)\n",
            "\u001b[K     |████████████████████████████████| 3.8MB 50.2MB/s \n",
            "\u001b[?25hRequirement already satisfied: astor>=0.6.0 in /usr/local/lib/python3.7/dist-packages (from tensorflow<2.1.0,>=2.0.0->turicreate) (0.8.1)\n",
            "Requirement already satisfied: keras-preprocessing>=1.0.5 in /usr/local/lib/python3.7/dist-packages (from tensorflow<2.1.0,>=2.0.0->turicreate) (1.1.2)\n",
            "Collecting tensorflow-estimator<2.1.0,>=2.0.0\n",
            "\u001b[?25l  Downloading https://files.pythonhosted.org/packages/fc/08/8b927337b7019c374719145d1dceba21a8bb909b93b1ad6f8fb7d22c1ca1/tensorflow_estimator-2.0.1-py2.py3-none-any.whl (449kB)\n",
            "\u001b[K     |████████████████████████████████| 450kB 39.1MB/s \n",
            "\u001b[?25hRequirement already satisfied: termcolor>=1.1.0 in /usr/local/lib/python3.7/dist-packages (from tensorflow<2.1.0,>=2.0.0->turicreate) (1.1.0)\n",
            "Requirement already satisfied: h5py<=2.10.0 in /usr/local/lib/python3.7/dist-packages (from tensorflow<2.1.0,>=2.0.0->turicreate) (2.10.0)\n",
            "Requirement already satisfied: google-pasta>=0.1.6 in /usr/local/lib/python3.7/dist-packages (from tensorflow<2.1.0,>=2.0.0->turicreate) (0.2.0)\n",
            "Requirement already satisfied: grpcio>=1.8.6 in /usr/local/lib/python3.7/dist-packages (from tensorflow<2.1.0,>=2.0.0->turicreate) (1.32.0)\n",
            "Collecting keras-applications>=1.0.8\n",
            "\u001b[?25l  Downloading https://files.pythonhosted.org/packages/71/e3/19762fdfc62877ae9102edf6342d71b28fbfd9dea3d2f96a882ce099b03f/Keras_Applications-1.0.8-py3-none-any.whl (50kB)\n",
            "\u001b[K     |████████████████████████████████| 51kB 6.9MB/s \n",
            "\u001b[?25hCollecting gast==0.2.2\n",
            "  Downloading https://files.pythonhosted.org/packages/4e/35/11749bf99b2d4e3cceb4d55ca22590b0d7c2c62b9de38ac4a4a7f4687421/gast-0.2.2.tar.gz\n",
            "Requirement already satisfied: absl-py>=0.7.0 in /usr/local/lib/python3.7/dist-packages (from tensorflow<2.1.0,>=2.0.0->turicreate) (0.10.0)\n",
            "Requirement already satisfied: opt-einsum>=2.3.2 in /usr/local/lib/python3.7/dist-packages (from tensorflow<2.1.0,>=2.0.0->turicreate) (3.3.0)\n",
            "Requirement already satisfied: wheel>=0.26; python_version >= \"3\" in /usr/local/lib/python3.7/dist-packages (from tensorflow<2.1.0,>=2.0.0->turicreate) (0.36.2)\n",
            "Requirement already satisfied: wrapt>=1.11.1 in /usr/local/lib/python3.7/dist-packages (from tensorflow<2.1.0,>=2.0.0->turicreate) (1.12.1)\n",
            "Requirement already satisfied: urllib3!=1.25.0,!=1.25.1,<1.26,>=1.21.1 in /usr/local/lib/python3.7/dist-packages (from requests>=2.9.1->turicreate) (1.24.3)\n",
            "Requirement already satisfied: idna<3,>=2.5 in /usr/local/lib/python3.7/dist-packages (from requests>=2.9.1->turicreate) (2.10)\n",
            "Requirement already satisfied: certifi>=2017.4.17 in /usr/local/lib/python3.7/dist-packages (from requests>=2.9.1->turicreate) (2020.12.5)\n",
            "Requirement already satisfied: chardet<4,>=3.0.2 in /usr/local/lib/python3.7/dist-packages (from requests>=2.9.1->turicreate) (3.0.4)\n",
            "Collecting llvmlite<0.34,>=0.33.0.dev0\n",
            "\u001b[?25l  Downloading https://files.pythonhosted.org/packages/0a/28/0a35b3c2685bf2ea327cef5577bdf91f387f0f4594417a2a05a1d42fb7c2/llvmlite-0.33.0-cp37-cp37m-manylinux1_x86_64.whl (18.3MB)\n",
            "\u001b[K     |████████████████████████████████| 18.3MB 380kB/s \n",
            "\u001b[?25hRequirement already satisfied: setuptools in /usr/local/lib/python3.7/dist-packages (from numba<0.51.0->turicreate) (54.1.2)\n",
            "Requirement already satisfied: python-dateutil>=2.7.3 in /usr/local/lib/python3.7/dist-packages (from pandas>=0.23.2->turicreate) (2.8.1)\n",
            "Requirement already satisfied: pytz>=2017.2 in /usr/local/lib/python3.7/dist-packages (from pandas>=0.23.2->turicreate) (2018.9)\n",
            "Requirement already satisfied: werkzeug>=0.11.15 in /usr/local/lib/python3.7/dist-packages (from tensorboard<2.1.0,>=2.0.0->tensorflow<2.1.0,>=2.0.0->turicreate) (1.0.1)\n",
            "Requirement already satisfied: markdown>=2.6.8 in /usr/local/lib/python3.7/dist-packages (from tensorboard<2.1.0,>=2.0.0->tensorflow<2.1.0,>=2.0.0->turicreate) (3.3.4)\n",
            "Requirement already satisfied: google-auth-oauthlib<0.5,>=0.4.1 in /usr/local/lib/python3.7/dist-packages (from tensorboard<2.1.0,>=2.0.0->tensorflow<2.1.0,>=2.0.0->turicreate) (0.4.3)\n",
            "Requirement already satisfied: google-auth<2,>=1.6.3 in /usr/local/lib/python3.7/dist-packages (from tensorboard<2.1.0,>=2.0.0->tensorflow<2.1.0,>=2.0.0->turicreate) (1.27.1)\n",
            "Requirement already satisfied: importlib-metadata; python_version < \"3.8\" in /usr/local/lib/python3.7/dist-packages (from markdown>=2.6.8->tensorboard<2.1.0,>=2.0.0->tensorflow<2.1.0,>=2.0.0->turicreate) (3.7.2)\n",
            "Requirement already satisfied: requests-oauthlib>=0.7.0 in /usr/local/lib/python3.7/dist-packages (from google-auth-oauthlib<0.5,>=0.4.1->tensorboard<2.1.0,>=2.0.0->tensorflow<2.1.0,>=2.0.0->turicreate) (1.3.0)\n",
            "Requirement already satisfied: pyasn1-modules>=0.2.1 in /usr/local/lib/python3.7/dist-packages (from google-auth<2,>=1.6.3->tensorboard<2.1.0,>=2.0.0->tensorflow<2.1.0,>=2.0.0->turicreate) (0.2.8)\n",
            "Requirement already satisfied: cachetools<5.0,>=2.0.0 in /usr/local/lib/python3.7/dist-packages (from google-auth<2,>=1.6.3->tensorboard<2.1.0,>=2.0.0->tensorflow<2.1.0,>=2.0.0->turicreate) (4.2.1)\n",
            "Requirement already satisfied: rsa<5,>=3.1.4; python_version >= \"3.6\" in /usr/local/lib/python3.7/dist-packages (from google-auth<2,>=1.6.3->tensorboard<2.1.0,>=2.0.0->tensorflow<2.1.0,>=2.0.0->turicreate) (4.7.2)\n",
            "Requirement already satisfied: zipp>=0.5 in /usr/local/lib/python3.7/dist-packages (from importlib-metadata; python_version < \"3.8\"->markdown>=2.6.8->tensorboard<2.1.0,>=2.0.0->tensorflow<2.1.0,>=2.0.0->turicreate) (3.4.1)\n",
            "Requirement already satisfied: typing-extensions>=3.6.4; python_version < \"3.8\" in /usr/local/lib/python3.7/dist-packages (from importlib-metadata; python_version < \"3.8\"->markdown>=2.6.8->tensorboard<2.1.0,>=2.0.0->tensorflow<2.1.0,>=2.0.0->turicreate) (3.7.4.3)\n",
            "Requirement already satisfied: oauthlib>=3.0.0 in /usr/local/lib/python3.7/dist-packages (from requests-oauthlib>=0.7.0->google-auth-oauthlib<0.5,>=0.4.1->tensorboard<2.1.0,>=2.0.0->tensorflow<2.1.0,>=2.0.0->turicreate) (3.1.0)\n",
            "Requirement already satisfied: pyasn1<0.5.0,>=0.4.6 in /usr/local/lib/python3.7/dist-packages (from pyasn1-modules>=0.2.1->google-auth<2,>=1.6.3->tensorboard<2.1.0,>=2.0.0->tensorflow<2.1.0,>=2.0.0->turicreate) (0.4.8)\n",
            "Building wheels for collected packages: resampy, prettytable, gast\n",
            "  Building wheel for resampy (setup.py) ... \u001b[?25l\u001b[?25hdone\n",
            "  Created wheel for resampy: filename=resampy-0.2.1-cp37-none-any.whl size=320845 sha256=a9125af6c20752a9172d5801f10de9c461fcac517844f22656ec3c6eae6b7d00\n",
            "  Stored in directory: /root/.cache/pip/wheels/ff/4f/ed/2e6c676c23efe5394bb40ade50662e90eb46e29b48324c5f9b\n",
            "  Building wheel for prettytable (setup.py) ... \u001b[?25l\u001b[?25hdone\n",
            "  Created wheel for prettytable: filename=prettytable-0.7.2-cp37-none-any.whl size=13700 sha256=fceb21b24a76f7f110b8b985cd8bc0790b4ba6439f13980450065f7b3568f47d\n",
            "  Stored in directory: /root/.cache/pip/wheels/80/34/1c/3967380d9676d162cb59513bd9dc862d0584e045a162095606\n",
            "  Building wheel for gast (setup.py) ... \u001b[?25l\u001b[?25hdone\n",
            "  Created wheel for gast: filename=gast-0.2.2-cp37-none-any.whl size=7540 sha256=2fd41da974cc4aa8bd9f27553cfa9b51df5e0d7da44634d64607c71c16dd448f\n",
            "  Stored in directory: /root/.cache/pip/wheels/5c/2e/7e/a1d4d4fcebe6c381f378ce7743a3ced3699feb89bcfbdadadd\n",
            "Successfully built resampy prettytable gast\n",
            "\u001b[31mERROR: tensorflow 2.0.4 has requirement numpy<1.19.0,>=1.16.0, but you'll have numpy 1.19.5 which is incompatible.\u001b[0m\n",
            "\u001b[31mERROR: tensorflow-probability 0.12.1 has requirement gast>=0.3.2, but you'll have gast 0.2.2 which is incompatible.\u001b[0m\n",
            "\u001b[31mERROR: pynndescent 0.5.2 has requirement numba>=0.51.2, but you'll have numba 0.50.1 which is incompatible.\u001b[0m\n",
            "\u001b[31mERROR: librosa 0.8.0 has requirement resampy>=0.2.2, but you'll have resampy 0.2.1 which is incompatible.\u001b[0m\n",
            "Installing collected packages: coremltools, tensorboard, tensorflow-estimator, keras-applications, gast, tensorflow, llvmlite, numba, resampy, prettytable, turicreate\n",
            "  Found existing installation: tensorboard 2.4.1\n",
            "    Uninstalling tensorboard-2.4.1:\n",
            "      Successfully uninstalled tensorboard-2.4.1\n",
            "  Found existing installation: tensorflow-estimator 2.4.0\n",
            "    Uninstalling tensorflow-estimator-2.4.0:\n",
            "      Successfully uninstalled tensorflow-estimator-2.4.0\n",
            "  Found existing installation: gast 0.3.3\n",
            "    Uninstalling gast-0.3.3:\n",
            "      Successfully uninstalled gast-0.3.3\n",
            "  Found existing installation: tensorflow 2.4.1\n",
            "    Uninstalling tensorflow-2.4.1:\n",
            "      Successfully uninstalled tensorflow-2.4.1\n",
            "  Found existing installation: llvmlite 0.34.0\n",
            "    Uninstalling llvmlite-0.34.0:\n",
            "      Successfully uninstalled llvmlite-0.34.0\n",
            "  Found existing installation: numba 0.51.2\n",
            "    Uninstalling numba-0.51.2:\n",
            "      Successfully uninstalled numba-0.51.2\n",
            "  Found existing installation: resampy 0.2.2\n",
            "    Uninstalling resampy-0.2.2:\n",
            "      Successfully uninstalled resampy-0.2.2\n",
            "  Found existing installation: prettytable 2.1.0\n",
            "    Uninstalling prettytable-2.1.0:\n",
            "      Successfully uninstalled prettytable-2.1.0\n",
            "Successfully installed coremltools-3.3 gast-0.2.2 keras-applications-1.0.8 llvmlite-0.33.0 numba-0.50.1 prettytable-0.7.2 resampy-0.2.1 tensorboard-2.0.2 tensorflow-2.0.4 tensorflow-estimator-2.0.1 turicreate-6.4.1\n"
          ],
          "name": "stdout"
        }
      ]
    },
    {
      "cell_type": "code",
      "metadata": {
        "id": "U_kM7Q3ziTiK"
      },
      "source": [
        "import turicreate\n",
        "import matplotlib.pyplot as plt\n",
        "%matplotlib inline"
      ],
      "execution_count": 6,
      "outputs": []
    },
    {
      "cell_type": "code",
      "metadata": {
        "colab": {
          "base_uri": "https://localhost:8080/"
        },
        "id": "njFtXDmoiVEJ",
        "outputId": "9c0aa39b-8074-45e4-eea8-0f0388af3cf6"
      },
      "source": [
        "from google.colab import drive\n",
        "drive.mount('/content/gdrive')"
      ],
      "execution_count": 3,
      "outputs": [
        {
          "output_type": "stream",
          "text": [
            "Mounted at /content/gdrive\n"
          ],
          "name": "stdout"
        }
      ]
    },
    {
      "cell_type": "code",
      "metadata": {
        "colab": {
          "base_uri": "https://localhost:8080/"
        },
        "id": "f0Ci_PpwCUqV",
        "outputId": "f68f06ad-fb0f-4d39-d035-171773c658a4"
      },
      "source": [
        "from zipfile import ZipFile\n",
        "file_name = \"/content/gdrive/MyDrive/lending-club-data.sframe.zip\"\n",
        "with ZipFile(file_name,'r')as zip:\n",
        "  zip.extractall()\n",
        "  print('Done')"
      ],
      "execution_count": 4,
      "outputs": [
        {
          "output_type": "stream",
          "text": [
            "Done\n"
          ],
          "name": "stdout"
        }
      ]
    },
    {
      "cell_type": "markdown",
      "metadata": {
        "id": "3T1_PU4RiTiL"
      },
      "source": [
        "# Getting the data ready"
      ]
    },
    {
      "cell_type": "markdown",
      "metadata": {
        "id": "P8iuGB3diTiL"
      },
      "source": [
        "We will be using the same [LendingClub](https://www.lendingclub.com/) dataset as in the previous assignment."
      ]
    },
    {
      "cell_type": "code",
      "metadata": {
        "id": "0c5ugIyjiTiM"
      },
      "source": [
        "loans = turicreate.SFrame('lending-club-data.sframe/')"
      ],
      "execution_count": 7,
      "outputs": []
    },
    {
      "cell_type": "markdown",
      "metadata": {
        "id": "3-AB0PE0iTiM"
      },
      "source": [
        "### Extracting the target and the feature columns\n",
        "\n",
        "We will now repeat some of the feature processing steps that we saw in the previous assignment:\n",
        "\n",
        "First, we re-assign the target to have +1 as a safe (good) loan, and -1 as a risky (bad) loan.\n",
        "\n",
        "Next, we select four categorical features: \n",
        "1. grade of the loan \n",
        "2. the length of the loan term\n",
        "3. the home ownership status: own, mortgage, rent\n",
        "4. number of years of employment."
      ]
    },
    {
      "cell_type": "code",
      "metadata": {
        "id": "KsnoJ1nLiTiN"
      },
      "source": [
        "features = ['grade',              # grade of the loan\n",
        "            'term',               # the term of the loan\n",
        "            'home_ownership',     # home ownership status: own, mortgage or rent\n",
        "            'emp_length',         # number of years of employment\n",
        "           ]\n",
        "loans['safe_loans'] = loans['bad_loans'].apply(lambda x : +1 if x==0 else -1)\n",
        "loans.remove_column('bad_loans')\n",
        "target = 'safe_loans'\n",
        "loans = loans[features + [target]]"
      ],
      "execution_count": 8,
      "outputs": []
    },
    {
      "cell_type": "markdown",
      "metadata": {
        "id": "DXIlO34WiTiN"
      },
      "source": [
        "### Subsample dataset to make sure classes are balanced"
      ]
    },
    {
      "cell_type": "markdown",
      "metadata": {
        "id": "MhH2hEKIiTiO"
      },
      "source": [
        "Just as we did in the previous assignment, we will undersample the larger class (safe loans) in order to balance out our dataset. This means we are throwing away many data points. We use `seed=1` so everyone gets the same results."
      ]
    },
    {
      "cell_type": "code",
      "metadata": {
        "colab": {
          "base_uri": "https://localhost:8080/"
        },
        "id": "gYHXCxbyiTiO",
        "outputId": "f9e31135-be36-4390-a83f-802de30f20a3"
      },
      "source": [
        "safe_loans_raw = loans[loans[target] == 1]\n",
        "risky_loans_raw = loans[loans[target] == -1]\n",
        "\n",
        "# Undersample the safe loans.\n",
        "percentage = len(risky_loans_raw)/float(len(safe_loans_raw))\n",
        "risky_loans = risky_loans_raw\n",
        "safe_loans = safe_loans_raw.sample(percentage, seed=1)\n",
        "loans_data = risky_loans_raw.append(safe_loans)\n",
        "\n",
        "print(\"Percentage of safe loans                 :\", len(safe_loans) / float(len(loans_data)))\n",
        "print(\"Percentage of risky loans                :\", len(risky_loans) / float(len(loans_data)))\n",
        "print(\"Total number of loans in our new dataset :\", len(loans_data))"
      ],
      "execution_count": 9,
      "outputs": [
        {
          "output_type": "stream",
          "text": [
            "Percentage of safe loans                 : 0.5022361744216048\n",
            "Percentage of risky loans                : 0.4977638255783951\n",
            "Total number of loans in our new dataset : 46508\n"
          ],
          "name": "stdout"
        }
      ]
    },
    {
      "cell_type": "markdown",
      "metadata": {
        "id": "1UR-9g1MiTiO"
      },
      "source": [
        "**Note:** There are many approaches for dealing with imbalanced data, including some where we modify the learning algorithm. These approaches are beyond the scope of this course, but some of them are reviewed in this [paper](http://ieeexplore.ieee.org/xpl/login.jsp?tp=&arnumber=5128907&url=http%3A%2F%2Fieeexplore.ieee.org%2Fiel5%2F69%2F5173046%2F05128907.pdf%3Farnumber%3D5128907 ). For this assignment, we use the simplest possible approach, where we subsample the overly represented class to get a more balanced dataset. In general, and especially when the data is highly imbalanced, we recommend using more advanced methods."
      ]
    },
    {
      "cell_type": "markdown",
      "metadata": {
        "id": "tRruq6fBiTiP"
      },
      "source": [
        "### Transform categorical data into binary features"
      ]
    },
    {
      "cell_type": "markdown",
      "metadata": {
        "id": "Gki8YQNMiTiP"
      },
      "source": [
        "In this assignment, we will work with **binary decision trees**. Since all of our features are currently categorical features, we want to turn them into binary features using 1-hot encoding. \n",
        "\n",
        "We can do so with the following code block (see the first assignments for more details):"
      ]
    },
    {
      "cell_type": "code",
      "metadata": {
        "collapsed": true,
        "id": "EtoAPWSxiTiP"
      },
      "source": [
        "loans_data = risky_loans.append(safe_loans)\n",
        "for feature in features:\n",
        "    loans_data_one_hot_encoded = loans_data[feature].apply(lambda x: {x: 1})    \n",
        "    loans_data_unpacked = loans_data_one_hot_encoded.unpack(column_name_prefix=feature)\n",
        "    \n",
        "    # Change None's to 0's\n",
        "    for column in loans_data_unpacked.column_names():\n",
        "        loans_data_unpacked[column] = loans_data_unpacked[column].fillna(0)\n",
        "\n",
        "    loans_data = loans_data.remove_column(feature)\n",
        "    loans_data = loans_data.add_columns(loans_data_unpacked)"
      ],
      "execution_count": 10,
      "outputs": []
    },
    {
      "cell_type": "markdown",
      "metadata": {
        "id": "PSpQTztHiTiQ"
      },
      "source": [
        "Let's see what the feature columns look like now:"
      ]
    },
    {
      "cell_type": "code",
      "metadata": {
        "colab": {
          "base_uri": "https://localhost:8080/"
        },
        "id": "5c6eXd5LiTiQ",
        "outputId": "a662f1ec-0a80-47ce-d4df-d93e198ef284"
      },
      "source": [
        "features = loans_data.column_names()\n",
        "features.remove('safe_loans')  # Remove the response variable\n",
        "features"
      ],
      "execution_count": 11,
      "outputs": [
        {
          "output_type": "execute_result",
          "data": {
            "text/plain": [
              "['grade.A',\n",
              " 'grade.B',\n",
              " 'grade.C',\n",
              " 'grade.D',\n",
              " 'grade.E',\n",
              " 'grade.F',\n",
              " 'grade.G',\n",
              " 'term. 36 months',\n",
              " 'term. 60 months',\n",
              " 'home_ownership.MORTGAGE',\n",
              " 'home_ownership.OTHER',\n",
              " 'home_ownership.OWN',\n",
              " 'home_ownership.RENT',\n",
              " 'emp_length.1 year',\n",
              " 'emp_length.10+ years',\n",
              " 'emp_length.2 years',\n",
              " 'emp_length.3 years',\n",
              " 'emp_length.4 years',\n",
              " 'emp_length.5 years',\n",
              " 'emp_length.6 years',\n",
              " 'emp_length.7 years',\n",
              " 'emp_length.8 years',\n",
              " 'emp_length.9 years',\n",
              " 'emp_length.< 1 year',\n",
              " 'emp_length.n/a']"
            ]
          },
          "metadata": {
            "tags": []
          },
          "execution_count": 11
        }
      ]
    },
    {
      "cell_type": "markdown",
      "metadata": {
        "id": "8PwjhR8uiTiQ"
      },
      "source": [
        "### Train-test split\n",
        "\n",
        "We split the data into training and test sets with 80% of the data in the training set and 20% of the data in the test set. We use `seed=1` so that everyone gets the same result."
      ]
    },
    {
      "cell_type": "code",
      "metadata": {
        "collapsed": true,
        "id": "d3Cwh11viTiQ"
      },
      "source": [
        "train_data, test_data = loans_data.random_split(0.8, seed=1)"
      ],
      "execution_count": 12,
      "outputs": []
    },
    {
      "cell_type": "markdown",
      "metadata": {
        "id": "-EsV2jeriTiR"
      },
      "source": [
        "# Weighted decision trees"
      ]
    },
    {
      "cell_type": "markdown",
      "metadata": {
        "id": "S_vyrm5riTiR"
      },
      "source": [
        "Let's modify our decision tree code from Module 5 to support weighting of individual data points."
      ]
    },
    {
      "cell_type": "markdown",
      "metadata": {
        "id": "I4ogRdT7iTiR"
      },
      "source": [
        "### Weighted error definition\n",
        "\n",
        "Consider a model with $N$ data points with:\n",
        "* Predictions $\\hat{y}_1 ... \\hat{y}_n$ \n",
        "* Target $y_1 ... y_n$ \n",
        "* Data point weights $\\alpha_1 ... \\alpha_n$.\n",
        "\n",
        "Then the **weighted error** is defined by:\n",
        "$$\n",
        "\\mathrm{E}(\\mathbf{\\alpha}, \\mathbf{\\hat{y}}) = \\frac{\\sum_{i=1}^{n} \\alpha_i \\times 1[y_i \\neq \\hat{y_i}]}{\\sum_{i=1}^{n} \\alpha_i}\n",
        "$$\n",
        "where $1[y_i \\neq \\hat{y_i}]$ is an indicator function that is set to $1$ if $y_i \\neq \\hat{y_i}$.\n",
        "\n",
        "\n",
        "### Write a function to compute weight of mistakes\n",
        "\n",
        "Write a function that calculates the weight of mistakes for making the \"weighted-majority\" predictions for a dataset. The function accepts two inputs:\n",
        "* `labels_in_node`: Targets $y_1 ... y_n$ \n",
        "* `data_weights`: Data point weights $\\alpha_1 ... \\alpha_n$\n",
        "\n",
        "We are interested in computing the (total) weight of mistakes, i.e.\n",
        "$$\n",
        "\\mathrm{WM}(\\mathbf{\\alpha}, \\mathbf{\\hat{y}}) = \\sum_{i=1}^{n} \\alpha_i \\times 1[y_i \\neq \\hat{y_i}].\n",
        "$$\n",
        "This quantity is analogous to the number of mistakes, except that each mistake now carries different weight. It is related to the weighted error in the following way:\n",
        "$$\n",
        "\\mathrm{E}(\\mathbf{\\alpha}, \\mathbf{\\hat{y}}) = \\frac{\\mathrm{WM}(\\mathbf{\\alpha}, \\mathbf{\\hat{y}})}{\\sum_{i=1}^{n} \\alpha_i}\n",
        "$$\n",
        "\n",
        "The function **intermediate_node_weighted_mistakes** should first compute two weights: \n",
        " * $\\mathrm{WM}_{-1}$: weight of mistakes when all predictions are $\\hat{y}_i = -1$ i.e $\\mathrm{WM}(\\mathbf{\\alpha}, \\mathbf{-1}$)\n",
        " * $\\mathrm{WM}_{+1}$: weight of mistakes when all predictions are $\\hat{y}_i = +1$ i.e $\\mbox{WM}(\\mathbf{\\alpha}, \\mathbf{+1}$)\n",
        " \n",
        " where $\\mathbf{-1}$ and $\\mathbf{+1}$ are vectors where all values are -1 and +1 respectively.\n",
        " \n",
        "After computing $\\mathrm{WM}_{-1}$ and $\\mathrm{WM}_{+1}$, the function **intermediate_node_weighted_mistakes** should return the lower of the two weights of mistakes, along with the class associated with that weight. We have provided a skeleton for you with `YOUR CODE HERE` to be filled in several places."
      ]
    },
    {
      "cell_type": "code",
      "metadata": {
        "id": "oF8YNnbcDuIf"
      },
      "source": [
        "import math"
      ],
      "execution_count": 13,
      "outputs": []
    },
    {
      "cell_type": "code",
      "metadata": {
        "collapsed": true,
        "id": "alh-aci0iTiR"
      },
      "source": [
        "def intermediate_node_weighted_mistakes(labels_in_node, data_weights):\n",
        "    # Sum the weights of all entries with label +1\n",
        "    total_weight_positive = sum(data_weights[labels_in_node == +1])\n",
        "    \n",
        "    # Weight of mistakes for predicting all -1's is equal to the sum above\n",
        "    ### YOUR CODE HERE\n",
        "    weighted_mistakes_all_negative = total_weight_positive\n",
        "    \n",
        "    # Sum the weights of all entries with label -1\n",
        "    ### YOUR CODE HERE\n",
        "    total_weight_negative = sum(data_weights[labels_in_node == -1])\n",
        "    \n",
        "    # Weight of mistakes for predicting all +1's is equal to the sum above\n",
        "    ### YOUR CODE HERE\n",
        "    weighted_mistakes_all_positive =total_weight_negative\n",
        "    \n",
        "    # Return the tuple (weight, class_label) representing the lower of the two weights\n",
        "    #    class_label should be an integer of value +1 or -1.\n",
        "    # If the two weights are identical, return (weighted_mistakes_all_positive,+1)\n",
        "    ### YOUR CODE HERE\n",
        "    if weighted_mistakes_all_negative>=weighted_mistakes_all_positive:\n",
        "      return (weighted_mistakes_all_positive,+1)\n",
        "    else:\n",
        "      return (weighted_mistakes_all_negative,-1)  "
      ],
      "execution_count": 14,
      "outputs": []
    },
    {
      "cell_type": "markdown",
      "metadata": {
        "id": "8QT53tlhiTiS"
      },
      "source": [
        "**Checkpoint:** Test your **intermediate_node_weighted_mistakes** function, run the following cell:"
      ]
    },
    {
      "cell_type": "code",
      "metadata": {
        "colab": {
          "base_uri": "https://localhost:8080/"
        },
        "id": "qPI1L0fMiTiT",
        "outputId": "28ecda60-a2a9-4d30-a285-b6baa08bc63c"
      },
      "source": [
        "example_labels = turicreate.SArray([-1, -1, 1, 1, 1])\n",
        "example_data_weights = turicreate.SArray([1., 2., .5, 1., 1.])\n",
        "if intermediate_node_weighted_mistakes(example_labels, example_data_weights) == (2.5, -1):\n",
        "    print('Test passed!')\n",
        "else:\n",
        "    print('Test failed... try again!')"
      ],
      "execution_count": 15,
      "outputs": [
        {
          "output_type": "stream",
          "text": [
            "Test passed!\n"
          ],
          "name": "stdout"
        }
      ]
    },
    {
      "cell_type": "markdown",
      "metadata": {
        "id": "jGafdcSJiTiT"
      },
      "source": [
        "Recall that the **classification error** is defined as follows:\n",
        "$$\n",
        "\\mbox{classification error} = \\frac{\\mbox{# mistakes}}{\\mbox{# all data points}}\n",
        "$$\n",
        "\n",
        "**Quiz Question:** If we set the weights $\\mathbf{\\alpha} = 1$ for all data points, how is the weight of mistakes $\\mbox{WM}(\\mathbf{\\alpha}, \\mathbf{\\hat{y}})$ related to the `classification error`?"
      ]
    },
    {
      "cell_type": "markdown",
      "metadata": {
        "id": "wr6FSKh7iTiT"
      },
      "source": [
        "### Function to pick best feature to split on"
      ]
    },
    {
      "cell_type": "markdown",
      "metadata": {
        "id": "C8wyrOeiiTiT"
      },
      "source": [
        "We continue modifying our decision tree code from the earlier assignment to incorporate weighting of individual data points. The next step is to pick the best feature to split on.\n",
        "\n",
        "The **best_splitting_feature** function is similar to the one from the earlier assignment with two minor modifications:\n",
        "  1. The function **best_splitting_feature** should now accept an extra parameter `data_weights` to take account of weights of data points.\n",
        "  2. Instead of computing the number of mistakes in the left and right side of the split, we compute the weight of mistakes for both sides, add up the two weights, and divide it by the total weight of the data.\n",
        "  \n",
        "Complete the following function. Comments starting with `DIFFERENT HERE` mark the sections where the weighted version differs from the original implementation."
      ]
    },
    {
      "cell_type": "code",
      "metadata": {
        "id": "PvpDFVJDiTiU"
      },
      "source": [
        "def best_splitting_feature(data, features, target, data_weights):\n",
        "    \n",
        "    # These variables will keep track of the best feature and the corresponding error\n",
        "    best_feature = None\n",
        "    best_error = float('+inf') \n",
        "    num_points = float(len(data))\n",
        "    data['data_weights']=data_weights\n",
        "\n",
        "    # Loop through each feature to consider splitting on that feature\n",
        "    for feature in features:\n",
        "        \n",
        "        # The left split will have all data points where the feature value is 0\n",
        "        # The right split will have all data points where the feature value is 1\n",
        "        left_split = data[data[feature] == 0]\n",
        "        right_split = data[data[feature] == 1]\n",
        "        \n",
        "        # Apply the same filtering to data_weights to create left_data_weights, right_data_weights\n",
        "        ## YOUR CODE HERE\n",
        "        left_data_weights = left_split['data_weights']\n",
        "        right_data_weights = right_split['data_weights']\n",
        "                    \n",
        "        # DIFFERENT HERE\n",
        "        # Calculate the weight of mistakes for left and right sides\n",
        "        ## YOUR CODE HERE\n",
        "        left_weighted_mistakes, left_class = intermediate_node_weighted_mistakes(left_split['safe_loans'],left_data_weights)\n",
        "        right_weighted_mistakes, right_class =intermediate_node_weighted_mistakes(right_split['safe_loans'],right_data_weights)\n",
        "        \n",
        "        # DIFFERENT HERE\n",
        "        # Compute weighted error by computing\n",
        "        #  ( [weight of mistakes (left)] + [weight of mistakes (right)] ) / [total weight of all data points]\n",
        "        ## YOUR CODE HERE\n",
        "        error = (left_weighted_mistakes+right_weighted_mistakes)/(float(data_weights.sum()))\n",
        "        \n",
        "        # If this is the best error we have found so far, store the feature and the error\n",
        "        if error < best_error:\n",
        "            best_feature = feature\n",
        "            best_error = error\n",
        "    \n",
        "    # Return the best feature we found\n",
        "    return best_feature"
      ],
      "execution_count": 20,
      "outputs": []
    },
    {
      "cell_type": "markdown",
      "metadata": {
        "id": "1etiaxh_iTiU"
      },
      "source": [
        "**Checkpoint:** Now, we have another checkpoint to make sure you are on the right track."
      ]
    },
    {
      "cell_type": "code",
      "metadata": {
        "colab": {
          "base_uri": "https://localhost:8080/"
        },
        "id": "pGMe5SzViTiU",
        "outputId": "643b46d1-1876-4fa1-f2e5-c626f921c239"
      },
      "source": [
        "example_data_weights = turicreate.SArray(len(train_data)* [1.5])\n",
        "if best_splitting_feature(train_data, features, target, example_data_weights) == 'term. 36 months':\n",
        "    print('Test passed!')\n",
        "else:\n",
        "    print('Test failed... try again!')"
      ],
      "execution_count": 21,
      "outputs": [
        {
          "output_type": "stream",
          "text": [
            "Test passed!\n"
          ],
          "name": "stdout"
        }
      ]
    },
    {
      "cell_type": "markdown",
      "metadata": {
        "id": "BD7hX5qriTiV"
      },
      "source": [
        "**Note**. If you get an exception in the line of \"the logical filter has different size than the array\", try upgradting your Turi Create installation to 1.8.3 or newer."
      ]
    },
    {
      "cell_type": "markdown",
      "metadata": {
        "id": "d8qrj19wiTiV"
      },
      "source": [
        "**Very Optional**. Relationship between weighted error and weight of mistakes\n",
        "\n",
        "By definition, the weighted error is the weight of mistakes divided by the weight of all data points, so\n",
        "$$\n",
        "\\mathrm{E}(\\mathbf{\\alpha}, \\mathbf{\\hat{y}}) = \\frac{\\sum_{i=1}^{n} \\alpha_i \\times 1[y_i \\neq \\hat{y_i}]}{\\sum_{i=1}^{n} \\alpha_i} = \\frac{\\mathrm{WM}(\\mathbf{\\alpha}, \\mathbf{\\hat{y}})}{\\sum_{i=1}^{n} \\alpha_i}.\n",
        "$$\n",
        "\n",
        "In the code above, we obtain $\\mathrm{E}(\\mathbf{\\alpha}, \\mathbf{\\hat{y}})$ from the two weights of mistakes from both sides, $\\mathrm{WM}(\\mathbf{\\alpha}_{\\mathrm{left}}, \\mathbf{\\hat{y}}_{\\mathrm{left}})$ and $\\mathrm{WM}(\\mathbf{\\alpha}_{\\mathrm{right}}, \\mathbf{\\hat{y}}_{\\mathrm{right}})$. First, notice that the overall weight of mistakes $\\mathrm{WM}(\\mathbf{\\alpha}, \\mathbf{\\hat{y}})$ can be broken into two weights of mistakes over either side of the split:\n",
        "$$\n",
        "\\mathrm{WM}(\\mathbf{\\alpha}, \\mathbf{\\hat{y}})\n",
        "= \\sum_{i=1}^{n} \\alpha_i \\times 1[y_i \\neq \\hat{y_i}]\n",
        "= \\sum_{\\mathrm{left}} \\alpha_i \\times 1[y_i \\neq \\hat{y_i}]\n",
        " + \\sum_{\\mathrm{right}} \\alpha_i \\times 1[y_i \\neq \\hat{y_i}]\\\\\n",
        "= \\mathrm{WM}(\\mathbf{\\alpha}_{\\mathrm{left}}, \\mathbf{\\hat{y}}_{\\mathrm{left}}) + \\mathrm{WM}(\\mathbf{\\alpha}_{\\mathrm{right}}, \\mathbf{\\hat{y}}_{\\mathrm{right}})\n",
        "$$\n",
        "We then divide through by the total weight of all data points to obtain $\\mathrm{E}(\\mathbf{\\alpha}, \\mathbf{\\hat{y}})$:\n",
        "$$\n",
        "\\mathrm{E}(\\mathbf{\\alpha}, \\mathbf{\\hat{y}})\n",
        "= \\frac{\\mathrm{WM}(\\mathbf{\\alpha}_{\\mathrm{left}}, \\mathbf{\\hat{y}}_{\\mathrm{left}}) + \\mathrm{WM}(\\mathbf{\\alpha}_{\\mathrm{right}}, \\mathbf{\\hat{y}}_{\\mathrm{right}})}{\\sum_{i=1}^{n} \\alpha_i}\n",
        "$$"
      ]
    },
    {
      "cell_type": "markdown",
      "metadata": {
        "id": "1B9kV5OAiTiW"
      },
      "source": [
        "### Building the tree\n",
        "\n",
        "With the above functions implemented correctly, we are now ready to build our decision tree. Recall from the previous assignments that each node in the decision tree is represented as a dictionary which contains the following keys:\n",
        "\n",
        "    { \n",
        "       'is_leaf'            : True/False.\n",
        "       'prediction'         : Prediction at the leaf node.\n",
        "       'left'               : (dictionary corresponding to the left tree).\n",
        "       'right'              : (dictionary corresponding to the right tree).\n",
        "       'features_remaining' : List of features that are posible splits.\n",
        "    }\n",
        "    \n",
        "Let us start with a function that creates a leaf node given a set of target values:"
      ]
    },
    {
      "cell_type": "code",
      "metadata": {
        "collapsed": true,
        "id": "xCxq4MVriTiW"
      },
      "source": [
        "def create_leaf(target_values, data_weights):\n",
        "    \n",
        "    # Create a leaf node\n",
        "    leaf = {'splitting_feature' : None,\n",
        "            'is_leaf': True}\n",
        "    \n",
        "    # Computed weight of mistakes.\n",
        "    weighted_error, best_class = intermediate_node_weighted_mistakes(target_values, data_weights)\n",
        "    # Store the predicted class (1 or -1) in leaf['prediction']\n",
        "    leaf['prediction'] =best_class ## YOUR CODE HERE\n",
        "    \n",
        "    return leaf "
      ],
      "execution_count": 22,
      "outputs": []
    },
    {
      "cell_type": "markdown",
      "metadata": {
        "id": "jFUhcSppiTiW"
      },
      "source": [
        "We provide a function that learns a weighted decision tree recursively and implements 3 stopping conditions:\n",
        "1. All data points in a node are from the same class.\n",
        "2. No more features to split on.\n",
        "3. Stop growing the tree when the tree depth reaches **max_depth**. "
      ]
    },
    {
      "cell_type": "code",
      "metadata": {
        "id": "Sla_ZPHeiTiW"
      },
      "source": [
        "def weighted_decision_tree_create(data, features, target, data_weights, current_depth = 1, max_depth = 10):\n",
        "    remaining_features = features[:] # Make a copy of the features.\n",
        "    target_values = data[target]\n",
        "    print(\"--------------------------------------------------------------------\")\n",
        "    print(\"Subtree, depth = %s (%s data points).\" % (current_depth, len(target_values)))\n",
        "\n",
        "    # Stopping condition 1. Error is 0.\n",
        "    if intermediate_node_weighted_mistakes(target_values, data_weights)[0] <= 1e-15:\n",
        "        print(\"Stopping condition 1 reached.\")\n",
        "        return create_leaf(target_values, data_weights)\n",
        "    \n",
        "    # Stopping condition 2. No more features.\n",
        "    if remaining_features == []:\n",
        "        print(\"Stopping condition 2 reached.\")\n",
        "        return create_leaf(target_values, data_weights)    \n",
        "    \n",
        "    # Additional stopping condition (limit tree depth)\n",
        "    if current_depth > max_depth:\n",
        "        print(\"Reached maximum depth. Stopping for now.\")\n",
        "        return create_leaf(target_values, data_weights)\n",
        "    \n",
        "    splitting_feature = best_splitting_feature(data, features, target, data_weights)\n",
        "    remaining_features.remove(splitting_feature)\n",
        "        \n",
        "    left_split = data[data[splitting_feature] == 0]\n",
        "    right_split = data[data[splitting_feature] == 1]\n",
        "    \n",
        "    left_data_weights = data_weights[data[splitting_feature] == 0]\n",
        "    right_data_weights = data_weights[data[splitting_feature] == 1]\n",
        "    \n",
        "    print(\"Split on feature %s. (%s, %s)\" % (\\\n",
        "              splitting_feature, len(left_split), len(right_split)))\n",
        "\n",
        "    # Create a leaf node if the split is \"perfect\"\n",
        "    if len(left_split) == len(data):\n",
        "        print(\"Creating leaf node.\")\n",
        "        return create_leaf(left_split[target], data_weights)\n",
        "    if len(right_split) == len(data):\n",
        "        print(\"Creating leaf node.\")\n",
        "        return create_leaf(right_split[target], data_weights)\n",
        "    \n",
        "    # Repeat (recurse) on left and right subtrees\n",
        "    left_tree = weighted_decision_tree_create(\n",
        "        left_split, remaining_features, target, left_data_weights, current_depth + 1, max_depth)\n",
        "    right_tree = weighted_decision_tree_create(\n",
        "        right_split, remaining_features, target, right_data_weights, current_depth + 1, max_depth)\n",
        "    \n",
        "    return {'is_leaf'          : False, \n",
        "            'prediction'       : None,\n",
        "            'splitting_feature': splitting_feature,\n",
        "            'left'             : left_tree, \n",
        "            'right'            : right_tree}"
      ],
      "execution_count": 23,
      "outputs": []
    },
    {
      "cell_type": "markdown",
      "metadata": {
        "id": "N2tLLxdDiTiW"
      },
      "source": [
        "Here is a recursive function to count the nodes in your tree:"
      ]
    },
    {
      "cell_type": "code",
      "metadata": {
        "id": "Tm6SYCAviTiX"
      },
      "source": [
        "def count_nodes(tree):\n",
        " # print(tree['is_leaf'])\n",
        "  if (tree['is_leaf']!=None and tree['is_leaf']==True) :\n",
        "    return 1\n",
        "  if (tree['is_leaf']!=None and tree['is_leaf']==False and tree['left']!=None and tree['right']==None ):\n",
        "    return 2 + count_nodes(tree['left']) \n",
        "  if (tree['is_leaf']!=None and tree['is_leaf']==False and tree['left']==None and tree['right']!=None ):\n",
        "    return 2 + count_nodes(tree['right']) \n",
        "  if (tree['is_leaf']!=None and tree['is_leaf']==False and tree['left']!=None and tree['right']!=None ):\n",
        "    return 1 + count_nodes(tree['left']) +count_nodes(tree['right'])\n",
        "  if (tree['is_leaf']!=None and tree['is_leaf']==False and tree['left']==None and tree['right']==None ):\n",
        "    return 1"
      ],
      "execution_count": 24,
      "outputs": []
    },
    {
      "cell_type": "markdown",
      "metadata": {
        "id": "iOsZ_7THiTiX"
      },
      "source": [
        "Run the following test code to check your implementation. Make sure you get **'Test passed'** before proceeding."
      ]
    },
    {
      "cell_type": "code",
      "metadata": {
        "colab": {
          "base_uri": "https://localhost:8080/"
        },
        "id": "6mF_zLtPiTiX",
        "outputId": "24ee2c25-d2e3-40d2-c441-f7def0ad2f4c"
      },
      "source": [
        "example_data_weights = turicreate.SArray([1.0 for i in range(len(train_data))])\n",
        "small_data_decision_tree = weighted_decision_tree_create(train_data, features, target,\n",
        "                                        example_data_weights, max_depth=2)\n",
        "if count_nodes(small_data_decision_tree) == 7:\n",
        "    print('Test passed!')\n",
        "else:\n",
        "    print('Test failed... try again!')\n",
        "    print('Number of nodes found:', count_nodes(small_data_decision_tree))\n",
        "    print('Number of nodes that should be there: 7' )"
      ],
      "execution_count": 25,
      "outputs": [
        {
          "output_type": "stream",
          "text": [
            "--------------------------------------------------------------------\n",
            "Subtree, depth = 1 (37224 data points).\n",
            "Split on feature term. 36 months. (9223, 28001)\n",
            "--------------------------------------------------------------------\n",
            "Subtree, depth = 2 (9223 data points).\n",
            "Split on feature grade.A. (9122, 101)\n",
            "--------------------------------------------------------------------\n",
            "Subtree, depth = 3 (9122 data points).\n",
            "Reached maximum depth. Stopping for now.\n",
            "--------------------------------------------------------------------\n",
            "Subtree, depth = 3 (101 data points).\n",
            "Reached maximum depth. Stopping for now.\n",
            "--------------------------------------------------------------------\n",
            "Subtree, depth = 2 (28001 data points).\n",
            "Split on feature grade.D. (23300, 4701)\n",
            "--------------------------------------------------------------------\n",
            "Subtree, depth = 3 (23300 data points).\n",
            "Reached maximum depth. Stopping for now.\n",
            "--------------------------------------------------------------------\n",
            "Subtree, depth = 3 (4701 data points).\n",
            "Reached maximum depth. Stopping for now.\n",
            "Test passed!\n"
          ],
          "name": "stdout"
        }
      ]
    },
    {
      "cell_type": "markdown",
      "metadata": {
        "id": "XJG_SdmtiTiX"
      },
      "source": [
        "Let us take a quick look at what the trained tree is like. You should get something that looks like the following\n",
        "\n",
        "```\n",
        "{'is_leaf': False,\n",
        "    'left': {'is_leaf': False,\n",
        "        'left': {'is_leaf': True, 'prediction': -1, 'splitting_feature': None},\n",
        "        'prediction': None,\n",
        "        'right': {'is_leaf': True, 'prediction': 1, 'splitting_feature': None},\n",
        "        'splitting_feature': 'grade.A'\n",
        "     },\n",
        "    'prediction': None,\n",
        "    'right': {'is_leaf': False,\n",
        "        'left': {'is_leaf': True, 'prediction': 1, 'splitting_feature': None},\n",
        "        'prediction': None,\n",
        "        'right': {'is_leaf': True, 'prediction': -1, 'splitting_feature': None},\n",
        "        'splitting_feature': 'grade.D'\n",
        "     },\n",
        "     'splitting_feature': 'term. 36 months'\n",
        "}```"
      ]
    },
    {
      "cell_type": "code",
      "metadata": {
        "colab": {
          "base_uri": "https://localhost:8080/"
        },
        "id": "ZncqqeaOiTiX",
        "outputId": "a96de0b5-8b23-4ff4-f3bf-6065615bc10c"
      },
      "source": [
        "small_data_decision_tree"
      ],
      "execution_count": 26,
      "outputs": [
        {
          "output_type": "execute_result",
          "data": {
            "text/plain": [
              "{'is_leaf': False,\n",
              " 'left': {'is_leaf': False,\n",
              "  'left': {'is_leaf': True, 'prediction': -1, 'splitting_feature': None},\n",
              "  'prediction': None,\n",
              "  'right': {'is_leaf': True, 'prediction': 1, 'splitting_feature': None},\n",
              "  'splitting_feature': 'grade.A'},\n",
              " 'prediction': None,\n",
              " 'right': {'is_leaf': False,\n",
              "  'left': {'is_leaf': True, 'prediction': 1, 'splitting_feature': None},\n",
              "  'prediction': None,\n",
              "  'right': {'is_leaf': True, 'prediction': -1, 'splitting_feature': None},\n",
              "  'splitting_feature': 'grade.D'},\n",
              " 'splitting_feature': 'term. 36 months'}"
            ]
          },
          "metadata": {
            "tags": []
          },
          "execution_count": 26
        }
      ]
    },
    {
      "cell_type": "markdown",
      "metadata": {
        "id": "Guz69hdSiTiY"
      },
      "source": [
        "### Making predictions with a weighted decision tree"
      ]
    },
    {
      "cell_type": "markdown",
      "metadata": {
        "id": "KEZrjnfwiTiY"
      },
      "source": [
        "We give you a function that classifies one data point. It can also return the probability if you want to play around with that as well."
      ]
    },
    {
      "cell_type": "code",
      "metadata": {
        "collapsed": true,
        "id": "h075cXFhiTiY"
      },
      "source": [
        "def classify(tree, x, annotate = False):   \n",
        "    # If the node is a leaf node.\n",
        "    if tree['is_leaf']:\n",
        "        if annotate: \n",
        "            print(\"At leaf, predicting %s\" % tree['prediction'])\n",
        "        return tree['prediction'] \n",
        "    else:\n",
        "        # Split on feature.\n",
        "        split_feature_value = x[tree['splitting_feature']]\n",
        "        if annotate: \n",
        "            print(\"Split on %s = %s\" % (tree['splitting_feature'], split_feature_value))\n",
        "        if split_feature_value == 0:\n",
        "            return classify(tree['left'], x, annotate)\n",
        "        else:\n",
        "            return classify(tree['right'], x, annotate)"
      ],
      "execution_count": 27,
      "outputs": []
    },
    {
      "cell_type": "markdown",
      "metadata": {
        "id": "kIcprJE1iTiY"
      },
      "source": [
        "### Evaluating the tree\n",
        "\n",
        "Now, we will write a function to evaluate a decision tree by computing the classification error of the tree on the given dataset.\n",
        "\n",
        "Again, recall that the **classification error** is defined as follows:\n",
        "$$\n",
        "\\mbox{classification error} = \\frac{\\mbox{# mistakes}}{\\mbox{# all data points}}\n",
        "$$\n",
        "\n",
        "The function called **evaluate_classification_error** takes in as input:\n",
        "1. `tree` (as described above)\n",
        "2. `data` (an SFrame)\n",
        "\n",
        "The function does not change because of adding data point weights."
      ]
    },
    {
      "cell_type": "code",
      "metadata": {
        "collapsed": true,
        "id": "dt5YpRgviTiY"
      },
      "source": [
        "def evaluate_classification_error(tree, data):\n",
        "    # Apply the classify(tree, x) to each row in your data\n",
        "    prediction = data.apply(lambda x: classify(tree, x))\n",
        "    \n",
        "    # Once you've made the predictions, calculate the classification error\n",
        "    return (prediction != data[target]).sum() / float(len(data))"
      ],
      "execution_count": 28,
      "outputs": []
    },
    {
      "cell_type": "code",
      "metadata": {
        "colab": {
          "base_uri": "https://localhost:8080/"
        },
        "id": "68ygmOUCiTiZ",
        "outputId": "1770300e-2463-47dc-bee8-f0942eb61fb0"
      },
      "source": [
        "evaluate_classification_error(small_data_decision_tree, test_data)"
      ],
      "execution_count": 29,
      "outputs": [
        {
          "output_type": "execute_result",
          "data": {
            "text/plain": [
              "0.3981042654028436"
            ]
          },
          "metadata": {
            "tags": []
          },
          "execution_count": 29
        }
      ]
    },
    {
      "cell_type": "markdown",
      "metadata": {
        "id": "i4gAe8H4iTiZ"
      },
      "source": [
        "### Example: Training a weighted decision tree\n",
        "\n",
        "To build intuition on how weighted data points affect the tree being built, consider the following:\n",
        "\n",
        "Suppose we only care about making good predictions for the **first 10 and last 10 items** in `train_data`, we assign weights:\n",
        "* 1 to the last 10 items \n",
        "* 1 to the first 10 items \n",
        "* and 0 to the rest. \n",
        "\n",
        "Let us fit a weighted decision tree with `max_depth = 2`."
      ]
    },
    {
      "cell_type": "code",
      "metadata": {
        "colab": {
          "base_uri": "https://localhost:8080/"
        },
        "id": "P2rt7rcMiTiZ",
        "outputId": "48391c98-68da-4651-a11e-d5fa56cfd534"
      },
      "source": [
        "# Assign weights\n",
        "example_data_weights = turicreate.SArray([1.] * 10 + [0.]*(len(train_data) - 20) + [1.] * 10)\n",
        "\n",
        "# Train a weighted decision tree model.\n",
        "small_data_decision_tree_subset_20 = weighted_decision_tree_create(train_data, features, target,\n",
        "                         example_data_weights, max_depth=2)"
      ],
      "execution_count": 34,
      "outputs": [
        {
          "output_type": "stream",
          "text": [
            "--------------------------------------------------------------------\n",
            "Subtree, depth = 1 (37224 data points).\n",
            "Split on feature home_ownership.RENT. (20514, 16710)\n",
            "--------------------------------------------------------------------\n",
            "Subtree, depth = 2 (20514 data points).\n",
            "Split on feature grade.F. (19613, 901)\n",
            "--------------------------------------------------------------------\n",
            "Subtree, depth = 3 (19613 data points).\n",
            "Reached maximum depth. Stopping for now.\n",
            "--------------------------------------------------------------------\n",
            "Subtree, depth = 3 (901 data points).\n",
            "Stopping condition 1 reached.\n",
            "--------------------------------------------------------------------\n",
            "Subtree, depth = 2 (16710 data points).\n",
            "Split on feature grade.D. (13315, 3395)\n",
            "--------------------------------------------------------------------\n",
            "Subtree, depth = 3 (13315 data points).\n",
            "Stopping condition 1 reached.\n",
            "--------------------------------------------------------------------\n",
            "Subtree, depth = 3 (3395 data points).\n",
            "Stopping condition 1 reached.\n"
          ],
          "name": "stdout"
        }
      ]
    },
    {
      "cell_type": "code",
      "metadata": {
        "colab": {
          "base_uri": "https://localhost:8080/"
        },
        "id": "tx80cTYCiTiZ",
        "outputId": "e6c8c087-aee0-461c-e2cd-2a5ca68af4ef"
      },
      "source": [
        "subset_20 = train_data.head(10).append(train_data.tail(10))\n",
        "evaluate_classification_error(small_data_decision_tree_subset_20, subset_20)"
      ],
      "execution_count": 31,
      "outputs": [
        {
          "output_type": "execute_result",
          "data": {
            "text/plain": [
              "0.05"
            ]
          },
          "metadata": {
            "tags": []
          },
          "execution_count": 31
        }
      ]
    },
    {
      "cell_type": "code",
      "metadata": {
        "colab": {
          "base_uri": "https://localhost:8080/"
        },
        "id": "26fh5mhUyHQy",
        "outputId": "102e3d53-ce22-4bb4-d785-7c448db0b10a"
      },
      "source": [
        "# Train a weighted decision tree model.\n",
        "example_data_weights = turicreate.SArray([1.] * 10 + [0.]*(len(subset_20) - 20) + [1.] * 10)\n",
        "small_data_decision_tree_ = weighted_decision_tree_create(subset_20, features, target,\n",
        "                         example_data_weights, max_depth=2)"
      ],
      "execution_count": 104,
      "outputs": [
        {
          "output_type": "stream",
          "text": [
            "--------------------------------------------------------------------\n",
            "Subtree, depth = 1 (20 data points).\n",
            "Split on feature home_ownership.RENT. (11, 9)\n",
            "--------------------------------------------------------------------\n",
            "Subtree, depth = 2 (11 data points).\n",
            "Split on feature grade.F. (10, 1)\n",
            "--------------------------------------------------------------------\n",
            "Subtree, depth = 3 (10 data points).\n",
            "Reached maximum depth. Stopping for now.\n",
            "--------------------------------------------------------------------\n",
            "Subtree, depth = 3 (1 data points).\n",
            "Stopping condition 1 reached.\n",
            "--------------------------------------------------------------------\n",
            "Subtree, depth = 2 (9 data points).\n",
            "Split on feature grade.D. (8, 1)\n",
            "--------------------------------------------------------------------\n",
            "Subtree, depth = 3 (8 data points).\n",
            "Stopping condition 1 reached.\n",
            "--------------------------------------------------------------------\n",
            "Subtree, depth = 3 (1 data points).\n",
            "Stopping condition 1 reached.\n"
          ],
          "name": "stdout"
        }
      ]
    },
    {
      "cell_type": "code",
      "metadata": {
        "colab": {
          "base_uri": "https://localhost:8080/"
        },
        "id": "6IFVTnLEMzKu",
        "outputId": "d6d8b4cf-b734-4d5d-d1b1-c16f8a819807"
      },
      "source": [
        "example_data_weights"
      ],
      "execution_count": 33,
      "outputs": [
        {
          "output_type": "execute_result",
          "data": {
            "text/plain": [
              "dtype: float\n",
              "Rows: 37224\n",
              "[1.0, 1.0, 1.0, 1.0, 1.0, 1.0, 1.0, 1.0, 1.0, 1.0, 0.0, 0.0, 0.0, 0.0, 0.0, 0.0, 0.0, 0.0, 0.0, 0.0, 0.0, 0.0, 0.0, 0.0, 0.0, 0.0, 0.0, 0.0, 0.0, 0.0, 0.0, 0.0, 0.0, 0.0, 0.0, 0.0, 0.0, 0.0, 0.0, 0.0, 0.0, 0.0, 0.0, 0.0, 0.0, 0.0, 0.0, 0.0, 0.0, 0.0, 0.0, 0.0, 0.0, 0.0, 0.0, 0.0, 0.0, 0.0, 0.0, 0.0, 0.0, 0.0, 0.0, 0.0, 0.0, 0.0, 0.0, 0.0, 0.0, 0.0, 0.0, 0.0, 0.0, 0.0, 0.0, 0.0, 0.0, 0.0, 0.0, 0.0, 0.0, 0.0, 0.0, 0.0, 0.0, 0.0, 0.0, 0.0, 0.0, 0.0, 0.0, 0.0, 0.0, 0.0, 0.0, 0.0, 0.0, 0.0, 0.0, 0.0, ... ]"
            ]
          },
          "metadata": {
            "tags": []
          },
          "execution_count": 33
        }
      ]
    },
    {
      "cell_type": "markdown",
      "metadata": {
        "id": "bFhfgL0CiTiZ"
      },
      "source": [
        "Now, we will compute the classification error on the `subset_20`, i.e. the subset of data points whose weight is 1 (namely the first and last 10 data points)."
      ]
    },
    {
      "cell_type": "code",
      "metadata": {
        "colab": {
          "base_uri": "https://localhost:8080/",
          "height": 827
        },
        "id": "z-UWN1x3NQzQ",
        "outputId": "8f72cf2e-8782-43e5-a5d6-4c4e30940d7b"
      },
      "source": [
        "subset_20"
      ],
      "execution_count": 35,
      "outputs": [
        {
          "output_type": "execute_result",
          "data": {
            "text/html": [
              "<div style=\"max-height:1000px;max-width:1500px;overflow:auto;\"><table frame=\"box\" rules=\"cols\">\n",
              "    <tr>\n",
              "        <th style=\"padding-left: 1em; padding-right: 1em; text-align: center\">safe_loans</th>\n",
              "        <th style=\"padding-left: 1em; padding-right: 1em; text-align: center\">grade.A</th>\n",
              "        <th style=\"padding-left: 1em; padding-right: 1em; text-align: center\">grade.B</th>\n",
              "        <th style=\"padding-left: 1em; padding-right: 1em; text-align: center\">grade.C</th>\n",
              "        <th style=\"padding-left: 1em; padding-right: 1em; text-align: center\">grade.D</th>\n",
              "        <th style=\"padding-left: 1em; padding-right: 1em; text-align: center\">grade.E</th>\n",
              "        <th style=\"padding-left: 1em; padding-right: 1em; text-align: center\">grade.F</th>\n",
              "        <th style=\"padding-left: 1em; padding-right: 1em; text-align: center\">grade.G</th>\n",
              "        <th style=\"padding-left: 1em; padding-right: 1em; text-align: center\">term. 36 months</th>\n",
              "        <th style=\"padding-left: 1em; padding-right: 1em; text-align: center\">term. 60 months</th>\n",
              "    </tr>\n",
              "    <tr>\n",
              "        <td style=\"padding-left: 1em; padding-right: 1em; text-align: center; vertical-align: top\">-1</td>\n",
              "        <td style=\"padding-left: 1em; padding-right: 1em; text-align: center; vertical-align: top\">0</td>\n",
              "        <td style=\"padding-left: 1em; padding-right: 1em; text-align: center; vertical-align: top\">0</td>\n",
              "        <td style=\"padding-left: 1em; padding-right: 1em; text-align: center; vertical-align: top\">1</td>\n",
              "        <td style=\"padding-left: 1em; padding-right: 1em; text-align: center; vertical-align: top\">0</td>\n",
              "        <td style=\"padding-left: 1em; padding-right: 1em; text-align: center; vertical-align: top\">0</td>\n",
              "        <td style=\"padding-left: 1em; padding-right: 1em; text-align: center; vertical-align: top\">0</td>\n",
              "        <td style=\"padding-left: 1em; padding-right: 1em; text-align: center; vertical-align: top\">0</td>\n",
              "        <td style=\"padding-left: 1em; padding-right: 1em; text-align: center; vertical-align: top\">0</td>\n",
              "        <td style=\"padding-left: 1em; padding-right: 1em; text-align: center; vertical-align: top\">1</td>\n",
              "    </tr>\n",
              "    <tr>\n",
              "        <td style=\"padding-left: 1em; padding-right: 1em; text-align: center; vertical-align: top\">-1</td>\n",
              "        <td style=\"padding-left: 1em; padding-right: 1em; text-align: center; vertical-align: top\">0</td>\n",
              "        <td style=\"padding-left: 1em; padding-right: 1em; text-align: center; vertical-align: top\">0</td>\n",
              "        <td style=\"padding-left: 1em; padding-right: 1em; text-align: center; vertical-align: top\">0</td>\n",
              "        <td style=\"padding-left: 1em; padding-right: 1em; text-align: center; vertical-align: top\">0</td>\n",
              "        <td style=\"padding-left: 1em; padding-right: 1em; text-align: center; vertical-align: top\">0</td>\n",
              "        <td style=\"padding-left: 1em; padding-right: 1em; text-align: center; vertical-align: top\">1</td>\n",
              "        <td style=\"padding-left: 1em; padding-right: 1em; text-align: center; vertical-align: top\">0</td>\n",
              "        <td style=\"padding-left: 1em; padding-right: 1em; text-align: center; vertical-align: top\">0</td>\n",
              "        <td style=\"padding-left: 1em; padding-right: 1em; text-align: center; vertical-align: top\">1</td>\n",
              "    </tr>\n",
              "    <tr>\n",
              "        <td style=\"padding-left: 1em; padding-right: 1em; text-align: center; vertical-align: top\">-1</td>\n",
              "        <td style=\"padding-left: 1em; padding-right: 1em; text-align: center; vertical-align: top\">0</td>\n",
              "        <td style=\"padding-left: 1em; padding-right: 1em; text-align: center; vertical-align: top\">1</td>\n",
              "        <td style=\"padding-left: 1em; padding-right: 1em; text-align: center; vertical-align: top\">0</td>\n",
              "        <td style=\"padding-left: 1em; padding-right: 1em; text-align: center; vertical-align: top\">0</td>\n",
              "        <td style=\"padding-left: 1em; padding-right: 1em; text-align: center; vertical-align: top\">0</td>\n",
              "        <td style=\"padding-left: 1em; padding-right: 1em; text-align: center; vertical-align: top\">0</td>\n",
              "        <td style=\"padding-left: 1em; padding-right: 1em; text-align: center; vertical-align: top\">0</td>\n",
              "        <td style=\"padding-left: 1em; padding-right: 1em; text-align: center; vertical-align: top\">0</td>\n",
              "        <td style=\"padding-left: 1em; padding-right: 1em; text-align: center; vertical-align: top\">1</td>\n",
              "    </tr>\n",
              "    <tr>\n",
              "        <td style=\"padding-left: 1em; padding-right: 1em; text-align: center; vertical-align: top\">-1</td>\n",
              "        <td style=\"padding-left: 1em; padding-right: 1em; text-align: center; vertical-align: top\">0</td>\n",
              "        <td style=\"padding-left: 1em; padding-right: 1em; text-align: center; vertical-align: top\">0</td>\n",
              "        <td style=\"padding-left: 1em; padding-right: 1em; text-align: center; vertical-align: top\">1</td>\n",
              "        <td style=\"padding-left: 1em; padding-right: 1em; text-align: center; vertical-align: top\">0</td>\n",
              "        <td style=\"padding-left: 1em; padding-right: 1em; text-align: center; vertical-align: top\">0</td>\n",
              "        <td style=\"padding-left: 1em; padding-right: 1em; text-align: center; vertical-align: top\">0</td>\n",
              "        <td style=\"padding-left: 1em; padding-right: 1em; text-align: center; vertical-align: top\">0</td>\n",
              "        <td style=\"padding-left: 1em; padding-right: 1em; text-align: center; vertical-align: top\">1</td>\n",
              "        <td style=\"padding-left: 1em; padding-right: 1em; text-align: center; vertical-align: top\">0</td>\n",
              "    </tr>\n",
              "    <tr>\n",
              "        <td style=\"padding-left: 1em; padding-right: 1em; text-align: center; vertical-align: top\">-1</td>\n",
              "        <td style=\"padding-left: 1em; padding-right: 1em; text-align: center; vertical-align: top\">0</td>\n",
              "        <td style=\"padding-left: 1em; padding-right: 1em; text-align: center; vertical-align: top\">1</td>\n",
              "        <td style=\"padding-left: 1em; padding-right: 1em; text-align: center; vertical-align: top\">0</td>\n",
              "        <td style=\"padding-left: 1em; padding-right: 1em; text-align: center; vertical-align: top\">0</td>\n",
              "        <td style=\"padding-left: 1em; padding-right: 1em; text-align: center; vertical-align: top\">0</td>\n",
              "        <td style=\"padding-left: 1em; padding-right: 1em; text-align: center; vertical-align: top\">0</td>\n",
              "        <td style=\"padding-left: 1em; padding-right: 1em; text-align: center; vertical-align: top\">0</td>\n",
              "        <td style=\"padding-left: 1em; padding-right: 1em; text-align: center; vertical-align: top\">1</td>\n",
              "        <td style=\"padding-left: 1em; padding-right: 1em; text-align: center; vertical-align: top\">0</td>\n",
              "    </tr>\n",
              "    <tr>\n",
              "        <td style=\"padding-left: 1em; padding-right: 1em; text-align: center; vertical-align: top\">-1</td>\n",
              "        <td style=\"padding-left: 1em; padding-right: 1em; text-align: center; vertical-align: top\">0</td>\n",
              "        <td style=\"padding-left: 1em; padding-right: 1em; text-align: center; vertical-align: top\">1</td>\n",
              "        <td style=\"padding-left: 1em; padding-right: 1em; text-align: center; vertical-align: top\">0</td>\n",
              "        <td style=\"padding-left: 1em; padding-right: 1em; text-align: center; vertical-align: top\">0</td>\n",
              "        <td style=\"padding-left: 1em; padding-right: 1em; text-align: center; vertical-align: top\">0</td>\n",
              "        <td style=\"padding-left: 1em; padding-right: 1em; text-align: center; vertical-align: top\">0</td>\n",
              "        <td style=\"padding-left: 1em; padding-right: 1em; text-align: center; vertical-align: top\">0</td>\n",
              "        <td style=\"padding-left: 1em; padding-right: 1em; text-align: center; vertical-align: top\">1</td>\n",
              "        <td style=\"padding-left: 1em; padding-right: 1em; text-align: center; vertical-align: top\">0</td>\n",
              "    </tr>\n",
              "    <tr>\n",
              "        <td style=\"padding-left: 1em; padding-right: 1em; text-align: center; vertical-align: top\">-1</td>\n",
              "        <td style=\"padding-left: 1em; padding-right: 1em; text-align: center; vertical-align: top\">0</td>\n",
              "        <td style=\"padding-left: 1em; padding-right: 1em; text-align: center; vertical-align: top\">1</td>\n",
              "        <td style=\"padding-left: 1em; padding-right: 1em; text-align: center; vertical-align: top\">0</td>\n",
              "        <td style=\"padding-left: 1em; padding-right: 1em; text-align: center; vertical-align: top\">0</td>\n",
              "        <td style=\"padding-left: 1em; padding-right: 1em; text-align: center; vertical-align: top\">0</td>\n",
              "        <td style=\"padding-left: 1em; padding-right: 1em; text-align: center; vertical-align: top\">0</td>\n",
              "        <td style=\"padding-left: 1em; padding-right: 1em; text-align: center; vertical-align: top\">0</td>\n",
              "        <td style=\"padding-left: 1em; padding-right: 1em; text-align: center; vertical-align: top\">1</td>\n",
              "        <td style=\"padding-left: 1em; padding-right: 1em; text-align: center; vertical-align: top\">0</td>\n",
              "    </tr>\n",
              "    <tr>\n",
              "        <td style=\"padding-left: 1em; padding-right: 1em; text-align: center; vertical-align: top\">-1</td>\n",
              "        <td style=\"padding-left: 1em; padding-right: 1em; text-align: center; vertical-align: top\">0</td>\n",
              "        <td style=\"padding-left: 1em; padding-right: 1em; text-align: center; vertical-align: top\">0</td>\n",
              "        <td style=\"padding-left: 1em; padding-right: 1em; text-align: center; vertical-align: top\">1</td>\n",
              "        <td style=\"padding-left: 1em; padding-right: 1em; text-align: center; vertical-align: top\">0</td>\n",
              "        <td style=\"padding-left: 1em; padding-right: 1em; text-align: center; vertical-align: top\">0</td>\n",
              "        <td style=\"padding-left: 1em; padding-right: 1em; text-align: center; vertical-align: top\">0</td>\n",
              "        <td style=\"padding-left: 1em; padding-right: 1em; text-align: center; vertical-align: top\">0</td>\n",
              "        <td style=\"padding-left: 1em; padding-right: 1em; text-align: center; vertical-align: top\">1</td>\n",
              "        <td style=\"padding-left: 1em; padding-right: 1em; text-align: center; vertical-align: top\">0</td>\n",
              "    </tr>\n",
              "    <tr>\n",
              "        <td style=\"padding-left: 1em; padding-right: 1em; text-align: center; vertical-align: top\">-1</td>\n",
              "        <td style=\"padding-left: 1em; padding-right: 1em; text-align: center; vertical-align: top\">0</td>\n",
              "        <td style=\"padding-left: 1em; padding-right: 1em; text-align: center; vertical-align: top\">1</td>\n",
              "        <td style=\"padding-left: 1em; padding-right: 1em; text-align: center; vertical-align: top\">0</td>\n",
              "        <td style=\"padding-left: 1em; padding-right: 1em; text-align: center; vertical-align: top\">0</td>\n",
              "        <td style=\"padding-left: 1em; padding-right: 1em; text-align: center; vertical-align: top\">0</td>\n",
              "        <td style=\"padding-left: 1em; padding-right: 1em; text-align: center; vertical-align: top\">0</td>\n",
              "        <td style=\"padding-left: 1em; padding-right: 1em; text-align: center; vertical-align: top\">0</td>\n",
              "        <td style=\"padding-left: 1em; padding-right: 1em; text-align: center; vertical-align: top\">1</td>\n",
              "        <td style=\"padding-left: 1em; padding-right: 1em; text-align: center; vertical-align: top\">0</td>\n",
              "    </tr>\n",
              "    <tr>\n",
              "        <td style=\"padding-left: 1em; padding-right: 1em; text-align: center; vertical-align: top\">-1</td>\n",
              "        <td style=\"padding-left: 1em; padding-right: 1em; text-align: center; vertical-align: top\">0</td>\n",
              "        <td style=\"padding-left: 1em; padding-right: 1em; text-align: center; vertical-align: top\">0</td>\n",
              "        <td style=\"padding-left: 1em; padding-right: 1em; text-align: center; vertical-align: top\">1</td>\n",
              "        <td style=\"padding-left: 1em; padding-right: 1em; text-align: center; vertical-align: top\">0</td>\n",
              "        <td style=\"padding-left: 1em; padding-right: 1em; text-align: center; vertical-align: top\">0</td>\n",
              "        <td style=\"padding-left: 1em; padding-right: 1em; text-align: center; vertical-align: top\">0</td>\n",
              "        <td style=\"padding-left: 1em; padding-right: 1em; text-align: center; vertical-align: top\">0</td>\n",
              "        <td style=\"padding-left: 1em; padding-right: 1em; text-align: center; vertical-align: top\">1</td>\n",
              "        <td style=\"padding-left: 1em; padding-right: 1em; text-align: center; vertical-align: top\">0</td>\n",
              "    </tr>\n",
              "</table>\n",
              "<table frame=\"box\" rules=\"cols\">\n",
              "    <tr>\n",
              "        <th style=\"padding-left: 1em; padding-right: 1em; text-align: center\">home_ownership.MORTGAGE</th>\n",
              "        <th style=\"padding-left: 1em; padding-right: 1em; text-align: center\">home_ownership.OTHER</th>\n",
              "        <th style=\"padding-left: 1em; padding-right: 1em; text-align: center\">home_ownership.OWN</th>\n",
              "        <th style=\"padding-left: 1em; padding-right: 1em; text-align: center\">home_ownership.RENT</th>\n",
              "        <th style=\"padding-left: 1em; padding-right: 1em; text-align: center\">emp_length.1 year</th>\n",
              "        <th style=\"padding-left: 1em; padding-right: 1em; text-align: center\">emp_length.10+ years</th>\n",
              "    </tr>\n",
              "    <tr>\n",
              "        <td style=\"padding-left: 1em; padding-right: 1em; text-align: center; vertical-align: top\">0</td>\n",
              "        <td style=\"padding-left: 1em; padding-right: 1em; text-align: center; vertical-align: top\">0</td>\n",
              "        <td style=\"padding-left: 1em; padding-right: 1em; text-align: center; vertical-align: top\">0</td>\n",
              "        <td style=\"padding-left: 1em; padding-right: 1em; text-align: center; vertical-align: top\">1</td>\n",
              "        <td style=\"padding-left: 1em; padding-right: 1em; text-align: center; vertical-align: top\">0</td>\n",
              "        <td style=\"padding-left: 1em; padding-right: 1em; text-align: center; vertical-align: top\">0</td>\n",
              "    </tr>\n",
              "    <tr>\n",
              "        <td style=\"padding-left: 1em; padding-right: 1em; text-align: center; vertical-align: top\">0</td>\n",
              "        <td style=\"padding-left: 1em; padding-right: 1em; text-align: center; vertical-align: top\">0</td>\n",
              "        <td style=\"padding-left: 1em; padding-right: 1em; text-align: center; vertical-align: top\">1</td>\n",
              "        <td style=\"padding-left: 1em; padding-right: 1em; text-align: center; vertical-align: top\">0</td>\n",
              "        <td style=\"padding-left: 1em; padding-right: 1em; text-align: center; vertical-align: top\">0</td>\n",
              "        <td style=\"padding-left: 1em; padding-right: 1em; text-align: center; vertical-align: top\">0</td>\n",
              "    </tr>\n",
              "    <tr>\n",
              "        <td style=\"padding-left: 1em; padding-right: 1em; text-align: center; vertical-align: top\">0</td>\n",
              "        <td style=\"padding-left: 1em; padding-right: 1em; text-align: center; vertical-align: top\">0</td>\n",
              "        <td style=\"padding-left: 1em; padding-right: 1em; text-align: center; vertical-align: top\">0</td>\n",
              "        <td style=\"padding-left: 1em; padding-right: 1em; text-align: center; vertical-align: top\">1</td>\n",
              "        <td style=\"padding-left: 1em; padding-right: 1em; text-align: center; vertical-align: top\">0</td>\n",
              "        <td style=\"padding-left: 1em; padding-right: 1em; text-align: center; vertical-align: top\">0</td>\n",
              "    </tr>\n",
              "    <tr>\n",
              "        <td style=\"padding-left: 1em; padding-right: 1em; text-align: center; vertical-align: top\">0</td>\n",
              "        <td style=\"padding-left: 1em; padding-right: 1em; text-align: center; vertical-align: top\">0</td>\n",
              "        <td style=\"padding-left: 1em; padding-right: 1em; text-align: center; vertical-align: top\">0</td>\n",
              "        <td style=\"padding-left: 1em; padding-right: 1em; text-align: center; vertical-align: top\">1</td>\n",
              "        <td style=\"padding-left: 1em; padding-right: 1em; text-align: center; vertical-align: top\">0</td>\n",
              "        <td style=\"padding-left: 1em; padding-right: 1em; text-align: center; vertical-align: top\">0</td>\n",
              "    </tr>\n",
              "    <tr>\n",
              "        <td style=\"padding-left: 1em; padding-right: 1em; text-align: center; vertical-align: top\">0</td>\n",
              "        <td style=\"padding-left: 1em; padding-right: 1em; text-align: center; vertical-align: top\">0</td>\n",
              "        <td style=\"padding-left: 1em; padding-right: 1em; text-align: center; vertical-align: top\">0</td>\n",
              "        <td style=\"padding-left: 1em; padding-right: 1em; text-align: center; vertical-align: top\">1</td>\n",
              "        <td style=\"padding-left: 1em; padding-right: 1em; text-align: center; vertical-align: top\">0</td>\n",
              "        <td style=\"padding-left: 1em; padding-right: 1em; text-align: center; vertical-align: top\">0</td>\n",
              "    </tr>\n",
              "    <tr>\n",
              "        <td style=\"padding-left: 1em; padding-right: 1em; text-align: center; vertical-align: top\">0</td>\n",
              "        <td style=\"padding-left: 1em; padding-right: 1em; text-align: center; vertical-align: top\">0</td>\n",
              "        <td style=\"padding-left: 1em; padding-right: 1em; text-align: center; vertical-align: top\">0</td>\n",
              "        <td style=\"padding-left: 1em; padding-right: 1em; text-align: center; vertical-align: top\">1</td>\n",
              "        <td style=\"padding-left: 1em; padding-right: 1em; text-align: center; vertical-align: top\">0</td>\n",
              "        <td style=\"padding-left: 1em; padding-right: 1em; text-align: center; vertical-align: top\">1</td>\n",
              "    </tr>\n",
              "    <tr>\n",
              "        <td style=\"padding-left: 1em; padding-right: 1em; text-align: center; vertical-align: top\">0</td>\n",
              "        <td style=\"padding-left: 1em; padding-right: 1em; text-align: center; vertical-align: top\">0</td>\n",
              "        <td style=\"padding-left: 1em; padding-right: 1em; text-align: center; vertical-align: top\">0</td>\n",
              "        <td style=\"padding-left: 1em; padding-right: 1em; text-align: center; vertical-align: top\">1</td>\n",
              "        <td style=\"padding-left: 1em; padding-right: 1em; text-align: center; vertical-align: top\">1</td>\n",
              "        <td style=\"padding-left: 1em; padding-right: 1em; text-align: center; vertical-align: top\">0</td>\n",
              "    </tr>\n",
              "    <tr>\n",
              "        <td style=\"padding-left: 1em; padding-right: 1em; text-align: center; vertical-align: top\">0</td>\n",
              "        <td style=\"padding-left: 1em; padding-right: 1em; text-align: center; vertical-align: top\">0</td>\n",
              "        <td style=\"padding-left: 1em; padding-right: 1em; text-align: center; vertical-align: top\">0</td>\n",
              "        <td style=\"padding-left: 1em; padding-right: 1em; text-align: center; vertical-align: top\">1</td>\n",
              "        <td style=\"padding-left: 1em; padding-right: 1em; text-align: center; vertical-align: top\">0</td>\n",
              "        <td style=\"padding-left: 1em; padding-right: 1em; text-align: center; vertical-align: top\">0</td>\n",
              "    </tr>\n",
              "    <tr>\n",
              "        <td style=\"padding-left: 1em; padding-right: 1em; text-align: center; vertical-align: top\">1</td>\n",
              "        <td style=\"padding-left: 1em; padding-right: 1em; text-align: center; vertical-align: top\">0</td>\n",
              "        <td style=\"padding-left: 1em; padding-right: 1em; text-align: center; vertical-align: top\">0</td>\n",
              "        <td style=\"padding-left: 1em; padding-right: 1em; text-align: center; vertical-align: top\">0</td>\n",
              "        <td style=\"padding-left: 1em; padding-right: 1em; text-align: center; vertical-align: top\">0</td>\n",
              "        <td style=\"padding-left: 1em; padding-right: 1em; text-align: center; vertical-align: top\">0</td>\n",
              "    </tr>\n",
              "    <tr>\n",
              "        <td style=\"padding-left: 1em; padding-right: 1em; text-align: center; vertical-align: top\">0</td>\n",
              "        <td style=\"padding-left: 1em; padding-right: 1em; text-align: center; vertical-align: top\">0</td>\n",
              "        <td style=\"padding-left: 1em; padding-right: 1em; text-align: center; vertical-align: top\">0</td>\n",
              "        <td style=\"padding-left: 1em; padding-right: 1em; text-align: center; vertical-align: top\">1</td>\n",
              "        <td style=\"padding-left: 1em; padding-right: 1em; text-align: center; vertical-align: top\">0</td>\n",
              "        <td style=\"padding-left: 1em; padding-right: 1em; text-align: center; vertical-align: top\">0</td>\n",
              "    </tr>\n",
              "</table>\n",
              "<table frame=\"box\" rules=\"cols\">\n",
              "    <tr>\n",
              "        <th style=\"padding-left: 1em; padding-right: 1em; text-align: center\">emp_length.2 years</th>\n",
              "        <th style=\"padding-left: 1em; padding-right: 1em; text-align: center\">emp_length.3 years</th>\n",
              "        <th style=\"padding-left: 1em; padding-right: 1em; text-align: center\">emp_length.4 years</th>\n",
              "        <th style=\"padding-left: 1em; padding-right: 1em; text-align: center\">emp_length.5 years</th>\n",
              "        <th style=\"padding-left: 1em; padding-right: 1em; text-align: center\">emp_length.6 years</th>\n",
              "        <th style=\"padding-left: 1em; padding-right: 1em; text-align: center\">emp_length.7 years</th>\n",
              "    </tr>\n",
              "    <tr>\n",
              "        <td style=\"padding-left: 1em; padding-right: 1em; text-align: center; vertical-align: top\">0</td>\n",
              "        <td style=\"padding-left: 1em; padding-right: 1em; text-align: center; vertical-align: top\">0</td>\n",
              "        <td style=\"padding-left: 1em; padding-right: 1em; text-align: center; vertical-align: top\">0</td>\n",
              "        <td style=\"padding-left: 1em; padding-right: 1em; text-align: center; vertical-align: top\">0</td>\n",
              "        <td style=\"padding-left: 1em; padding-right: 1em; text-align: center; vertical-align: top\">0</td>\n",
              "        <td style=\"padding-left: 1em; padding-right: 1em; text-align: center; vertical-align: top\">0</td>\n",
              "    </tr>\n",
              "    <tr>\n",
              "        <td style=\"padding-left: 1em; padding-right: 1em; text-align: center; vertical-align: top\">0</td>\n",
              "        <td style=\"padding-left: 1em; padding-right: 1em; text-align: center; vertical-align: top\">0</td>\n",
              "        <td style=\"padding-left: 1em; padding-right: 1em; text-align: center; vertical-align: top\">1</td>\n",
              "        <td style=\"padding-left: 1em; padding-right: 1em; text-align: center; vertical-align: top\">0</td>\n",
              "        <td style=\"padding-left: 1em; padding-right: 1em; text-align: center; vertical-align: top\">0</td>\n",
              "        <td style=\"padding-left: 1em; padding-right: 1em; text-align: center; vertical-align: top\">0</td>\n",
              "    </tr>\n",
              "    <tr>\n",
              "        <td style=\"padding-left: 1em; padding-right: 1em; text-align: center; vertical-align: top\">0</td>\n",
              "        <td style=\"padding-left: 1em; padding-right: 1em; text-align: center; vertical-align: top\">0</td>\n",
              "        <td style=\"padding-left: 1em; padding-right: 1em; text-align: center; vertical-align: top\">0</td>\n",
              "        <td style=\"padding-left: 1em; padding-right: 1em; text-align: center; vertical-align: top\">0</td>\n",
              "        <td style=\"padding-left: 1em; padding-right: 1em; text-align: center; vertical-align: top\">0</td>\n",
              "        <td style=\"padding-left: 1em; padding-right: 1em; text-align: center; vertical-align: top\">0</td>\n",
              "    </tr>\n",
              "    <tr>\n",
              "        <td style=\"padding-left: 1em; padding-right: 1em; text-align: center; vertical-align: top\">0</td>\n",
              "        <td style=\"padding-left: 1em; padding-right: 1em; text-align: center; vertical-align: top\">0</td>\n",
              "        <td style=\"padding-left: 1em; padding-right: 1em; text-align: center; vertical-align: top\">0</td>\n",
              "        <td style=\"padding-left: 1em; padding-right: 1em; text-align: center; vertical-align: top\">0</td>\n",
              "        <td style=\"padding-left: 1em; padding-right: 1em; text-align: center; vertical-align: top\">0</td>\n",
              "        <td style=\"padding-left: 1em; padding-right: 1em; text-align: center; vertical-align: top\">0</td>\n",
              "    </tr>\n",
              "    <tr>\n",
              "        <td style=\"padding-left: 1em; padding-right: 1em; text-align: center; vertical-align: top\">0</td>\n",
              "        <td style=\"padding-left: 1em; padding-right: 1em; text-align: center; vertical-align: top\">1</td>\n",
              "        <td style=\"padding-left: 1em; padding-right: 1em; text-align: center; vertical-align: top\">0</td>\n",
              "        <td style=\"padding-left: 1em; padding-right: 1em; text-align: center; vertical-align: top\">0</td>\n",
              "        <td style=\"padding-left: 1em; padding-right: 1em; text-align: center; vertical-align: top\">0</td>\n",
              "        <td style=\"padding-left: 1em; padding-right: 1em; text-align: center; vertical-align: top\">0</td>\n",
              "    </tr>\n",
              "    <tr>\n",
              "        <td style=\"padding-left: 1em; padding-right: 1em; text-align: center; vertical-align: top\">0</td>\n",
              "        <td style=\"padding-left: 1em; padding-right: 1em; text-align: center; vertical-align: top\">0</td>\n",
              "        <td style=\"padding-left: 1em; padding-right: 1em; text-align: center; vertical-align: top\">0</td>\n",
              "        <td style=\"padding-left: 1em; padding-right: 1em; text-align: center; vertical-align: top\">0</td>\n",
              "        <td style=\"padding-left: 1em; padding-right: 1em; text-align: center; vertical-align: top\">0</td>\n",
              "        <td style=\"padding-left: 1em; padding-right: 1em; text-align: center; vertical-align: top\">0</td>\n",
              "    </tr>\n",
              "    <tr>\n",
              "        <td style=\"padding-left: 1em; padding-right: 1em; text-align: center; vertical-align: top\">0</td>\n",
              "        <td style=\"padding-left: 1em; padding-right: 1em; text-align: center; vertical-align: top\">0</td>\n",
              "        <td style=\"padding-left: 1em; padding-right: 1em; text-align: center; vertical-align: top\">0</td>\n",
              "        <td style=\"padding-left: 1em; padding-right: 1em; text-align: center; vertical-align: top\">0</td>\n",
              "        <td style=\"padding-left: 1em; padding-right: 1em; text-align: center; vertical-align: top\">0</td>\n",
              "        <td style=\"padding-left: 1em; padding-right: 1em; text-align: center; vertical-align: top\">0</td>\n",
              "    </tr>\n",
              "    <tr>\n",
              "        <td style=\"padding-left: 1em; padding-right: 1em; text-align: center; vertical-align: top\">0</td>\n",
              "        <td style=\"padding-left: 1em; padding-right: 1em; text-align: center; vertical-align: top\">0</td>\n",
              "        <td style=\"padding-left: 1em; padding-right: 1em; text-align: center; vertical-align: top\">0</td>\n",
              "        <td style=\"padding-left: 1em; padding-right: 1em; text-align: center; vertical-align: top\">0</td>\n",
              "        <td style=\"padding-left: 1em; padding-right: 1em; text-align: center; vertical-align: top\">0</td>\n",
              "        <td style=\"padding-left: 1em; padding-right: 1em; text-align: center; vertical-align: top\">0</td>\n",
              "    </tr>\n",
              "    <tr>\n",
              "        <td style=\"padding-left: 1em; padding-right: 1em; text-align: center; vertical-align: top\">0</td>\n",
              "        <td style=\"padding-left: 1em; padding-right: 1em; text-align: center; vertical-align: top\">0</td>\n",
              "        <td style=\"padding-left: 1em; padding-right: 1em; text-align: center; vertical-align: top\">0</td>\n",
              "        <td style=\"padding-left: 1em; padding-right: 1em; text-align: center; vertical-align: top\">0</td>\n",
              "        <td style=\"padding-left: 1em; padding-right: 1em; text-align: center; vertical-align: top\">0</td>\n",
              "        <td style=\"padding-left: 1em; padding-right: 1em; text-align: center; vertical-align: top\">0</td>\n",
              "    </tr>\n",
              "    <tr>\n",
              "        <td style=\"padding-left: 1em; padding-right: 1em; text-align: center; vertical-align: top\">0</td>\n",
              "        <td style=\"padding-left: 1em; padding-right: 1em; text-align: center; vertical-align: top\">0</td>\n",
              "        <td style=\"padding-left: 1em; padding-right: 1em; text-align: center; vertical-align: top\">1</td>\n",
              "        <td style=\"padding-left: 1em; padding-right: 1em; text-align: center; vertical-align: top\">0</td>\n",
              "        <td style=\"padding-left: 1em; padding-right: 1em; text-align: center; vertical-align: top\">0</td>\n",
              "        <td style=\"padding-left: 1em; padding-right: 1em; text-align: center; vertical-align: top\">0</td>\n",
              "    </tr>\n",
              "</table>\n",
              "<table frame=\"box\" rules=\"cols\">\n",
              "    <tr>\n",
              "        <th style=\"padding-left: 1em; padding-right: 1em; text-align: center\">emp_length.8 years</th>\n",
              "        <th style=\"padding-left: 1em; padding-right: 1em; text-align: center\">emp_length.9 years</th>\n",
              "        <th style=\"padding-left: 1em; padding-right: 1em; text-align: center\">emp_length.&lt; 1 year</th>\n",
              "        <th style=\"padding-left: 1em; padding-right: 1em; text-align: center\">emp_length.n/a</th>\n",
              "        <th style=\"padding-left: 1em; padding-right: 1em; text-align: center\">data_weights</th>\n",
              "    </tr>\n",
              "    <tr>\n",
              "        <td style=\"padding-left: 1em; padding-right: 1em; text-align: center; vertical-align: top\">0</td>\n",
              "        <td style=\"padding-left: 1em; padding-right: 1em; text-align: center; vertical-align: top\">0</td>\n",
              "        <td style=\"padding-left: 1em; padding-right: 1em; text-align: center; vertical-align: top\">1</td>\n",
              "        <td style=\"padding-left: 1em; padding-right: 1em; text-align: center; vertical-align: top\">0</td>\n",
              "        <td style=\"padding-left: 1em; padding-right: 1em; text-align: center; vertical-align: top\">1.0</td>\n",
              "    </tr>\n",
              "    <tr>\n",
              "        <td style=\"padding-left: 1em; padding-right: 1em; text-align: center; vertical-align: top\">0</td>\n",
              "        <td style=\"padding-left: 1em; padding-right: 1em; text-align: center; vertical-align: top\">0</td>\n",
              "        <td style=\"padding-left: 1em; padding-right: 1em; text-align: center; vertical-align: top\">0</td>\n",
              "        <td style=\"padding-left: 1em; padding-right: 1em; text-align: center; vertical-align: top\">0</td>\n",
              "        <td style=\"padding-left: 1em; padding-right: 1em; text-align: center; vertical-align: top\">1.0</td>\n",
              "    </tr>\n",
              "    <tr>\n",
              "        <td style=\"padding-left: 1em; padding-right: 1em; text-align: center; vertical-align: top\">0</td>\n",
              "        <td style=\"padding-left: 1em; padding-right: 1em; text-align: center; vertical-align: top\">0</td>\n",
              "        <td style=\"padding-left: 1em; padding-right: 1em; text-align: center; vertical-align: top\">1</td>\n",
              "        <td style=\"padding-left: 1em; padding-right: 1em; text-align: center; vertical-align: top\">0</td>\n",
              "        <td style=\"padding-left: 1em; padding-right: 1em; text-align: center; vertical-align: top\">1.0</td>\n",
              "    </tr>\n",
              "    <tr>\n",
              "        <td style=\"padding-left: 1em; padding-right: 1em; text-align: center; vertical-align: top\">0</td>\n",
              "        <td style=\"padding-left: 1em; padding-right: 1em; text-align: center; vertical-align: top\">0</td>\n",
              "        <td style=\"padding-left: 1em; padding-right: 1em; text-align: center; vertical-align: top\">1</td>\n",
              "        <td style=\"padding-left: 1em; padding-right: 1em; text-align: center; vertical-align: top\">0</td>\n",
              "        <td style=\"padding-left: 1em; padding-right: 1em; text-align: center; vertical-align: top\">1.0</td>\n",
              "    </tr>\n",
              "    <tr>\n",
              "        <td style=\"padding-left: 1em; padding-right: 1em; text-align: center; vertical-align: top\">0</td>\n",
              "        <td style=\"padding-left: 1em; padding-right: 1em; text-align: center; vertical-align: top\">0</td>\n",
              "        <td style=\"padding-left: 1em; padding-right: 1em; text-align: center; vertical-align: top\">0</td>\n",
              "        <td style=\"padding-left: 1em; padding-right: 1em; text-align: center; vertical-align: top\">0</td>\n",
              "        <td style=\"padding-left: 1em; padding-right: 1em; text-align: center; vertical-align: top\">1.0</td>\n",
              "    </tr>\n",
              "    <tr>\n",
              "        <td style=\"padding-left: 1em; padding-right: 1em; text-align: center; vertical-align: top\">0</td>\n",
              "        <td style=\"padding-left: 1em; padding-right: 1em; text-align: center; vertical-align: top\">0</td>\n",
              "        <td style=\"padding-left: 1em; padding-right: 1em; text-align: center; vertical-align: top\">0</td>\n",
              "        <td style=\"padding-left: 1em; padding-right: 1em; text-align: center; vertical-align: top\">0</td>\n",
              "        <td style=\"padding-left: 1em; padding-right: 1em; text-align: center; vertical-align: top\">1.0</td>\n",
              "    </tr>\n",
              "    <tr>\n",
              "        <td style=\"padding-left: 1em; padding-right: 1em; text-align: center; vertical-align: top\">0</td>\n",
              "        <td style=\"padding-left: 1em; padding-right: 1em; text-align: center; vertical-align: top\">0</td>\n",
              "        <td style=\"padding-left: 1em; padding-right: 1em; text-align: center; vertical-align: top\">0</td>\n",
              "        <td style=\"padding-left: 1em; padding-right: 1em; text-align: center; vertical-align: top\">0</td>\n",
              "        <td style=\"padding-left: 1em; padding-right: 1em; text-align: center; vertical-align: top\">1.0</td>\n",
              "    </tr>\n",
              "    <tr>\n",
              "        <td style=\"padding-left: 1em; padding-right: 1em; text-align: center; vertical-align: top\">0</td>\n",
              "        <td style=\"padding-left: 1em; padding-right: 1em; text-align: center; vertical-align: top\">1</td>\n",
              "        <td style=\"padding-left: 1em; padding-right: 1em; text-align: center; vertical-align: top\">0</td>\n",
              "        <td style=\"padding-left: 1em; padding-right: 1em; text-align: center; vertical-align: top\">0</td>\n",
              "        <td style=\"padding-left: 1em; padding-right: 1em; text-align: center; vertical-align: top\">1.0</td>\n",
              "    </tr>\n",
              "    <tr>\n",
              "        <td style=\"padding-left: 1em; padding-right: 1em; text-align: center; vertical-align: top\">1</td>\n",
              "        <td style=\"padding-left: 1em; padding-right: 1em; text-align: center; vertical-align: top\">0</td>\n",
              "        <td style=\"padding-left: 1em; padding-right: 1em; text-align: center; vertical-align: top\">0</td>\n",
              "        <td style=\"padding-left: 1em; padding-right: 1em; text-align: center; vertical-align: top\">0</td>\n",
              "        <td style=\"padding-left: 1em; padding-right: 1em; text-align: center; vertical-align: top\">1.0</td>\n",
              "    </tr>\n",
              "    <tr>\n",
              "        <td style=\"padding-left: 1em; padding-right: 1em; text-align: center; vertical-align: top\">0</td>\n",
              "        <td style=\"padding-left: 1em; padding-right: 1em; text-align: center; vertical-align: top\">0</td>\n",
              "        <td style=\"padding-left: 1em; padding-right: 1em; text-align: center; vertical-align: top\">0</td>\n",
              "        <td style=\"padding-left: 1em; padding-right: 1em; text-align: center; vertical-align: top\">0</td>\n",
              "        <td style=\"padding-left: 1em; padding-right: 1em; text-align: center; vertical-align: top\">1.0</td>\n",
              "    </tr>\n",
              "</table>\n",
              "[20 rows x 27 columns]<br/>Note: Only the head of the SFrame is printed.<br/>You can use print_rows(num_rows=m, num_columns=n) to print more rows and columns.\n",
              "</div>"
            ],
            "text/plain": [
              "Columns:\n",
              "\tsafe_loans\tint\n",
              "\tgrade.A\tint\n",
              "\tgrade.B\tint\n",
              "\tgrade.C\tint\n",
              "\tgrade.D\tint\n",
              "\tgrade.E\tint\n",
              "\tgrade.F\tint\n",
              "\tgrade.G\tint\n",
              "\tterm. 36 months\tint\n",
              "\tterm. 60 months\tint\n",
              "\thome_ownership.MORTGAGE\tint\n",
              "\thome_ownership.OTHER\tint\n",
              "\thome_ownership.OWN\tint\n",
              "\thome_ownership.RENT\tint\n",
              "\temp_length.1 year\tint\n",
              "\temp_length.10+ years\tint\n",
              "\temp_length.2 years\tint\n",
              "\temp_length.3 years\tint\n",
              "\temp_length.4 years\tint\n",
              "\temp_length.5 years\tint\n",
              "\temp_length.6 years\tint\n",
              "\temp_length.7 years\tint\n",
              "\temp_length.8 years\tint\n",
              "\temp_length.9 years\tint\n",
              "\temp_length.< 1 year\tint\n",
              "\temp_length.n/a\tint\n",
              "\tdata_weights\tfloat\n",
              "\n",
              "Rows: 20\n",
              "\n",
              "Data:\n",
              "+------------+---------+---------+---------+---------+---------+---------+---------+\n",
              "| safe_loans | grade.A | grade.B | grade.C | grade.D | grade.E | grade.F | grade.G |\n",
              "+------------+---------+---------+---------+---------+---------+---------+---------+\n",
              "|     -1     |    0    |    0    |    1    |    0    |    0    |    0    |    0    |\n",
              "|     -1     |    0    |    0    |    0    |    0    |    0    |    1    |    0    |\n",
              "|     -1     |    0    |    1    |    0    |    0    |    0    |    0    |    0    |\n",
              "|     -1     |    0    |    0    |    1    |    0    |    0    |    0    |    0    |\n",
              "|     -1     |    0    |    1    |    0    |    0    |    0    |    0    |    0    |\n",
              "|     -1     |    0    |    1    |    0    |    0    |    0    |    0    |    0    |\n",
              "|     -1     |    0    |    1    |    0    |    0    |    0    |    0    |    0    |\n",
              "|     -1     |    0    |    0    |    1    |    0    |    0    |    0    |    0    |\n",
              "|     -1     |    0    |    1    |    0    |    0    |    0    |    0    |    0    |\n",
              "|     -1     |    0    |    0    |    1    |    0    |    0    |    0    |    0    |\n",
              "+------------+---------+---------+---------+---------+---------+---------+---------+\n",
              "+-----------------+-----------------+-------------------------+----------------------+\n",
              "| term. 36 months | term. 60 months | home_ownership.MORTGAGE | home_ownership.OTHER |\n",
              "+-----------------+-----------------+-------------------------+----------------------+\n",
              "|        0        |        1        |            0            |          0           |\n",
              "|        0        |        1        |            0            |          0           |\n",
              "|        0        |        1        |            0            |          0           |\n",
              "|        1        |        0        |            0            |          0           |\n",
              "|        1        |        0        |            0            |          0           |\n",
              "|        1        |        0        |            0            |          0           |\n",
              "|        1        |        0        |            0            |          0           |\n",
              "|        1        |        0        |            0            |          0           |\n",
              "|        1        |        0        |            1            |          0           |\n",
              "|        1        |        0        |            0            |          0           |\n",
              "+-----------------+-----------------+-------------------------+----------------------+\n",
              "+--------------------+---------------------+-------------------+----------------------+\n",
              "| home_ownership.OWN | home_ownership.RENT | emp_length.1 year | emp_length.10+ years |\n",
              "+--------------------+---------------------+-------------------+----------------------+\n",
              "|         0          |          1          |         0         |          0           |\n",
              "|         1          |          0          |         0         |          0           |\n",
              "|         0          |          1          |         0         |          0           |\n",
              "|         0          |          1          |         0         |          0           |\n",
              "|         0          |          1          |         0         |          0           |\n",
              "|         0          |          1          |         0         |          1           |\n",
              "|         0          |          1          |         1         |          0           |\n",
              "|         0          |          1          |         0         |          0           |\n",
              "|         0          |          0          |         0         |          0           |\n",
              "|         0          |          1          |         0         |          0           |\n",
              "+--------------------+---------------------+-------------------+----------------------+\n",
              "+--------------------+--------------------+--------------------+--------------------+-----+\n",
              "| emp_length.2 years | emp_length.3 years | emp_length.4 years | emp_length.5 years | ... |\n",
              "+--------------------+--------------------+--------------------+--------------------+-----+\n",
              "|         0          |         0          |         0          |         0          | ... |\n",
              "|         0          |         0          |         1          |         0          | ... |\n",
              "|         0          |         0          |         0          |         0          | ... |\n",
              "|         0          |         0          |         0          |         0          | ... |\n",
              "|         0          |         1          |         0          |         0          | ... |\n",
              "|         0          |         0          |         0          |         0          | ... |\n",
              "|         0          |         0          |         0          |         0          | ... |\n",
              "|         0          |         0          |         0          |         0          | ... |\n",
              "|         0          |         0          |         0          |         0          | ... |\n",
              "|         0          |         0          |         1          |         0          | ... |\n",
              "+--------------------+--------------------+--------------------+--------------------+-----+\n",
              "[20 rows x 27 columns]\n",
              "Note: Only the head of the SFrame is printed.\n",
              "You can use print_rows(num_rows=m, num_columns=n) to print more rows and columns."
            ]
          },
          "metadata": {
            "tags": []
          },
          "execution_count": 35
        }
      ]
    },
    {
      "cell_type": "markdown",
      "metadata": {
        "id": "RLeehSokiTiZ"
      },
      "source": [
        "Now, let us compare the classification error of the model `small_data_decision_tree_subset_20` on the entire test set `train_data`:"
      ]
    },
    {
      "cell_type": "code",
      "metadata": {
        "colab": {
          "base_uri": "https://localhost:8080/"
        },
        "id": "Xq1Ta86AiTia",
        "outputId": "15a18a56-8d12-455b-9d07-6f8c90b8ffe3"
      },
      "source": [
        "evaluate_classification_error(small_data_decision_tree_subset_20, train_data)"
      ],
      "execution_count": 32,
      "outputs": [
        {
          "output_type": "execute_result",
          "data": {
            "text/plain": [
              "0.48124865678057166"
            ]
          },
          "metadata": {
            "tags": []
          },
          "execution_count": 32
        }
      ]
    },
    {
      "cell_type": "code",
      "metadata": {
        "colab": {
          "base_uri": "https://localhost:8080/"
        },
        "id": "J9h_Jn1MyhMJ",
        "outputId": "1878d195-cf6b-4968-958a-b210dad93ca7"
      },
      "source": [
        "evaluate_classification_error(small_data_decision_tree_, train_data)"
      ],
      "execution_count": 105,
      "outputs": [
        {
          "output_type": "execute_result",
          "data": {
            "text/plain": [
              "0.48124865678057166"
            ]
          },
          "metadata": {
            "tags": []
          },
          "execution_count": 105
        }
      ]
    },
    {
      "cell_type": "code",
      "metadata": {
        "colab": {
          "base_uri": "https://localhost:8080/"
        },
        "id": "tKiUJQJYyr5t",
        "outputId": "7ae4ca29-c479-435c-c2f9-6d6085273493"
      },
      "source": [
        "evaluate_classification_error(small_data_decision_tree_subset_20, subset_20)"
      ],
      "execution_count": 106,
      "outputs": [
        {
          "output_type": "execute_result",
          "data": {
            "text/plain": [
              "0.05"
            ]
          },
          "metadata": {
            "tags": []
          },
          "execution_count": 106
        }
      ]
    },
    {
      "cell_type": "markdown",
      "metadata": {
        "id": "ej_uW_t5iTia"
      },
      "source": [
        "The model `small_data_decision_tree_subset_20` performs **a lot** better on `subset_20` than on `train_data`.\n",
        "\n",
        "So, what does this mean?\n",
        "* The points with higher weights are the ones that are more important during the training process of the weighted decision tree.\n",
        "* The points with zero weights are basically ignored during training.\n",
        "\n",
        "**Quiz Question**: Will you get the same model as `small_data_decision_tree_subset_20` if you trained a decision tree with only the 20 data points with non-zero weights from the set of points in `subset_20`?"
      ]
    },
    {
      "cell_type": "markdown",
      "metadata": {
        "id": "2mQ2dtroiTia"
      },
      "source": [
        "# Implementing your own Adaboost (on decision stumps)"
      ]
    },
    {
      "cell_type": "markdown",
      "metadata": {
        "id": "QOmr1nM5iTia"
      },
      "source": [
        "Now that we have a weighted decision tree working, it takes only a bit of work to implement Adaboost. For the sake of simplicity, let us stick with **decision tree stumps** by training trees with **`max_depth=1`**."
      ]
    },
    {
      "cell_type": "markdown",
      "metadata": {
        "id": "xtcH5bDliTia"
      },
      "source": [
        "Recall from the lecture the procedure for Adaboost:\n",
        "\n",
        "1\\. Start with unweighted data with $\\alpha_j = 1$\n",
        "\n",
        "2\\. For t = 1,...T:\n",
        "  * Learn $f_t(x)$ with data weights $\\alpha_j$\n",
        "  * Compute coefficient $\\hat{w}_t$:\n",
        "     $$\\hat{w}_t = \\frac{1}{2}\\ln{\\left(\\frac{1- \\mbox{E}(\\mathbf{\\alpha}, \\mathbf{\\hat{y}})}{\\mbox{E}(\\mathbf{\\alpha}, \\mathbf{\\hat{y}})}\\right)}$$\n",
        "  * Re-compute weights $\\alpha_j$:\n",
        "     $$\\alpha_j \\gets \\begin{cases}\n",
        "     \\alpha_j \\exp{(-\\hat{w}_t)} & \\text{ if }f_t(x_j) = y_j\\\\\n",
        "     \\alpha_j \\exp{(\\hat{w}_t)} & \\text{ if }f_t(x_j) \\neq y_j\n",
        "     \\end{cases}$$\n",
        "  * Normalize weights $\\alpha_j$:\n",
        "      $$\\alpha_j \\gets \\frac{\\alpha_j}{\\sum_{i=1}^{N}{\\alpha_i}} $$\n",
        "  \n",
        "Complete the skeleton for the following code to implement **adaboost_with_tree_stumps**. Fill in the places with `YOUR CODE HERE`."
      ]
    },
    {
      "cell_type": "code",
      "metadata": {
        "id": "_mHs65_4jHGV"
      },
      "source": [
        "import math\n",
        "import numpy as np"
      ],
      "execution_count": 45,
      "outputs": []
    },
    {
      "cell_type": "code",
      "metadata": {
        "id": "9A0QOjm0iTib"
      },
      "source": [
        "from math import log\n",
        "from math import exp\n",
        "\n",
        "def adaboost_with_tree_stumps(data, features, target, num_tree_stumps):\n",
        "    # start with unweighted data\n",
        "    alpha = turicreate.SArray([1.]*len(data))\n",
        "    weights = []\n",
        "    tree_stumps = []\n",
        "    target_values = data[target]\n",
        "    \n",
        "    for t in range(num_tree_stumps):\n",
        "        print('=====================================================')\n",
        "        print('Adaboost Iteration %d' % t)\n",
        "        print('=====================================================')\n",
        "        # Learn a weighted decision tree stump. Use max_depth=1\n",
        "        tree_stump = weighted_decision_tree_create(data, features, target, data_weights=alpha, max_depth=1)\n",
        "        tree_stumps.append(tree_stump)\n",
        "        \n",
        "        # Make predictions\n",
        "        predictions = data.apply(lambda x: classify(tree_stump, x))\n",
        "        \n",
        "        # Produce a Boolean array indicating whether\n",
        "        # each data point was correctly classified\n",
        "        is_correct = predictions == target_values\n",
        "        is_wrong   = predictions != target_values\n",
        "        \n",
        "        # Compute weighted error\n",
        "        # YOUR CODE HERE\n",
        "        weighted_error,res = intermediate_node_weighted_mistakes(predictions,alpha)\n",
        "        weighted_error=weighted_error/alpha.sum()\n",
        "        \n",
        "        # Compute model coefficient using weighted error\n",
        "        # YOUR CODE HERE\n",
        "        weight = 0.5*math.log((1-weighted_error)/weighted_error)\n",
        "        weights.append(weight)\n",
        "        \n",
        "        # Adjust weights on data point\n",
        "        adjustment = is_correct.apply(lambda is_correct : exp(-weight) if is_correct else exp(weight))\n",
        "        \n",
        "        # Scale alpha by multiplying by adjustment \n",
        "        # Then normalize data points weights\n",
        "        ## YOUR CODE HERE \n",
        "        alpha*=adjustment\n",
        "        alpha=alpha/np.sqrt(np.dot(alpha,alpha))\n",
        "    \n",
        "    return weights, tree_stumps,alpha"
      ],
      "execution_count": 72,
      "outputs": []
    },
    {
      "cell_type": "code",
      "metadata": {
        "id": "Prktrfwykfkg"
      },
      "source": [
        "\n",
        "from math import log\n",
        "from math import exp\n",
        "\n",
        "def adaboost_with_tree_stumpss(data, features, target, num_tree_stumps):\n",
        "    # start with unweighted data\n",
        "    alpha = np.array([1.]*len(data))\n",
        "    weights = []\n",
        "    tree_stumps = []\n",
        "    target_values = data[target]\n",
        "    \n",
        "    for t in range(num_tree_stumps):\n",
        "        print ('=====================================================')\n",
        "        print( 'Adaboost Iteration %d' % t)\n",
        "        print ('=====================================================' )       \n",
        "        # Learn a weighted decision tree stump. Use max_depth=1\n",
        "        \n",
        "        tree_stump = weighted_decision_tree_create(data, features, target, data_weights=alpha, max_depth=1)\n",
        "        \n",
        "        tree_stumps.append(tree_stump)\n",
        "        \n",
        "        # Make predictions\n",
        "        predictions = data.apply(lambda x: classify(tree_stump, x))\n",
        "        \n",
        "        # Produce a Boolean array indicating whether\n",
        "        # each data point was correctly classified\n",
        "        is_correct = predictions == target_values\n",
        "        is_wrong   = predictions != target_values\n",
        "        \n",
        "        # Compute weighted error\n",
        "        # YOUR CODE HERE\n",
        "        weighted_error = np.sum(np.array(is_wrong) * alpha) * 1. / np.sum(alpha)\n",
        "                \n",
        "        # Compute model coefficient using weighted error\n",
        "        # YOUR CODE HERE\n",
        "        weight = 1. / 2 * log((1 - weighted_error) * 1. / (weighted_error))\n",
        "        weights.append(weight)\n",
        "        \n",
        "        # Adjust weights on data point\n",
        "        adjustment = is_correct.apply(lambda is_correct : exp(-weight) if is_correct else exp(weight))\n",
        "        \n",
        "        # Scale alpha by multiplying by adjustment\n",
        "        # Then normalize data points weights\n",
        "        ## YOUR CODE HERE \n",
        "        alpha = alpha * np.array(adjustment)\n",
        "        alpha = alpha / np.sum(alpha)\n",
        "    \n",
        "    return weights, tree_stumps,alpha"
      ],
      "execution_count": 78,
      "outputs": []
    },
    {
      "cell_type": "markdown",
      "metadata": {
        "id": "zgABSOeMiTib"
      },
      "source": [
        "### Checking your Adaboost code\n",
        "\n",
        "Train an ensemble of **two** tree stumps and see which features those stumps split on. We will run the algorithm with the following parameters:\n",
        "* `train_data`\n",
        "* `features`\n",
        "* `target`\n",
        "* `num_tree_stumps = 2`"
      ]
    },
    {
      "cell_type": "code",
      "metadata": {
        "colab": {
          "base_uri": "https://localhost:8080/"
        },
        "id": "jZFOD6vFiTib",
        "outputId": "dd7303df-062a-4aee-9a77-02ac4134096c"
      },
      "source": [
        "stump_weights, tree_stumps,data_weights = adaboost_with_tree_stumps(train_data, features, target, num_tree_stumps=2)\n"
      ],
      "execution_count": 75,
      "outputs": [
        {
          "output_type": "stream",
          "text": [
            "=====================================================\n",
            "Adaboost Iteration 0\n",
            "=====================================================\n",
            "--------------------------------------------------------------------\n",
            "Subtree, depth = 1 (37224 data points).\n",
            "Split on feature term. 36 months. (9223, 28001)\n",
            "--------------------------------------------------------------------\n",
            "Subtree, depth = 2 (9223 data points).\n",
            "Reached maximum depth. Stopping for now.\n",
            "--------------------------------------------------------------------\n",
            "Subtree, depth = 2 (28001 data points).\n",
            "Reached maximum depth. Stopping for now.\n",
            "=====================================================\n",
            "Adaboost Iteration 1\n",
            "=====================================================\n",
            "--------------------------------------------------------------------\n",
            "Subtree, depth = 1 (37224 data points).\n",
            "Split on feature term. 36 months. (9223, 28001)\n",
            "--------------------------------------------------------------------\n",
            "Subtree, depth = 2 (9223 data points).\n",
            "Reached maximum depth. Stopping for now.\n",
            "--------------------------------------------------------------------\n",
            "Subtree, depth = 2 (28001 data points).\n",
            "Reached maximum depth. Stopping for now.\n"
          ],
          "name": "stdout"
        }
      ]
    },
    {
      "cell_type": "code",
      "metadata": {
        "colab": {
          "base_uri": "https://localhost:8080/"
        },
        "id": "h5kAm-RVnkll",
        "outputId": "1db1989c-0f7b-4ab7-fa89-e8309f921b6a"
      },
      "source": [
        "stump_weightss, tree_stumpss,data_weightss = adaboost_with_tree_stumpss(train_data, features, target, num_tree_stumps=2)"
      ],
      "execution_count": 80,
      "outputs": [
        {
          "output_type": "stream",
          "text": [
            "=====================================================\n",
            "Adaboost Iteration 0\n",
            "=====================================================\n",
            "--------------------------------------------------------------------\n",
            "Subtree, depth = 1 (37224 data points).\n",
            "Split on feature term. 36 months. (9223, 28001)\n",
            "--------------------------------------------------------------------\n",
            "Subtree, depth = 2 (9223 data points).\n",
            "Reached maximum depth. Stopping for now.\n",
            "--------------------------------------------------------------------\n",
            "Subtree, depth = 2 (28001 data points).\n",
            "Reached maximum depth. Stopping for now.\n",
            "=====================================================\n",
            "Adaboost Iteration 1\n",
            "=====================================================\n",
            "--------------------------------------------------------------------\n",
            "Subtree, depth = 1 (37224 data points).\n",
            "Split on feature term. 36 months. (9223, 28001)\n",
            "--------------------------------------------------------------------\n",
            "Subtree, depth = 2 (9223 data points).\n",
            "Reached maximum depth. Stopping for now.\n",
            "--------------------------------------------------------------------\n",
            "Subtree, depth = 2 (28001 data points).\n",
            "Reached maximum depth. Stopping for now.\n"
          ],
          "name": "stdout"
        }
      ]
    },
    {
      "cell_type": "code",
      "metadata": {
        "colab": {
          "base_uri": "https://localhost:8080/"
        },
        "id": "POEXVBbXmVmM",
        "outputId": "9aca51b1-eca3-4e9f-8952-f3ef88ccfae5"
      },
      "source": [
        "print(stump_weights)\n",
        "print(tree_stumps)\n",
        "print(data_weights)"
      ],
      "execution_count": 82,
      "outputs": [
        {
          "output_type": "stream",
          "text": [
            "[0.0073072437460504035, 2.2204460492503126e-16]\n",
            "[{'is_leaf': False, 'prediction': None, 'splitting_feature': 'term. 36 months', 'left': {'splitting_feature': None, 'is_leaf': True, 'prediction': 1}, 'right': {'splitting_feature': None, 'is_leaf': True, 'prediction': 1}}, {'is_leaf': False, 'prediction': None, 'splitting_feature': 'term. 36 months', 'left': {'splitting_feature': None, 'is_leaf': True, 'prediction': 1}, 'right': {'splitting_feature': None, 'is_leaf': True, 'prediction': 1}}]\n",
            "[2.70621347e-05 2.70621347e-05 2.70621347e-05 ... 2.66695114e-05\n",
            " 2.66695114e-05 2.66695114e-05]\n"
          ],
          "name": "stdout"
        }
      ]
    },
    {
      "cell_type": "code",
      "metadata": {
        "colab": {
          "base_uri": "https://localhost:8080/"
        },
        "id": "sKG4QQ5jn7qm",
        "outputId": "30c1bc04-6fe8-42aa-a3a8-d1e85f95cd96"
      },
      "source": [
        "print(stump_weightss)\n",
        "print(tree_stumpss)\n",
        "print(data_weightss)\n",
        "print(len(tree_stumpss))"
      ],
      "execution_count": 87,
      "outputs": [
        {
          "output_type": "stream",
          "text": [
            "[0.0073072437460504035, 2.2204460492503126e-16]\n",
            "[{'is_leaf': False, 'prediction': None, 'splitting_feature': 'term. 36 months', 'left': {'splitting_feature': None, 'is_leaf': True, 'prediction': 1}, 'right': {'splitting_feature': None, 'is_leaf': True, 'prediction': 1}}, {'is_leaf': False, 'prediction': None, 'splitting_feature': 'term. 36 months', 'left': {'splitting_feature': None, 'is_leaf': True, 'prediction': 1}, 'right': {'splitting_feature': None, 'is_leaf': True, 'prediction': 1}}]\n",
            "[2.70621347e-05 2.70621347e-05 2.70621347e-05 ... 2.66695114e-05\n",
            " 2.66695114e-05 2.66695114e-05]\n",
            "2\n"
          ],
          "name": "stdout"
        }
      ]
    },
    {
      "cell_type": "code",
      "metadata": {
        "collapsed": true,
        "id": "ZohWqlP0iTib"
      },
      "source": [
        "def print_stump(tree):\n",
        "    split_name = tree['splitting_feature'] # split_name is something like 'term. 36 months'\n",
        "    if split_name is None:\n",
        "        print(\"(leaf, label: %s)\" % tree['prediction'])\n",
        "        return None\n",
        "    split_feature, split_value = split_name.split('.')\n",
        "    print('                       root')\n",
        "    print('         |---------------|----------------|')\n",
        "    print('         |                                |')\n",
        "    print('         |                                |')\n",
        "    print('         |                                |')\n",
        "    print('  [{0} == 0]{1}[{0} == 1]    '.format(split_name, ' '*(27-len(split_name))))\n",
        "    print('         |                                |')\n",
        "    print('         |                                |')\n",
        "    print('         |                                |')\n",
        "    print('    (%s)                 (%s)' \\\n",
        "        % (('leaf, label: ' + str(tree['left']['prediction']) if tree['left']['is_leaf'] else 'subtree'),\n",
        "           ('leaf, label: ' + str(tree['right']['prediction']) if tree['right']['is_leaf'] else 'subtree')))"
      ],
      "execution_count": 84,
      "outputs": []
    },
    {
      "cell_type": "markdown",
      "metadata": {
        "id": "1VqqHRv0iTib"
      },
      "source": [
        "Here is what the first stump looks like:"
      ]
    },
    {
      "cell_type": "code",
      "metadata": {
        "colab": {
          "base_uri": "https://localhost:8080/"
        },
        "id": "DOcisS_viTic",
        "outputId": "c1ec237b-fb5a-4159-b42f-1f2030feb6b9"
      },
      "source": [
        "print_stump(tree_stumps[0])"
      ],
      "execution_count": 85,
      "outputs": [
        {
          "output_type": "stream",
          "text": [
            "                       root\n",
            "         |---------------|----------------|\n",
            "         |                                |\n",
            "         |                                |\n",
            "         |                                |\n",
            "  [term. 36 months == 0]            [term. 36 months == 1]    \n",
            "         |                                |\n",
            "         |                                |\n",
            "         |                                |\n",
            "    (leaf, label: 1)                 (leaf, label: 1)\n"
          ],
          "name": "stdout"
        }
      ]
    },
    {
      "cell_type": "markdown",
      "metadata": {
        "id": "lydqaAFKiTic"
      },
      "source": [
        "Here is what the next stump looks like:"
      ]
    },
    {
      "cell_type": "code",
      "metadata": {
        "colab": {
          "base_uri": "https://localhost:8080/"
        },
        "id": "8CLdDd7KiTic",
        "outputId": "3185fce6-a3da-4b40-d623-9ed723d012dd"
      },
      "source": [
        "print_stump(tree_stumps[1])"
      ],
      "execution_count": 86,
      "outputs": [
        {
          "output_type": "stream",
          "text": [
            "                       root\n",
            "         |---------------|----------------|\n",
            "         |                                |\n",
            "         |                                |\n",
            "         |                                |\n",
            "  [term. 36 months == 0]            [term. 36 months == 1]    \n",
            "         |                                |\n",
            "         |                                |\n",
            "         |                                |\n",
            "    (leaf, label: 1)                 (leaf, label: 1)\n"
          ],
          "name": "stdout"
        }
      ]
    },
    {
      "cell_type": "code",
      "metadata": {
        "colab": {
          "base_uri": "https://localhost:8080/"
        },
        "id": "D-728OQfiTid",
        "outputId": "bcbab88c-e25f-4d80-d246-2b7c0ce00540"
      },
      "source": [
        "print(stump_weights)"
      ],
      "execution_count": 88,
      "outputs": [
        {
          "output_type": "stream",
          "text": [
            "[0.0073072437460504035, 2.2204460492503126e-16]\n"
          ],
          "name": "stdout"
        }
      ]
    },
    {
      "cell_type": "markdown",
      "metadata": {
        "id": "6yYo3iYmiTid"
      },
      "source": [
        "If your Adaboost is correctly implemented, the following things should be true:\n",
        "\n",
        "* `tree_stumps[0]` should split on **term. 36 months** with the prediction -1 on the left and +1 on the right.\n",
        "* `tree_stumps[1]` should split on **grade.A** with the prediction -1 on the left and +1 on the right.\n",
        "* Weights should be approximately `[0.158, 0.177]` \n",
        "\n",
        "**Reminders**\n",
        "- Stump weights ($\\mathbf{\\hat{w}}$) and data point weights ($\\mathbf{\\alpha}$) are two different concepts.\n",
        "- Stump weights ($\\mathbf{\\hat{w}}$) tell you how important each stump is while making predictions with the entire boosted ensemble.\n",
        "- Data point weights ($\\mathbf{\\alpha}$) tell you how important each data point is while training a decision stump."
      ]
    },
    {
      "cell_type": "markdown",
      "metadata": {
        "id": "oo0fZ136iTid"
      },
      "source": [
        "### Training a boosted ensemble of 10 stumps"
      ]
    },
    {
      "cell_type": "markdown",
      "metadata": {
        "id": "DUjINJJeiTie"
      },
      "source": [
        "Let us train an ensemble of 10 decision tree stumps with Adaboost. We run the **adaboost_with_tree_stumps** function with the following parameters:\n",
        "* `train_data`\n",
        "* `features`\n",
        "* `target`\n",
        "* `num_tree_stumps = 10`"
      ]
    },
    {
      "cell_type": "code",
      "metadata": {
        "scrolled": true,
        "colab": {
          "base_uri": "https://localhost:8080/"
        },
        "id": "s9p5vU9-iTie",
        "outputId": "80bd2d11-8f34-4714-e98b-d2d3bcbf2e47"
      },
      "source": [
        "stump_weights, tree_stumps,data_wts = adaboost_with_tree_stumps(train_data, features, \n",
        "                                target, num_tree_stumps=10)"
      ],
      "execution_count": 91,
      "outputs": [
        {
          "output_type": "stream",
          "text": [
            "=====================================================\n",
            "Adaboost Iteration 0\n",
            "=====================================================\n",
            "--------------------------------------------------------------------\n",
            "Subtree, depth = 1 (37224 data points).\n",
            "Split on feature term. 36 months. (9223, 28001)\n",
            "--------------------------------------------------------------------\n",
            "Subtree, depth = 2 (9223 data points).\n",
            "Reached maximum depth. Stopping for now.\n",
            "--------------------------------------------------------------------\n",
            "Subtree, depth = 2 (28001 data points).\n",
            "Reached maximum depth. Stopping for now.\n",
            "=====================================================\n",
            "Adaboost Iteration 1\n",
            "=====================================================\n",
            "--------------------------------------------------------------------\n",
            "Subtree, depth = 1 (37224 data points).\n",
            "Split on feature term. 36 months. (9223, 28001)\n",
            "--------------------------------------------------------------------\n",
            "Subtree, depth = 2 (9223 data points).\n",
            "Reached maximum depth. Stopping for now.\n",
            "--------------------------------------------------------------------\n",
            "Subtree, depth = 2 (28001 data points).\n",
            "Reached maximum depth. Stopping for now.\n",
            "=====================================================\n",
            "Adaboost Iteration 2\n",
            "=====================================================\n",
            "--------------------------------------------------------------------\n",
            "Subtree, depth = 1 (37224 data points).\n",
            "Split on feature term. 36 months. (9223, 28001)\n",
            "--------------------------------------------------------------------\n",
            "Subtree, depth = 2 (9223 data points).\n",
            "Reached maximum depth. Stopping for now.\n",
            "--------------------------------------------------------------------\n",
            "Subtree, depth = 2 (28001 data points).\n",
            "Reached maximum depth. Stopping for now.\n",
            "=====================================================\n",
            "Adaboost Iteration 3\n",
            "=====================================================\n",
            "--------------------------------------------------------------------\n",
            "Subtree, depth = 1 (37224 data points).\n",
            "Split on feature term. 36 months. (9223, 28001)\n",
            "--------------------------------------------------------------------\n",
            "Subtree, depth = 2 (9223 data points).\n",
            "Reached maximum depth. Stopping for now.\n",
            "--------------------------------------------------------------------\n",
            "Subtree, depth = 2 (28001 data points).\n",
            "Reached maximum depth. Stopping for now.\n",
            "=====================================================\n",
            "Adaboost Iteration 4\n",
            "=====================================================\n",
            "--------------------------------------------------------------------\n",
            "Subtree, depth = 1 (37224 data points).\n",
            "Split on feature term. 36 months. (9223, 28001)\n",
            "--------------------------------------------------------------------\n",
            "Subtree, depth = 2 (9223 data points).\n",
            "Reached maximum depth. Stopping for now.\n",
            "--------------------------------------------------------------------\n",
            "Subtree, depth = 2 (28001 data points).\n",
            "Reached maximum depth. Stopping for now.\n",
            "=====================================================\n",
            "Adaboost Iteration 5\n",
            "=====================================================\n",
            "--------------------------------------------------------------------\n",
            "Subtree, depth = 1 (37224 data points).\n",
            "Split on feature term. 36 months. (9223, 28001)\n",
            "--------------------------------------------------------------------\n",
            "Subtree, depth = 2 (9223 data points).\n",
            "Reached maximum depth. Stopping for now.\n",
            "--------------------------------------------------------------------\n",
            "Subtree, depth = 2 (28001 data points).\n",
            "Reached maximum depth. Stopping for now.\n",
            "=====================================================\n",
            "Adaboost Iteration 6\n",
            "=====================================================\n",
            "--------------------------------------------------------------------\n",
            "Subtree, depth = 1 (37224 data points).\n",
            "Split on feature term. 36 months. (9223, 28001)\n",
            "--------------------------------------------------------------------\n",
            "Subtree, depth = 2 (9223 data points).\n",
            "Reached maximum depth. Stopping for now.\n",
            "--------------------------------------------------------------------\n",
            "Subtree, depth = 2 (28001 data points).\n",
            "Reached maximum depth. Stopping for now.\n",
            "=====================================================\n",
            "Adaboost Iteration 7\n",
            "=====================================================\n",
            "--------------------------------------------------------------------\n",
            "Subtree, depth = 1 (37224 data points).\n",
            "Split on feature grade.A. (32094, 5130)\n",
            "--------------------------------------------------------------------\n",
            "Subtree, depth = 2 (32094 data points).\n",
            "Reached maximum depth. Stopping for now.\n",
            "--------------------------------------------------------------------\n",
            "Subtree, depth = 2 (5130 data points).\n",
            "Reached maximum depth. Stopping for now.\n",
            "=====================================================\n",
            "Adaboost Iteration 8\n",
            "=====================================================\n",
            "--------------------------------------------------------------------\n",
            "Subtree, depth = 1 (37224 data points).\n",
            "Split on feature grade.A. (32094, 5130)\n",
            "--------------------------------------------------------------------\n",
            "Subtree, depth = 2 (32094 data points).\n",
            "Reached maximum depth. Stopping for now.\n",
            "--------------------------------------------------------------------\n",
            "Subtree, depth = 2 (5130 data points).\n",
            "Reached maximum depth. Stopping for now.\n",
            "=====================================================\n",
            "Adaboost Iteration 9\n",
            "=====================================================\n",
            "--------------------------------------------------------------------\n",
            "Subtree, depth = 1 (37224 data points).\n",
            "Split on feature grade.A. (32094, 5130)\n",
            "--------------------------------------------------------------------\n",
            "Subtree, depth = 2 (32094 data points).\n",
            "Reached maximum depth. Stopping for now.\n",
            "--------------------------------------------------------------------\n",
            "Subtree, depth = 2 (5130 data points).\n",
            "Reached maximum depth. Stopping for now.\n"
          ],
          "name": "stdout"
        }
      ]
    },
    {
      "cell_type": "markdown",
      "metadata": {
        "id": "TQ5Jf0IgiTie"
      },
      "source": [
        "## Making predictions\n",
        "\n",
        "Recall from the lecture that in order to make predictions, we use the following formula:\n",
        "$$\n",
        "\\hat{y} = sign\\left(\\sum_{t=1}^T \\hat{w}_t f_t(x)\\right)\n",
        "$$\n",
        "\n",
        "We need to do the following things:\n",
        "- Compute the predictions $f_t(x)$ using the $t$-th decision tree\n",
        "- Compute $\\hat{w}_t f_t(x)$ by multiplying the `stump_weights` with the predictions $f_t(x)$ from the decision trees\n",
        "- Sum the weighted predictions over each stump in the ensemble.\n",
        "\n",
        "Complete the following skeleton for making predictions:"
      ]
    },
    {
      "cell_type": "code",
      "metadata": {
        "id": "_4jrUjbviTie"
      },
      "source": [
        "def predict_adaboost(stump_weights, tree_stumps, data):\n",
        "    scores = turicreate.SArray([0.]*len(data))\n",
        "    \n",
        "    for i, tree_stump in enumerate(tree_stumps):\n",
        "        predictions = data.apply(lambda x: classify(tree_stump, x))\n",
        "        \n",
        "        # Accumulate predictions on scores array\n",
        "        # YOUR CODE HERE\n",
        "        scores+=stump_weights[i]*(predictions)\n",
        "    scores=scores.apply(lambda score : +1 if score > 0 else -1)    \n",
        "    return scores"
      ],
      "execution_count": 97,
      "outputs": []
    },
    {
      "cell_type": "code",
      "metadata": {
        "colab": {
          "base_uri": "https://localhost:8080/"
        },
        "id": "s3wGCm4giTie",
        "outputId": "2f45eee4-6416-457a-b515-5dd831031319"
      },
      "source": [
        "predictions = predict_adaboost(stump_weights, tree_stumps, test_data)\n",
        "accuracy = turicreate.evaluation.accuracy(test_data[target], predictions)\n",
        "print('Accuracy of 10-component ensemble = %s' % accuracy)"
      ],
      "execution_count": 98,
      "outputs": [
        {
          "output_type": "stream",
          "text": [
            "Accuracy of 10-component ensemble = 0.5715208961654459\n"
          ],
          "name": "stdout"
        }
      ]
    },
    {
      "cell_type": "markdown",
      "metadata": {
        "id": "YDsX8Qs6iTif"
      },
      "source": [
        "Now, let us take a quick look what the `stump_weights` look like at the end of each iteration of the 10-stump ensemble:"
      ]
    },
    {
      "cell_type": "code",
      "metadata": {
        "colab": {
          "base_uri": "https://localhost:8080/"
        },
        "id": "WCb8DqrUiTif",
        "outputId": "f96373d4-853d-48f4-e97b-067e99b72cfc"
      },
      "source": [
        "stump_weights"
      ],
      "execution_count": 99,
      "outputs": [
        {
          "output_type": "execute_result",
          "data": {
            "text/plain": [
              "[0.5552699297847982,\n",
              " 0.6094852522389442,\n",
              " 0.5501141716222993,\n",
              " 0.604068910368859,\n",
              " 0.5451232215855927,\n",
              " 0.598513341059639,\n",
              " 0.5403435311437985,\n",
              " 0.9978911454849648,\n",
              " 0.9797393781759097,\n",
              " 0.9975284497461001,\n",
              " 0.9795274303491093,\n",
              " 0.5861076303149072,\n",
              " 0.5460512281968515,\n",
              " 0.9893166960277763,\n",
              " 0.9952575104350939,\n",
              " 0.9892769430742965,\n",
              " 0.995233953307632,\n",
              " 0.9892371759732845,\n",
              " 0.9952101457032153,\n",
              " 0.9891973995537195,\n",
              " 0.9951860865787299,\n",
              " 0.9891576186837745,\n",
              " 0.9951617749538149,\n",
              " 0.9891178382688652,\n",
              " 0.9951372099118049,\n",
              " 0.9890780632483491,\n",
              " 0.9951123906011834,\n",
              " 0.9890382985917235,\n",
              " 0.9950873162395635,\n",
              " 0.9889985492977926]"
            ]
          },
          "metadata": {
            "tags": []
          },
          "execution_count": 99
        }
      ]
    },
    {
      "cell_type": "markdown",
      "metadata": {
        "id": "vUo1WxMeiTif"
      },
      "source": [
        "**Quiz Question:** Are the weights monotonically decreasing, monotonically increasing, or neither?\n",
        "\n",
        "**Reminder**: Stump weights ($\\mathbf{\\hat{w}}$) tell you how important each stump is while making predictions with the entire boosted ensemble."
      ]
    },
    {
      "cell_type": "markdown",
      "metadata": {
        "id": "EAuHNhiHiTif"
      },
      "source": [
        "# Performance plots\n",
        "\n",
        "In this section, we will try to reproduce some of the performance plots dicussed in the lecture.\n",
        "\n",
        "### How does accuracy change with adding stumps to the ensemble?\n",
        "\n",
        "We will now train an ensemble with:\n",
        "* `train_data`\n",
        "* `features`\n",
        "* `target`\n",
        "* `num_tree_stumps = 30`\n",
        "\n",
        "Once we are done with this, we will then do the following:\n",
        "* Compute the classification error at the end of each iteration.\n",
        "* Plot a curve of classification error vs iteration.\n",
        "\n",
        "First, lets train the model."
      ]
    },
    {
      "cell_type": "code",
      "metadata": {
        "scrolled": true,
        "colab": {
          "base_uri": "https://localhost:8080/"
        },
        "id": "Y4vBog_-iTif",
        "outputId": "a2b148ff-fd05-4dfc-9164-d2b9c24f0780"
      },
      "source": [
        "# this may take a while... \n",
        "stump_weights, tree_stumps,data_wts = adaboost_with_tree_stumps(train_data, \n",
        "                                 features, target, num_tree_stumps=30)"
      ],
      "execution_count": 92,
      "outputs": [
        {
          "output_type": "stream",
          "text": [
            "=====================================================\n",
            "Adaboost Iteration 0\n",
            "=====================================================\n",
            "--------------------------------------------------------------------\n",
            "Subtree, depth = 1 (37224 data points).\n",
            "Split on feature term. 36 months. (9223, 28001)\n",
            "--------------------------------------------------------------------\n",
            "Subtree, depth = 2 (9223 data points).\n",
            "Reached maximum depth. Stopping for now.\n",
            "--------------------------------------------------------------------\n",
            "Subtree, depth = 2 (28001 data points).\n",
            "Reached maximum depth. Stopping for now.\n",
            "=====================================================\n",
            "Adaboost Iteration 1\n",
            "=====================================================\n",
            "--------------------------------------------------------------------\n",
            "Subtree, depth = 1 (37224 data points).\n",
            "Split on feature term. 36 months. (9223, 28001)\n",
            "--------------------------------------------------------------------\n",
            "Subtree, depth = 2 (9223 data points).\n",
            "Reached maximum depth. Stopping for now.\n",
            "--------------------------------------------------------------------\n",
            "Subtree, depth = 2 (28001 data points).\n",
            "Reached maximum depth. Stopping for now.\n",
            "=====================================================\n",
            "Adaboost Iteration 2\n",
            "=====================================================\n",
            "--------------------------------------------------------------------\n",
            "Subtree, depth = 1 (37224 data points).\n",
            "Split on feature term. 36 months. (9223, 28001)\n",
            "--------------------------------------------------------------------\n",
            "Subtree, depth = 2 (9223 data points).\n",
            "Reached maximum depth. Stopping for now.\n",
            "--------------------------------------------------------------------\n",
            "Subtree, depth = 2 (28001 data points).\n",
            "Reached maximum depth. Stopping for now.\n",
            "=====================================================\n",
            "Adaboost Iteration 3\n",
            "=====================================================\n",
            "--------------------------------------------------------------------\n",
            "Subtree, depth = 1 (37224 data points).\n",
            "Split on feature term. 36 months. (9223, 28001)\n",
            "--------------------------------------------------------------------\n",
            "Subtree, depth = 2 (9223 data points).\n",
            "Reached maximum depth. Stopping for now.\n",
            "--------------------------------------------------------------------\n",
            "Subtree, depth = 2 (28001 data points).\n",
            "Reached maximum depth. Stopping for now.\n",
            "=====================================================\n",
            "Adaboost Iteration 4\n",
            "=====================================================\n",
            "--------------------------------------------------------------------\n",
            "Subtree, depth = 1 (37224 data points).\n",
            "Split on feature term. 36 months. (9223, 28001)\n",
            "--------------------------------------------------------------------\n",
            "Subtree, depth = 2 (9223 data points).\n",
            "Reached maximum depth. Stopping for now.\n",
            "--------------------------------------------------------------------\n",
            "Subtree, depth = 2 (28001 data points).\n",
            "Reached maximum depth. Stopping for now.\n",
            "=====================================================\n",
            "Adaboost Iteration 5\n",
            "=====================================================\n",
            "--------------------------------------------------------------------\n",
            "Subtree, depth = 1 (37224 data points).\n",
            "Split on feature term. 36 months. (9223, 28001)\n",
            "--------------------------------------------------------------------\n",
            "Subtree, depth = 2 (9223 data points).\n",
            "Reached maximum depth. Stopping for now.\n",
            "--------------------------------------------------------------------\n",
            "Subtree, depth = 2 (28001 data points).\n",
            "Reached maximum depth. Stopping for now.\n",
            "=====================================================\n",
            "Adaboost Iteration 6\n",
            "=====================================================\n",
            "--------------------------------------------------------------------\n",
            "Subtree, depth = 1 (37224 data points).\n",
            "Split on feature term. 36 months. (9223, 28001)\n",
            "--------------------------------------------------------------------\n",
            "Subtree, depth = 2 (9223 data points).\n",
            "Reached maximum depth. Stopping for now.\n",
            "--------------------------------------------------------------------\n",
            "Subtree, depth = 2 (28001 data points).\n",
            "Reached maximum depth. Stopping for now.\n",
            "=====================================================\n",
            "Adaboost Iteration 7\n",
            "=====================================================\n",
            "--------------------------------------------------------------------\n",
            "Subtree, depth = 1 (37224 data points).\n",
            "Split on feature grade.A. (32094, 5130)\n",
            "--------------------------------------------------------------------\n",
            "Subtree, depth = 2 (32094 data points).\n",
            "Reached maximum depth. Stopping for now.\n",
            "--------------------------------------------------------------------\n",
            "Subtree, depth = 2 (5130 data points).\n",
            "Reached maximum depth. Stopping for now.\n",
            "=====================================================\n",
            "Adaboost Iteration 8\n",
            "=====================================================\n",
            "--------------------------------------------------------------------\n",
            "Subtree, depth = 1 (37224 data points).\n",
            "Split on feature grade.A. (32094, 5130)\n",
            "--------------------------------------------------------------------\n",
            "Subtree, depth = 2 (32094 data points).\n",
            "Reached maximum depth. Stopping for now.\n",
            "--------------------------------------------------------------------\n",
            "Subtree, depth = 2 (5130 data points).\n",
            "Reached maximum depth. Stopping for now.\n",
            "=====================================================\n",
            "Adaboost Iteration 9\n",
            "=====================================================\n",
            "--------------------------------------------------------------------\n",
            "Subtree, depth = 1 (37224 data points).\n",
            "Split on feature grade.A. (32094, 5130)\n",
            "--------------------------------------------------------------------\n",
            "Subtree, depth = 2 (32094 data points).\n",
            "Reached maximum depth. Stopping for now.\n",
            "--------------------------------------------------------------------\n",
            "Subtree, depth = 2 (5130 data points).\n",
            "Reached maximum depth. Stopping for now.\n",
            "=====================================================\n",
            "Adaboost Iteration 10\n",
            "=====================================================\n",
            "--------------------------------------------------------------------\n",
            "Subtree, depth = 1 (37224 data points).\n",
            "Split on feature grade.A. (32094, 5130)\n",
            "--------------------------------------------------------------------\n",
            "Subtree, depth = 2 (32094 data points).\n",
            "Reached maximum depth. Stopping for now.\n",
            "--------------------------------------------------------------------\n",
            "Subtree, depth = 2 (5130 data points).\n",
            "Reached maximum depth. Stopping for now.\n",
            "=====================================================\n",
            "Adaboost Iteration 11\n",
            "=====================================================\n",
            "--------------------------------------------------------------------\n",
            "Subtree, depth = 1 (37224 data points).\n",
            "Split on feature term. 36 months. (9223, 28001)\n",
            "--------------------------------------------------------------------\n",
            "Subtree, depth = 2 (9223 data points).\n",
            "Reached maximum depth. Stopping for now.\n",
            "--------------------------------------------------------------------\n",
            "Subtree, depth = 2 (28001 data points).\n",
            "Reached maximum depth. Stopping for now.\n",
            "=====================================================\n",
            "Adaboost Iteration 12\n",
            "=====================================================\n",
            "--------------------------------------------------------------------\n",
            "Subtree, depth = 1 (37224 data points).\n",
            "Split on feature term. 36 months. (9223, 28001)\n",
            "--------------------------------------------------------------------\n",
            "Subtree, depth = 2 (9223 data points).\n",
            "Reached maximum depth. Stopping for now.\n",
            "--------------------------------------------------------------------\n",
            "Subtree, depth = 2 (28001 data points).\n",
            "Reached maximum depth. Stopping for now.\n",
            "=====================================================\n",
            "Adaboost Iteration 13\n",
            "=====================================================\n",
            "--------------------------------------------------------------------\n",
            "Subtree, depth = 1 (37224 data points).\n",
            "Split on feature grade.A. (32094, 5130)\n",
            "--------------------------------------------------------------------\n",
            "Subtree, depth = 2 (32094 data points).\n",
            "Reached maximum depth. Stopping for now.\n",
            "--------------------------------------------------------------------\n",
            "Subtree, depth = 2 (5130 data points).\n",
            "Reached maximum depth. Stopping for now.\n",
            "=====================================================\n",
            "Adaboost Iteration 14\n",
            "=====================================================\n",
            "--------------------------------------------------------------------\n",
            "Subtree, depth = 1 (37224 data points).\n",
            "Split on feature grade.A. (32094, 5130)\n",
            "--------------------------------------------------------------------\n",
            "Subtree, depth = 2 (32094 data points).\n",
            "Reached maximum depth. Stopping for now.\n",
            "--------------------------------------------------------------------\n",
            "Subtree, depth = 2 (5130 data points).\n",
            "Reached maximum depth. Stopping for now.\n",
            "=====================================================\n",
            "Adaboost Iteration 15\n",
            "=====================================================\n",
            "--------------------------------------------------------------------\n",
            "Subtree, depth = 1 (37224 data points).\n",
            "Split on feature grade.A. (32094, 5130)\n",
            "--------------------------------------------------------------------\n",
            "Subtree, depth = 2 (32094 data points).\n",
            "Reached maximum depth. Stopping for now.\n",
            "--------------------------------------------------------------------\n",
            "Subtree, depth = 2 (5130 data points).\n",
            "Reached maximum depth. Stopping for now.\n",
            "=====================================================\n",
            "Adaboost Iteration 16\n",
            "=====================================================\n",
            "--------------------------------------------------------------------\n",
            "Subtree, depth = 1 (37224 data points).\n",
            "Split on feature grade.A. (32094, 5130)\n",
            "--------------------------------------------------------------------\n",
            "Subtree, depth = 2 (32094 data points).\n",
            "Reached maximum depth. Stopping for now.\n",
            "--------------------------------------------------------------------\n",
            "Subtree, depth = 2 (5130 data points).\n",
            "Reached maximum depth. Stopping for now.\n",
            "=====================================================\n",
            "Adaboost Iteration 17\n",
            "=====================================================\n",
            "--------------------------------------------------------------------\n",
            "Subtree, depth = 1 (37224 data points).\n",
            "Split on feature grade.A. (32094, 5130)\n",
            "--------------------------------------------------------------------\n",
            "Subtree, depth = 2 (32094 data points).\n",
            "Reached maximum depth. Stopping for now.\n",
            "--------------------------------------------------------------------\n",
            "Subtree, depth = 2 (5130 data points).\n",
            "Reached maximum depth. Stopping for now.\n",
            "=====================================================\n",
            "Adaboost Iteration 18\n",
            "=====================================================\n",
            "--------------------------------------------------------------------\n",
            "Subtree, depth = 1 (37224 data points).\n",
            "Split on feature grade.A. (32094, 5130)\n",
            "--------------------------------------------------------------------\n",
            "Subtree, depth = 2 (32094 data points).\n",
            "Reached maximum depth. Stopping for now.\n",
            "--------------------------------------------------------------------\n",
            "Subtree, depth = 2 (5130 data points).\n",
            "Reached maximum depth. Stopping for now.\n",
            "=====================================================\n",
            "Adaboost Iteration 19\n",
            "=====================================================\n",
            "--------------------------------------------------------------------\n",
            "Subtree, depth = 1 (37224 data points).\n",
            "Split on feature grade.A. (32094, 5130)\n",
            "--------------------------------------------------------------------\n",
            "Subtree, depth = 2 (32094 data points).\n",
            "Reached maximum depth. Stopping for now.\n",
            "--------------------------------------------------------------------\n",
            "Subtree, depth = 2 (5130 data points).\n",
            "Reached maximum depth. Stopping for now.\n",
            "=====================================================\n",
            "Adaboost Iteration 20\n",
            "=====================================================\n",
            "--------------------------------------------------------------------\n",
            "Subtree, depth = 1 (37224 data points).\n",
            "Split on feature grade.A. (32094, 5130)\n",
            "--------------------------------------------------------------------\n",
            "Subtree, depth = 2 (32094 data points).\n",
            "Reached maximum depth. Stopping for now.\n",
            "--------------------------------------------------------------------\n",
            "Subtree, depth = 2 (5130 data points).\n",
            "Reached maximum depth. Stopping for now.\n",
            "=====================================================\n",
            "Adaboost Iteration 21\n",
            "=====================================================\n",
            "--------------------------------------------------------------------\n",
            "Subtree, depth = 1 (37224 data points).\n",
            "Split on feature grade.A. (32094, 5130)\n",
            "--------------------------------------------------------------------\n",
            "Subtree, depth = 2 (32094 data points).\n",
            "Reached maximum depth. Stopping for now.\n",
            "--------------------------------------------------------------------\n",
            "Subtree, depth = 2 (5130 data points).\n",
            "Reached maximum depth. Stopping for now.\n",
            "=====================================================\n",
            "Adaboost Iteration 22\n",
            "=====================================================\n",
            "--------------------------------------------------------------------\n",
            "Subtree, depth = 1 (37224 data points).\n",
            "Split on feature grade.A. (32094, 5130)\n",
            "--------------------------------------------------------------------\n",
            "Subtree, depth = 2 (32094 data points).\n",
            "Reached maximum depth. Stopping for now.\n",
            "--------------------------------------------------------------------\n",
            "Subtree, depth = 2 (5130 data points).\n",
            "Reached maximum depth. Stopping for now.\n",
            "=====================================================\n",
            "Adaboost Iteration 23\n",
            "=====================================================\n",
            "--------------------------------------------------------------------\n",
            "Subtree, depth = 1 (37224 data points).\n",
            "Split on feature grade.A. (32094, 5130)\n",
            "--------------------------------------------------------------------\n",
            "Subtree, depth = 2 (32094 data points).\n",
            "Reached maximum depth. Stopping for now.\n",
            "--------------------------------------------------------------------\n",
            "Subtree, depth = 2 (5130 data points).\n",
            "Reached maximum depth. Stopping for now.\n",
            "=====================================================\n",
            "Adaboost Iteration 24\n",
            "=====================================================\n",
            "--------------------------------------------------------------------\n",
            "Subtree, depth = 1 (37224 data points).\n",
            "Split on feature grade.A. (32094, 5130)\n",
            "--------------------------------------------------------------------\n",
            "Subtree, depth = 2 (32094 data points).\n",
            "Reached maximum depth. Stopping for now.\n",
            "--------------------------------------------------------------------\n",
            "Subtree, depth = 2 (5130 data points).\n",
            "Reached maximum depth. Stopping for now.\n",
            "=====================================================\n",
            "Adaboost Iteration 25\n",
            "=====================================================\n",
            "--------------------------------------------------------------------\n",
            "Subtree, depth = 1 (37224 data points).\n",
            "Split on feature grade.A. (32094, 5130)\n",
            "--------------------------------------------------------------------\n",
            "Subtree, depth = 2 (32094 data points).\n",
            "Reached maximum depth. Stopping for now.\n",
            "--------------------------------------------------------------------\n",
            "Subtree, depth = 2 (5130 data points).\n",
            "Reached maximum depth. Stopping for now.\n",
            "=====================================================\n",
            "Adaboost Iteration 26\n",
            "=====================================================\n",
            "--------------------------------------------------------------------\n",
            "Subtree, depth = 1 (37224 data points).\n",
            "Split on feature grade.A. (32094, 5130)\n",
            "--------------------------------------------------------------------\n",
            "Subtree, depth = 2 (32094 data points).\n",
            "Reached maximum depth. Stopping for now.\n",
            "--------------------------------------------------------------------\n",
            "Subtree, depth = 2 (5130 data points).\n",
            "Reached maximum depth. Stopping for now.\n",
            "=====================================================\n",
            "Adaboost Iteration 27\n",
            "=====================================================\n",
            "--------------------------------------------------------------------\n",
            "Subtree, depth = 1 (37224 data points).\n",
            "Split on feature grade.A. (32094, 5130)\n",
            "--------------------------------------------------------------------\n",
            "Subtree, depth = 2 (32094 data points).\n",
            "Reached maximum depth. Stopping for now.\n",
            "--------------------------------------------------------------------\n",
            "Subtree, depth = 2 (5130 data points).\n",
            "Reached maximum depth. Stopping for now.\n",
            "=====================================================\n",
            "Adaboost Iteration 28\n",
            "=====================================================\n",
            "--------------------------------------------------------------------\n",
            "Subtree, depth = 1 (37224 data points).\n",
            "Split on feature grade.A. (32094, 5130)\n",
            "--------------------------------------------------------------------\n",
            "Subtree, depth = 2 (32094 data points).\n",
            "Reached maximum depth. Stopping for now.\n",
            "--------------------------------------------------------------------\n",
            "Subtree, depth = 2 (5130 data points).\n",
            "Reached maximum depth. Stopping for now.\n",
            "=====================================================\n",
            "Adaboost Iteration 29\n",
            "=====================================================\n",
            "--------------------------------------------------------------------\n",
            "Subtree, depth = 1 (37224 data points).\n",
            "Split on feature grade.A. (32094, 5130)\n",
            "--------------------------------------------------------------------\n",
            "Subtree, depth = 2 (32094 data points).\n",
            "Reached maximum depth. Stopping for now.\n",
            "--------------------------------------------------------------------\n",
            "Subtree, depth = 2 (5130 data points).\n",
            "Reached maximum depth. Stopping for now.\n"
          ],
          "name": "stdout"
        }
      ]
    },
    {
      "cell_type": "markdown",
      "metadata": {
        "id": "5NO9GzztiTif"
      },
      "source": [
        "### Computing training error at the end of each iteration\n",
        "\n",
        "Now, we will compute the classification error on the **train_data** and see how it is reduced as trees are added."
      ]
    },
    {
      "cell_type": "code",
      "metadata": {
        "colab": {
          "base_uri": "https://localhost:8080/"
        },
        "id": "Z_VKKsCKiTig",
        "outputId": "86b23e4d-d092-4a6e-ea7d-cdb6321d6638"
      },
      "source": [
        "error_all = []\n",
        "for n in range(1, 31):\n",
        "    predictions = predict_adaboost(stump_weights[:n], tree_stumps[:n], train_data)\n",
        "    error = 1.0 - turicreate.evaluation.accuracy(train_data[target], predictions)\n",
        "    error_all.append(error)\n",
        "    print(\"Iteration %s, training error = %s\" % (n, error_all[n-1]))"
      ],
      "execution_count": 100,
      "outputs": [
        {
          "output_type": "stream",
          "text": [
            "Iteration 1, training error = 0.4216365785514722\n",
            "Iteration 2, training error = 0.5783634214485278\n",
            "Iteration 3, training error = 0.4216365785514722\n",
            "Iteration 4, training error = 0.5783634214485278\n",
            "Iteration 5, training error = 0.4216365785514722\n",
            "Iteration 6, training error = 0.5783634214485278\n",
            "Iteration 7, training error = 0.4216365785514722\n",
            "Iteration 8, training error = 0.43343004513217276\n",
            "Iteration 9, training error = 0.4216365785514722\n",
            "Iteration 10, training error = 0.43343004513217276\n",
            "Iteration 11, training error = 0.4216365785514722\n",
            "Iteration 12, training error = 0.5783634214485278\n",
            "Iteration 13, training error = 0.4216365785514722\n",
            "Iteration 14, training error = 0.43343004513217276\n",
            "Iteration 15, training error = 0.4216365785514722\n",
            "Iteration 16, training error = 0.43343004513217276\n",
            "Iteration 17, training error = 0.4216365785514722\n",
            "Iteration 18, training error = 0.43343004513217276\n",
            "Iteration 19, training error = 0.4216365785514722\n",
            "Iteration 20, training error = 0.43343004513217276\n",
            "Iteration 21, training error = 0.4216365785514722\n",
            "Iteration 22, training error = 0.43343004513217276\n",
            "Iteration 23, training error = 0.4216365785514722\n",
            "Iteration 24, training error = 0.43343004513217276\n",
            "Iteration 25, training error = 0.4216365785514722\n",
            "Iteration 26, training error = 0.43343004513217276\n",
            "Iteration 27, training error = 0.4216365785514722\n",
            "Iteration 28, training error = 0.43343004513217276\n",
            "Iteration 29, training error = 0.4216365785514722\n",
            "Iteration 30, training error = 0.43343004513217276\n"
          ],
          "name": "stdout"
        }
      ]
    },
    {
      "cell_type": "markdown",
      "metadata": {
        "id": "pZWwo95ziTig"
      },
      "source": [
        "### Visualizing training error vs number of iterations\n",
        "\n",
        "We have provided you with a simple code snippet that plots classification error with the number of iterations. "
      ]
    },
    {
      "cell_type": "code",
      "metadata": {
        "colab": {
          "base_uri": "https://localhost:8080/",
          "height": 349
        },
        "id": "pbRXsla7iTig",
        "outputId": "ef142dbd-07b7-4ebc-ee2d-42bc34316eff"
      },
      "source": [
        "plt.rcParams['figure.figsize'] = 7, 5\n",
        "plt.plot(range(1,31), error_all, '-', linewidth=4.0, label='Training error')\n",
        "plt.title('Performance of Adaboost ensemble')\n",
        "plt.xlabel('# of iterations')\n",
        "plt.ylabel('Classification error')\n",
        "plt.legend(loc='best', prop={'size':15})\n",
        "\n",
        "plt.rcParams.update({'font.size': 16})"
      ],
      "execution_count": 101,
      "outputs": [
        {
          "output_type": "display_data",
          "data": {
            "image/png": "[encoded data removed]",
            "text/plain": [
              "<Figure size 504x360 with 1 Axes>"
            ]
          },
          "metadata": {
            "tags": [],
            "needs_background": "light"
          }
        }
      ]
    },
    {
      "cell_type": "markdown",
      "metadata": {
        "id": "A-7WLG7LiTig"
      },
      "source": [
        "**Quiz Question**: Which of the following best describes a **general trend in accuracy** as we add more and more components? Answer based on the 30 components learned so far.\n",
        "\n",
        "1. Training error goes down monotonically, i.e. the training error reduces with each iteration but never increases.\n",
        "2. Training error goes down in general, with some ups and downs in the middle.\n",
        "3. Training error goes up in general, with some ups and downs in the middle.\n",
        "4. Training error goes down in the beginning, achieves the best error, and then goes up sharply.\n",
        "5. None of the above\n",
        "\n",
        "\n",
        "### Evaluation on the test data\n",
        "\n",
        "Performing well on the training data is cheating, so lets make sure it works on the `test_data` as well. Here, we will compute the classification error on the `test_data` at the end of each iteration."
      ]
    },
    {
      "cell_type": "code",
      "metadata": {
        "colab": {
          "base_uri": "https://localhost:8080/"
        },
        "id": "2aaRxKuziTig",
        "outputId": "cd8b8e8a-49b8-4fdc-bd7e-fa64c88cc3e4"
      },
      "source": [
        "test_error_all = []\n",
        "for n in range(1, 31):\n",
        "    predictions = predict_adaboost(stump_weights[:n], tree_stumps[:n], test_data)\n",
        "    error = 1.0 - turicreate.evaluation.accuracy(test_data[target], predictions)\n",
        "    test_error_all.append(error)\n",
        "    print(\"Iteration %s, test error = %s\" % (n, test_error_all[n-1]))"
      ],
      "execution_count": 102,
      "outputs": [
        {
          "output_type": "stream",
          "text": [
            "Iteration 1, test error = 0.4233089185695821\n",
            "Iteration 2, test error = 0.5766910814304179\n",
            "Iteration 3, test error = 0.4233089185695821\n",
            "Iteration 4, test error = 0.5766910814304179\n",
            "Iteration 5, test error = 0.4233089185695821\n",
            "Iteration 6, test error = 0.5766910814304179\n",
            "Iteration 7, test error = 0.4233089185695821\n",
            "Iteration 8, test error = 0.4284791038345541\n",
            "Iteration 9, test error = 0.4233089185695821\n",
            "Iteration 10, test error = 0.4284791038345541\n",
            "Iteration 11, test error = 0.4233089185695821\n",
            "Iteration 12, test error = 0.5766910814304179\n",
            "Iteration 13, test error = 0.4233089185695821\n",
            "Iteration 14, test error = 0.4284791038345541\n",
            "Iteration 15, test error = 0.4233089185695821\n",
            "Iteration 16, test error = 0.4284791038345541\n",
            "Iteration 17, test error = 0.4233089185695821\n",
            "Iteration 18, test error = 0.4284791038345541\n",
            "Iteration 19, test error = 0.4233089185695821\n",
            "Iteration 20, test error = 0.4284791038345541\n",
            "Iteration 21, test error = 0.4233089185695821\n",
            "Iteration 22, test error = 0.4284791038345541\n",
            "Iteration 23, test error = 0.4233089185695821\n",
            "Iteration 24, test error = 0.4284791038345541\n",
            "Iteration 25, test error = 0.4233089185695821\n",
            "Iteration 26, test error = 0.4284791038345541\n",
            "Iteration 27, test error = 0.4233089185695821\n",
            "Iteration 28, test error = 0.4284791038345541\n",
            "Iteration 29, test error = 0.4233089185695821\n",
            "Iteration 30, test error = 0.4284791038345541\n"
          ],
          "name": "stdout"
        }
      ]
    },
    {
      "cell_type": "markdown",
      "metadata": {
        "id": "twUWUB-AiTig"
      },
      "source": [
        "### Visualize both the training and test errors\n",
        "\n",
        "Now, let us plot the training & test error with the number of iterations."
      ]
    },
    {
      "cell_type": "code",
      "metadata": {
        "colab": {
          "base_uri": "https://localhost:8080/",
          "height": 356
        },
        "id": "qjf3jNX5iTih",
        "outputId": "94b46599-9371-4846-e3d8-f50bc860727a"
      },
      "source": [
        "plt.rcParams['figure.figsize'] = 7, 5\n",
        "plt.plot(range(1,31), error_all, '-', linewidth=4.0, label='Training error')\n",
        "plt.plot(range(1,31), test_error_all, '-', linewidth=4.0, label='Test error')\n",
        "\n",
        "plt.title('Performance of Adaboost ensemble')\n",
        "plt.xlabel('# of iterations')\n",
        "plt.ylabel('Classification error')\n",
        "plt.rcParams.update({'font.size': 16})\n",
        "plt.legend(loc='best', prop={'size':15})\n",
        "plt.tight_layout()"
      ],
      "execution_count": 103,
      "outputs": [
        {
          "output_type": "display_data",
          "data": {
            "image/png": "[encoded data removed]",
            "text/plain": [
              "<Figure size 504x360 with 1 Axes>"
            ]
          },
          "metadata": {
            "tags": [],
            "needs_background": "light"
          }
        }
      ]
    },
    {
      "cell_type": "markdown",
      "metadata": {
        "id": "tgA-qH-ViTih"
      },
      "source": [
        "** Quiz Question:** From this plot (with 30 trees), is there massive overfitting as the # of iterations increases?"
      ]
    },
    {
      "cell_type": "code",
      "metadata": {
        "collapsed": true,
        "id": "r3F_LbQIiTih"
      },
      "source": [
        ""
      ],
      "execution_count": null,
      "outputs": []
    }
  ]
}