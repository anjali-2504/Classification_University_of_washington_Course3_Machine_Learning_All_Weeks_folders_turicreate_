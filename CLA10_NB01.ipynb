{
  "nbformat": 4,
  "nbformat_minor": 0,
  "metadata": {
    "kernelspec": {
      "display_name": "Python 3",
      "language": "python",
      "name": "python3"
    },
    "language_info": {
      "codemirror_mode": {
        "name": "ipython",
        "version": 3
      },
      "file_extension": ".py",
      "mimetype": "text/x-python",
      "name": "python",
      "nbconvert_exporter": "python",
      "pygments_lexer": "ipython3",
      "version": "3.6.0"
    },
    "colab": {
      "name": "CLA10-NB01.ipynb",
      "provenance": [],
      "collapsed_sections": [
        "E-Iq2BPDFH1n"
      ],
      "include_colab_link": true
    }
  },
  "cells": [
    {
      "cell_type": "markdown",
      "metadata": {
        "id": "view-in-github",
        "colab_type": "text"
      },
      "source": [
        "<a href=\"https://colab.research.google.com/github/anjali-2504/Classification_University_of_washington_Course3_Machine_Learning_All_Weeks_folders_turicreate_/blob/main/CLA10_NB01.ipynb\" target=\"_parent\"><img src=\"https://colab.research.google.com/assets/colab-badge.svg\" alt=\"Open In Colab\"/></a>"
      ]
    },
    {
      "cell_type": "markdown",
      "metadata": {
        "id": "IngWodmBFH1W"
      },
      "source": [
        "# Training Logistic Regression via Stochastic Gradient Ascent\n",
        "\n",
        "The goal of this notebook is to implement a logistic regression classifier using stochastic gradient ascent. You will:\n",
        "\n",
        " * Extract features from Amazon product reviews.\n",
        " * Convert an SFrame into a NumPy array.\n",
        " * Write a function to compute the derivative of log likelihood function with respect to a single coefficient.\n",
        " * Implement stochastic gradient ascent.\n",
        " * Compare convergence of stochastic gradient ascent with that of batch gradient ascent."
      ]
    },
    {
      "cell_type": "markdown",
      "metadata": {
        "id": "odEchkzUFH1b"
      },
      "source": [
        "# Fire up Turi Create\n",
        " \n",
        "Make sure you have the latest version of Turi Create."
      ]
    },
    {
      "cell_type": "code",
      "metadata": {
        "colab": {
          "base_uri": "https://localhost:8080/"
        },
        "id": "vHzRmeUJFquq",
        "outputId": "36114f1f-9a51-415a-fad3-8a24eed575b9"
      },
      "source": [
        "!pip install turicreate"
      ],
      "execution_count": 2,
      "outputs": [
        {
          "output_type": "stream",
          "text": [
            "Collecting turicreate\n",
            "\u001b[?25l  Downloading https://files.pythonhosted.org/packages/25/9f/a76acc465d873d217f05eac4846bd73d640b9db6d6f4a3c29ad92650fbbe/turicreate-6.4.1-cp37-cp37m-manylinux1_x86_64.whl (92.0MB)\n",
            "\u001b[K     |████████████████████████████████| 92.0MB 58kB/s \n",
            "\u001b[?25hRequirement already satisfied: requests>=2.9.1 in /usr/local/lib/python3.7/dist-packages (from turicreate) (2.23.0)\n",
            "Requirement already satisfied: decorator>=4.0.9 in /usr/local/lib/python3.7/dist-packages (from turicreate) (4.4.2)\n",
            "Requirement already satisfied: pillow>=5.2.0 in /usr/local/lib/python3.7/dist-packages (from turicreate) (7.1.2)\n",
            "Requirement already satisfied: pandas>=0.23.2 in /usr/local/lib/python3.7/dist-packages (from turicreate) (1.1.5)\n",
            "Requirement already satisfied: scipy>=1.1.0 in /usr/local/lib/python3.7/dist-packages (from turicreate) (1.4.1)\n",
            "Requirement already satisfied: numpy in /usr/local/lib/python3.7/dist-packages (from turicreate) (1.19.5)\n",
            "Requirement already satisfied: six>=1.10.0 in /usr/local/lib/python3.7/dist-packages (from turicreate) (1.15.0)\n",
            "Collecting resampy==0.2.1\n",
            "\u001b[?25l  Downloading https://files.pythonhosted.org/packages/14/b6/66a06d85474190b50aee1a6c09cdc95bb405ac47338b27e9b21409da1760/resampy-0.2.1.tar.gz (322kB)\n",
            "\u001b[K     |████████████████████████████████| 327kB 31.1MB/s \n",
            "\u001b[?25hCollecting coremltools==3.3\n",
            "\u001b[?25l  Downloading https://files.pythonhosted.org/packages/1b/1d/b1a99beca7355b6a026ae61fd8d3d36136e5b36f13e92ec5f81aceffc7f1/coremltools-3.3-cp37-none-manylinux1_x86_64.whl (3.5MB)\n",
            "\u001b[K     |████████████████████████████████| 3.5MB 35.9MB/s \n",
            "\u001b[?25hCollecting tensorflow<2.1.0,>=2.0.0\n",
            "\u001b[?25l  Downloading https://files.pythonhosted.org/packages/3c/b3/3eeae9bc44039ceadceac0c7ba1cc8b1482b172810b3d7624a1cad251437/tensorflow-2.0.4-cp37-cp37m-manylinux2010_x86_64.whl (86.4MB)\n",
            "\u001b[K     |████████████████████████████████| 86.4MB 48kB/s \n",
            "\u001b[?25hCollecting numba<0.51.0\n",
            "\u001b[?25l  Downloading https://files.pythonhosted.org/packages/04/be/8c88cee3366de2a3a23a9ff1a8be34e79ad1eb1ceb0d0e33aca83655ac3c/numba-0.50.1-cp37-cp37m-manylinux2014_x86_64.whl (3.6MB)\n",
            "\u001b[K     |████████████████████████████████| 3.6MB 39.9MB/s \n",
            "\u001b[?25hCollecting prettytable==0.7.2\n",
            "  Downloading https://files.pythonhosted.org/packages/ef/30/4b0746848746ed5941f052479e7c23d2b56d174b82f4fd34a25e389831f5/prettytable-0.7.2.tar.bz2\n",
            "Requirement already satisfied: chardet<4,>=3.0.2 in /usr/local/lib/python3.7/dist-packages (from requests>=2.9.1->turicreate) (3.0.4)\n",
            "Requirement already satisfied: urllib3!=1.25.0,!=1.25.1,<1.26,>=1.21.1 in /usr/local/lib/python3.7/dist-packages (from requests>=2.9.1->turicreate) (1.24.3)\n",
            "Requirement already satisfied: idna<3,>=2.5 in /usr/local/lib/python3.7/dist-packages (from requests>=2.9.1->turicreate) (2.10)\n",
            "Requirement already satisfied: certifi>=2017.4.17 in /usr/local/lib/python3.7/dist-packages (from requests>=2.9.1->turicreate) (2020.12.5)\n",
            "Requirement already satisfied: pytz>=2017.2 in /usr/local/lib/python3.7/dist-packages (from pandas>=0.23.2->turicreate) (2018.9)\n",
            "Requirement already satisfied: python-dateutil>=2.7.3 in /usr/local/lib/python3.7/dist-packages (from pandas>=0.23.2->turicreate) (2.8.1)\n",
            "Requirement already satisfied: protobuf>=3.1.0 in /usr/local/lib/python3.7/dist-packages (from coremltools==3.3->turicreate) (3.12.4)\n",
            "Requirement already satisfied: grpcio>=1.8.6 in /usr/local/lib/python3.7/dist-packages (from tensorflow<2.1.0,>=2.0.0->turicreate) (1.32.0)\n",
            "Requirement already satisfied: google-pasta>=0.1.6 in /usr/local/lib/python3.7/dist-packages (from tensorflow<2.1.0,>=2.0.0->turicreate) (0.2.0)\n",
            "Requirement already satisfied: astor>=0.6.0 in /usr/local/lib/python3.7/dist-packages (from tensorflow<2.1.0,>=2.0.0->turicreate) (0.8.1)\n",
            "Collecting tensorboard<2.1.0,>=2.0.0\n",
            "\u001b[?25l  Downloading https://files.pythonhosted.org/packages/76/54/99b9d5d52d5cb732f099baaaf7740403e83fe6b0cedde940fabd2b13d75a/tensorboard-2.0.2-py3-none-any.whl (3.8MB)\n",
            "\u001b[K     |████████████████████████████████| 3.8MB 34.6MB/s \n",
            "\u001b[?25hRequirement already satisfied: wrapt>=1.11.1 in /usr/local/lib/python3.7/dist-packages (from tensorflow<2.1.0,>=2.0.0->turicreate) (1.12.1)\n",
            "Collecting tensorflow-estimator<2.1.0,>=2.0.0\n",
            "\u001b[?25l  Downloading https://files.pythonhosted.org/packages/fc/08/8b927337b7019c374719145d1dceba21a8bb909b93b1ad6f8fb7d22c1ca1/tensorflow_estimator-2.0.1-py2.py3-none-any.whl (449kB)\n",
            "\u001b[K     |████████████████████████████████| 450kB 41.3MB/s \n",
            "\u001b[?25hRequirement already satisfied: wheel>=0.26; python_version >= \"3\" in /usr/local/lib/python3.7/dist-packages (from tensorflow<2.1.0,>=2.0.0->turicreate) (0.36.2)\n",
            "Requirement already satisfied: absl-py>=0.7.0 in /usr/local/lib/python3.7/dist-packages (from tensorflow<2.1.0,>=2.0.0->turicreate) (0.12.0)\n",
            "Requirement already satisfied: h5py<=2.10.0 in /usr/local/lib/python3.7/dist-packages (from tensorflow<2.1.0,>=2.0.0->turicreate) (2.10.0)\n",
            "Requirement already satisfied: opt-einsum>=2.3.2 in /usr/local/lib/python3.7/dist-packages (from tensorflow<2.1.0,>=2.0.0->turicreate) (3.3.0)\n",
            "Requirement already satisfied: termcolor>=1.1.0 in /usr/local/lib/python3.7/dist-packages (from tensorflow<2.1.0,>=2.0.0->turicreate) (1.1.0)\n",
            "Requirement already satisfied: keras-preprocessing>=1.0.5 in /usr/local/lib/python3.7/dist-packages (from tensorflow<2.1.0,>=2.0.0->turicreate) (1.1.2)\n",
            "Collecting gast==0.2.2\n",
            "  Downloading https://files.pythonhosted.org/packages/4e/35/11749bf99b2d4e3cceb4d55ca22590b0d7c2c62b9de38ac4a4a7f4687421/gast-0.2.2.tar.gz\n",
            "Collecting keras-applications>=1.0.8\n",
            "\u001b[?25l  Downloading https://files.pythonhosted.org/packages/71/e3/19762fdfc62877ae9102edf6342d71b28fbfd9dea3d2f96a882ce099b03f/Keras_Applications-1.0.8-py3-none-any.whl (50kB)\n",
            "\u001b[K     |████████████████████████████████| 51kB 5.2MB/s \n",
            "\u001b[?25hRequirement already satisfied: setuptools in /usr/local/lib/python3.7/dist-packages (from numba<0.51.0->turicreate) (54.2.0)\n",
            "Collecting llvmlite<0.34,>=0.33.0.dev0\n",
            "\u001b[?25l  Downloading https://files.pythonhosted.org/packages/0a/28/0a35b3c2685bf2ea327cef5577bdf91f387f0f4594417a2a05a1d42fb7c2/llvmlite-0.33.0-cp37-cp37m-manylinux1_x86_64.whl (18.3MB)\n",
            "\u001b[K     |██████████████████████▋         | 12.9MB 36.7MB/s eta 0:00:01  Building wheel for resampy (setup.py) ... \u001b[?25l\u001b[?25hdone\n",
            "  Created wheel for resampy: filename=resampy-0.2.1-cp37-none-any.whl size=320845 sha256=d79eca7401cc3981973d9331a3e5901ae904ffcee82330811634f409733b203f\n",
            "  Stored in directory: /root/.cache/pip/wheels/ff/4f/ed/2e6c676c23efe5394bb40ade50662e90eb46e29b48324c5f9b\n",
            "  Building wheel for prettytable (setup.py) ... \u001b[?25l\u001b[?25hdone\n",
            "  Created wheel for prettytable: filename=prettytable-0.7.2-cp37-none-any.whl size=13700 sha256=97cf6519e911649acaf3da7d69b714e792a594bbb77139bd5e666b4104d410eb\n",
            "  Stored in directory: /root/.cache/pip/wheels/80/34/1c/3967380d9676d162cb59513bd9dc862d0584e045a162095606\n",
            "  Building wheel for gast (setup.py) ... \u001b[?25l\u001b[?25hdone\n",
            "  Created wheel for gast: filename=gast-0.2.2-cp37-none-any.whl size=7540 sha256=6413c5976fd3d3a29e0efbe4c96b49f2b18807c331b163c065e4e38ca3eac4c0\n",
            "  Stored in directory: /root/.cache/pip/wheels/5c/2e/7e/a1d4d4fcebe6c381f378ce7743a3ced3699feb89bcfbdadadd\n",
            "Successfully built resampy prettytable gast\n",
            "\u001b[31mERROR: tensorflow 2.0.4 has requirement numpy<1.19.0,>=1.16.0, but you'll have numpy 1.19.5 which is incompatible.\u001b[0m\n",
            "\u001b[31mERROR: tensorflow-probability 0.12.1 has requirement gast>=0.3.2, but you'll have gast 0.2.2 which is incompatible.\u001b[0m\n",
            "\u001b[31mERROR: librosa 0.8.0 has requirement resampy>=0.2.2, but you'll have resampy 0.2.1 which is incompatible.\u001b[0m\n",
            "Installing collected packages: llvmlite, numba, resampy, coremltools, tensorboard, tensorflow-estimator, gast, keras-applications, tensorflow, prettytable, turicreate\n",
            "  Found existing installation: llvmlite 0.34.0\n",
            "    Uninstalling llvmlite-0.34.0:\n",
            "      Successfully uninstalled llvmlite-0.34.0\n",
            "  Found existing installation: numba 0.51.2\n",
            "    Uninstalling numba-0.51.2:\n",
            "      Successfully uninstalled numba-0.51.2\n",
            "  Found existing installation: resampy 0.2.2\n",
            "    Uninstalling resampy-0.2.2:\n",
            "      Successfully uninstalled resampy-0.2.2\n",
            "  Found existing installation: tensorboard 2.4.1\n",
            "    Uninstalling tensorboard-2.4.1:\n",
            "      Successfully uninstalled tensorboard-2.4.1\n",
            "  Found existing installation: tensorflow-estimator 2.4.0\n",
            "    Uninstalling tensorflow-estimator-2.4.0:\n",
            "      Successfully uninstalled tensorflow-estimator-2.4.0\n",
            "  Found existing installation: gast 0.3.3\n",
            "    Uninstalling gast-0.3.3:\n",
            "      Successfully uninstalled gast-0.3.3\n",
            "  Found existing installation: tensorflow 2.4.1\n",
            "    Uninstalling tensorflow-2.4.1:\n",
            "      Successfully uninstalled tensorflow-2.4.1\n",
            "  Found existing installation: prettytable 2.1.0\n",
            "    Uninstalling prettytable-2.1.0:\n",
            "      Successfully uninstalled prettytable-2.1.0\n",
            "Successfully installed coremltools-3.3 gast-0.2.2 keras-applications-1.0.8 llvmlite-0.33.0 numba-0.50.1 prettytable-0.7.2 resampy-0.2.1 tensorboard-2.0.2 tensorflow-2.0.4 tensorflow-estimator-2.0.1 turicreate-6.4.1\n"
          ],
          "name": "stdout"
        }
      ]
    },
    {
      "cell_type": "code",
      "metadata": {
        "id": "JxATJK6BFH1b"
      },
      "source": [
        "\n",
        "from __future__ import division\n",
        "import turicreate"
      ],
      "execution_count": 3,
      "outputs": []
    },
    {
      "cell_type": "code",
      "metadata": {
        "colab": {
          "resources": {
            "http://localhost:8080/nbextensions/google.colab/files.js": {
              "data": "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",
              "ok": true,
              "headers": [
                [
                  "content-type",
                  "application/javascript"
                ]
              ],
              "status": 200,
              "status_text": ""
            }
          },
          "base_uri": "https://localhost:8080/",
          "height": 72
        },
        "id": "7ntVkhZJFqUn",
        "outputId": "d0ade03a-098a-458e-dff3-c8ed9e000bf9"
      },
      "source": [
        "from google.colab import files\n",
        "uploaded = files.upload()"
      ],
      "execution_count": 1,
      "outputs": [
        {
          "output_type": "display_data",
          "data": {
            "text/html": [
              "\n",
              "     <input type=\"file\" id=\"files-b28d96a9-fa28-4c9f-a37b-c3f8cb649c67\" name=\"files[]\" multiple disabled\n",
              "        style=\"border:none\" />\n",
              "     <output id=\"result-b28d96a9-fa28-4c9f-a37b-c3f8cb649c67\">\n",
              "      Upload widget is only available when the cell has been executed in the\n",
              "      current browser session. Please rerun this cell to enable.\n",
              "      </output>\n",
              "      <script src=\"/nbextensions/google.colab/files.js\"></script> "
            ],
            "text/plain": [
              "<IPython.core.display.HTML object>"
            ]
          },
          "metadata": {
            "tags": []
          }
        },
        {
          "output_type": "stream",
          "text": [
            "Saving amazon_baby_subset.sframe.zip to amazon_baby_subset.sframe.zip\n"
          ],
          "name": "stdout"
        }
      ]
    },
    {
      "cell_type": "code",
      "metadata": {
        "colab": {
          "resources": {
            "http://localhost:8080/nbextensions/google.colab/files.js": {
              "data": "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",
              "ok": true,
              "headers": [
                [
                  "content-type",
                  "application/javascript"
                ]
              ],
              "status": 200,
              "status_text": ""
            }
          },
          "base_uri": "https://localhost:8080/",
          "height": 72
        },
        "id": "StZsCNv7ME75",
        "outputId": "73cc44f0-15d7-48c7-aafe-c9ea112181ed"
      },
      "source": [
        "from google.colab import files\n",
        "uploaded = files.upload()"
      ],
      "execution_count": 5,
      "outputs": [
        {
          "output_type": "display_data",
          "data": {
            "text/html": [
              "\n",
              "     <input type=\"file\" id=\"files-9c975600-2aad-43b7-9d39-d6116db3ff1a\" name=\"files[]\" multiple disabled\n",
              "        style=\"border:none\" />\n",
              "     <output id=\"result-9c975600-2aad-43b7-9d39-d6116db3ff1a\">\n",
              "      Upload widget is only available when the cell has been executed in the\n",
              "      current browser session. Please rerun this cell to enable.\n",
              "      </output>\n",
              "      <script src=\"/nbextensions/google.colab/files.js\"></script> "
            ],
            "text/plain": [
              "<IPython.core.display.HTML object>"
            ]
          },
          "metadata": {
            "tags": []
          }
        },
        {
          "output_type": "stream",
          "text": [
            "Saving important_words.json.zip to important_words.json.zip\n"
          ],
          "name": "stdout"
        }
      ]
    },
    {
      "cell_type": "code",
      "metadata": {
        "colab": {
          "base_uri": "https://localhost:8080/"
        },
        "id": "MDpyHdcDFq2Y",
        "outputId": "655fd30f-50e3-4ab7-9aa3-ae59fec7467e"
      },
      "source": [
        "from zipfile import ZipFile\n",
        "file_name = \"amazon_baby_subset.sframe.zip\"\n",
        "with ZipFile(file_name,'r')as zip:\n",
        "  zip.extractall()\n",
        "  print('Done')"
      ],
      "execution_count": 4,
      "outputs": [
        {
          "output_type": "stream",
          "text": [
            "Done\n"
          ],
          "name": "stdout"
        }
      ]
    },
    {
      "cell_type": "code",
      "metadata": {
        "colab": {
          "base_uri": "https://localhost:8080/"
        },
        "id": "49m2BI7PMY34",
        "outputId": "d3843b1e-9d78-4c60-a982-3d295041c591"
      },
      "source": [
        "from zipfile import ZipFile\n",
        "file_name = \"important_words.json.zip\"\n",
        "with ZipFile(file_name,'r')as zip:\n",
        "  zip.extractall()\n",
        "  print('Done')"
      ],
      "execution_count": 7,
      "outputs": [
        {
          "output_type": "stream",
          "text": [
            "Done\n"
          ],
          "name": "stdout"
        }
      ]
    },
    {
      "cell_type": "markdown",
      "metadata": {
        "id": "tcQQnCVjFH1c"
      },
      "source": [
        "## Load and process review dataset"
      ]
    },
    {
      "cell_type": "markdown",
      "metadata": {
        "id": "fpdiBnGEFH1c"
      },
      "source": [
        "For this assignment, we will use the same subset of the Amazon product review dataset that we used in Module 3 assignment. The subset was chosen to contain similar numbers of positive and negative reviews, as the original dataset consisted of mostly positive reviews."
      ]
    },
    {
      "cell_type": "code",
      "metadata": {
        "id": "9MX15nomFH1c"
      },
      "source": [
        "products = turicreate.SFrame('amazon_baby_subset.sframe/')\n",
        "import string"
      ],
      "execution_count": 10,
      "outputs": []
    },
    {
      "cell_type": "markdown",
      "metadata": {
        "id": "0YoP9_OgFH1d"
      },
      "source": [
        "Just like we did previously, we will work with a hand-curated list of important words extracted from the review data. We will also perform 2 simple data transformations:\n",
        "\n",
        "1. Remove punctuation using [Python's built-in](https://docs.python.org/2/library/string.html) string manipulation functionality.\n",
        "2. Compute word counts (only for the important_words)\n",
        "\n",
        "Refer to Module 3 assignment for more details."
      ]
    },
    {
      "cell_type": "code",
      "metadata": {
        "id": "CDSfs1w9FH1d"
      },
      "source": [
        "import json\n",
        "with open('important_words.json', 'r') as f: \n",
        "    important_words = json.load(f)\n",
        "important_words = [str(s) for s in important_words]\n",
        "\n",
        "# Remove punctuation\n",
        "def remove_punctuation(text):\n",
        "    try: # python 2.x\n",
        "        text = text.translate(None, string.punctuation) \n",
        "    except: # python 3.x\n",
        "        translator = text.maketrans('', '', string.punctuation)\n",
        "        text = text.translate(translator)\n",
        "    return text\n",
        "\n",
        "products['review_clean'] = products['review'].apply(remove_punctuation)\n",
        "\n",
        "# Split out the words into individual columns\n",
        "for word in important_words:\n",
        "    products[word] = products['review_clean'].apply(lambda s : s.split().count(word))"
      ],
      "execution_count": 11,
      "outputs": []
    },
    {
      "cell_type": "markdown",
      "metadata": {
        "id": "2zfE_uTZFH1d"
      },
      "source": [
        "The SFrame **products** now contains one column for each of the 193 **important_words**. "
      ]
    },
    {
      "cell_type": "code",
      "metadata": {
        "id": "K5KVt4TqFH1d",
        "outputId": "327bc44d-aefa-473d-f407-ee4f322dcd93"
      },
      "source": [
        "products"
      ],
      "execution_count": null,
      "outputs": [
        {
          "output_type": "execute_result",
          "data": {
            "text/html": [
              "<div style=\"max-height:1000px;max-width:1500px;overflow:auto;\"><table frame=\"box\" rules=\"cols\">\n",
              "    <tr>\n",
              "        <th style=\"padding-left: 1em; padding-right: 1em; text-align: center\">name</th>\n",
              "        <th style=\"padding-left: 1em; padding-right: 1em; text-align: center\">review</th>\n",
              "        <th style=\"padding-left: 1em; padding-right: 1em; text-align: center\">rating</th>\n",
              "        <th style=\"padding-left: 1em; padding-right: 1em; text-align: center\">sentiment</th>\n",
              "        <th style=\"padding-left: 1em; padding-right: 1em; text-align: center\">review_clean</th>\n",
              "        <th style=\"padding-left: 1em; padding-right: 1em; text-align: center\">baby</th>\n",
              "    </tr>\n",
              "    <tr>\n",
              "        <td style=\"padding-left: 1em; padding-right: 1em; text-align: center; vertical-align: top\">Stop Pacifier Sucking<br>without tears with ...</td>\n",
              "        <td style=\"padding-left: 1em; padding-right: 1em; text-align: center; vertical-align: top\">All of my kids have cried<br>non-stop when I tried to ...</td>\n",
              "        <td style=\"padding-left: 1em; padding-right: 1em; text-align: center; vertical-align: top\">5.0</td>\n",
              "        <td style=\"padding-left: 1em; padding-right: 1em; text-align: center; vertical-align: top\">1</td>\n",
              "        <td style=\"padding-left: 1em; padding-right: 1em; text-align: center; vertical-align: top\">All of my kids have cried<br>nonstop when I tried to ...</td>\n",
              "        <td style=\"padding-left: 1em; padding-right: 1em; text-align: center; vertical-align: top\">0</td>\n",
              "    </tr>\n",
              "    <tr>\n",
              "        <td style=\"padding-left: 1em; padding-right: 1em; text-align: center; vertical-align: top\">Nature's Lullabies Second<br>Year Sticker Calendar ...</td>\n",
              "        <td style=\"padding-left: 1em; padding-right: 1em; text-align: center; vertical-align: top\">We wanted to get<br>something to keep track ...</td>\n",
              "        <td style=\"padding-left: 1em; padding-right: 1em; text-align: center; vertical-align: top\">5.0</td>\n",
              "        <td style=\"padding-left: 1em; padding-right: 1em; text-align: center; vertical-align: top\">1</td>\n",
              "        <td style=\"padding-left: 1em; padding-right: 1em; text-align: center; vertical-align: top\">We wanted to get<br>something to keep track ...</td>\n",
              "        <td style=\"padding-left: 1em; padding-right: 1em; text-align: center; vertical-align: top\">0</td>\n",
              "    </tr>\n",
              "    <tr>\n",
              "        <td style=\"padding-left: 1em; padding-right: 1em; text-align: center; vertical-align: top\">Nature's Lullabies Second<br>Year Sticker Calendar ...</td>\n",
              "        <td style=\"padding-left: 1em; padding-right: 1em; text-align: center; vertical-align: top\">My daughter had her 1st<br>baby over a year ago. ...</td>\n",
              "        <td style=\"padding-left: 1em; padding-right: 1em; text-align: center; vertical-align: top\">5.0</td>\n",
              "        <td style=\"padding-left: 1em; padding-right: 1em; text-align: center; vertical-align: top\">1</td>\n",
              "        <td style=\"padding-left: 1em; padding-right: 1em; text-align: center; vertical-align: top\">My daughter had her 1st<br>baby over a year ago She ...</td>\n",
              "        <td style=\"padding-left: 1em; padding-right: 1em; text-align: center; vertical-align: top\">1</td>\n",
              "    </tr>\n",
              "    <tr>\n",
              "        <td style=\"padding-left: 1em; padding-right: 1em; text-align: center; vertical-align: top\">Lamaze Peekaboo, I Love<br>You ...</td>\n",
              "        <td style=\"padding-left: 1em; padding-right: 1em; text-align: center; vertical-align: top\">One of baby's first and<br>favorite books, and i ...</td>\n",
              "        <td style=\"padding-left: 1em; padding-right: 1em; text-align: center; vertical-align: top\">4.0</td>\n",
              "        <td style=\"padding-left: 1em; padding-right: 1em; text-align: center; vertical-align: top\">1</td>\n",
              "        <td style=\"padding-left: 1em; padding-right: 1em; text-align: center; vertical-align: top\">One of babys first and<br>favorite books and it is ...</td>\n",
              "        <td style=\"padding-left: 1em; padding-right: 1em; text-align: center; vertical-align: top\">0</td>\n",
              "    </tr>\n",
              "    <tr>\n",
              "        <td style=\"padding-left: 1em; padding-right: 1em; text-align: center; vertical-align: top\">SoftPlay Peek-A-Boo<br>Where's Elmo A Childr ...</td>\n",
              "        <td style=\"padding-left: 1em; padding-right: 1em; text-align: center; vertical-align: top\">Very cute interactive<br>book! My son loves this ...</td>\n",
              "        <td style=\"padding-left: 1em; padding-right: 1em; text-align: center; vertical-align: top\">5.0</td>\n",
              "        <td style=\"padding-left: 1em; padding-right: 1em; text-align: center; vertical-align: top\">1</td>\n",
              "        <td style=\"padding-left: 1em; padding-right: 1em; text-align: center; vertical-align: top\">Very cute interactive<br>book My son loves this ...</td>\n",
              "        <td style=\"padding-left: 1em; padding-right: 1em; text-align: center; vertical-align: top\">0</td>\n",
              "    </tr>\n",
              "    <tr>\n",
              "        <td style=\"padding-left: 1em; padding-right: 1em; text-align: center; vertical-align: top\">Our Baby Girl Memory Book</td>\n",
              "        <td style=\"padding-left: 1em; padding-right: 1em; text-align: center; vertical-align: top\">Beautiful book, I love it<br>to record cherished t ...</td>\n",
              "        <td style=\"padding-left: 1em; padding-right: 1em; text-align: center; vertical-align: top\">5.0</td>\n",
              "        <td style=\"padding-left: 1em; padding-right: 1em; text-align: center; vertical-align: top\">1</td>\n",
              "        <td style=\"padding-left: 1em; padding-right: 1em; text-align: center; vertical-align: top\">Beautiful book I love it<br>to record cherished t ...</td>\n",
              "        <td style=\"padding-left: 1em; padding-right: 1em; text-align: center; vertical-align: top\">0</td>\n",
              "    </tr>\n",
              "    <tr>\n",
              "        <td style=\"padding-left: 1em; padding-right: 1em; text-align: center; vertical-align: top\">Hunnt&amp;reg; Falling<br>Flowers and Birds Kids ...</td>\n",
              "        <td style=\"padding-left: 1em; padding-right: 1em; text-align: center; vertical-align: top\">Try this out for a spring<br>project !Easy ,fun and ...</td>\n",
              "        <td style=\"padding-left: 1em; padding-right: 1em; text-align: center; vertical-align: top\">5.0</td>\n",
              "        <td style=\"padding-left: 1em; padding-right: 1em; text-align: center; vertical-align: top\">1</td>\n",
              "        <td style=\"padding-left: 1em; padding-right: 1em; text-align: center; vertical-align: top\">Try this out for a spring<br>project Easy fun and ...</td>\n",
              "        <td style=\"padding-left: 1em; padding-right: 1em; text-align: center; vertical-align: top\">0</td>\n",
              "    </tr>\n",
              "    <tr>\n",
              "        <td style=\"padding-left: 1em; padding-right: 1em; text-align: center; vertical-align: top\">Blessed By Pope Benedict<br>XVI Divine Mercy Full ...</td>\n",
              "        <td style=\"padding-left: 1em; padding-right: 1em; text-align: center; vertical-align: top\">very nice Divine Mercy<br>Pendant of Jesus now on ...</td>\n",
              "        <td style=\"padding-left: 1em; padding-right: 1em; text-align: center; vertical-align: top\">5.0</td>\n",
              "        <td style=\"padding-left: 1em; padding-right: 1em; text-align: center; vertical-align: top\">1</td>\n",
              "        <td style=\"padding-left: 1em; padding-right: 1em; text-align: center; vertical-align: top\">very nice Divine Mercy<br>Pendant of Jesus now on ...</td>\n",
              "        <td style=\"padding-left: 1em; padding-right: 1em; text-align: center; vertical-align: top\">0</td>\n",
              "    </tr>\n",
              "    <tr>\n",
              "        <td style=\"padding-left: 1em; padding-right: 1em; text-align: center; vertical-align: top\">Cloth Diaper Pins<br>Stainless Steel ...</td>\n",
              "        <td style=\"padding-left: 1em; padding-right: 1em; text-align: center; vertical-align: top\">We bought the pins as my<br>6 year old Autistic son ...</td>\n",
              "        <td style=\"padding-left: 1em; padding-right: 1em; text-align: center; vertical-align: top\">4.0</td>\n",
              "        <td style=\"padding-left: 1em; padding-right: 1em; text-align: center; vertical-align: top\">1</td>\n",
              "        <td style=\"padding-left: 1em; padding-right: 1em; text-align: center; vertical-align: top\">We bought the pins as my<br>6 year old Autistic son ...</td>\n",
              "        <td style=\"padding-left: 1em; padding-right: 1em; text-align: center; vertical-align: top\">0</td>\n",
              "    </tr>\n",
              "    <tr>\n",
              "        <td style=\"padding-left: 1em; padding-right: 1em; text-align: center; vertical-align: top\">Cloth Diaper Pins<br>Stainless Steel ...</td>\n",
              "        <td style=\"padding-left: 1em; padding-right: 1em; text-align: center; vertical-align: top\">It has been many years<br>since we needed diaper ...</td>\n",
              "        <td style=\"padding-left: 1em; padding-right: 1em; text-align: center; vertical-align: top\">5.0</td>\n",
              "        <td style=\"padding-left: 1em; padding-right: 1em; text-align: center; vertical-align: top\">1</td>\n",
              "        <td style=\"padding-left: 1em; padding-right: 1em; text-align: center; vertical-align: top\">It has been many years<br>since we needed diaper ...</td>\n",
              "        <td style=\"padding-left: 1em; padding-right: 1em; text-align: center; vertical-align: top\">0</td>\n",
              "    </tr>\n",
              "</table>\n",
              "<table frame=\"box\" rules=\"cols\">\n",
              "    <tr>\n",
              "        <th style=\"padding-left: 1em; padding-right: 1em; text-align: center\">one</th>\n",
              "        <th style=\"padding-left: 1em; padding-right: 1em; text-align: center\">great</th>\n",
              "        <th style=\"padding-left: 1em; padding-right: 1em; text-align: center\">love</th>\n",
              "        <th style=\"padding-left: 1em; padding-right: 1em; text-align: center\">use</th>\n",
              "        <th style=\"padding-left: 1em; padding-right: 1em; text-align: center\">would</th>\n",
              "        <th style=\"padding-left: 1em; padding-right: 1em; text-align: center\">like</th>\n",
              "        <th style=\"padding-left: 1em; padding-right: 1em; text-align: center\">easy</th>\n",
              "        <th style=\"padding-left: 1em; padding-right: 1em; text-align: center\">little</th>\n",
              "        <th style=\"padding-left: 1em; padding-right: 1em; text-align: center\">seat</th>\n",
              "        <th style=\"padding-left: 1em; padding-right: 1em; text-align: center\">old</th>\n",
              "        <th style=\"padding-left: 1em; padding-right: 1em; text-align: center\">well</th>\n",
              "        <th style=\"padding-left: 1em; padding-right: 1em; text-align: center\">get</th>\n",
              "        <th style=\"padding-left: 1em; padding-right: 1em; text-align: center\">also</th>\n",
              "        <th style=\"padding-left: 1em; padding-right: 1em; text-align: center\">really</th>\n",
              "        <th style=\"padding-left: 1em; padding-right: 1em; text-align: center\">son</th>\n",
              "        <th style=\"padding-left: 1em; padding-right: 1em; text-align: center\">time</th>\n",
              "        <th style=\"padding-left: 1em; padding-right: 1em; text-align: center\">bought</th>\n",
              "    </tr>\n",
              "    <tr>\n",
              "        <td style=\"padding-left: 1em; padding-right: 1em; text-align: center; vertical-align: top\">0</td>\n",
              "        <td style=\"padding-left: 1em; padding-right: 1em; text-align: center; vertical-align: top\">1</td>\n",
              "        <td style=\"padding-left: 1em; padding-right: 1em; text-align: center; vertical-align: top\">0</td>\n",
              "        <td style=\"padding-left: 1em; padding-right: 1em; text-align: center; vertical-align: top\">0</td>\n",
              "        <td style=\"padding-left: 1em; padding-right: 1em; text-align: center; vertical-align: top\">0</td>\n",
              "        <td style=\"padding-left: 1em; padding-right: 1em; text-align: center; vertical-align: top\">0</td>\n",
              "        <td style=\"padding-left: 1em; padding-right: 1em; text-align: center; vertical-align: top\">1</td>\n",
              "        <td style=\"padding-left: 1em; padding-right: 1em; text-align: center; vertical-align: top\">0</td>\n",
              "        <td style=\"padding-left: 1em; padding-right: 1em; text-align: center; vertical-align: top\">0</td>\n",
              "        <td style=\"padding-left: 1em; padding-right: 1em; text-align: center; vertical-align: top\">0</td>\n",
              "        <td style=\"padding-left: 1em; padding-right: 1em; text-align: center; vertical-align: top\">0</td>\n",
              "        <td style=\"padding-left: 1em; padding-right: 1em; text-align: center; vertical-align: top\">0</td>\n",
              "        <td style=\"padding-left: 1em; padding-right: 1em; text-align: center; vertical-align: top\">0</td>\n",
              "        <td style=\"padding-left: 1em; padding-right: 1em; text-align: center; vertical-align: top\">0</td>\n",
              "        <td style=\"padding-left: 1em; padding-right: 1em; text-align: center; vertical-align: top\">0</td>\n",
              "        <td style=\"padding-left: 1em; padding-right: 1em; text-align: center; vertical-align: top\">0</td>\n",
              "        <td style=\"padding-left: 1em; padding-right: 1em; text-align: center; vertical-align: top\">0</td>\n",
              "    </tr>\n",
              "    <tr>\n",
              "        <td style=\"padding-left: 1em; padding-right: 1em; text-align: center; vertical-align: top\">0</td>\n",
              "        <td style=\"padding-left: 1em; padding-right: 1em; text-align: center; vertical-align: top\">0</td>\n",
              "        <td style=\"padding-left: 1em; padding-right: 1em; text-align: center; vertical-align: top\">0</td>\n",
              "        <td style=\"padding-left: 1em; padding-right: 1em; text-align: center; vertical-align: top\">0</td>\n",
              "        <td style=\"padding-left: 1em; padding-right: 1em; text-align: center; vertical-align: top\">0</td>\n",
              "        <td style=\"padding-left: 1em; padding-right: 1em; text-align: center; vertical-align: top\">0</td>\n",
              "        <td style=\"padding-left: 1em; padding-right: 1em; text-align: center; vertical-align: top\">0</td>\n",
              "        <td style=\"padding-left: 1em; padding-right: 1em; text-align: center; vertical-align: top\">0</td>\n",
              "        <td style=\"padding-left: 1em; padding-right: 1em; text-align: center; vertical-align: top\">0</td>\n",
              "        <td style=\"padding-left: 1em; padding-right: 1em; text-align: center; vertical-align: top\">0</td>\n",
              "        <td style=\"padding-left: 1em; padding-right: 1em; text-align: center; vertical-align: top\">0</td>\n",
              "        <td style=\"padding-left: 1em; padding-right: 1em; text-align: center; vertical-align: top\">1</td>\n",
              "        <td style=\"padding-left: 1em; padding-right: 1em; text-align: center; vertical-align: top\">0</td>\n",
              "        <td style=\"padding-left: 1em; padding-right: 1em; text-align: center; vertical-align: top\">0</td>\n",
              "        <td style=\"padding-left: 1em; padding-right: 1em; text-align: center; vertical-align: top\">0</td>\n",
              "        <td style=\"padding-left: 1em; padding-right: 1em; text-align: center; vertical-align: top\">0</td>\n",
              "        <td style=\"padding-left: 1em; padding-right: 1em; text-align: center; vertical-align: top\">0</td>\n",
              "    </tr>\n",
              "    <tr>\n",
              "        <td style=\"padding-left: 1em; padding-right: 1em; text-align: center; vertical-align: top\">0</td>\n",
              "        <td style=\"padding-left: 1em; padding-right: 1em; text-align: center; vertical-align: top\">0</td>\n",
              "        <td style=\"padding-left: 1em; padding-right: 1em; text-align: center; vertical-align: top\">0</td>\n",
              "        <td style=\"padding-left: 1em; padding-right: 1em; text-align: center; vertical-align: top\">0</td>\n",
              "        <td style=\"padding-left: 1em; padding-right: 1em; text-align: center; vertical-align: top\">0</td>\n",
              "        <td style=\"padding-left: 1em; padding-right: 1em; text-align: center; vertical-align: top\">0</td>\n",
              "        <td style=\"padding-left: 1em; padding-right: 1em; text-align: center; vertical-align: top\">0</td>\n",
              "        <td style=\"padding-left: 1em; padding-right: 1em; text-align: center; vertical-align: top\">0</td>\n",
              "        <td style=\"padding-left: 1em; padding-right: 1em; text-align: center; vertical-align: top\">0</td>\n",
              "        <td style=\"padding-left: 1em; padding-right: 1em; text-align: center; vertical-align: top\">1</td>\n",
              "        <td style=\"padding-left: 1em; padding-right: 1em; text-align: center; vertical-align: top\">0</td>\n",
              "        <td style=\"padding-left: 1em; padding-right: 1em; text-align: center; vertical-align: top\">1</td>\n",
              "        <td style=\"padding-left: 1em; padding-right: 1em; text-align: center; vertical-align: top\">0</td>\n",
              "        <td style=\"padding-left: 1em; padding-right: 1em; text-align: center; vertical-align: top\">0</td>\n",
              "        <td style=\"padding-left: 1em; padding-right: 1em; text-align: center; vertical-align: top\">1</td>\n",
              "        <td style=\"padding-left: 1em; padding-right: 1em; text-align: center; vertical-align: top\">0</td>\n",
              "        <td style=\"padding-left: 1em; padding-right: 1em; text-align: center; vertical-align: top\">0</td>\n",
              "    </tr>\n",
              "    <tr>\n",
              "        <td style=\"padding-left: 1em; padding-right: 1em; text-align: center; vertical-align: top\">0</td>\n",
              "        <td style=\"padding-left: 1em; padding-right: 1em; text-align: center; vertical-align: top\">0</td>\n",
              "        <td style=\"padding-left: 1em; padding-right: 1em; text-align: center; vertical-align: top\">0</td>\n",
              "        <td style=\"padding-left: 1em; padding-right: 1em; text-align: center; vertical-align: top\">0</td>\n",
              "        <td style=\"padding-left: 1em; padding-right: 1em; text-align: center; vertical-align: top\">0</td>\n",
              "        <td style=\"padding-left: 1em; padding-right: 1em; text-align: center; vertical-align: top\">1</td>\n",
              "        <td style=\"padding-left: 1em; padding-right: 1em; text-align: center; vertical-align: top\">0</td>\n",
              "        <td style=\"padding-left: 1em; padding-right: 1em; text-align: center; vertical-align: top\">0</td>\n",
              "        <td style=\"padding-left: 1em; padding-right: 1em; text-align: center; vertical-align: top\">0</td>\n",
              "        <td style=\"padding-left: 1em; padding-right: 1em; text-align: center; vertical-align: top\">0</td>\n",
              "        <td style=\"padding-left: 1em; padding-right: 1em; text-align: center; vertical-align: top\">0</td>\n",
              "        <td style=\"padding-left: 1em; padding-right: 1em; text-align: center; vertical-align: top\">0</td>\n",
              "        <td style=\"padding-left: 1em; padding-right: 1em; text-align: center; vertical-align: top\">0</td>\n",
              "        <td style=\"padding-left: 1em; padding-right: 1em; text-align: center; vertical-align: top\">0</td>\n",
              "        <td style=\"padding-left: 1em; padding-right: 1em; text-align: center; vertical-align: top\">0</td>\n",
              "        <td style=\"padding-left: 1em; padding-right: 1em; text-align: center; vertical-align: top\">0</td>\n",
              "        <td style=\"padding-left: 1em; padding-right: 1em; text-align: center; vertical-align: top\">0</td>\n",
              "    </tr>\n",
              "    <tr>\n",
              "        <td style=\"padding-left: 1em; padding-right: 1em; text-align: center; vertical-align: top\">0</td>\n",
              "        <td style=\"padding-left: 1em; padding-right: 1em; text-align: center; vertical-align: top\">1</td>\n",
              "        <td style=\"padding-left: 1em; padding-right: 1em; text-align: center; vertical-align: top\">0</td>\n",
              "        <td style=\"padding-left: 1em; padding-right: 1em; text-align: center; vertical-align: top\">0</td>\n",
              "        <td style=\"padding-left: 1em; padding-right: 1em; text-align: center; vertical-align: top\">0</td>\n",
              "        <td style=\"padding-left: 1em; padding-right: 1em; text-align: center; vertical-align: top\">0</td>\n",
              "        <td style=\"padding-left: 1em; padding-right: 1em; text-align: center; vertical-align: top\">0</td>\n",
              "        <td style=\"padding-left: 1em; padding-right: 1em; text-align: center; vertical-align: top\">0</td>\n",
              "        <td style=\"padding-left: 1em; padding-right: 1em; text-align: center; vertical-align: top\">0</td>\n",
              "        <td style=\"padding-left: 1em; padding-right: 1em; text-align: center; vertical-align: top\">0</td>\n",
              "        <td style=\"padding-left: 1em; padding-right: 1em; text-align: center; vertical-align: top\">0</td>\n",
              "        <td style=\"padding-left: 1em; padding-right: 1em; text-align: center; vertical-align: top\">0</td>\n",
              "        <td style=\"padding-left: 1em; padding-right: 1em; text-align: center; vertical-align: top\">0</td>\n",
              "        <td style=\"padding-left: 1em; padding-right: 1em; text-align: center; vertical-align: top\">0</td>\n",
              "        <td style=\"padding-left: 1em; padding-right: 1em; text-align: center; vertical-align: top\">1</td>\n",
              "        <td style=\"padding-left: 1em; padding-right: 1em; text-align: center; vertical-align: top\">0</td>\n",
              "        <td style=\"padding-left: 1em; padding-right: 1em; text-align: center; vertical-align: top\">0</td>\n",
              "    </tr>\n",
              "    <tr>\n",
              "        <td style=\"padding-left: 1em; padding-right: 1em; text-align: center; vertical-align: top\">0</td>\n",
              "        <td style=\"padding-left: 1em; padding-right: 1em; text-align: center; vertical-align: top\">1</td>\n",
              "        <td style=\"padding-left: 1em; padding-right: 1em; text-align: center; vertical-align: top\">1</td>\n",
              "        <td style=\"padding-left: 1em; padding-right: 1em; text-align: center; vertical-align: top\">0</td>\n",
              "        <td style=\"padding-left: 1em; padding-right: 1em; text-align: center; vertical-align: top\">0</td>\n",
              "        <td style=\"padding-left: 1em; padding-right: 1em; text-align: center; vertical-align: top\">0</td>\n",
              "        <td style=\"padding-left: 1em; padding-right: 1em; text-align: center; vertical-align: top\">0</td>\n",
              "        <td style=\"padding-left: 1em; padding-right: 1em; text-align: center; vertical-align: top\">0</td>\n",
              "        <td style=\"padding-left: 1em; padding-right: 1em; text-align: center; vertical-align: top\">0</td>\n",
              "        <td style=\"padding-left: 1em; padding-right: 1em; text-align: center; vertical-align: top\">0</td>\n",
              "        <td style=\"padding-left: 1em; padding-right: 1em; text-align: center; vertical-align: top\">0</td>\n",
              "        <td style=\"padding-left: 1em; padding-right: 1em; text-align: center; vertical-align: top\">0</td>\n",
              "        <td style=\"padding-left: 1em; padding-right: 1em; text-align: center; vertical-align: top\">0</td>\n",
              "        <td style=\"padding-left: 1em; padding-right: 1em; text-align: center; vertical-align: top\">0</td>\n",
              "        <td style=\"padding-left: 1em; padding-right: 1em; text-align: center; vertical-align: top\">0</td>\n",
              "        <td style=\"padding-left: 1em; padding-right: 1em; text-align: center; vertical-align: top\">0</td>\n",
              "        <td style=\"padding-left: 1em; padding-right: 1em; text-align: center; vertical-align: top\">0</td>\n",
              "    </tr>\n",
              "    <tr>\n",
              "        <td style=\"padding-left: 1em; padding-right: 1em; text-align: center; vertical-align: top\">0</td>\n",
              "        <td style=\"padding-left: 1em; padding-right: 1em; text-align: center; vertical-align: top\">0</td>\n",
              "        <td style=\"padding-left: 1em; padding-right: 1em; text-align: center; vertical-align: top\">0</td>\n",
              "        <td style=\"padding-left: 1em; padding-right: 1em; text-align: center; vertical-align: top\">0</td>\n",
              "        <td style=\"padding-left: 1em; padding-right: 1em; text-align: center; vertical-align: top\">0</td>\n",
              "        <td style=\"padding-left: 1em; padding-right: 1em; text-align: center; vertical-align: top\">0</td>\n",
              "        <td style=\"padding-left: 1em; padding-right: 1em; text-align: center; vertical-align: top\">0</td>\n",
              "        <td style=\"padding-left: 1em; padding-right: 1em; text-align: center; vertical-align: top\">0</td>\n",
              "        <td style=\"padding-left: 1em; padding-right: 1em; text-align: center; vertical-align: top\">0</td>\n",
              "        <td style=\"padding-left: 1em; padding-right: 1em; text-align: center; vertical-align: top\">0</td>\n",
              "        <td style=\"padding-left: 1em; padding-right: 1em; text-align: center; vertical-align: top\">0</td>\n",
              "        <td style=\"padding-left: 1em; padding-right: 1em; text-align: center; vertical-align: top\">0</td>\n",
              "        <td style=\"padding-left: 1em; padding-right: 1em; text-align: center; vertical-align: top\">0</td>\n",
              "        <td style=\"padding-left: 1em; padding-right: 1em; text-align: center; vertical-align: top\">0</td>\n",
              "        <td style=\"padding-left: 1em; padding-right: 1em; text-align: center; vertical-align: top\">0</td>\n",
              "        <td style=\"padding-left: 1em; padding-right: 1em; text-align: center; vertical-align: top\">0</td>\n",
              "        <td style=\"padding-left: 1em; padding-right: 1em; text-align: center; vertical-align: top\">0</td>\n",
              "    </tr>\n",
              "    <tr>\n",
              "        <td style=\"padding-left: 1em; padding-right: 1em; text-align: center; vertical-align: top\">0</td>\n",
              "        <td style=\"padding-left: 1em; padding-right: 1em; text-align: center; vertical-align: top\">0</td>\n",
              "        <td style=\"padding-left: 1em; padding-right: 1em; text-align: center; vertical-align: top\">0</td>\n",
              "        <td style=\"padding-left: 1em; padding-right: 1em; text-align: center; vertical-align: top\">0</td>\n",
              "        <td style=\"padding-left: 1em; padding-right: 1em; text-align: center; vertical-align: top\">0</td>\n",
              "        <td style=\"padding-left: 1em; padding-right: 1em; text-align: center; vertical-align: top\">0</td>\n",
              "        <td style=\"padding-left: 1em; padding-right: 1em; text-align: center; vertical-align: top\">0</td>\n",
              "        <td style=\"padding-left: 1em; padding-right: 1em; text-align: center; vertical-align: top\">0</td>\n",
              "        <td style=\"padding-left: 1em; padding-right: 1em; text-align: center; vertical-align: top\">0</td>\n",
              "        <td style=\"padding-left: 1em; padding-right: 1em; text-align: center; vertical-align: top\">0</td>\n",
              "        <td style=\"padding-left: 1em; padding-right: 1em; text-align: center; vertical-align: top\">0</td>\n",
              "        <td style=\"padding-left: 1em; padding-right: 1em; text-align: center; vertical-align: top\">0</td>\n",
              "        <td style=\"padding-left: 1em; padding-right: 1em; text-align: center; vertical-align: top\">0</td>\n",
              "        <td style=\"padding-left: 1em; padding-right: 1em; text-align: center; vertical-align: top\">0</td>\n",
              "        <td style=\"padding-left: 1em; padding-right: 1em; text-align: center; vertical-align: top\">0</td>\n",
              "        <td style=\"padding-left: 1em; padding-right: 1em; text-align: center; vertical-align: top\">0</td>\n",
              "        <td style=\"padding-left: 1em; padding-right: 1em; text-align: center; vertical-align: top\">0</td>\n",
              "    </tr>\n",
              "    <tr>\n",
              "        <td style=\"padding-left: 1em; padding-right: 1em; text-align: center; vertical-align: top\">1</td>\n",
              "        <td style=\"padding-left: 1em; padding-right: 1em; text-align: center; vertical-align: top\">0</td>\n",
              "        <td style=\"padding-left: 1em; padding-right: 1em; text-align: center; vertical-align: top\">0</td>\n",
              "        <td style=\"padding-left: 1em; padding-right: 1em; text-align: center; vertical-align: top\">1</td>\n",
              "        <td style=\"padding-left: 1em; padding-right: 1em; text-align: center; vertical-align: top\">0</td>\n",
              "        <td style=\"padding-left: 1em; padding-right: 1em; text-align: center; vertical-align: top\">0</td>\n",
              "        <td style=\"padding-left: 1em; padding-right: 1em; text-align: center; vertical-align: top\">0</td>\n",
              "        <td style=\"padding-left: 1em; padding-right: 1em; text-align: center; vertical-align: top\">0</td>\n",
              "        <td style=\"padding-left: 1em; padding-right: 1em; text-align: center; vertical-align: top\">0</td>\n",
              "        <td style=\"padding-left: 1em; padding-right: 1em; text-align: center; vertical-align: top\">1</td>\n",
              "        <td style=\"padding-left: 1em; padding-right: 1em; text-align: center; vertical-align: top\">0</td>\n",
              "        <td style=\"padding-left: 1em; padding-right: 1em; text-align: center; vertical-align: top\">0</td>\n",
              "        <td style=\"padding-left: 1em; padding-right: 1em; text-align: center; vertical-align: top\">0</td>\n",
              "        <td style=\"padding-left: 1em; padding-right: 1em; text-align: center; vertical-align: top\">0</td>\n",
              "        <td style=\"padding-left: 1em; padding-right: 1em; text-align: center; vertical-align: top\">1</td>\n",
              "        <td style=\"padding-left: 1em; padding-right: 1em; text-align: center; vertical-align: top\">1</td>\n",
              "        <td style=\"padding-left: 1em; padding-right: 1em; text-align: center; vertical-align: top\">1</td>\n",
              "    </tr>\n",
              "    <tr>\n",
              "        <td style=\"padding-left: 1em; padding-right: 1em; text-align: center; vertical-align: top\">1</td>\n",
              "        <td style=\"padding-left: 1em; padding-right: 1em; text-align: center; vertical-align: top\">0</td>\n",
              "        <td style=\"padding-left: 1em; padding-right: 1em; text-align: center; vertical-align: top\">0</td>\n",
              "        <td style=\"padding-left: 1em; padding-right: 1em; text-align: center; vertical-align: top\">0</td>\n",
              "        <td style=\"padding-left: 1em; padding-right: 1em; text-align: center; vertical-align: top\">0</td>\n",
              "        <td style=\"padding-left: 1em; padding-right: 1em; text-align: center; vertical-align: top\">1</td>\n",
              "        <td style=\"padding-left: 1em; padding-right: 1em; text-align: center; vertical-align: top\">0</td>\n",
              "        <td style=\"padding-left: 1em; padding-right: 1em; text-align: center; vertical-align: top\">1</td>\n",
              "        <td style=\"padding-left: 1em; padding-right: 1em; text-align: center; vertical-align: top\">0</td>\n",
              "        <td style=\"padding-left: 1em; padding-right: 1em; text-align: center; vertical-align: top\">0</td>\n",
              "        <td style=\"padding-left: 1em; padding-right: 1em; text-align: center; vertical-align: top\">0</td>\n",
              "        <td style=\"padding-left: 1em; padding-right: 1em; text-align: center; vertical-align: top\">1</td>\n",
              "        <td style=\"padding-left: 1em; padding-right: 1em; text-align: center; vertical-align: top\">0</td>\n",
              "        <td style=\"padding-left: 1em; padding-right: 1em; text-align: center; vertical-align: top\">0</td>\n",
              "        <td style=\"padding-left: 1em; padding-right: 1em; text-align: center; vertical-align: top\">0</td>\n",
              "        <td style=\"padding-left: 1em; padding-right: 1em; text-align: center; vertical-align: top\">0</td>\n",
              "        <td style=\"padding-left: 1em; padding-right: 1em; text-align: center; vertical-align: top\">0</td>\n",
              "    </tr>\n",
              "</table>\n",
              "<table frame=\"box\" rules=\"cols\">\n",
              "    <tr>\n",
              "        <th style=\"padding-left: 1em; padding-right: 1em; text-align: center\">product</th>\n",
              "        <th style=\"padding-left: 1em; padding-right: 1em; text-align: center\">good</th>\n",
              "        <th style=\"padding-left: 1em; padding-right: 1em; text-align: center\">daughter</th>\n",
              "        <th style=\"padding-left: 1em; padding-right: 1em; text-align: center\">much</th>\n",
              "        <th style=\"padding-left: 1em; padding-right: 1em; text-align: center\">loves</th>\n",
              "        <th style=\"padding-left: 1em; padding-right: 1em; text-align: center\">stroller</th>\n",
              "        <th style=\"padding-left: 1em; padding-right: 1em; text-align: center\">put</th>\n",
              "        <th style=\"padding-left: 1em; padding-right: 1em; text-align: center\">months</th>\n",
              "        <th style=\"padding-left: 1em; padding-right: 1em; text-align: center\">car</th>\n",
              "        <th style=\"padding-left: 1em; padding-right: 1em; text-align: center\">still</th>\n",
              "        <th style=\"padding-left: 1em; padding-right: 1em; text-align: center\">back</th>\n",
              "        <th style=\"padding-left: 1em; padding-right: 1em; text-align: center\">used</th>\n",
              "        <th style=\"padding-left: 1em; padding-right: 1em; text-align: center\">recommend</th>\n",
              "        <th style=\"padding-left: 1em; padding-right: 1em; text-align: center\">first</th>\n",
              "        <th style=\"padding-left: 1em; padding-right: 1em; text-align: center\">even</th>\n",
              "    </tr>\n",
              "    <tr>\n",
              "        <td style=\"padding-left: 1em; padding-right: 1em; text-align: center; vertical-align: top\">0</td>\n",
              "        <td style=\"padding-left: 1em; padding-right: 1em; text-align: center; vertical-align: top\">0</td>\n",
              "        <td style=\"padding-left: 1em; padding-right: 1em; text-align: center; vertical-align: top\">0</td>\n",
              "        <td style=\"padding-left: 1em; padding-right: 1em; text-align: center; vertical-align: top\">0</td>\n",
              "        <td style=\"padding-left: 1em; padding-right: 1em; text-align: center; vertical-align: top\">0</td>\n",
              "        <td style=\"padding-left: 1em; padding-right: 1em; text-align: center; vertical-align: top\">0</td>\n",
              "        <td style=\"padding-left: 1em; padding-right: 1em; text-align: center; vertical-align: top\">0</td>\n",
              "        <td style=\"padding-left: 1em; padding-right: 1em; text-align: center; vertical-align: top\">0</td>\n",
              "        <td style=\"padding-left: 1em; padding-right: 1em; text-align: center; vertical-align: top\">0</td>\n",
              "        <td style=\"padding-left: 1em; padding-right: 1em; text-align: center; vertical-align: top\">0</td>\n",
              "        <td style=\"padding-left: 1em; padding-right: 1em; text-align: center; vertical-align: top\">0</td>\n",
              "        <td style=\"padding-left: 1em; padding-right: 1em; text-align: center; vertical-align: top\">0</td>\n",
              "        <td style=\"padding-left: 1em; padding-right: 1em; text-align: center; vertical-align: top\">0</td>\n",
              "        <td style=\"padding-left: 1em; padding-right: 1em; text-align: center; vertical-align: top\">0</td>\n",
              "        <td style=\"padding-left: 1em; padding-right: 1em; text-align: center; vertical-align: top\">0</td>\n",
              "    </tr>\n",
              "    <tr>\n",
              "        <td style=\"padding-left: 1em; padding-right: 1em; text-align: center; vertical-align: top\">0</td>\n",
              "        <td style=\"padding-left: 1em; padding-right: 1em; text-align: center; vertical-align: top\">0</td>\n",
              "        <td style=\"padding-left: 1em; padding-right: 1em; text-align: center; vertical-align: top\">0</td>\n",
              "        <td style=\"padding-left: 1em; padding-right: 1em; text-align: center; vertical-align: top\">0</td>\n",
              "        <td style=\"padding-left: 1em; padding-right: 1em; text-align: center; vertical-align: top\">0</td>\n",
              "        <td style=\"padding-left: 1em; padding-right: 1em; text-align: center; vertical-align: top\">0</td>\n",
              "        <td style=\"padding-left: 1em; padding-right: 1em; text-align: center; vertical-align: top\">0</td>\n",
              "        <td style=\"padding-left: 1em; padding-right: 1em; text-align: center; vertical-align: top\">0</td>\n",
              "        <td style=\"padding-left: 1em; padding-right: 1em; text-align: center; vertical-align: top\">0</td>\n",
              "        <td style=\"padding-left: 1em; padding-right: 1em; text-align: center; vertical-align: top\">0</td>\n",
              "        <td style=\"padding-left: 1em; padding-right: 1em; text-align: center; vertical-align: top\">0</td>\n",
              "        <td style=\"padding-left: 1em; padding-right: 1em; text-align: center; vertical-align: top\">0</td>\n",
              "        <td style=\"padding-left: 1em; padding-right: 1em; text-align: center; vertical-align: top\">0</td>\n",
              "        <td style=\"padding-left: 1em; padding-right: 1em; text-align: center; vertical-align: top\">0</td>\n",
              "        <td style=\"padding-left: 1em; padding-right: 1em; text-align: center; vertical-align: top\">0</td>\n",
              "    </tr>\n",
              "    <tr>\n",
              "        <td style=\"padding-left: 1em; padding-right: 1em; text-align: center; vertical-align: top\">0</td>\n",
              "        <td style=\"padding-left: 1em; padding-right: 1em; text-align: center; vertical-align: top\">0</td>\n",
              "        <td style=\"padding-left: 1em; padding-right: 1em; text-align: center; vertical-align: top\">1</td>\n",
              "        <td style=\"padding-left: 1em; padding-right: 1em; text-align: center; vertical-align: top\">0</td>\n",
              "        <td style=\"padding-left: 1em; padding-right: 1em; text-align: center; vertical-align: top\">0</td>\n",
              "        <td style=\"padding-left: 1em; padding-right: 1em; text-align: center; vertical-align: top\">0</td>\n",
              "        <td style=\"padding-left: 1em; padding-right: 1em; text-align: center; vertical-align: top\">0</td>\n",
              "        <td style=\"padding-left: 1em; padding-right: 1em; text-align: center; vertical-align: top\">0</td>\n",
              "        <td style=\"padding-left: 1em; padding-right: 1em; text-align: center; vertical-align: top\">0</td>\n",
              "        <td style=\"padding-left: 1em; padding-right: 1em; text-align: center; vertical-align: top\">0</td>\n",
              "        <td style=\"padding-left: 1em; padding-right: 1em; text-align: center; vertical-align: top\">0</td>\n",
              "        <td style=\"padding-left: 1em; padding-right: 1em; text-align: center; vertical-align: top\">0</td>\n",
              "        <td style=\"padding-left: 1em; padding-right: 1em; text-align: center; vertical-align: top\">0</td>\n",
              "        <td style=\"padding-left: 1em; padding-right: 1em; text-align: center; vertical-align: top\">1</td>\n",
              "        <td style=\"padding-left: 1em; padding-right: 1em; text-align: center; vertical-align: top\">0</td>\n",
              "    </tr>\n",
              "    <tr>\n",
              "        <td style=\"padding-left: 1em; padding-right: 1em; text-align: center; vertical-align: top\">0</td>\n",
              "        <td style=\"padding-left: 1em; padding-right: 1em; text-align: center; vertical-align: top\">0</td>\n",
              "        <td style=\"padding-left: 1em; padding-right: 1em; text-align: center; vertical-align: top\">0</td>\n",
              "        <td style=\"padding-left: 1em; padding-right: 1em; text-align: center; vertical-align: top\">0</td>\n",
              "        <td style=\"padding-left: 1em; padding-right: 1em; text-align: center; vertical-align: top\">0</td>\n",
              "        <td style=\"padding-left: 1em; padding-right: 1em; text-align: center; vertical-align: top\">0</td>\n",
              "        <td style=\"padding-left: 1em; padding-right: 1em; text-align: center; vertical-align: top\">0</td>\n",
              "        <td style=\"padding-left: 1em; padding-right: 1em; text-align: center; vertical-align: top\">0</td>\n",
              "        <td style=\"padding-left: 1em; padding-right: 1em; text-align: center; vertical-align: top\">0</td>\n",
              "        <td style=\"padding-left: 1em; padding-right: 1em; text-align: center; vertical-align: top\">0</td>\n",
              "        <td style=\"padding-left: 1em; padding-right: 1em; text-align: center; vertical-align: top\">0</td>\n",
              "        <td style=\"padding-left: 1em; padding-right: 1em; text-align: center; vertical-align: top\">0</td>\n",
              "        <td style=\"padding-left: 1em; padding-right: 1em; text-align: center; vertical-align: top\">0</td>\n",
              "        <td style=\"padding-left: 1em; padding-right: 1em; text-align: center; vertical-align: top\">1</td>\n",
              "        <td style=\"padding-left: 1em; padding-right: 1em; text-align: center; vertical-align: top\">0</td>\n",
              "    </tr>\n",
              "    <tr>\n",
              "        <td style=\"padding-left: 1em; padding-right: 1em; text-align: center; vertical-align: top\">0</td>\n",
              "        <td style=\"padding-left: 1em; padding-right: 1em; text-align: center; vertical-align: top\">0</td>\n",
              "        <td style=\"padding-left: 1em; padding-right: 1em; text-align: center; vertical-align: top\">0</td>\n",
              "        <td style=\"padding-left: 1em; padding-right: 1em; text-align: center; vertical-align: top\">0</td>\n",
              "        <td style=\"padding-left: 1em; padding-right: 1em; text-align: center; vertical-align: top\">1</td>\n",
              "        <td style=\"padding-left: 1em; padding-right: 1em; text-align: center; vertical-align: top\">0</td>\n",
              "        <td style=\"padding-left: 1em; padding-right: 1em; text-align: center; vertical-align: top\">0</td>\n",
              "        <td style=\"padding-left: 1em; padding-right: 1em; text-align: center; vertical-align: top\">0</td>\n",
              "        <td style=\"padding-left: 1em; padding-right: 1em; text-align: center; vertical-align: top\">0</td>\n",
              "        <td style=\"padding-left: 1em; padding-right: 1em; text-align: center; vertical-align: top\">0</td>\n",
              "        <td style=\"padding-left: 1em; padding-right: 1em; text-align: center; vertical-align: top\">0</td>\n",
              "        <td style=\"padding-left: 1em; padding-right: 1em; text-align: center; vertical-align: top\">0</td>\n",
              "        <td style=\"padding-left: 1em; padding-right: 1em; text-align: center; vertical-align: top\">0</td>\n",
              "        <td style=\"padding-left: 1em; padding-right: 1em; text-align: center; vertical-align: top\">0</td>\n",
              "        <td style=\"padding-left: 1em; padding-right: 1em; text-align: center; vertical-align: top\">0</td>\n",
              "    </tr>\n",
              "    <tr>\n",
              "        <td style=\"padding-left: 1em; padding-right: 1em; text-align: center; vertical-align: top\">0</td>\n",
              "        <td style=\"padding-left: 1em; padding-right: 1em; text-align: center; vertical-align: top\">0</td>\n",
              "        <td style=\"padding-left: 1em; padding-right: 1em; text-align: center; vertical-align: top\">0</td>\n",
              "        <td style=\"padding-left: 1em; padding-right: 1em; text-align: center; vertical-align: top\">0</td>\n",
              "        <td style=\"padding-left: 1em; padding-right: 1em; text-align: center; vertical-align: top\">0</td>\n",
              "        <td style=\"padding-left: 1em; padding-right: 1em; text-align: center; vertical-align: top\">0</td>\n",
              "        <td style=\"padding-left: 1em; padding-right: 1em; text-align: center; vertical-align: top\">0</td>\n",
              "        <td style=\"padding-left: 1em; padding-right: 1em; text-align: center; vertical-align: top\">0</td>\n",
              "        <td style=\"padding-left: 1em; padding-right: 1em; text-align: center; vertical-align: top\">0</td>\n",
              "        <td style=\"padding-left: 1em; padding-right: 1em; text-align: center; vertical-align: top\">0</td>\n",
              "        <td style=\"padding-left: 1em; padding-right: 1em; text-align: center; vertical-align: top\">0</td>\n",
              "        <td style=\"padding-left: 1em; padding-right: 1em; text-align: center; vertical-align: top\">0</td>\n",
              "        <td style=\"padding-left: 1em; padding-right: 1em; text-align: center; vertical-align: top\">0</td>\n",
              "        <td style=\"padding-left: 1em; padding-right: 1em; text-align: center; vertical-align: top\">0</td>\n",
              "        <td style=\"padding-left: 1em; padding-right: 1em; text-align: center; vertical-align: top\">0</td>\n",
              "    </tr>\n",
              "    <tr>\n",
              "        <td style=\"padding-left: 1em; padding-right: 1em; text-align: center; vertical-align: top\">0</td>\n",
              "        <td style=\"padding-left: 1em; padding-right: 1em; text-align: center; vertical-align: top\">0</td>\n",
              "        <td style=\"padding-left: 1em; padding-right: 1em; text-align: center; vertical-align: top\">0</td>\n",
              "        <td style=\"padding-left: 1em; padding-right: 1em; text-align: center; vertical-align: top\">0</td>\n",
              "        <td style=\"padding-left: 1em; padding-right: 1em; text-align: center; vertical-align: top\">0</td>\n",
              "        <td style=\"padding-left: 1em; padding-right: 1em; text-align: center; vertical-align: top\">0</td>\n",
              "        <td style=\"padding-left: 1em; padding-right: 1em; text-align: center; vertical-align: top\">0</td>\n",
              "        <td style=\"padding-left: 1em; padding-right: 1em; text-align: center; vertical-align: top\">0</td>\n",
              "        <td style=\"padding-left: 1em; padding-right: 1em; text-align: center; vertical-align: top\">0</td>\n",
              "        <td style=\"padding-left: 1em; padding-right: 1em; text-align: center; vertical-align: top\">0</td>\n",
              "        <td style=\"padding-left: 1em; padding-right: 1em; text-align: center; vertical-align: top\">0</td>\n",
              "        <td style=\"padding-left: 1em; padding-right: 1em; text-align: center; vertical-align: top\">0</td>\n",
              "        <td style=\"padding-left: 1em; padding-right: 1em; text-align: center; vertical-align: top\">0</td>\n",
              "        <td style=\"padding-left: 1em; padding-right: 1em; text-align: center; vertical-align: top\">0</td>\n",
              "        <td style=\"padding-left: 1em; padding-right: 1em; text-align: center; vertical-align: top\">0</td>\n",
              "    </tr>\n",
              "    <tr>\n",
              "        <td style=\"padding-left: 1em; padding-right: 1em; text-align: center; vertical-align: top\">0</td>\n",
              "        <td style=\"padding-left: 1em; padding-right: 1em; text-align: center; vertical-align: top\">0</td>\n",
              "        <td style=\"padding-left: 1em; padding-right: 1em; text-align: center; vertical-align: top\">0</td>\n",
              "        <td style=\"padding-left: 1em; padding-right: 1em; text-align: center; vertical-align: top\">0</td>\n",
              "        <td style=\"padding-left: 1em; padding-right: 1em; text-align: center; vertical-align: top\">0</td>\n",
              "        <td style=\"padding-left: 1em; padding-right: 1em; text-align: center; vertical-align: top\">0</td>\n",
              "        <td style=\"padding-left: 1em; padding-right: 1em; text-align: center; vertical-align: top\">0</td>\n",
              "        <td style=\"padding-left: 1em; padding-right: 1em; text-align: center; vertical-align: top\">0</td>\n",
              "        <td style=\"padding-left: 1em; padding-right: 1em; text-align: center; vertical-align: top\">0</td>\n",
              "        <td style=\"padding-left: 1em; padding-right: 1em; text-align: center; vertical-align: top\">0</td>\n",
              "        <td style=\"padding-left: 1em; padding-right: 1em; text-align: center; vertical-align: top\">0</td>\n",
              "        <td style=\"padding-left: 1em; padding-right: 1em; text-align: center; vertical-align: top\">0</td>\n",
              "        <td style=\"padding-left: 1em; padding-right: 1em; text-align: center; vertical-align: top\">0</td>\n",
              "        <td style=\"padding-left: 1em; padding-right: 1em; text-align: center; vertical-align: top\">0</td>\n",
              "        <td style=\"padding-left: 1em; padding-right: 1em; text-align: center; vertical-align: top\">0</td>\n",
              "    </tr>\n",
              "    <tr>\n",
              "        <td style=\"padding-left: 1em; padding-right: 1em; text-align: center; vertical-align: top\">0</td>\n",
              "        <td style=\"padding-left: 1em; padding-right: 1em; text-align: center; vertical-align: top\">0</td>\n",
              "        <td style=\"padding-left: 1em; padding-right: 1em; text-align: center; vertical-align: top\">0</td>\n",
              "        <td style=\"padding-left: 1em; padding-right: 1em; text-align: center; vertical-align: top\">0</td>\n",
              "        <td style=\"padding-left: 1em; padding-right: 1em; text-align: center; vertical-align: top\">0</td>\n",
              "        <td style=\"padding-left: 1em; padding-right: 1em; text-align: center; vertical-align: top\">0</td>\n",
              "        <td style=\"padding-left: 1em; padding-right: 1em; text-align: center; vertical-align: top\">0</td>\n",
              "        <td style=\"padding-left: 1em; padding-right: 1em; text-align: center; vertical-align: top\">0</td>\n",
              "        <td style=\"padding-left: 1em; padding-right: 1em; text-align: center; vertical-align: top\">0</td>\n",
              "        <td style=\"padding-left: 1em; padding-right: 1em; text-align: center; vertical-align: top\">0</td>\n",
              "        <td style=\"padding-left: 1em; padding-right: 1em; text-align: center; vertical-align: top\">0</td>\n",
              "        <td style=\"padding-left: 1em; padding-right: 1em; text-align: center; vertical-align: top\">0</td>\n",
              "        <td style=\"padding-left: 1em; padding-right: 1em; text-align: center; vertical-align: top\">0</td>\n",
              "        <td style=\"padding-left: 1em; padding-right: 1em; text-align: center; vertical-align: top\">0</td>\n",
              "        <td style=\"padding-left: 1em; padding-right: 1em; text-align: center; vertical-align: top\">0</td>\n",
              "    </tr>\n",
              "    <tr>\n",
              "        <td style=\"padding-left: 1em; padding-right: 1em; text-align: center; vertical-align: top\">0</td>\n",
              "        <td style=\"padding-left: 1em; padding-right: 1em; text-align: center; vertical-align: top\">0</td>\n",
              "        <td style=\"padding-left: 1em; padding-right: 1em; text-align: center; vertical-align: top\">0</td>\n",
              "        <td style=\"padding-left: 1em; padding-right: 1em; text-align: center; vertical-align: top\">0</td>\n",
              "        <td style=\"padding-left: 1em; padding-right: 1em; text-align: center; vertical-align: top\">0</td>\n",
              "        <td style=\"padding-left: 1em; padding-right: 1em; text-align: center; vertical-align: top\">0</td>\n",
              "        <td style=\"padding-left: 1em; padding-right: 1em; text-align: center; vertical-align: top\">0</td>\n",
              "        <td style=\"padding-left: 1em; padding-right: 1em; text-align: center; vertical-align: top\">0</td>\n",
              "        <td style=\"padding-left: 1em; padding-right: 1em; text-align: center; vertical-align: top\">0</td>\n",
              "        <td style=\"padding-left: 1em; padding-right: 1em; text-align: center; vertical-align: top\">0</td>\n",
              "        <td style=\"padding-left: 1em; padding-right: 1em; text-align: center; vertical-align: top\">0</td>\n",
              "        <td style=\"padding-left: 1em; padding-right: 1em; text-align: center; vertical-align: top\">0</td>\n",
              "        <td style=\"padding-left: 1em; padding-right: 1em; text-align: center; vertical-align: top\">0</td>\n",
              "        <td style=\"padding-left: 1em; padding-right: 1em; text-align: center; vertical-align: top\">0</td>\n",
              "        <td style=\"padding-left: 1em; padding-right: 1em; text-align: center; vertical-align: top\">0</td>\n",
              "    </tr>\n",
              "</table>\n",
              "<table frame=\"box\" rules=\"cols\">\n",
              "    <tr>\n",
              "        <th style=\"padding-left: 1em; padding-right: 1em; text-align: center\">perfect</th>\n",
              "        <th style=\"padding-left: 1em; padding-right: 1em; text-align: center\">nice</th>\n",
              "        <th style=\"padding-left: 1em; padding-right: 1em; text-align: center\">...</th>\n",
              "    </tr>\n",
              "    <tr>\n",
              "        <td style=\"padding-left: 1em; padding-right: 1em; text-align: center; vertical-align: top\">0</td>\n",
              "        <td style=\"padding-left: 1em; padding-right: 1em; text-align: center; vertical-align: top\">0</td>\n",
              "        <td style=\"padding-left: 1em; padding-right: 1em; text-align: center; vertical-align: top\">...</td>\n",
              "    </tr>\n",
              "    <tr>\n",
              "        <td style=\"padding-left: 1em; padding-right: 1em; text-align: center; vertical-align: top\">0</td>\n",
              "        <td style=\"padding-left: 1em; padding-right: 1em; text-align: center; vertical-align: top\">0</td>\n",
              "        <td style=\"padding-left: 1em; padding-right: 1em; text-align: center; vertical-align: top\">...</td>\n",
              "    </tr>\n",
              "    <tr>\n",
              "        <td style=\"padding-left: 1em; padding-right: 1em; text-align: center; vertical-align: top\">0</td>\n",
              "        <td style=\"padding-left: 1em; padding-right: 1em; text-align: center; vertical-align: top\">1</td>\n",
              "        <td style=\"padding-left: 1em; padding-right: 1em; text-align: center; vertical-align: top\">...</td>\n",
              "    </tr>\n",
              "    <tr>\n",
              "        <td style=\"padding-left: 1em; padding-right: 1em; text-align: center; vertical-align: top\">1</td>\n",
              "        <td style=\"padding-left: 1em; padding-right: 1em; text-align: center; vertical-align: top\">0</td>\n",
              "        <td style=\"padding-left: 1em; padding-right: 1em; text-align: center; vertical-align: top\">...</td>\n",
              "    </tr>\n",
              "    <tr>\n",
              "        <td style=\"padding-left: 1em; padding-right: 1em; text-align: center; vertical-align: top\">0</td>\n",
              "        <td style=\"padding-left: 1em; padding-right: 1em; text-align: center; vertical-align: top\">0</td>\n",
              "        <td style=\"padding-left: 1em; padding-right: 1em; text-align: center; vertical-align: top\">...</td>\n",
              "    </tr>\n",
              "    <tr>\n",
              "        <td style=\"padding-left: 1em; padding-right: 1em; text-align: center; vertical-align: top\">0</td>\n",
              "        <td style=\"padding-left: 1em; padding-right: 1em; text-align: center; vertical-align: top\">0</td>\n",
              "        <td style=\"padding-left: 1em; padding-right: 1em; text-align: center; vertical-align: top\">...</td>\n",
              "    </tr>\n",
              "    <tr>\n",
              "        <td style=\"padding-left: 1em; padding-right: 1em; text-align: center; vertical-align: top\">0</td>\n",
              "        <td style=\"padding-left: 1em; padding-right: 1em; text-align: center; vertical-align: top\">0</td>\n",
              "        <td style=\"padding-left: 1em; padding-right: 1em; text-align: center; vertical-align: top\">...</td>\n",
              "    </tr>\n",
              "    <tr>\n",
              "        <td style=\"padding-left: 1em; padding-right: 1em; text-align: center; vertical-align: top\">0</td>\n",
              "        <td style=\"padding-left: 1em; padding-right: 1em; text-align: center; vertical-align: top\">1</td>\n",
              "        <td style=\"padding-left: 1em; padding-right: 1em; text-align: center; vertical-align: top\">...</td>\n",
              "    </tr>\n",
              "    <tr>\n",
              "        <td style=\"padding-left: 1em; padding-right: 1em; text-align: center; vertical-align: top\">0</td>\n",
              "        <td style=\"padding-left: 1em; padding-right: 1em; text-align: center; vertical-align: top\">0</td>\n",
              "        <td style=\"padding-left: 1em; padding-right: 1em; text-align: center; vertical-align: top\">...</td>\n",
              "    </tr>\n",
              "    <tr>\n",
              "        <td style=\"padding-left: 1em; padding-right: 1em; text-align: center; vertical-align: top\">0</td>\n",
              "        <td style=\"padding-left: 1em; padding-right: 1em; text-align: center; vertical-align: top\">0</td>\n",
              "        <td style=\"padding-left: 1em; padding-right: 1em; text-align: center; vertical-align: top\">...</td>\n",
              "    </tr>\n",
              "</table>\n",
              "[53072 rows x 198 columns]<br/>Note: Only the head of the SFrame is printed.<br/>You can use print_rows(num_rows=m, num_columns=n) to print more rows and columns.\n",
              "</div>"
            ],
            "text/plain": [
              "Columns:\n",
              "\tname\tstr\n",
              "\treview\tstr\n",
              "\trating\tfloat\n",
              "\tsentiment\tint\n",
              "\treview_clean\tstr\n",
              "\tbaby\tint\n",
              "\tone\tint\n",
              "\tgreat\tint\n",
              "\tlove\tint\n",
              "\tuse\tint\n",
              "\twould\tint\n",
              "\tlike\tint\n",
              "\teasy\tint\n",
              "\tlittle\tint\n",
              "\tseat\tint\n",
              "\told\tint\n",
              "\twell\tint\n",
              "\tget\tint\n",
              "\talso\tint\n",
              "\treally\tint\n",
              "\tson\tint\n",
              "\ttime\tint\n",
              "\tbought\tint\n",
              "\tproduct\tint\n",
              "\tgood\tint\n",
              "\tdaughter\tint\n",
              "\tmuch\tint\n",
              "\tloves\tint\n",
              "\tstroller\tint\n",
              "\tput\tint\n",
              "\tmonths\tint\n",
              "\tcar\tint\n",
              "\tstill\tint\n",
              "\tback\tint\n",
              "\tused\tint\n",
              "\trecommend\tint\n",
              "\tfirst\tint\n",
              "\teven\tint\n",
              "\tperfect\tint\n",
              "\tnice\tint\n",
              "\tbag\tint\n",
              "\ttwo\tint\n",
              "\tusing\tint\n",
              "\tgot\tint\n",
              "\tfit\tint\n",
              "\taround\tint\n",
              "\tdiaper\tint\n",
              "\tenough\tint\n",
              "\tmonth\tint\n",
              "\tprice\tint\n",
              "\tgo\tint\n",
              "\tcould\tint\n",
              "\tsoft\tint\n",
              "\tsince\tint\n",
              "\tbuy\tint\n",
              "\troom\tint\n",
              "\tworks\tint\n",
              "\tmade\tint\n",
              "\tchild\tint\n",
              "\tkeep\tint\n",
              "\tsize\tint\n",
              "\tsmall\tint\n",
              "\tneed\tint\n",
              "\tyear\tint\n",
              "\tbig\tint\n",
              "\tmake\tint\n",
              "\ttake\tint\n",
              "\teasily\tint\n",
              "\tthink\tint\n",
              "\tcrib\tint\n",
              "\tclean\tint\n",
              "\tway\tint\n",
              "\tquality\tint\n",
              "\tthing\tint\n",
              "\tbetter\tint\n",
              "\twithout\tint\n",
              "\tset\tint\n",
              "\tnew\tint\n",
              "\tevery\tint\n",
              "\tcute\tint\n",
              "\tbest\tint\n",
              "\tbottles\tint\n",
              "\twork\tint\n",
              "\tpurchased\tint\n",
              "\tright\tint\n",
              "\tlot\tint\n",
              "\tside\tint\n",
              "\thappy\tint\n",
              "\tcomfortable\tint\n",
              "\ttoy\tint\n",
              "\table\tint\n",
              "\tkids\tint\n",
              "\tbit\tint\n",
              "\tnight\tint\n",
              "\tlong\tint\n",
              "\tfits\tint\n",
              "\tsee\tint\n",
              "\tus\tint\n",
              "\tanother\tint\n",
              "\tplay\tint\n",
              "\tday\tint\n",
              "\tmoney\tint\n",
              "\tmonitor\tint\n",
              "\ttried\tint\n",
              "\tthought\tint\n",
              "\tnever\tint\n",
              "\titem\tint\n",
              "\thard\tint\n",
              "\tplastic\tint\n",
              "\thowever\tint\n",
              "\tdisappointed\tint\n",
              "\treviews\tint\n",
              "\tsomething\tint\n",
              "\tgoing\tint\n",
              "\tpump\tint\n",
              "\tbottle\tint\n",
              "\tcup\tint\n",
              "\twaste\tint\n",
              "\treturn\tint\n",
              "\tamazon\tint\n",
              "\tdifferent\tint\n",
              "\ttop\tint\n",
              "\twant\tint\n",
              "\tproblem\tint\n",
              "\tknow\tint\n",
              "\twater\tint\n",
              "\ttry\tint\n",
              "\treceived\tint\n",
              "\tsure\tint\n",
              "\ttimes\tint\n",
              "\tchair\tint\n",
              "\tfind\tint\n",
              "\thold\tint\n",
              "\tgate\tint\n",
              "\topen\tint\n",
              "\tbottom\tint\n",
              "\taway\tint\n",
              "\tactually\tint\n",
              "\tcheap\tint\n",
              "\tworked\tint\n",
              "\tgetting\tint\n",
              "\tordered\tint\n",
              "\tcame\tint\n",
              "\tmilk\tint\n",
              "\tbad\tint\n",
              "\tpart\tint\n",
              "\tworth\tint\n",
              "\tfound\tint\n",
              "\tcover\tint\n",
              "\tmany\tint\n",
              "\tdesign\tint\n",
              "\tlooking\tint\n",
              "\tweeks\tint\n",
              "\tsay\tint\n",
              "\twanted\tint\n",
              "\tlook\tint\n",
              "\tplace\tint\n",
              "\tpurchase\tint\n",
              "\tlooks\tint\n",
              "\tsecond\tint\n",
              "\tpiece\tint\n",
              "\tbox\tint\n",
              "\tpretty\tint\n",
              "\ttrying\tint\n",
              "\tdifficult\tint\n",
              "\ttogether\tint\n",
              "\tthough\tint\n",
              "\tgive\tint\n",
              "\tstarted\tint\n",
              "\tanything\tint\n",
              "\tlast\tint\n",
              "\tcompany\tint\n",
              "\tcome\tint\n",
              "\treturned\tint\n",
              "\tmaybe\tint\n",
              "\ttook\tint\n",
              "\tbroke\tint\n",
              "\tmakes\tint\n",
              "\tstay\tint\n",
              "\tinstead\tint\n",
              "\tidea\tint\n",
              "\thead\tint\n",
              "\tsaid\tint\n",
              "\tless\tint\n",
              "\twent\tint\n",
              "\tworking\tint\n",
              "\thigh\tint\n",
              "\tunit\tint\n",
              "\tseems\tint\n",
              "\tpicture\tint\n",
              "\tcompletely\tint\n",
              "\twish\tint\n",
              "\tbuying\tint\n",
              "\tbabies\tint\n",
              "\twon\tint\n",
              "\ttub\tint\n",
              "\talmost\tint\n",
              "\teither\tint\n",
              "\n",
              "Rows: 53072\n",
              "\n",
              "Data:\n",
              "+-------------------------------+-------------------------------+--------+-----------+\n",
              "|              name             |             review            | rating | sentiment |\n",
              "+-------------------------------+-------------------------------+--------+-----------+\n",
              "| Stop Pacifier Sucking with... | All of my kids have cried ... |  5.0   |     1     |\n",
              "| Nature's Lullabies Second ... | We wanted to get something... |  5.0   |     1     |\n",
              "| Nature's Lullabies Second ... | My daughter had her 1st ba... |  5.0   |     1     |\n",
              "|  Lamaze Peekaboo, I Love You  | One of baby's first and fa... |  4.0   |     1     |\n",
              "| SoftPlay Peek-A-Boo Where'... | Very cute interactive book... |  5.0   |     1     |\n",
              "|   Our Baby Girl Memory Book   | Beautiful book, I love it ... |  5.0   |     1     |\n",
              "| Hunnt&reg; Falling Flowers... | Try this out for a spring ... |  5.0   |     1     |\n",
              "| Blessed By Pope Benedict X... | very nice Divine Mercy Pen... |  5.0   |     1     |\n",
              "| Cloth Diaper Pins Stainles... | We bought the pins as my 6... |  4.0   |     1     |\n",
              "| Cloth Diaper Pins Stainles... | It has been many years sin... |  5.0   |     1     |\n",
              "+-------------------------------+-------------------------------+--------+-----------+\n",
              "+-------------------------------+------+-----+-------+------+-----+-------+------+\n",
              "|          review_clean         | baby | one | great | love | use | would | like |\n",
              "+-------------------------------+------+-----+-------+------+-----+-------+------+\n",
              "| All of my kids have cried ... |  0   |  0  |   1   |  0   |  0  |   0   |  0   |\n",
              "| We wanted to get something... |  0   |  0  |   0   |  0   |  0  |   0   |  0   |\n",
              "| My daughter had her 1st ba... |  1   |  0  |   0   |  0   |  0  |   0   |  0   |\n",
              "| One of babys first and fav... |  0   |  0  |   0   |  0   |  0  |   0   |  1   |\n",
              "| Very cute interactive book... |  0   |  0  |   1   |  0   |  0  |   0   |  0   |\n",
              "| Beautiful book I love it t... |  0   |  0  |   1   |  1   |  0  |   0   |  0   |\n",
              "| Try this out for a spring ... |  0   |  0  |   0   |  0   |  0  |   0   |  0   |\n",
              "| very nice Divine Mercy Pen... |  0   |  0  |   0   |  0   |  0  |   0   |  0   |\n",
              "| We bought the pins as my 6... |  0   |  1  |   0   |  0   |  1  |   0   |  0   |\n",
              "| It has been many years sin... |  0   |  1  |   0   |  0   |  0  |   0   |  1   |\n",
              "+-------------------------------+------+-----+-------+------+-----+-------+------+\n",
              "+------+--------+------+-----+------+-----+------+--------+-----+\n",
              "| easy | little | seat | old | well | get | also | really | ... |\n",
              "+------+--------+------+-----+------+-----+------+--------+-----+\n",
              "|  1   |   0    |  0   |  0  |  0   |  0  |  0   |   0    | ... |\n",
              "|  0   |   0    |  0   |  0  |  0   |  1  |  0   |   0    | ... |\n",
              "|  0   |   0    |  0   |  1  |  0   |  1  |  0   |   0    | ... |\n",
              "|  0   |   0    |  0   |  0  |  0   |  0  |  0   |   0    | ... |\n",
              "|  0   |   0    |  0   |  0  |  0   |  0  |  0   |   0    | ... |\n",
              "|  0   |   0    |  0   |  0  |  0   |  0  |  0   |   0    | ... |\n",
              "|  0   |   0    |  0   |  0  |  0   |  0  |  0   |   0    | ... |\n",
              "|  0   |   0    |  0   |  0  |  0   |  0  |  0   |   0    | ... |\n",
              "|  0   |   0    |  0   |  1  |  0   |  0  |  0   |   0    | ... |\n",
              "|  0   |   1    |  0   |  0  |  0   |  1  |  0   |   0    | ... |\n",
              "+------+--------+------+-----+------+-----+------+--------+-----+\n",
              "[53072 rows x 198 columns]\n",
              "Note: Only the head of the SFrame is printed.\n",
              "You can use print_rows(num_rows=m, num_columns=n) to print more rows and columns."
            ]
          },
          "metadata": {
            "tags": []
          },
          "execution_count": 10
        }
      ]
    },
    {
      "cell_type": "markdown",
      "metadata": {
        "id": "_2IAPYM8FH1e"
      },
      "source": [
        "### Split data into training and validation sets\n",
        "\n",
        "We will now split the data into a 90-10 split where 90% is in the training set and 10% is in the validation set. We use `seed=1` so that everyone gets the same result."
      ]
    },
    {
      "cell_type": "code",
      "metadata": {
        "colab": {
          "base_uri": "https://localhost:8080/"
        },
        "id": "PgjCOswxFH1f",
        "outputId": "523a0bcb-0364-42b4-e8f4-28df75993435"
      },
      "source": [
        "train_data, validation_data = products.random_split(.9, seed=1)\n",
        "\n",
        "print('Training set  : %d data points' % len(train_data))\n",
        "print('Validation set: %d data points' % len(validation_data))"
      ],
      "execution_count": 12,
      "outputs": [
        {
          "output_type": "stream",
          "text": [
            "Training set  : 47780 data points\n",
            "Validation set: 5292 data points\n"
          ],
          "name": "stdout"
        }
      ]
    },
    {
      "cell_type": "markdown",
      "metadata": {
        "id": "E7xd91MxFH1f"
      },
      "source": [
        "## Convert SFrame to NumPy array\n",
        "\n",
        "Just like in the earlier assignments, we provide you with a function that extracts columns from an SFrame and converts them into a NumPy array. Two arrays are returned: one representing features and another representing class labels. \n",
        "\n",
        "**Note:** The feature matrix includes an additional column 'intercept' filled with 1's to take account of the intercept term."
      ]
    },
    {
      "cell_type": "code",
      "metadata": {
        "collapsed": true,
        "id": "k2u6ZsdpFH1f"
      },
      "source": [
        "import numpy as np\n",
        "\n",
        "def get_numpy_data(data_sframe, features, label):\n",
        "    data_sframe['intercept'] = 1\n",
        "    features = ['intercept'] + features\n",
        "    features_sframe = data_sframe[features]\n",
        "    feature_matrix = features_sframe.to_numpy()\n",
        "    label_sarray = data_sframe[label]\n",
        "    label_array = label_sarray.to_numpy()\n",
        "    return(feature_matrix, label_array)"
      ],
      "execution_count": 13,
      "outputs": []
    },
    {
      "cell_type": "markdown",
      "metadata": {
        "id": "pHYyVs_XFH1f"
      },
      "source": [
        "Note that we convert both the training and validation sets into NumPy arrays.\n",
        "\n",
        "**Warning**: This may take a few minutes."
      ]
    },
    {
      "cell_type": "code",
      "metadata": {
        "id": "PeufAFbOFH1f"
      },
      "source": [
        "feature_matrix_train, sentiment_train = get_numpy_data(train_data, important_words, 'sentiment')\n",
        "feature_matrix_valid, sentiment_valid = get_numpy_data(validation_data, important_words, 'sentiment') "
      ],
      "execution_count": 14,
      "outputs": []
    },
    {
      "cell_type": "markdown",
      "metadata": {
        "id": "daBtm0DPFH1g"
      },
      "source": [
        "**Are you running this notebook on an Amazon EC2 t2.micro instance?** (If you are using your own machine, please skip this section)\n",
        "\n",
        "It has been reported that t2.micro instances do not provide sufficient power to complete the conversion in acceptable amount of time. For interest of time, please refrain from running `get_numpy_data` function. Instead, download the [binary file](https://s3.amazonaws.com/static.dato.com/files/coursera/course-3/numpy-arrays/module-10-assignment-numpy-arrays.npz) containing the four NumPy arrays you'll need for the assignment. To load the arrays, run the following commands:\n",
        "```\n",
        "arrays = np.load('module-10-assignment-numpy-arrays.npz')\n",
        "feature_matrix_train, sentiment_train = arrays['feature_matrix_train'], arrays['sentiment_train']\n",
        "feature_matrix_valid, sentiment_valid = arrays['feature_matrix_valid'], arrays['sentiment_valid']\n",
        "```"
      ]
    },
    {
      "cell_type": "markdown",
      "metadata": {
        "id": "e0C3MaabFH1g"
      },
      "source": [
        "**Quiz Question**: In Module 3 assignment, there were 194 features (an intercept + one feature for each of the 193 important words). In this assignment, we will use stochastic gradient ascent to train the classifier using logistic regression. How does the changing the solver to stochastic gradient ascent affect the number of features?"
      ]
    },
    {
      "cell_type": "markdown",
      "metadata": {
        "id": "tzIWyZCrFH1g"
      },
      "source": [
        "## Building on logistic regression\n",
        "\n",
        "Let us now build on Module 3 assignment. Recall from lecture that the link function for logistic regression can be defined as:\n",
        "\n",
        "$$\n",
        "P(y_i = +1 | \\mathbf{x}_i,\\mathbf{w}) = \\frac{1}{1 + \\exp(-\\mathbf{w}^T h(\\mathbf{x}_i))},\n",
        "$$\n",
        "\n",
        "where the feature vector $h(\\mathbf{x}_i)$ is given by the word counts of **important_words** in the review $\\mathbf{x}_i$. \n",
        "\n",
        "\n",
        "We will use the **same code** as in Module 3 assignment to make probability predictions, since this part is not affected by using stochastic gradient ascent as a solver. Only the way in which the coefficients are learned is affected by using stochastic gradient ascent as a solver."
      ]
    },
    {
      "cell_type": "code",
      "metadata": {
        "collapsed": true,
        "id": "RTCcgbhTFH1h"
      },
      "source": [
        "'''\n",
        "produces probablistic estimate for P(y_i = +1 | x_i, w).\n",
        "estimate ranges between 0 and 1.\n",
        "'''\n",
        "def predict_probability(feature_matrix, coefficients):\n",
        "    # Take dot product of feature_matrix and coefficients  \n",
        "    score = np.dot(feature_matrix, coefficients)\n",
        "    \n",
        "    # Compute P(y_i = +1 | x_i, w) using the link function\n",
        "    predictions = 1. / (1.+np.exp(-score))    \n",
        "    return predictions"
      ],
      "execution_count": 15,
      "outputs": []
    },
    {
      "cell_type": "markdown",
      "metadata": {
        "id": "6sR-YBcmFH1h"
      },
      "source": [
        "## Derivative of log likelihood with respect to a single coefficient\n",
        "\n",
        "Let us now work on making minor changes to how the derivative computation is performed for logistic regression.\n",
        "\n",
        "Recall from the lectures and Module 3 assignment that for logistic regression, **the derivative of log likelihood with respect to a single coefficient** is as follows:\n",
        "\n",
        "$$\n",
        "\\frac{\\partial\\ell}{\\partial w_j} = \\sum_{i=1}^N h_j(\\mathbf{x}_i)\\left(\\mathbf{1}[y_i = +1] - P(y_i = +1 | \\mathbf{x}_i, \\mathbf{w})\\right)\n",
        "$$\n",
        "\n",
        "In Module 3 assignment, we wrote a function to compute the derivative of log likelihood with respect to a single coefficient $w_j$. The function accepts the following two parameters:\n",
        " * `errors` vector containing $(\\mathbf{1}[y_i = +1] - P(y_i = +1 | \\mathbf{x}_i, \\mathbf{w}))$ for all $i$\n",
        " * `feature` vector containing $h_j(\\mathbf{x}_i)$  for all $i$\n",
        " \n",
        "Complete the following code block:"
      ]
    },
    {
      "cell_type": "code",
      "metadata": {
        "collapsed": true,
        "id": "sywh-51DFH1i"
      },
      "source": [
        "def feature_derivative(errors, feature): \n",
        "    \n",
        "    # Compute the dot product of errors and feature\n",
        "    ## YOUR CODE HERE\n",
        "    derivative = np.dot(errors,feature)\n",
        "\n",
        "    return derivative"
      ],
      "execution_count": 16,
      "outputs": []
    },
    {
      "cell_type": "markdown",
      "metadata": {
        "id": "Ot3AgT_JFH1i"
      },
      "source": [
        "**Note**. We are not using regularization in this assignment, but, as discussed in the optional video, stochastic gradient can also be used for regularized logistic regression."
      ]
    },
    {
      "cell_type": "markdown",
      "metadata": {
        "id": "B9EdpNoHFH1i"
      },
      "source": [
        "To verify the correctness of the gradient computation, we provide a function for computing average log likelihood (which we recall from the last assignment was a topic detailed in an advanced optional video, and used here for its numerical stability).\n",
        "\n",
        "To track the performance of stochastic gradient ascent, we provide a function for computing **average log likelihood**. \n",
        "\n",
        "$$\\ell\\ell_A(\\mathbf{w}) = \\color{red}{\\frac{1}{N}} \\sum_{i=1}^N \\Big( (\\mathbf{1}[y_i = +1] - 1)\\mathbf{w}^T h(\\mathbf{x}_i) - \\ln\\left(1 + \\exp(-\\mathbf{w}^T h(\\mathbf{x}_i))\\right) \\Big) $$\n",
        "\n",
        "**Note** that we made one tiny modification to the log likelihood function (called **compute_log_likelihood**) in our earlier assignments. We added a $\\color{red}{1/N}$ term which averages the log likelihood accross all data points. The $\\color{red}{1/N}$ term makes it easier for us to compare stochastic gradient ascent with batch gradient ascent. We will use this function to generate plots that are similar to those you saw in the lecture."
      ]
    },
    {
      "cell_type": "code",
      "metadata": {
        "id": "Lu0Ao99tFH1j"
      },
      "source": [
        "def compute_avg_log_likelihood(feature_matrix, sentiment, coefficients):\n",
        "    \n",
        "    indicator = (sentiment==+1)\n",
        "    scores = np.dot(feature_matrix, coefficients)\n",
        "    logexp = np.log(1. + np.exp(-scores))\n",
        "    \n",
        "    # Simple check to prevent overflow\n",
        "    mask = np.isinf(logexp)\n",
        "    logexp[mask] = -scores[mask]\n",
        "    \n",
        "    lp = np.sum((indicator-1)*scores - logexp)/len(feature_matrix)\n",
        "    \n",
        "    return lp"
      ],
      "execution_count": 17,
      "outputs": []
    },
    {
      "cell_type": "markdown",
      "metadata": {
        "id": "kZpM-Z4TFH1k"
      },
      "source": [
        "**Quiz Question:** Recall from the lecture and the earlier assignment, the log likelihood (without the averaging term) is given by \n",
        "\n",
        "$$\\ell\\ell(\\mathbf{w}) = \\sum_{i=1}^N \\Big( (\\mathbf{1}[y_i = +1] - 1)\\mathbf{w}^T h(\\mathbf{x}_i) - \\ln\\left(1 + \\exp(-\\mathbf{w}^T h(\\mathbf{x}_i))\\right) \\Big) $$\n",
        "\n",
        "How are the functions $\\ell\\ell(\\mathbf{w})$ and $\\ell\\ell_A(\\mathbf{w})$ related?"
      ]
    },
    {
      "cell_type": "markdown",
      "metadata": {
        "id": "hrfF5E2tFH1k"
      },
      "source": [
        "## Modifying the derivative for stochastic gradient ascent\n",
        "\n",
        "Recall from the lecture that the gradient for a single data point $\\color{red}{\\mathbf{x}_i}$ can be computed using the following formula:\n",
        "\n",
        "$$\n",
        "\\frac{\\partial\\ell_{\\color{red}{i}}(\\mathbf{w})}{\\partial w_j} = h_j(\\color{red}{\\mathbf{x}_i})\\left(\\mathbf{1}[y_\\color{red}{i} = +1] - P(y_\\color{red}{i} = +1 | \\color{red}{\\mathbf{x}_i}, \\mathbf{w})\\right)\n",
        "$$\n",
        "\n",
        "\n",
        "**Computing the gradient for a single data point**\n",
        "\n",
        "Do we really need to re-write all our code to modify $\\partial\\ell(\\mathbf{w})/\\partial w_j$ to $\\partial\\ell_{\\color{red}{i}}(\\mathbf{w})/{\\partial w_j}$? \n",
        "\n",
        "\n",
        "Thankfully **No!**. Using NumPy, we access $\\mathbf{x}_i$ in the training data using `feature_matrix_train[i:i+1,:]`\n",
        "and $y_i$ in the training data using `sentiment_train[i:i+1]`. We can compute $\\partial\\ell_{\\color{red}{i}}(\\mathbf{w})/\\partial w_j$ by re-using **all the code** written in **feature_derivative** and **predict_probability**.\n",
        "\n",
        "\n",
        "We compute $\\partial\\ell_{\\color{red}{i}}(\\mathbf{w})/\\partial w_j$ using the following steps:\n",
        "* First, compute $P(y_i = +1 | \\mathbf{x}_i, \\mathbf{w})$ using the **predict_probability** function with `feature_matrix_train[i:i+1,:]` as the first parameter.\n",
        "* Next, compute $\\mathbf{1}[y_i = +1]$ using `sentiment_train[i:i+1]`.\n",
        "* Finally, call the **feature_derivative** function with `feature_matrix_train[i:i+1, j]` as one of the parameters. \n",
        "\n",
        "Let us follow these steps for `j = 1` and `i = 10`:"
      ]
    },
    {
      "cell_type": "code",
      "metadata": {
        "colab": {
          "base_uri": "https://localhost:8080/"
        },
        "id": "AodFUJe2FH1l",
        "outputId": "6186a439-4347-45b0-b4b8-42ba5b0dbe53"
      },
      "source": [
        "j = 1                        # Feature number\n",
        "i = 10                       # Data point number\n",
        "coefficients = np.zeros(194) # A point w at which we are computing the gradient.\n",
        "\n",
        "predictions = predict_probability(feature_matrix_train[i:i+1,:], coefficients)\n",
        "indicator = (sentiment_train[i:i+1]==+1)\n",
        "\n",
        "errors = indicator - predictions        \n",
        "gradient_single_data_point = feature_derivative(errors, feature_matrix_train[i:i+1,j])\n",
        "print(\"Gradient single data point: %s\" % gradient_single_data_point)\n",
        "print(\"           --> Should print 0.0\")\n"
      ],
      "execution_count": 19,
      "outputs": [
        {
          "output_type": "stream",
          "text": [
            "Gradient single data point: 0.0\n",
            "           --> Should print 0.0\n"
          ],
          "name": "stdout"
        }
      ]
    },
    {
      "cell_type": "markdown",
      "metadata": {
        "id": "RnlYPvs1FH1l"
      },
      "source": [
        "**Quiz Question:** The code block above computed $\\partial\\ell_{\\color{red}{i}}(\\mathbf{w})/{\\partial w_j}$ for `j = 1` and `i = 10`.  Is $\\partial\\ell_{\\color{red}{i}}(\\mathbf{w})/{\\partial w_j}$ a scalar or a 194-dimensional vector?"
      ]
    },
    {
      "cell_type": "markdown",
      "metadata": {
        "id": "yrklO0KaFH1l"
      },
      "source": [
        "## Modifying the derivative for using a batch of data points\n",
        "\n",
        "Stochastic gradient estimates the ascent direction using 1 data point, while gradient uses $N$ data points to decide how to update the the parameters.  In an optional video, we discussed the details of a simple change that allows us to use a **mini-batch** of $B \\leq N$ data points to estimate the ascent direction. This simple approach is faster than regular gradient but less noisy than stochastic gradient that uses only 1 data point. Although we encorage you to watch the optional video on the topic to better understand why mini-batches help stochastic gradient, in this assignment, we will simply use this technique, since the approach is very simple and will improve your results.\n",
        "\n",
        "Given a mini-batch (or a set of data points) $\\mathbf{x}_{i}, \\mathbf{x}_{i+1} \\ldots \\mathbf{x}_{i+B}$, the gradient function for this mini-batch of data points is given by:\n",
        "$$\n",
        "\\color{red}{\\sum_{s = i}^{i+B}} \\frac{\\partial\\ell_{s}}{\\partial w_j} = \\color{red}{\\sum_{s = i}^{i + B}} h_j(\\mathbf{x}_s)\\left(\\mathbf{1}[y_s = +1] - P(y_s = +1 | \\mathbf{x}_s, \\mathbf{w})\\right)\n",
        "$$\n",
        "\n",
        "\n",
        "**Computing the gradient for a \"mini-batch\" of data points**\n",
        "\n",
        "Using NumPy, we access the points $\\mathbf{x}_i, \\mathbf{x}_{i+1} \\ldots \\mathbf{x}_{i+B}$ in the training data using `feature_matrix_train[i:i+B,:]`\n",
        "and $y_i$ in the training data using `sentiment_train[i:i+B]`. \n",
        "\n",
        "We can compute $\\color{red}{\\sum_{s = i}^{i+B}} \\partial\\ell_{s}/\\partial w_j$ easily as follows:"
      ]
    },
    {
      "cell_type": "code",
      "metadata": {
        "colab": {
          "base_uri": "https://localhost:8080/"
        },
        "id": "f2CDiAhEFH1m",
        "outputId": "6a6a1d98-829e-42d8-8641-f151896d7eac"
      },
      "source": [
        "j = 1                        # Feature number\n",
        "i = 10                       # Data point start\n",
        "B = 10                       # Mini-batch size\n",
        "coefficients = np.zeros(194) # A point w at which we are computing the gradient.\n",
        "\n",
        "predictions = predict_probability(feature_matrix_train[i:i+B,:], coefficients)\n",
        "indicator = (sentiment_train[i:i+B]==+1)\n",
        "\n",
        "errors = indicator - predictions        \n",
        "gradient_mini_batch = feature_derivative(errors, feature_matrix_train[i:i+B,j])\n",
        "print(\"Gradient mini-batch data points: %s\" % gradient_mini_batch)\n",
        "print(\"                --> Should print 1.0\")"
      ],
      "execution_count": 20,
      "outputs": [
        {
          "output_type": "stream",
          "text": [
            "Gradient mini-batch data points: 1.0\n",
            "                --> Should print 1.0\n"
          ],
          "name": "stdout"
        }
      ]
    },
    {
      "cell_type": "markdown",
      "metadata": {
        "id": "iInflWSoFH1m"
      },
      "source": [
        "**Quiz Question:** The code block above computed \n",
        "$\\color{red}{\\sum_{s = i}^{i+B}}\\partial\\ell_{s}(\\mathbf{w})/{\\partial w_j}$ \n",
        "for `j = 10`, `i = 10`, and `B = 10`. Is this a scalar or a 194-dimensional vector?\n",
        "\n",
        "\n",
        "**Quiz Question:** For what value of `B` is the term\n",
        "$\\color{red}{\\sum_{s = 1}^{B}}\\partial\\ell_{s}(\\mathbf{w})/\\partial w_j$\n",
        "the same as the full gradient\n",
        "$\\partial\\ell(\\mathbf{w})/{\\partial w_j}$? Hint: consider the training set we are using now."
      ]
    },
    {
      "cell_type": "markdown",
      "metadata": {
        "id": "ZTFJ9UEDFH1m"
      },
      "source": [
        "### Averaging the gradient across a batch\n",
        "\n",
        "It is a common practice to normalize the gradient update rule by the batch size B:\n",
        "\n",
        "$$\n",
        "\\frac{\\partial\\ell_{\\color{red}{A}}(\\mathbf{w})}{\\partial w_j} \\approx \\color{red}{\\frac{1}{B}} {\\sum_{s = i}^{i + B}} h_j(\\mathbf{x}_s)\\left(\\mathbf{1}[y_s = +1] - P(y_s = +1 | \\mathbf{x}_s, \\mathbf{w})\\right)\n",
        "$$\n",
        "In other words, we update the coefficients using the **average gradient over data points** (instead of using a summation). By using the average gradient, we ensure that the magnitude of the gradient is approximately the same for all batch sizes. This way, we can more easily compare various batch sizes of stochastic gradient ascent (including a batch size of **all the data points**), and study the effect of batch size on the algorithm as well as the choice of step size.\n",
        "\n",
        "\n",
        "## Implementing stochastic gradient ascent\n",
        "\n",
        "Now we are ready to implement our own logistic regression with stochastic gradient ascent. Complete the following function to fit a logistic regression model using gradient ascent:"
      ]
    },
    {
      "cell_type": "code",
      "metadata": {
        "id": "X05ty-kuFH1m"
      },
      "source": [
        "from math import sqrt\n",
        "def logistic_regression_SG(feature_matrix, sentiment, initial_coefficients, step_size, batch_size, max_iter):\n",
        "    log_likelihood_all = []\n",
        "    \n",
        "    # make sure it's a numpy array\n",
        "    coefficients = np.array(initial_coefficients)\n",
        "    # set seed=1 to produce consistent results\n",
        "    np.random.seed(seed=1)\n",
        "    # Shuffle the data before starting\n",
        "    permutation = np.random.permutation(len(feature_matrix))\n",
        "    feature_matrix = feature_matrix[permutation,:]\n",
        "    sentiment = sentiment[permutation]\n",
        "    \n",
        "    i = 0 # index of current batch\n",
        "    # Do a linear scan over data\n",
        "    for itr in range(max_iter):\n",
        "        # Predict P(y_i = +1|x_i,w) using your predict_probability() function\n",
        "        # Make sure to slice the i-th row of feature_matrix with [i:i+batch_size,:]\n",
        "        ### YOUR CODE HERE\n",
        "        predictions = predict_probability(feature_matrix[i:i+B,:], coefficients)\n",
        "        \n",
        "        # Compute indicator value for (y_i = +1)\n",
        "        # Make sure to slice the i-th entry with [i:i+batch_size]\n",
        "        ### YOUR CODE HERE\n",
        "        indicator = (sentiment[i:i+B]==+1)\n",
        "        \n",
        "        # Compute the errors as indicator - predictions\n",
        "        errors = indicator - predictions\n",
        "        for j in range(len(coefficients)): # loop over each coefficient\n",
        "            # Recall that feature_matrix[:,j] is the feature column associated with coefficients[j]\n",
        "            # Compute the derivative for coefficients[j] and save it to derivative.\n",
        "            # Make sure to slice the i-th row of feature_matrix with [i:i+batch_size,j]\n",
        "            ### YOUR CODE HERE\n",
        "            derivative = feature_derivative(errors, feature_matrix[i:i+B,j])\n",
        "            \n",
        "            # compute the product of the step size, the derivative, and the **normalization constant** (1./batch_size)\n",
        "            ### YOUR CODE HERE\n",
        "            coefficients[j] += step_size*(derivative/batch_size)\n",
        "        \n",
        "        # Checking whether log likelihood is increasing\n",
        "        # Print the log likelihood over the *current batch*\n",
        "        lp = compute_avg_log_likelihood(feature_matrix[i:i+batch_size,:], sentiment[i:i+batch_size],\n",
        "                                        coefficients)\n",
        "        log_likelihood_all.append(lp)\n",
        "        if itr <= 15 or (itr <= 1000 and itr % 100 == 0) or (itr <= 10000 and itr % 1000 == 0) \\\n",
        "         or itr % 10000 == 0 or itr == max_iter-1:\n",
        "            data_size = len(feature_matrix)\n",
        "            print('Iteration %*d: Average log likelihood (of data points in batch [%0*d:%0*d]) = %.8f' % \\\n",
        "                (int(np.ceil(np.log10(max_iter))), itr, \\\n",
        "                 int(np.ceil(np.log10(data_size))), i, \\\n",
        "                 int(np.ceil(np.log10(data_size))), i+batch_size, lp))\n",
        "        \n",
        "        # if we made a complete pass over data, shuffle and restart\n",
        "        i += batch_size\n",
        "        if i+batch_size > len(feature_matrix):\n",
        "            permutation = np.random.permutation(len(feature_matrix))\n",
        "            feature_matrix = feature_matrix[permutation,:]\n",
        "            sentiment = sentiment[permutation]\n",
        "            i = 0\n",
        "                \n",
        "    # We return the list of log likelihoods for plotting purposes.\n",
        "    return coefficients, log_likelihood_all"
      ],
      "execution_count": 22,
      "outputs": []
    },
    {
      "cell_type": "markdown",
      "metadata": {
        "id": "JEgQnXr5FH1n"
      },
      "source": [
        "**Note**. In practice, the final set of coefficients is rarely used; it is better to use the average of the last K sets of coefficients instead, where K should be adjusted depending on how fast the log likelihood oscillates around the optimum."
      ]
    },
    {
      "cell_type": "markdown",
      "metadata": {
        "id": "5oChILUsFH1n"
      },
      "source": [
        "### Checkpoint\n",
        "\n",
        "\n",
        "The following cell tests your stochastic gradient ascent function using a toy dataset consisting of two data points. If the test does not pass, make sure you are normalizing the gradient update rule correctly."
      ]
    },
    {
      "cell_type": "code",
      "metadata": {
        "scrolled": true,
        "colab": {
          "base_uri": "https://localhost:8080/"
        },
        "id": "EZvFFX6vFH1n",
        "outputId": "17e1eddf-149b-4f15-e0b8-100d6f36b4bf"
      },
      "source": [
        "sample_feature_matrix = np.array([[1.,2.,-1.], [1.,0.,1.]])\n",
        "sample_sentiment = np.array([+1, -1])\n",
        "\n",
        "coefficients, log_likelihood = logistic_regression_SG(sample_feature_matrix, sample_sentiment, np.zeros(3),\n",
        "                                                  step_size=1., batch_size=2, max_iter=2)\n",
        "print(type(coefficients))\n",
        "print('-------------------------------------------------------------------------------------')\n",
        "print('Coefficients learned                 :', coefficients)\n",
        "print('Average log likelihood per-iteration :', log_likelihood)\n",
        "\n",
        "if (np.allclose(coefficients, np.array([-0.09755757,  0.68242552, -0.7799831]), atol=1e-3) and np.allclose(log_likelihood, np.array([-0.33774513108142956, -0.2345530939410341]))):\n",
        "    # pass if elements match within 1e-3\n",
        "    print('-------------------------------------------------------------------------------------')\n",
        "    print('Test passed!')\n",
        "else:\n",
        "    print('-------------------------------------------------------------------------------------')\n",
        "    print('Test failed')"
      ],
      "execution_count": 53,
      "outputs": [
        {
          "output_type": "stream",
          "text": [
            "Iteration 0: Average log likelihood (of data points in batch [0:2]) = -0.33774513\n",
            "Iteration 1: Average log likelihood (of data points in batch [0:2]) = -0.23455309\n",
            "<class 'numpy.ndarray'>\n",
            "-------------------------------------------------------------------------------------\n",
            "Coefficients learned                 : [-0.09755757  0.68242552 -0.7799831 ]\n",
            "Average log likelihood per-iteration : [-0.33774513108142956, -0.2345530939410341]\n",
            "-------------------------------------------------------------------------------------\n",
            "Test passed!\n"
          ],
          "name": "stdout"
        }
      ]
    },
    {
      "cell_type": "markdown",
      "metadata": {
        "id": "E-Iq2BPDFH1n"
      },
      "source": [
        "## Compare convergence behavior of stochastic gradient ascent\n",
        "\n",
        "For the remainder of the assignment, we will compare stochastic gradient ascent against batch gradient ascent. For this, we need a reference implementation of batch gradient ascent. But do we need to implement this from scratch?\n",
        "\n",
        "**Quiz Question:** For what value of batch size `B` above is the stochastic gradient ascent function **logistic_regression_SG** act as a standard gradient ascent algorithm? Hint: consider the training set we are using now."
      ]
    },
    {
      "cell_type": "markdown",
      "metadata": {
        "id": "_vDgDjdPFH1n"
      },
      "source": [
        "## Running gradient ascent using the stochastic gradient ascent implementation"
      ]
    },
    {
      "cell_type": "markdown",
      "metadata": {
        "id": "TZ28r74AFH1n"
      },
      "source": [
        "Instead of implementing batch gradient ascent separately, we save time by re-using the stochastic gradient ascent function we just wrote &mdash; **to perform gradient ascent**, it suffices to set **`batch_size`** to the number of data points in the training data. Yes, we did answer above the quiz question for you, but that is an important point to remember in the future :)\n",
        "\n",
        "**Small Caveat**. The batch gradient ascent implementation here is slightly different than the one in the earlier assignments, as we now normalize the gradient update rule.\n",
        "\n",
        "We now **run stochastic gradient ascent** over the **feature_matrix_train** for 10 iterations using:\n",
        "* `initial_coefficients = np.zeros(194)`\n",
        "* `step_size = 5e-1`\n",
        "* `batch_size = 1`\n",
        "* `max_iter = 10`"
      ]
    },
    {
      "cell_type": "code",
      "metadata": {
        "colab": {
          "base_uri": "https://localhost:8080/"
        },
        "id": "8WijaPw0FH1n",
        "outputId": "d5c50fa6-d91f-4a99-f510-d8f05e15e977"
      },
      "source": [
        "coefficients, log_likelihood = logistic_regression_SG(feature_matrix_train, sentiment_train,\n",
        "                                        initial_coefficients=np.zeros(194),\n",
        "                                        step_size=5e-1, batch_size=1, max_iter=10)"
      ],
      "execution_count": 29,
      "outputs": [
        {
          "output_type": "stream",
          "text": [
            "Iteration 0: Average log likelihood (of data points in batch [00000:00001]) = -1.13687101\n",
            "Iteration 1: Average log likelihood (of data points in batch [00001:00002]) = -0.00000000\n",
            "Iteration 2: Average log likelihood (of data points in batch [00002:00003]) = -0.12691041\n",
            "Iteration 3: Average log likelihood (of data points in batch [00003:00004]) = -0.00161533\n",
            "Iteration 4: Average log likelihood (of data points in batch [00004:00005]) = -0.00184991\n",
            "Iteration 5: Average log likelihood (of data points in batch [00005:00006]) = -0.00496837\n",
            "Iteration 6: Average log likelihood (of data points in batch [00006:00007]) = -0.00683979\n",
            "Iteration 7: Average log likelihood (of data points in batch [00007:00008]) = -0.16421525\n",
            "Iteration 8: Average log likelihood (of data points in batch [00008:00009]) = -0.01732799\n",
            "Iteration 9: Average log likelihood (of data points in batch [00009:00010]) = -0.00000922\n"
          ],
          "name": "stdout"
        }
      ]
    },
    {
      "cell_type": "markdown",
      "metadata": {
        "id": "xxzOIQWGFH1o"
      },
      "source": [
        "**Quiz Question**. When you set `batch_size = 1`, as each iteration passes, how does the average log likelihood in the batch change?\n",
        "* Increases\n",
        "* Decreases\n",
        "* Fluctuates "
      ]
    },
    {
      "cell_type": "markdown",
      "metadata": {
        "id": "udY40dXqFH1o"
      },
      "source": [
        "Now run **batch gradient ascent** over the **feature_matrix_train** for 200 iterations using:\n",
        "* `initial_coefficients = np.zeros(194)`\n",
        "* `step_size = 5e-1`\n",
        "* `batch_size = len(feature_matrix_train)`\n",
        "* `max_iter = 200`"
      ]
    },
    {
      "cell_type": "code",
      "metadata": {
        "colab": {
          "base_uri": "https://localhost:8080/"
        },
        "id": "ey43tHEiFH1o",
        "outputId": "a3bc17b1-30e1-408f-8939-cda11524d3ee"
      },
      "source": [
        "# YOUR CODE HERE\n",
        "coefficients_batch, log_likelihood_batch = logistic_regression_SG(feature_matrix_train, sentiment_train,\n",
        "                                        initial_coefficients=np.zeros(194),\n",
        "                                        step_size=5e-1, batch_size= len(feature_matrix_train), max_iter=1000)"
      ],
      "execution_count": 47,
      "outputs": [
        {
          "output_type": "stream",
          "text": [
            "Iteration   0: Average log likelihood (of data points in batch [00000:47780]) = -0.69314372\n",
            "Iteration   1: Average log likelihood (of data points in batch [00000:47780]) = -0.69314141\n",
            "Iteration   2: Average log likelihood (of data points in batch [00000:47780]) = -0.69313907\n",
            "Iteration   3: Average log likelihood (of data points in batch [00000:47780]) = -0.69313374\n",
            "Iteration   4: Average log likelihood (of data points in batch [00000:47780]) = -0.69313221\n",
            "Iteration   5: Average log likelihood (of data points in batch [00000:47780]) = -0.69313131\n",
            "Iteration   6: Average log likelihood (of data points in batch [00000:47780]) = -0.69312800\n",
            "Iteration   7: Average log likelihood (of data points in batch [00000:47780]) = -0.69312632\n",
            "Iteration   8: Average log likelihood (of data points in batch [00000:47780]) = -0.69312291\n",
            "Iteration   9: Average log likelihood (of data points in batch [00000:47780]) = -0.69312150\n",
            "Iteration  10: Average log likelihood (of data points in batch [00000:47780]) = -0.69311365\n",
            "Iteration  11: Average log likelihood (of data points in batch [00000:47780]) = -0.69311019\n",
            "Iteration  12: Average log likelihood (of data points in batch [00000:47780]) = -0.69310747\n",
            "Iteration  13: Average log likelihood (of data points in batch [00000:47780]) = -0.69310381\n",
            "Iteration  14: Average log likelihood (of data points in batch [00000:47780]) = -0.69309998\n",
            "Iteration  15: Average log likelihood (of data points in batch [00000:47780]) = -0.69310028\n",
            "Iteration 100: Average log likelihood (of data points in batch [00000:47780]) = -0.69293104\n",
            "Iteration 200: Average log likelihood (of data points in batch [00000:47780]) = -0.69273839\n",
            "Iteration 300: Average log likelihood (of data points in batch [00000:47780]) = -0.69252404\n",
            "Iteration 400: Average log likelihood (of data points in batch [00000:47780]) = -0.69231021\n",
            "Iteration 500: Average log likelihood (of data points in batch [00000:47780]) = -0.69211330\n",
            "Iteration 600: Average log likelihood (of data points in batch [00000:47780]) = -0.69190412\n",
            "Iteration 700: Average log likelihood (of data points in batch [00000:47780]) = -0.69168500\n",
            "Iteration 800: Average log likelihood (of data points in batch [00000:47780]) = -0.69146918\n",
            "Iteration 900: Average log likelihood (of data points in batch [00000:47780]) = -0.69124971\n",
            "Iteration 999: Average log likelihood (of data points in batch [00000:47780]) = -0.69105961\n"
          ],
          "name": "stdout"
        }
      ]
    },
    {
      "cell_type": "code",
      "metadata": {
        "colab": {
          "base_uri": "https://localhost:8080/",
          "height": 375
        },
        "id": "puDu72u-1SXk",
        "outputId": "bedd7a54-60bc-4ffc-91e2-cf8d3b78ec2f"
      },
      "source": [
        "make_plot(log_likelihood_batch, len_data=len(feature_matrix_train), batch_size=len(feature_matrix_train),\n",
        "          label='stochastic batch gradient, step_size=5e-1')"
      ],
      "execution_count": 48,
      "outputs": [
        {
          "output_type": "display_data",
          "data": {
            "image/png": "[encoded data removed]",
            "text/plain": [
              "<Figure size 648x360 with 1 Axes>"
            ]
          },
          "metadata": {
            "tags": [],
            "needs_background": "light"
          }
        }
      ]
    },
    {
      "cell_type": "markdown",
      "metadata": {
        "id": "OKBMz9LhFH1o"
      },
      "source": [
        "**Quiz Question**. When you set `batch_size = len(feature_matrix_train)`, as each iteration passes, how does the average log likelihood in the batch change?\n",
        "* Increases \n",
        "* Decreases\n",
        "* Fluctuates "
      ]
    },
    {
      "cell_type": "markdown",
      "metadata": {
        "id": "rMVp7EVnFH1o"
      },
      "source": [
        "## Make \"passes\" over the dataset"
      ]
    },
    {
      "cell_type": "markdown",
      "metadata": {
        "id": "bd132A-OFH1o"
      },
      "source": [
        "To make a fair comparison betweeen stochastic gradient ascent and batch gradient ascent, we measure the average log likelihood as a function of the number of passes (defined as follows):\n",
        "$$\n",
        "[\\text{# of passes}] = \\frac{[\\text{# of data points touched so far}]}{[\\text{size of dataset}]}\n",
        "$$"
      ]
    },
    {
      "cell_type": "markdown",
      "metadata": {
        "id": "F_oGWe4cFH1o"
      },
      "source": [
        "**Quiz Question** Suppose that we run stochastic gradient ascent with a batch size of 100. How many gradient updates are performed at the end of two passes over a dataset consisting of 50000 data points?"
      ]
    },
    {
      "cell_type": "code",
      "metadata": {
        "id": "GykdSbqCFH1o"
      },
      "source": [
        ""
      ],
      "execution_count": null,
      "outputs": []
    },
    {
      "cell_type": "markdown",
      "metadata": {
        "id": "wmSvp8jNFH1p"
      },
      "source": [
        "## Log likelihood plots for stochastic gradient ascent"
      ]
    },
    {
      "cell_type": "markdown",
      "metadata": {
        "id": "hSSyT7XFFH1p"
      },
      "source": [
        "With the terminology in mind, let us run stochastic gradient ascent for 10 passes. We will use\n",
        "* `step_size=1e-1`\n",
        "* `batch_size=100`\n",
        "* `initial_coefficients` to all zeros."
      ]
    },
    {
      "cell_type": "code",
      "metadata": {
        "colab": {
          "base_uri": "https://localhost:8080/"
        },
        "id": "72HOjhj2FH1p",
        "outputId": "52aaa463-c5d5-4968-a245-6dedba666614"
      },
      "source": [
        "step_size = 1e-1\n",
        "batch_size = 100\n",
        "num_passes = 10\n",
        "num_iterations = num_passes * int(len(feature_matrix_train)/batch_size)\n",
        "\n",
        "coefficients_sgd, log_likelihood_sgd = logistic_regression_SG(feature_matrix_train, sentiment_train,\n",
        "                                       initial_coefficients=np.zeros(194),\n",
        "                                       step_size=1e-1, batch_size=100, max_iter=num_iterations)"
      ],
      "execution_count": 43,
      "outputs": [
        {
          "output_type": "stream",
          "text": [
            "Iteration    0: Average log likelihood (of data points in batch [00000:00100]) = -0.69266292\n",
            "Iteration    1: Average log likelihood (of data points in batch [00100:00200]) = -0.69253715\n",
            "Iteration    2: Average log likelihood (of data points in batch [00200:00300]) = -0.69080290\n",
            "Iteration    3: Average log likelihood (of data points in batch [00300:00400]) = -0.69197781\n",
            "Iteration    4: Average log likelihood (of data points in batch [00400:00500]) = -0.69150287\n",
            "Iteration    5: Average log likelihood (of data points in batch [00500:00600]) = -0.69151685\n",
            "Iteration    6: Average log likelihood (of data points in batch [00600:00700]) = -0.68727613\n",
            "Iteration    7: Average log likelihood (of data points in batch [00700:00800]) = -0.69026375\n",
            "Iteration    8: Average log likelihood (of data points in batch [00800:00900]) = -0.68909765\n",
            "Iteration    9: Average log likelihood (of data points in batch [00900:01000]) = -0.69061005\n",
            "Iteration   10: Average log likelihood (of data points in batch [01000:01100]) = -0.69084693\n",
            "Iteration   11: Average log likelihood (of data points in batch [01100:01200]) = -0.69051420\n",
            "Iteration   12: Average log likelihood (of data points in batch [01200:01300]) = -0.69020709\n",
            "Iteration   13: Average log likelihood (of data points in batch [01300:01400]) = -0.69126336\n",
            "Iteration   14: Average log likelihood (of data points in batch [01400:01500]) = -0.68914649\n",
            "Iteration   15: Average log likelihood (of data points in batch [01500:01600]) = -0.68767614\n",
            "Iteration  100: Average log likelihood (of data points in batch [10000:10100]) = -0.68389508\n",
            "Iteration  200: Average log likelihood (of data points in batch [20000:20100]) = -0.65536808\n",
            "Iteration  300: Average log likelihood (of data points in batch [30000:30100]) = -0.63203431\n",
            "Iteration  400: Average log likelihood (of data points in batch [40000:40100]) = -0.62319578\n",
            "Iteration  500: Average log likelihood (of data points in batch [02300:02400]) = -0.61051526\n",
            "Iteration  600: Average log likelihood (of data points in batch [12300:12400]) = -0.61882964\n",
            "Iteration  700: Average log likelihood (of data points in batch [22300:22400]) = -0.61349646\n",
            "Iteration  800: Average log likelihood (of data points in batch [32300:32400]) = -0.59589610\n",
            "Iteration  900: Average log likelihood (of data points in batch [42300:42400]) = -0.58814591\n",
            "Iteration 1000: Average log likelihood (of data points in batch [04600:04700]) = -0.59290552\n",
            "Iteration 2000: Average log likelihood (of data points in batch [09200:09300]) = -0.54790483\n",
            "Iteration 3000: Average log likelihood (of data points in batch [13800:13900]) = -0.46040355\n",
            "Iteration 4000: Average log likelihood (of data points in batch [18400:18500]) = -0.54894069\n",
            "Iteration 4769: Average log likelihood (of data points in batch [47600:47700]) = -0.56094399\n"
          ],
          "name": "stdout"
        }
      ]
    },
    {
      "cell_type": "markdown",
      "metadata": {
        "id": "L2roML-3FH1p"
      },
      "source": [
        "We provide you with a utility function to plot the average log likelihood as a function of the number of passes."
      ]
    },
    {
      "cell_type": "code",
      "metadata": {
        "id": "JjDvp_8H075H"
      },
      "source": [
        "make_plot(log_likelihood_sgd, len_data=len(feature_matrix_train), batch_size=100,\n",
        "          label='stochastic gradient, step_size=1e-1')"
      ],
      "execution_count": null,
      "outputs": []
    },
    {
      "cell_type": "code",
      "metadata": {
        "id": "Y5IGV6BZFH1p"
      },
      "source": [
        "import matplotlib.pyplot as plt\n",
        "%matplotlib inline\n",
        "\n",
        "def make_plot(log_likelihood_all, len_data, batch_size, smoothing_window=1, label=''):\n",
        "    plt.rcParams.update({'figure.figsize': (9,5)})\n",
        "    log_likelihood_all_ma = np.convolve(np.array(log_likelihood_all), \\\n",
        "                                        np.ones((smoothing_window,))/smoothing_window, mode='valid')\n",
        "    plt.plot(np.array(range(smoothing_window-1, len(log_likelihood_all)))*float(batch_size)/len_data,\n",
        "             log_likelihood_all_ma, linewidth=4.0, label=label)\n",
        "    plt.rcParams.update({'font.size': 16})\n",
        "    plt.tight_layout()\n",
        "    plt.xlabel('# of passes over data')\n",
        "    plt.ylabel('Average log likelihood per data point')\n",
        "    plt.legend(loc='lower right', prop={'size':14})"
      ],
      "execution_count": 33,
      "outputs": []
    },
    {
      "cell_type": "code",
      "metadata": {
        "colab": {
          "base_uri": "https://localhost:8080/",
          "height": 370
        },
        "id": "McqaVqBBFH1p",
        "outputId": "3f03c623-dd65-4e65-dc37-dd8d34d9100c"
      },
      "source": [
        "make_plot(log_likelihood_sgd, len_data=len(feature_matrix_train), batch_size=100,\n",
        "          label='stochastic gradient, step_size=1e-1')"
      ],
      "execution_count": 34,
      "outputs": [
        {
          "output_type": "display_data",
          "data": {
            "image/png": "[encoded data removed]",
            "text/plain": [
              "<Figure size 648x360 with 1 Axes>"
            ]
          },
          "metadata": {
            "tags": [],
            "needs_background": "light"
          }
        }
      ]
    },
    {
      "cell_type": "markdown",
      "metadata": {
        "id": "oJroXP-JFH1p"
      },
      "source": [
        "## Smoothing the stochastic gradient ascent curve\n",
        "\n",
        "The plotted line oscillates so much that it is hard to see whether the log likelihood is improving. In our plot, we apply a simple smoothing operation using the parameter `smoothing_window`. The smoothing is simply a [moving average](https://en.wikipedia.org/wiki/Moving_average) of log likelihood over the last `smoothing_window` \"iterations\" of  stochastic gradient ascent."
      ]
    },
    {
      "cell_type": "code",
      "metadata": {
        "colab": {
          "base_uri": "https://localhost:8080/",
          "height": 375
        },
        "id": "RudDY0xjFH1q",
        "outputId": "d00f03df-fcbc-4482-ec07-05c16ea1108e"
      },
      "source": [
        "make_plot(log_likelihood_sgd, len_data=len(feature_matrix_train), batch_size=100,\n",
        "          smoothing_window=300, label='stochastic gradient, step_size=1e-1')"
      ],
      "execution_count": 36,
      "outputs": [
        {
          "output_type": "display_data",
          "data": {
            "image/png": "[encoded data removed]",
            "text/plain": [
              "<Figure size 648x360 with 1 Axes>"
            ]
          },
          "metadata": {
            "tags": [],
            "needs_background": "light"
          }
        }
      ]
    },
    {
      "cell_type": "markdown",
      "metadata": {
        "id": "ambOuoZkFH1q"
      },
      "source": [
        "**Checkpoint**: The above plot should look smoother than the previous plot. Play around with `smoothing_window`. As you increase it, you should see a smoother plot."
      ]
    },
    {
      "cell_type": "markdown",
      "metadata": {
        "id": "y7gil_qNFH1q"
      },
      "source": [
        "## Stochastic gradient ascent vs batch gradient ascent\n",
        "\n",
        "To compare convergence rates for stochastic gradient ascent with batch gradient ascent, we call `make_plot()` multiple times in the same cell.\n",
        "\n",
        "We are comparing:\n",
        "* **stochastic gradient ascent**: `step_size = 0.1`, `batch_size=100`\n",
        "* **batch gradient ascent**: `step_size = 0.5`, `batch_size=len(feature_matrix_train)`\n",
        "\n",
        "Write code to run stochastic gradient ascent for 200 passes using:\n",
        "* `step_size=1e-1`\n",
        "* `batch_size=100`\n",
        "* `initial_coefficients` to all zeros."
      ]
    },
    {
      "cell_type": "code",
      "metadata": {
        "colab": {
          "base_uri": "https://localhost:8080/"
        },
        "id": "jFs_pS71FH1q",
        "outputId": "fe0694a1-b66c-4153-ab18-15a2301c2d74"
      },
      "source": [
        "step_size = 1e-1\n",
        "batch_size = 100\n",
        "num_passes = 200\n",
        "num_iterations =num_passes*int(len(feature_matrix_train)/batch_size)\n",
        "\n",
        "## YOUR CODE HERE\n",
        "coefficients_sgd, log_likelihood_sgd = logistic_regression_SG(feature_matrix_train, sentiment_train,\n",
        "                                       initial_coefficients=np.zeros(194),\n",
        "                                       step_size=1e-1, batch_size=100, max_iter=num_iterations)"
      ],
      "execution_count": 37,
      "outputs": [
        {
          "output_type": "stream",
          "text": [
            "Iteration     0: Average log likelihood (of data points in batch [00000:00100]) = -0.69266292\n",
            "Iteration     1: Average log likelihood (of data points in batch [00100:00200]) = -0.69253715\n",
            "Iteration     2: Average log likelihood (of data points in batch [00200:00300]) = -0.69080290\n",
            "Iteration     3: Average log likelihood (of data points in batch [00300:00400]) = -0.69197781\n",
            "Iteration     4: Average log likelihood (of data points in batch [00400:00500]) = -0.69150287\n",
            "Iteration     5: Average log likelihood (of data points in batch [00500:00600]) = -0.69151685\n",
            "Iteration     6: Average log likelihood (of data points in batch [00600:00700]) = -0.68727613\n",
            "Iteration     7: Average log likelihood (of data points in batch [00700:00800]) = -0.69026375\n",
            "Iteration     8: Average log likelihood (of data points in batch [00800:00900]) = -0.68909765\n",
            "Iteration     9: Average log likelihood (of data points in batch [00900:01000]) = -0.69061005\n",
            "Iteration    10: Average log likelihood (of data points in batch [01000:01100]) = -0.69084693\n",
            "Iteration    11: Average log likelihood (of data points in batch [01100:01200]) = -0.69051420\n",
            "Iteration    12: Average log likelihood (of data points in batch [01200:01300]) = -0.69020709\n",
            "Iteration    13: Average log likelihood (of data points in batch [01300:01400]) = -0.69126336\n",
            "Iteration    14: Average log likelihood (of data points in batch [01400:01500]) = -0.68914649\n",
            "Iteration    15: Average log likelihood (of data points in batch [01500:01600]) = -0.68767614\n",
            "Iteration   100: Average log likelihood (of data points in batch [10000:10100]) = -0.68389508\n",
            "Iteration   200: Average log likelihood (of data points in batch [20000:20100]) = -0.65536808\n",
            "Iteration   300: Average log likelihood (of data points in batch [30000:30100]) = -0.63203431\n",
            "Iteration   400: Average log likelihood (of data points in batch [40000:40100]) = -0.62319578\n",
            "Iteration   500: Average log likelihood (of data points in batch [02300:02400]) = -0.61051526\n",
            "Iteration   600: Average log likelihood (of data points in batch [12300:12400]) = -0.61882964\n",
            "Iteration   700: Average log likelihood (of data points in batch [22300:22400]) = -0.61349646\n",
            "Iteration   800: Average log likelihood (of data points in batch [32300:32400]) = -0.59589610\n",
            "Iteration   900: Average log likelihood (of data points in batch [42300:42400]) = -0.58814591\n",
            "Iteration  1000: Average log likelihood (of data points in batch [04600:04700]) = -0.59290552\n",
            "Iteration  2000: Average log likelihood (of data points in batch [09200:09300]) = -0.54790483\n",
            "Iteration  3000: Average log likelihood (of data points in batch [13800:13900]) = -0.46040355\n",
            "Iteration  4000: Average log likelihood (of data points in batch [18400:18500]) = -0.54894069\n",
            "Iteration  5000: Average log likelihood (of data points in batch [23000:23100]) = -0.47454314\n",
            "Iteration  6000: Average log likelihood (of data points in batch [27600:27700]) = -0.53178680\n",
            "Iteration  7000: Average log likelihood (of data points in batch [32200:32300]) = -0.47271127\n",
            "Iteration  8000: Average log likelihood (of data points in batch [36800:36900]) = -0.43622292\n",
            "Iteration  9000: Average log likelihood (of data points in batch [41400:41500]) = -0.44121205\n",
            "Iteration 10000: Average log likelihood (of data points in batch [46000:46100]) = -0.51321234\n",
            "Iteration 20000: Average log likelihood (of data points in batch [44300:44400]) = -0.47318633\n",
            "Iteration 30000: Average log likelihood (of data points in batch [42600:42700]) = -0.44054488\n",
            "Iteration 40000: Average log likelihood (of data points in batch [40900:41000]) = -0.46588797\n",
            "Iteration 50000: Average log likelihood (of data points in batch [39200:39300]) = -0.46610725\n",
            "Iteration 60000: Average log likelihood (of data points in batch [37500:37600]) = -0.41927088\n",
            "Iteration 70000: Average log likelihood (of data points in batch [35800:35900]) = -0.50378324\n",
            "Iteration 80000: Average log likelihood (of data points in batch [34100:34200]) = -0.44631037\n",
            "Iteration 90000: Average log likelihood (of data points in batch [32400:32500]) = -0.43220937\n",
            "Iteration 95399: Average log likelihood (of data points in batch [47600:47700]) = -0.50060786\n"
          ],
          "name": "stdout"
        }
      ]
    },
    {
      "cell_type": "markdown",
      "metadata": {
        "id": "RHtOZWufFH1q"
      },
      "source": [
        "We compare the convergence of stochastic gradient ascent and batch gradient ascent in the following cell. Note that we apply smoothing with `smoothing_window=30`."
      ]
    },
    {
      "cell_type": "code",
      "metadata": {
        "colab": {
          "base_uri": "https://localhost:8080/",
          "height": 360
        },
        "id": "PBPJ3dfqFH1q",
        "outputId": "18fb5511-cb35-46df-92a8-6c6c2250a836"
      },
      "source": [
        "make_plot(log_likelihood_sgd, len_data=len(feature_matrix_train), batch_size=100,\n",
        "          smoothing_window=30, label='stochastic, step_size=1e-1')\n",
        "make_plot(log_likelihood_batch, len_data=len(feature_matrix_train), batch_size=len(feature_matrix_train),\n",
        "          smoothing_window=1, label='batch, step_size=5e-1')"
      ],
      "execution_count": 38,
      "outputs": [
        {
          "output_type": "display_data",
          "data": {
            "image/png": "[encoded data removed]",
            "text/plain": [
              "<Figure size 648x360 with 1 Axes>"
            ]
          },
          "metadata": {
            "tags": [],
            "needs_background": "light"
          }
        }
      ]
    },
    {
      "cell_type": "markdown",
      "metadata": {
        "id": "8EGVt2IlFH1q"
      },
      "source": [
        "**Quiz Question**: In the figure above, how many passes does batch gradient ascent need to achieve a similar log likelihood as stochastic gradient ascent? \n",
        "\n",
        "1. It's always better\n",
        "2. 10 passes\n",
        "3. 20 passes\n",
        "4. 150 passes or more"
      ]
    },
    {
      "cell_type": "markdown",
      "metadata": {
        "id": "xTGGjh9VFH1r"
      },
      "source": [
        "## Explore the effects of step sizes on stochastic gradient ascent"
      ]
    },
    {
      "cell_type": "markdown",
      "metadata": {
        "id": "0rDjc1ayFH1r"
      },
      "source": [
        "In previous sections, we chose step sizes for you. In practice, it helps to know how to choose good step sizes yourself.\n",
        "\n",
        "To start, we explore a wide range of step sizes that are equally spaced in the log space. Run stochastic gradient ascent with `step_size` set to 1e-4, 1e-3, 1e-2, 1e-1, 1e0, 1e1, and 1e2. Use the following set of parameters:\n",
        "* `initial_coefficients=np.zeros(194)`\n",
        "* `batch_size=100`\n",
        "* `max_iter` initialized so as to run 10 passes over the data."
      ]
    },
    {
      "cell_type": "code",
      "metadata": {
        "colab": {
          "base_uri": "https://localhost:8080/"
        },
        "id": "ueAEt_fAFH1r",
        "outputId": "e226b646-3f38-4e6d-ed05-6f8e180c24c0"
      },
      "source": [
        "batch_size = 100\n",
        "num_passes = 10\n",
        "num_iterations = num_passes*int(len(feature_matrix_train)/batch_size)\n",
        "\n",
        "\n",
        "coefficients_sgd = {}\n",
        "log_likelihood_sgd = {}\n",
        "for step_size in np.logspace(-4, 2, num=7):\n",
        "    coefficients_sgd[step_size], log_likelihood_sgd[step_size] = logistic_regression_SG(feature_matrix_train, sentiment_train,\n",
        "                                       initial_coefficients=np.zeros(194),\n",
        "                                       step_size=step_size, batch_size=100, max_iter=num_iterations)"
      ],
      "execution_count": 39,
      "outputs": [
        {
          "output_type": "stream",
          "text": [
            "Iteration    0: Average log likelihood (of data points in batch [00000:00100]) = -0.69314668\n",
            "Iteration    1: Average log likelihood (of data points in batch [00100:00200]) = -0.69314654\n",
            "Iteration    2: Average log likelihood (of data points in batch [00200:00300]) = -0.69314474\n",
            "Iteration    3: Average log likelihood (of data points in batch [00300:00400]) = -0.69314609\n",
            "Iteration    4: Average log likelihood (of data points in batch [00400:00500]) = -0.69314542\n",
            "Iteration    5: Average log likelihood (of data points in batch [00500:00600]) = -0.69314548\n",
            "Iteration    6: Average log likelihood (of data points in batch [00600:00700]) = -0.69314075\n",
            "Iteration    7: Average log likelihood (of data points in batch [00700:00800]) = -0.69314425\n",
            "Iteration    8: Average log likelihood (of data points in batch [00800:00900]) = -0.69314302\n",
            "Iteration    9: Average log likelihood (of data points in batch [00900:01000]) = -0.69314457\n",
            "Iteration   10: Average log likelihood (of data points in batch [01000:01100]) = -0.69314488\n",
            "Iteration   11: Average log likelihood (of data points in batch [01100:01200]) = -0.69314452\n",
            "Iteration   12: Average log likelihood (of data points in batch [01200:01300]) = -0.69314423\n",
            "Iteration   13: Average log likelihood (of data points in batch [01300:01400]) = -0.69314525\n",
            "Iteration   14: Average log likelihood (of data points in batch [01400:01500]) = -0.69314299\n",
            "Iteration   15: Average log likelihood (of data points in batch [01500:01600]) = -0.69314167\n",
            "Iteration  100: Average log likelihood (of data points in batch [10000:10100]) = -0.69313619\n",
            "Iteration  200: Average log likelihood (of data points in batch [20000:20100]) = -0.69310226\n",
            "Iteration  300: Average log likelihood (of data points in batch [30000:30100]) = -0.69306591\n",
            "Iteration  400: Average log likelihood (of data points in batch [40000:40100]) = -0.69305202\n",
            "Iteration  500: Average log likelihood (of data points in batch [02300:02400]) = -0.69301924\n",
            "Iteration  600: Average log likelihood (of data points in batch [12300:12400]) = -0.69304377\n",
            "Iteration  700: Average log likelihood (of data points in batch [22300:22400]) = -0.69300298\n",
            "Iteration  800: Average log likelihood (of data points in batch [32300:32400]) = -0.69297374\n",
            "Iteration  900: Average log likelihood (of data points in batch [42300:42400]) = -0.69294585\n",
            "Iteration 1000: Average log likelihood (of data points in batch [04600:04700]) = -0.69290536\n",
            "Iteration 2000: Average log likelihood (of data points in batch [09200:09300]) = -0.69279652\n",
            "Iteration 3000: Average log likelihood (of data points in batch [13800:13900]) = -0.69236298\n",
            "Iteration 4000: Average log likelihood (of data points in batch [18400:18500]) = -0.69240186\n",
            "Iteration 4769: Average log likelihood (of data points in batch [47600:47700]) = -0.69253168\n",
            "Iteration    0: Average log likelihood (of data points in batch [00000:00100]) = -0.69314213\n",
            "Iteration    1: Average log likelihood (of data points in batch [00100:00200]) = -0.69314076\n",
            "Iteration    2: Average log likelihood (of data points in batch [00200:00300]) = -0.69312279\n",
            "Iteration    3: Average log likelihood (of data points in batch [00300:00400]) = -0.69313625\n",
            "Iteration    4: Average log likelihood (of data points in batch [00400:00500]) = -0.69312957\n",
            "Iteration    5: Average log likelihood (of data points in batch [00500:00600]) = -0.69313014\n",
            "Iteration    6: Average log likelihood (of data points in batch [00600:00700]) = -0.69308291\n",
            "Iteration    7: Average log likelihood (of data points in batch [00700:00800]) = -0.69311789\n",
            "Iteration    8: Average log likelihood (of data points in batch [00800:00900]) = -0.69310557\n",
            "Iteration    9: Average log likelihood (of data points in batch [00900:01000]) = -0.69312111\n",
            "Iteration   10: Average log likelihood (of data points in batch [01000:01100]) = -0.69312413\n",
            "Iteration   11: Average log likelihood (of data points in batch [01100:01200]) = -0.69312058\n",
            "Iteration   12: Average log likelihood (of data points in batch [01200:01300]) = -0.69311771\n",
            "Iteration   13: Average log likelihood (of data points in batch [01300:01400]) = -0.69312784\n",
            "Iteration   14: Average log likelihood (of data points in batch [01400:01500]) = -0.69310532\n",
            "Iteration   15: Average log likelihood (of data points in batch [01500:01600]) = -0.69309203\n",
            "Iteration  100: Average log likelihood (of data points in batch [10000:10100]) = -0.69303749\n",
            "Iteration  200: Average log likelihood (of data points in batch [20000:20100]) = -0.69269875\n",
            "Iteration  300: Average log likelihood (of data points in batch [30000:30100]) = -0.69233728\n",
            "Iteration  400: Average log likelihood (of data points in batch [40000:40100]) = -0.69219865\n",
            "Iteration  500: Average log likelihood (of data points in batch [02300:02400]) = -0.69187425\n",
            "Iteration  600: Average log likelihood (of data points in batch [12300:12400]) = -0.69211707\n",
            "Iteration  700: Average log likelihood (of data points in batch [22300:22400]) = -0.69171725\n",
            "Iteration  800: Average log likelihood (of data points in batch [32300:32400]) = -0.69142659\n",
            "Iteration  900: Average log likelihood (of data points in batch [42300:42400]) = -0.69115308\n",
            "Iteration 1000: Average log likelihood (of data points in batch [04600:04700]) = -0.69077136\n",
            "Iteration 2000: Average log likelihood (of data points in batch [09200:09300]) = -0.68966467\n",
            "Iteration 3000: Average log likelihood (of data points in batch [13800:13900]) = -0.68539687\n",
            "Iteration 4000: Average log likelihood (of data points in batch [18400:18500]) = -0.68602989\n",
            "Iteration 4769: Average log likelihood (of data points in batch [47600:47700]) = -0.68707476\n",
            "Iteration    0: Average log likelihood (of data points in batch [00000:00100]) = -0.69309689\n",
            "Iteration    1: Average log likelihood (of data points in batch [00100:00200]) = -0.69308326\n",
            "Iteration    2: Average log likelihood (of data points in batch [00200:00300]) = -0.69290417\n",
            "Iteration    3: Average log likelihood (of data points in batch [00300:00400]) = -0.69303717\n",
            "Iteration    4: Average log likelihood (of data points in batch [00400:00500]) = -0.69297217\n",
            "Iteration    5: Average log likelihood (of data points in batch [00500:00600]) = -0.69297748\n",
            "Iteration    6: Average log likelihood (of data points in batch [00600:00700]) = -0.69250965\n",
            "Iteration    7: Average log likelihood (of data points in batch [00700:00800]) = -0.69285468\n",
            "Iteration    8: Average log likelihood (of data points in batch [00800:00900]) = -0.69273207\n",
            "Iteration    9: Average log likelihood (of data points in batch [00900:01000]) = -0.69288718\n",
            "Iteration   10: Average log likelihood (of data points in batch [01000:01100]) = -0.69291671\n",
            "Iteration   11: Average log likelihood (of data points in batch [01100:01200]) = -0.69288139\n",
            "Iteration   12: Average log likelihood (of data points in batch [01200:01300]) = -0.69285242\n",
            "Iteration   13: Average log likelihood (of data points in batch [01300:01400]) = -0.69295419\n",
            "Iteration   14: Average log likelihood (of data points in batch [01400:01500]) = -0.69273032\n",
            "Iteration   15: Average log likelihood (of data points in batch [01500:01600]) = -0.69259598\n",
            "Iteration  100: Average log likelihood (of data points in batch [10000:10100]) = -0.69206903\n",
            "Iteration  200: Average log likelihood (of data points in batch [20000:20100]) = -0.68873737\n",
            "Iteration  300: Average log likelihood (of data points in batch [30000:30100]) = -0.68531161\n",
            "Iteration  400: Average log likelihood (of data points in batch [40000:40100]) = -0.68396372\n",
            "Iteration  500: Average log likelihood (of data points in batch [02300:02400]) = -0.68102744\n",
            "Iteration  600: Average log likelihood (of data points in batch [12300:12400]) = -0.68320970\n",
            "Iteration  700: Average log likelihood (of data points in batch [22300:22400]) = -0.67993173\n",
            "Iteration  800: Average log likelihood (of data points in batch [32300:32400]) = -0.67717918\n",
            "Iteration  900: Average log likelihood (of data points in batch [42300:42400]) = -0.67488611\n",
            "Iteration 1000: Average log likelihood (of data points in batch [04600:04700]) = -0.67314038\n",
            "Iteration 2000: Average log likelihood (of data points in batch [09200:09300]) = -0.66115380\n",
            "Iteration 3000: Average log likelihood (of data points in batch [13800:13900]) = -0.62687076\n",
            "Iteration 4000: Average log likelihood (of data points in batch [18400:18500]) = -0.64161754\n",
            "Iteration 4769: Average log likelihood (of data points in batch [47600:47700]) = -0.64470706\n",
            "Iteration    0: Average log likelihood (of data points in batch [00000:00100]) = -0.69266292\n",
            "Iteration    1: Average log likelihood (of data points in batch [00100:00200]) = -0.69253715\n",
            "Iteration    2: Average log likelihood (of data points in batch [00200:00300]) = -0.69080290\n",
            "Iteration    3: Average log likelihood (of data points in batch [00300:00400]) = -0.69197781\n",
            "Iteration    4: Average log likelihood (of data points in batch [00400:00500]) = -0.69150287\n",
            "Iteration    5: Average log likelihood (of data points in batch [00500:00600]) = -0.69151685\n",
            "Iteration    6: Average log likelihood (of data points in batch [00600:00700]) = -0.68727613\n",
            "Iteration    7: Average log likelihood (of data points in batch [00700:00800]) = -0.69026375\n",
            "Iteration    8: Average log likelihood (of data points in batch [00800:00900]) = -0.68909765\n",
            "Iteration    9: Average log likelihood (of data points in batch [00900:01000]) = -0.69061005\n",
            "Iteration   10: Average log likelihood (of data points in batch [01000:01100]) = -0.69084693\n",
            "Iteration   11: Average log likelihood (of data points in batch [01100:01200]) = -0.69051420\n",
            "Iteration   12: Average log likelihood (of data points in batch [01200:01300]) = -0.69020709\n",
            "Iteration   13: Average log likelihood (of data points in batch [01300:01400]) = -0.69126336\n",
            "Iteration   14: Average log likelihood (of data points in batch [01400:01500]) = -0.68914649\n",
            "Iteration   15: Average log likelihood (of data points in batch [01500:01600]) = -0.68767614\n",
            "Iteration  100: Average log likelihood (of data points in batch [10000:10100]) = -0.68389508\n",
            "Iteration  200: Average log likelihood (of data points in batch [20000:20100]) = -0.65536808\n",
            "Iteration  300: Average log likelihood (of data points in batch [30000:30100]) = -0.63203431\n",
            "Iteration  400: Average log likelihood (of data points in batch [40000:40100]) = -0.62319578\n",
            "Iteration  500: Average log likelihood (of data points in batch [02300:02400]) = -0.61051526\n",
            "Iteration  600: Average log likelihood (of data points in batch [12300:12400]) = -0.61882964\n",
            "Iteration  700: Average log likelihood (of data points in batch [22300:22400]) = -0.61349646\n",
            "Iteration  800: Average log likelihood (of data points in batch [32300:32400]) = -0.59589610\n",
            "Iteration  900: Average log likelihood (of data points in batch [42300:42400]) = -0.58814591\n",
            "Iteration 1000: Average log likelihood (of data points in batch [04600:04700]) = -0.59290552\n",
            "Iteration 2000: Average log likelihood (of data points in batch [09200:09300]) = -0.54790483\n",
            "Iteration 3000: Average log likelihood (of data points in batch [13800:13900]) = -0.46040355\n",
            "Iteration 4000: Average log likelihood (of data points in batch [18400:18500]) = -0.54894069\n",
            "Iteration 4769: Average log likelihood (of data points in batch [47600:47700]) = -0.56094399\n",
            "Iteration    0: Average log likelihood (of data points in batch [00000:00100]) = -0.69016210\n",
            "Iteration    1: Average log likelihood (of data points in batch [00100:00200]) = -0.68973571\n",
            "Iteration    2: Average log likelihood (of data points in batch [00200:00300]) = -0.67585479\n",
            "Iteration    3: Average log likelihood (of data points in batch [00300:00400]) = -0.67553885\n",
            "Iteration    4: Average log likelihood (of data points in batch [00400:00500]) = -0.68329310\n",
            "Iteration    5: Average log likelihood (of data points in batch [00500:00600]) = -0.68127440\n",
            "Iteration    6: Average log likelihood (of data points in batch [00600:00700]) = -0.66253749\n",
            "Iteration    7: Average log likelihood (of data points in batch [00700:00800]) = -0.66676163\n",
            "Iteration    8: Average log likelihood (of data points in batch [00800:00900]) = -0.66116430\n",
            "Iteration    9: Average log likelihood (of data points in batch [00900:01000]) = -0.67187870\n",
            "Iteration   10: Average log likelihood (of data points in batch [01000:01100]) = -0.67273444\n",
            "Iteration   11: Average log likelihood (of data points in batch [01100:01200]) = -0.67243559\n",
            "Iteration   12: Average log likelihood (of data points in batch [01200:01300]) = -0.66817474\n",
            "Iteration   13: Average log likelihood (of data points in batch [01300:01400]) = -0.67911856\n",
            "Iteration   14: Average log likelihood (of data points in batch [01400:01500]) = -0.66678434\n",
            "Iteration   15: Average log likelihood (of data points in batch [01500:01600]) = -0.64882682\n",
            "Iteration  100: Average log likelihood (of data points in batch [10000:10100]) = -0.64775699\n",
            "Iteration  200: Average log likelihood (of data points in batch [20000:20100]) = -0.54538258\n",
            "Iteration  300: Average log likelihood (of data points in batch [30000:30100]) = -0.47420175\n",
            "Iteration  400: Average log likelihood (of data points in batch [40000:40100]) = -0.46585006\n",
            "Iteration  500: Average log likelihood (of data points in batch [02300:02400]) = -0.50014506\n",
            "Iteration  600: Average log likelihood (of data points in batch [12300:12400]) = -0.51570044\n",
            "Iteration  700: Average log likelihood (of data points in batch [22300:22400]) = -0.51406672\n",
            "Iteration  800: Average log likelihood (of data points in batch [32300:32400]) = -0.48784190\n",
            "Iteration  900: Average log likelihood (of data points in batch [42300:42400]) = -0.48993409\n",
            "Iteration 1000: Average log likelihood (of data points in batch [04600:04700]) = -0.48743161\n",
            "Iteration 2000: Average log likelihood (of data points in batch [09200:09300]) = -0.49026653\n",
            "Iteration 3000: Average log likelihood (of data points in batch [13800:13900]) = -0.38303764\n",
            "Iteration 4000: Average log likelihood (of data points in batch [18400:18500]) = -0.53710279\n",
            "Iteration 4769: Average log likelihood (of data points in batch [47600:47700]) = -0.55676197\n",
            "Iteration    0: Average log likelihood (of data points in batch [00000:00100]) = -0.80856254\n",
            "Iteration    1: Average log likelihood (of data points in batch [00100:00200]) = -0.74936471\n",
            "Iteration    2: Average log likelihood (of data points in batch [00200:00300]) = -0.66635784\n",
            "Iteration    3: Average log likelihood (of data points in batch [00300:00400]) = -0.66584450\n",
            "Iteration    4: Average log likelihood (of data points in batch [00400:00500]) = -0.76346932\n",
            "Iteration    5: Average log likelihood (of data points in batch [00500:00600]) = -0.76134106\n",
            "Iteration    6: Average log likelihood (of data points in batch [00600:00700]) = -0.79751416\n",
            "Iteration    7: Average log likelihood (of data points in batch [00700:00800]) = -0.61584030\n",
            "Iteration    8: Average log likelihood (of data points in batch [00800:00900]) = -0.53525341\n",
            "Iteration    9: Average log likelihood (of data points in batch [00900:01000]) = -0.61532377\n",
            "Iteration   10: Average log likelihood (of data points in batch [01000:01100]) = -0.64872751\n",
            "Iteration   11: Average log likelihood (of data points in batch [01100:01200]) = -0.62839336\n",
            "Iteration   12: Average log likelihood (of data points in batch [01200:01300]) = -0.64376817\n",
            "Iteration   13: Average log likelihood (of data points in batch [01300:01400]) = -0.71556036\n",
            "Iteration   14: Average log likelihood (of data points in batch [01400:01500]) = -0.63371694\n",
            "Iteration   15: Average log likelihood (of data points in batch [01500:01600]) = -0.59043488\n",
            "Iteration  100: Average log likelihood (of data points in batch [10000:10100]) = -0.73903397\n",
            "Iteration  200: Average log likelihood (of data points in batch [20000:20100]) = -0.67494349\n",
            "Iteration  300: Average log likelihood (of data points in batch [30000:30100]) = -0.51065600\n",
            "Iteration  400: Average log likelihood (of data points in batch [40000:40100]) = -0.55945115\n",
            "Iteration  500: Average log likelihood (of data points in batch [02300:02400]) = -0.69741315\n",
            "Iteration  600: Average log likelihood (of data points in batch [12300:12400]) = -0.87919813\n",
            "Iteration  700: Average log likelihood (of data points in batch [22300:22400]) = -0.72637922\n",
            "Iteration  800: Average log likelihood (of data points in batch [32300:32400]) = -0.53293948\n",
            "Iteration  900: Average log likelihood (of data points in batch [42300:42400]) = -0.54521554\n",
            "Iteration 1000: Average log likelihood (of data points in batch [04600:04700]) = -0.66791003\n",
            "Iteration 2000: Average log likelihood (of data points in batch [09200:09300]) = -0.62599605\n",
            "Iteration 3000: Average log likelihood (of data points in batch [13800:13900]) = -0.41626669\n",
            "Iteration 4000: Average log likelihood (of data points in batch [18400:18500]) = -0.65616515\n",
            "Iteration 4769: Average log likelihood (of data points in batch [47600:47700]) = -0.63318175\n",
            "Iteration    0: Average log likelihood (of data points in batch [00000:00100]) = -4.56247809\n",
            "Iteration    1: Average log likelihood (of data points in batch [00100:00200]) = -0.99560101\n",
            "Iteration    2: Average log likelihood (of data points in batch [00200:00300]) = -5.08746360\n",
            "Iteration    3: Average log likelihood (of data points in batch [00300:00400]) = -3.37090764\n",
            "Iteration    4: Average log likelihood (of data points in batch [00400:00500]) = -2.46589004\n",
            "Iteration    5: Average log likelihood (of data points in batch [00500:00600]) = -7.94000286\n",
            "Iteration    6: Average log likelihood (of data points in batch [00600:00700]) = -3.58340727\n",
            "Iteration    7: Average log likelihood (of data points in batch [00700:00800]) = -2.82928378\n",
            "Iteration    8: Average log likelihood (of data points in batch [00800:00900]) = -1.24629127\n",
            "Iteration    9: Average log likelihood (of data points in batch [00900:01000]) = -2.52267378\n",
            "Iteration   10: Average log likelihood (of data points in batch [01000:01100]) = -2.69473981\n",
            "Iteration   11: Average log likelihood (of data points in batch [01100:01200]) = -2.28689990\n",
            "Iteration   12: Average log likelihood (of data points in batch [01200:01300]) = -4.65456807\n",
            "Iteration   13: Average log likelihood (of data points in batch [01300:01400]) = -4.14316846\n",
            "Iteration   14: Average log likelihood (of data points in batch [01400:01500]) = -3.19043044\n",
            "Iteration   15: Average log likelihood (of data points in batch [01500:01600]) = -2.32766356\n",
            "Iteration  100: Average log likelihood (of data points in batch [10000:10100]) = -3.99318598\n",
            "Iteration  200: Average log likelihood (of data points in batch [20000:20100]) = -4.11075962\n",
            "Iteration  300: Average log likelihood (of data points in batch [30000:30100]) = -6.31772758\n",
            "Iteration  400: Average log likelihood (of data points in batch [40000:40100]) = -3.41662058\n",
            "Iteration  500: Average log likelihood (of data points in batch [02300:02400]) = -3.73671746\n"
          ],
          "name": "stdout"
        },
        {
          "output_type": "stream",
          "text": [
            "/usr/local/lib/python3.7/dist-packages/ipykernel_launcher.py:5: RuntimeWarning: overflow encountered in exp\n",
            "  \"\"\"\n"
          ],
          "name": "stderr"
        },
        {
          "output_type": "stream",
          "text": [
            "Iteration  600: Average log likelihood (of data points in batch [12300:12400]) = -8.79425572\n",
            "Iteration  700: Average log likelihood (of data points in batch [22300:22400]) = -5.45753919\n",
            "Iteration  800: Average log likelihood (of data points in batch [32300:32400]) = -2.87132847\n",
            "Iteration  900: Average log likelihood (of data points in batch [42300:42400]) = -2.14477741\n",
            "Iteration 1000: Average log likelihood (of data points in batch [04600:04700]) = -3.05648033\n",
            "Iteration 2000: Average log likelihood (of data points in batch [09200:09300]) = -3.71163643\n",
            "Iteration 3000: Average log likelihood (of data points in batch [13800:13900]) = -2.56314471\n",
            "Iteration 4000: Average log likelihood (of data points in batch [18400:18500]) = -3.63120989\n",
            "Iteration 4769: Average log likelihood (of data points in batch [47600:47700]) = -3.51966151\n"
          ],
          "name": "stdout"
        }
      ]
    },
    {
      "cell_type": "markdown",
      "metadata": {
        "id": "qHr5Z6_7FH1r"
      },
      "source": [
        "### Plotting the log likelihood as a function of passes for each step size\n",
        "\n",
        "Now, we will plot the change in log likelihood using the `make_plot` for each of the following values of `step_size`:\n",
        "\n",
        "* `step_size = 1e-4`\n",
        "* `step_size = 1e-3`\n",
        "* `step_size = 1e-2`\n",
        "* `step_size = 1e-1`\n",
        "* `step_size = 1e0`\n",
        "* `step_size = 1e1`\n",
        "* `step_size = 1e2`"
      ]
    },
    {
      "cell_type": "markdown",
      "metadata": {
        "id": "rjGmPzEGFH1r"
      },
      "source": [
        "For consistency, we again apply `smoothing_window=30`."
      ]
    },
    {
      "cell_type": "code",
      "metadata": {
        "colab": {
          "base_uri": "https://localhost:8080/",
          "height": 357
        },
        "id": "23jAnE8qFH1r",
        "outputId": "e4e04398-1b89-4ee7-f46c-69d32e633941"
      },
      "source": [
        "for step_size in np.logspace(-4, 2, num=7):\n",
        "    make_plot(log_likelihood_sgd[step_size], len_data=len(train_data), batch_size=100,\n",
        "              smoothing_window=30, label='step_size=%.1e'%step_size)"
      ],
      "execution_count": 40,
      "outputs": [
        {
          "output_type": "display_data",
          "data": {
            "image/png": "[encoded data removed]",
            "text/plain": [
              "<Figure size 648x360 with 1 Axes>"
            ]
          },
          "metadata": {
            "tags": [],
            "needs_background": "light"
          }
        }
      ]
    },
    {
      "cell_type": "markdown",
      "metadata": {
        "id": "mQNp1BxtFH1r"
      },
      "source": [
        "Now, let us remove the step size `step_size = 1e2` and plot the rest of the curves."
      ]
    },
    {
      "cell_type": "code",
      "metadata": {
        "colab": {
          "base_uri": "https://localhost:8080/",
          "height": 357
        },
        "id": "agyCqPHOFH1s",
        "outputId": "573b99a3-29bd-46de-dafe-24a46b752e23"
      },
      "source": [
        "for step_size in np.logspace(-4, 2, num=7)[0:6]:\n",
        "    make_plot(log_likelihood_sgd[step_size], len_data=len(train_data), batch_size=100,\n",
        "              smoothing_window=30, label='step_size=%.1e'%step_size)"
      ],
      "execution_count": 41,
      "outputs": [
        {
          "output_type": "display_data",
          "data": {
            "image/png": "[encoded data removed]",
            "text/plain": [
              "<Figure size 648x360 with 1 Axes>"
            ]
          },
          "metadata": {
            "tags": [],
            "needs_background": "light"
          }
        }
      ]
    },
    {
      "cell_type": "markdown",
      "metadata": {
        "id": "TZJH9TRFFH1s"
      },
      "source": [
        "**Quiz Question**: Which of the following is the worst step size? Pick the step size that results in the lowest log likelihood in the end.\n",
        "1. 1e-2\n",
        "2. 1e-1\n",
        "3. 1e0\n",
        "4. 1e1\n",
        "5. 1e2"
      ]
    },
    {
      "cell_type": "markdown",
      "metadata": {
        "id": "9dMOVn2-FH1s"
      },
      "source": [
        "**Quiz Question**: Which of the following is the best step size? Pick the step size that results in the highest log likelihood in the end.\n",
        "1. 1e-4\n",
        "2. 1e-2\n",
        "3. 1e0\n",
        "4. 1e1\n",
        "5. 1e2"
      ]
    },
    {
      "cell_type": "code",
      "metadata": {
        "collapsed": true,
        "colab": {
          "base_uri": "https://localhost:8080/"
        },
        "id": "Ju7inwNFFH1s",
        "outputId": "2a804ca6-155c-4af7-c2f7-7d481ad016a5"
      },
      "source": [
        "len(feature_matrix_train)"
      ],
      "execution_count": 42,
      "outputs": [
        {
          "output_type": "execute_result",
          "data": {
            "text/plain": [
              "47780"
            ]
          },
          "metadata": {
            "tags": []
          },
          "execution_count": 42
        }
      ]
    },
    {
      "cell_type": "code",
      "metadata": {
        "id": "R4TanoC_z1IU"
      },
      "source": [
        ""
      ],
      "execution_count": null,
      "outputs": []
    }
  ]
}