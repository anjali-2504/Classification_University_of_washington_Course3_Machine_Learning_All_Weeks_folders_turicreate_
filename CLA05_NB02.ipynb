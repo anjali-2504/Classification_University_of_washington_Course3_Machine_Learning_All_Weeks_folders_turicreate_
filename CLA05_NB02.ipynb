{
  "nbformat": 4,
  "nbformat_minor": 0,
  "metadata": {
    "kernelspec": {
      "display_name": "Python 3",
      "language": "python",
      "name": "python3"
    },
    "language_info": {
      "codemirror_mode": {
        "name": "ipython",
        "version": 3
      },
      "file_extension": ".py",
      "mimetype": "text/x-python",
      "name": "python",
      "nbconvert_exporter": "python",
      "pygments_lexer": "ipython3",
      "version": "3.6.0"
    },
    "colab": {
      "name": "CLA05-NB02.ipynb",
      "provenance": [],
      "collapsed_sections": [],
      "include_colab_link": true
    }
  },
  "cells": [
    {
      "cell_type": "markdown",
      "metadata": {
        "id": "view-in-github",
        "colab_type": "text"
      },
      "source": [
        "<a href=\"https://colab.research.google.com/github/anjali-2504/Classification_University_of_washington_Course3_Machine_Learning_All_Weeks_folders_turicreate_/blob/main/CLA05_NB02.ipynb\" target=\"_parent\"><img src=\"https://colab.research.google.com/assets/colab-badge.svg\" alt=\"Open In Colab\"/></a>"
      ]
    },
    {
      "cell_type": "markdown",
      "metadata": {
        "id": "7GpwNriffxwW"
      },
      "source": [
        "## Implementing binary decision trees"
      ]
    },
    {
      "cell_type": "markdown",
      "metadata": {
        "id": "4zIJ13iffxwa"
      },
      "source": [
        "The goal of this notebook is to implement your own binary decision tree classifier. You will:\n",
        "    \n",
        "* Use SFrames to do some feature engineering.\n",
        "* Transform categorical variables into binary variables.\n",
        "* Write a function to compute the number of misclassified examples in an intermediate node.\n",
        "* Write a function to find the best feature to split on.\n",
        "* Build a binary decision tree from scratch.\n",
        "* Make predictions using the decision tree.\n",
        "* Evaluate the accuracy of the decision tree.\n",
        "* Visualize the decision at the root node.\n",
        "\n",
        "**Important Note**: In this assignment, we will focus on building decision trees where the data contain **only binary (0 or 1) features**. This allows us to avoid dealing with:\n",
        "* Multiple intermediate nodes in a split\n",
        "* The thresholding issues of real-valued features.\n",
        "\n",
        "This assignment **may be challenging**, so brace yourself :)"
      ]
    },
    {
      "cell_type": "markdown",
      "metadata": {
        "id": "K9N6I0Z3fxwb"
      },
      "source": [
        "# Fire up Turi Create"
      ]
    },
    {
      "cell_type": "markdown",
      "metadata": {
        "id": "E1iskaO4fxwb"
      },
      "source": [
        "Make sure you have the latest version of Turi Create."
      ]
    },
    {
      "cell_type": "code",
      "metadata": {
        "colab": {
          "base_uri": "https://localhost:8080/"
        },
        "id": "cy4biJaYi86h",
        "outputId": "1bfd8e02-c745-4c45-8d39-d12f3d0d3e96"
      },
      "source": [
        "! pip install turicreate"
      ],
      "execution_count": 2,
      "outputs": [
        {
          "output_type": "stream",
          "text": [
            "Collecting turicreate\n",
            "\u001b[?25l  Downloading https://files.pythonhosted.org/packages/25/9f/a76acc465d873d217f05eac4846bd73d640b9db6d6f4a3c29ad92650fbbe/turicreate-6.4.1-cp37-cp37m-manylinux1_x86_64.whl (92.0MB)\n",
            "\u001b[K     |████████████████████████████████| 92.0MB 44kB/s \n",
            "\u001b[?25hCollecting coremltools==3.3\n",
            "\u001b[?25l  Downloading https://files.pythonhosted.org/packages/1b/1d/b1a99beca7355b6a026ae61fd8d3d36136e5b36f13e92ec5f81aceffc7f1/coremltools-3.3-cp37-none-manylinux1_x86_64.whl (3.5MB)\n",
            "\u001b[K     |████████████████████████████████| 3.5MB 51.9MB/s \n",
            "\u001b[?25hCollecting tensorflow<2.1.0,>=2.0.0\n",
            "\u001b[?25l  Downloading https://files.pythonhosted.org/packages/3c/b3/3eeae9bc44039ceadceac0c7ba1cc8b1482b172810b3d7624a1cad251437/tensorflow-2.0.4-cp37-cp37m-manylinux2010_x86_64.whl (86.4MB)\n",
            "\u001b[K     |████████████████████████████████| 86.4MB 55kB/s \n",
            "\u001b[?25hCollecting resampy==0.2.1\n",
            "\u001b[?25l  Downloading https://files.pythonhosted.org/packages/14/b6/66a06d85474190b50aee1a6c09cdc95bb405ac47338b27e9b21409da1760/resampy-0.2.1.tar.gz (322kB)\n",
            "\u001b[K     |████████████████████████████████| 327kB 52.8MB/s \n",
            "\u001b[?25hCollecting numba<0.51.0\n",
            "\u001b[?25l  Downloading https://files.pythonhosted.org/packages/04/be/8c88cee3366de2a3a23a9ff1a8be34e79ad1eb1ceb0d0e33aca83655ac3c/numba-0.50.1-cp37-cp37m-manylinux2014_x86_64.whl (3.6MB)\n",
            "\u001b[K     |████████████████████████████████| 3.6MB 43.2MB/s \n",
            "\u001b[?25hCollecting prettytable==0.7.2\n",
            "  Downloading https://files.pythonhosted.org/packages/ef/30/4b0746848746ed5941f052479e7c23d2b56d174b82f4fd34a25e389831f5/prettytable-0.7.2.tar.bz2\n",
            "Requirement already satisfied: scipy>=1.1.0 in /usr/local/lib/python3.7/dist-packages (from turicreate) (1.4.1)\n",
            "Requirement already satisfied: decorator>=4.0.9 in /usr/local/lib/python3.7/dist-packages (from turicreate) (4.4.2)\n",
            "Requirement already satisfied: pillow>=5.2.0 in /usr/local/lib/python3.7/dist-packages (from turicreate) (7.0.0)\n",
            "Requirement already satisfied: numpy in /usr/local/lib/python3.7/dist-packages (from turicreate) (1.19.5)\n",
            "Requirement already satisfied: pandas>=0.23.2 in /usr/local/lib/python3.7/dist-packages (from turicreate) (1.1.5)\n",
            "Requirement already satisfied: six>=1.10.0 in /usr/local/lib/python3.7/dist-packages (from turicreate) (1.15.0)\n",
            "Requirement already satisfied: requests>=2.9.1 in /usr/local/lib/python3.7/dist-packages (from turicreate) (2.23.0)\n",
            "Requirement already satisfied: protobuf>=3.1.0 in /usr/local/lib/python3.7/dist-packages (from coremltools==3.3->turicreate) (3.12.4)\n",
            "Requirement already satisfied: opt-einsum>=2.3.2 in /usr/local/lib/python3.7/dist-packages (from tensorflow<2.1.0,>=2.0.0->turicreate) (3.3.0)\n",
            "Requirement already satisfied: absl-py>=0.7.0 in /usr/local/lib/python3.7/dist-packages (from tensorflow<2.1.0,>=2.0.0->turicreate) (0.10.0)\n",
            "Requirement already satisfied: google-pasta>=0.1.6 in /usr/local/lib/python3.7/dist-packages (from tensorflow<2.1.0,>=2.0.0->turicreate) (0.2.0)\n",
            "Requirement already satisfied: astor>=0.6.0 in /usr/local/lib/python3.7/dist-packages (from tensorflow<2.1.0,>=2.0.0->turicreate) (0.8.1)\n",
            "Collecting tensorflow-estimator<2.1.0,>=2.0.0\n",
            "\u001b[?25l  Downloading https://files.pythonhosted.org/packages/fc/08/8b927337b7019c374719145d1dceba21a8bb909b93b1ad6f8fb7d22c1ca1/tensorflow_estimator-2.0.1-py2.py3-none-any.whl (449kB)\n",
            "\u001b[K     |████████████████████████████████| 450kB 49.3MB/s \n",
            "\u001b[?25hRequirement already satisfied: termcolor>=1.1.0 in /usr/local/lib/python3.7/dist-packages (from tensorflow<2.1.0,>=2.0.0->turicreate) (1.1.0)\n",
            "Requirement already satisfied: keras-preprocessing>=1.0.5 in /usr/local/lib/python3.7/dist-packages (from tensorflow<2.1.0,>=2.0.0->turicreate) (1.1.2)\n",
            "Collecting gast==0.2.2\n",
            "  Downloading https://files.pythonhosted.org/packages/4e/35/11749bf99b2d4e3cceb4d55ca22590b0d7c2c62b9de38ac4a4a7f4687421/gast-0.2.2.tar.gz\n",
            "Collecting tensorboard<2.1.0,>=2.0.0\n",
            "\u001b[?25l  Downloading https://files.pythonhosted.org/packages/76/54/99b9d5d52d5cb732f099baaaf7740403e83fe6b0cedde940fabd2b13d75a/tensorboard-2.0.2-py3-none-any.whl (3.8MB)\n",
            "\u001b[K     |████████████████████████████████| 3.8MB 48.5MB/s \n",
            "\u001b[?25hRequirement already satisfied: wrapt>=1.11.1 in /usr/local/lib/python3.7/dist-packages (from tensorflow<2.1.0,>=2.0.0->turicreate) (1.12.1)\n",
            "Requirement already satisfied: grpcio>=1.8.6 in /usr/local/lib/python3.7/dist-packages (from tensorflow<2.1.0,>=2.0.0->turicreate) (1.32.0)\n",
            "Requirement already satisfied: wheel>=0.26; python_version >= \"3\" in /usr/local/lib/python3.7/dist-packages (from tensorflow<2.1.0,>=2.0.0->turicreate) (0.36.2)\n",
            "Collecting keras-applications>=1.0.8\n",
            "\u001b[?25l  Downloading https://files.pythonhosted.org/packages/71/e3/19762fdfc62877ae9102edf6342d71b28fbfd9dea3d2f96a882ce099b03f/Keras_Applications-1.0.8-py3-none-any.whl (50kB)\n",
            "\u001b[K     |████████████████████████████████| 51kB 7.6MB/s \n",
            "\u001b[?25hRequirement already satisfied: h5py<=2.10.0 in /usr/local/lib/python3.7/dist-packages (from tensorflow<2.1.0,>=2.0.0->turicreate) (2.10.0)\n",
            "Requirement already satisfied: setuptools in /usr/local/lib/python3.7/dist-packages (from numba<0.51.0->turicreate) (54.1.2)\n",
            "Collecting llvmlite<0.34,>=0.33.0.dev0\n",
            "\u001b[?25l  Downloading https://files.pythonhosted.org/packages/0a/28/0a35b3c2685bf2ea327cef5577bdf91f387f0f4594417a2a05a1d42fb7c2/llvmlite-0.33.0-cp37-cp37m-manylinux1_x86_64.whl (18.3MB)\n",
            "\u001b[K     |████████████████████████████████| 18.3MB 238kB/s \n",
            "\u001b[?25hRequirement already satisfied: python-dateutil>=2.7.3 in /usr/local/lib/python3.7/dist-packages (from pandas>=0.23.2->turicreate) (2.8.1)\n",
            "Requirement already satisfied: pytz>=2017.2 in /usr/local/lib/python3.7/dist-packages (from pandas>=0.23.2->turicreate) (2018.9)\n",
            "Requirement already satisfied: idna<3,>=2.5 in /usr/local/lib/python3.7/dist-packages (from requests>=2.9.1->turicreate) (2.10)\n",
            "Requirement already satisfied: chardet<4,>=3.0.2 in /usr/local/lib/python3.7/dist-packages (from requests>=2.9.1->turicreate) (3.0.4)\n",
            "Requirement already satisfied: urllib3!=1.25.0,!=1.25.1,<1.26,>=1.21.1 in /usr/local/lib/python3.7/dist-packages (from requests>=2.9.1->turicreate) (1.24.3)\n",
            "Requirement already satisfied: certifi>=2017.4.17 in /usr/local/lib/python3.7/dist-packages (from requests>=2.9.1->turicreate) (2020.12.5)\n",
            "Requirement already satisfied: markdown>=2.6.8 in /usr/local/lib/python3.7/dist-packages (from tensorboard<2.1.0,>=2.0.0->tensorflow<2.1.0,>=2.0.0->turicreate) (3.3.4)\n",
            "Requirement already satisfied: google-auth<2,>=1.6.3 in /usr/local/lib/python3.7/dist-packages (from tensorboard<2.1.0,>=2.0.0->tensorflow<2.1.0,>=2.0.0->turicreate) (1.27.1)\n",
            "Requirement already satisfied: werkzeug>=0.11.15 in /usr/local/lib/python3.7/dist-packages (from tensorboard<2.1.0,>=2.0.0->tensorflow<2.1.0,>=2.0.0->turicreate) (1.0.1)\n",
            "Requirement already satisfied: google-auth-oauthlib<0.5,>=0.4.1 in /usr/local/lib/python3.7/dist-packages (from tensorboard<2.1.0,>=2.0.0->tensorflow<2.1.0,>=2.0.0->turicreate) (0.4.3)\n",
            "Requirement already satisfied: importlib-metadata; python_version < \"3.8\" in /usr/local/lib/python3.7/dist-packages (from markdown>=2.6.8->tensorboard<2.1.0,>=2.0.0->tensorflow<2.1.0,>=2.0.0->turicreate) (3.7.2)\n",
            "Requirement already satisfied: cachetools<5.0,>=2.0.0 in /usr/local/lib/python3.7/dist-packages (from google-auth<2,>=1.6.3->tensorboard<2.1.0,>=2.0.0->tensorflow<2.1.0,>=2.0.0->turicreate) (4.2.1)\n",
            "Requirement already satisfied: rsa<5,>=3.1.4; python_version >= \"3.6\" in /usr/local/lib/python3.7/dist-packages (from google-auth<2,>=1.6.3->tensorboard<2.1.0,>=2.0.0->tensorflow<2.1.0,>=2.0.0->turicreate) (4.7.2)\n",
            "Requirement already satisfied: pyasn1-modules>=0.2.1 in /usr/local/lib/python3.7/dist-packages (from google-auth<2,>=1.6.3->tensorboard<2.1.0,>=2.0.0->tensorflow<2.1.0,>=2.0.0->turicreate) (0.2.8)\n",
            "Requirement already satisfied: requests-oauthlib>=0.7.0 in /usr/local/lib/python3.7/dist-packages (from google-auth-oauthlib<0.5,>=0.4.1->tensorboard<2.1.0,>=2.0.0->tensorflow<2.1.0,>=2.0.0->turicreate) (1.3.0)\n",
            "Requirement already satisfied: zipp>=0.5 in /usr/local/lib/python3.7/dist-packages (from importlib-metadata; python_version < \"3.8\"->markdown>=2.6.8->tensorboard<2.1.0,>=2.0.0->tensorflow<2.1.0,>=2.0.0->turicreate) (3.4.1)\n",
            "Requirement already satisfied: typing-extensions>=3.6.4; python_version < \"3.8\" in /usr/local/lib/python3.7/dist-packages (from importlib-metadata; python_version < \"3.8\"->markdown>=2.6.8->tensorboard<2.1.0,>=2.0.0->tensorflow<2.1.0,>=2.0.0->turicreate) (3.7.4.3)\n",
            "Requirement already satisfied: pyasn1>=0.1.3 in /usr/local/lib/python3.7/dist-packages (from rsa<5,>=3.1.4; python_version >= \"3.6\"->google-auth<2,>=1.6.3->tensorboard<2.1.0,>=2.0.0->tensorflow<2.1.0,>=2.0.0->turicreate) (0.4.8)\n",
            "Requirement already satisfied: oauthlib>=3.0.0 in /usr/local/lib/python3.7/dist-packages (from requests-oauthlib>=0.7.0->google-auth-oauthlib<0.5,>=0.4.1->tensorboard<2.1.0,>=2.0.0->tensorflow<2.1.0,>=2.0.0->turicreate) (3.1.0)\n",
            "Building wheels for collected packages: resampy, prettytable, gast\n",
            "  Building wheel for resampy (setup.py) ... \u001b[?25l\u001b[?25hdone\n",
            "  Created wheel for resampy: filename=resampy-0.2.1-cp37-none-any.whl size=320845 sha256=be22c55b840dfbc7540aeaeb8bf2ed8d98efa806c78931d9c1b6eb280fae0353\n",
            "  Stored in directory: /root/.cache/pip/wheels/ff/4f/ed/2e6c676c23efe5394bb40ade50662e90eb46e29b48324c5f9b\n",
            "  Building wheel for prettytable (setup.py) ... \u001b[?25l\u001b[?25hdone\n",
            "  Created wheel for prettytable: filename=prettytable-0.7.2-cp37-none-any.whl size=13700 sha256=3511525c8c135fa51ccff0f20dd23c529db4988c9641863cf58081abe12e9647\n",
            "  Stored in directory: /root/.cache/pip/wheels/80/34/1c/3967380d9676d162cb59513bd9dc862d0584e045a162095606\n",
            "  Building wheel for gast (setup.py) ... \u001b[?25l\u001b[?25hdone\n",
            "  Created wheel for gast: filename=gast-0.2.2-cp37-none-any.whl size=7540 sha256=36d916a2edad9a1cbb9f01e39a5c1baf9d52bf5f24593af0bd5bc1aa182145f1\n",
            "  Stored in directory: /root/.cache/pip/wheels/5c/2e/7e/a1d4d4fcebe6c381f378ce7743a3ced3699feb89bcfbdadadd\n",
            "Successfully built resampy prettytable gast\n",
            "\u001b[31mERROR: tensorflow 2.0.4 has requirement numpy<1.19.0,>=1.16.0, but you'll have numpy 1.19.5 which is incompatible.\u001b[0m\n",
            "\u001b[31mERROR: tensorflow-probability 0.12.1 has requirement gast>=0.3.2, but you'll have gast 0.2.2 which is incompatible.\u001b[0m\n",
            "\u001b[31mERROR: pynndescent 0.5.2 has requirement numba>=0.51.2, but you'll have numba 0.50.1 which is incompatible.\u001b[0m\n",
            "\u001b[31mERROR: librosa 0.8.0 has requirement resampy>=0.2.2, but you'll have resampy 0.2.1 which is incompatible.\u001b[0m\n",
            "Installing collected packages: coremltools, tensorflow-estimator, gast, tensorboard, keras-applications, tensorflow, llvmlite, numba, resampy, prettytable, turicreate\n",
            "  Found existing installation: tensorflow-estimator 2.4.0\n",
            "    Uninstalling tensorflow-estimator-2.4.0:\n",
            "      Successfully uninstalled tensorflow-estimator-2.4.0\n",
            "  Found existing installation: gast 0.3.3\n",
            "    Uninstalling gast-0.3.3:\n",
            "      Successfully uninstalled gast-0.3.3\n",
            "  Found existing installation: tensorboard 2.4.1\n",
            "    Uninstalling tensorboard-2.4.1:\n",
            "      Successfully uninstalled tensorboard-2.4.1\n",
            "  Found existing installation: tensorflow 2.4.1\n",
            "    Uninstalling tensorflow-2.4.1:\n",
            "      Successfully uninstalled tensorflow-2.4.1\n",
            "  Found existing installation: llvmlite 0.34.0\n",
            "    Uninstalling llvmlite-0.34.0:\n",
            "      Successfully uninstalled llvmlite-0.34.0\n",
            "  Found existing installation: numba 0.51.2\n",
            "    Uninstalling numba-0.51.2:\n",
            "      Successfully uninstalled numba-0.51.2\n",
            "  Found existing installation: resampy 0.2.2\n",
            "    Uninstalling resampy-0.2.2:\n",
            "      Successfully uninstalled resampy-0.2.2\n",
            "  Found existing installation: prettytable 2.1.0\n",
            "    Uninstalling prettytable-2.1.0:\n",
            "      Successfully uninstalled prettytable-2.1.0\n",
            "Successfully installed coremltools-3.3 gast-0.2.2 keras-applications-1.0.8 llvmlite-0.33.0 numba-0.50.1 prettytable-0.7.2 resampy-0.2.1 tensorboard-2.0.2 tensorflow-2.0.4 tensorflow-estimator-2.0.1 turicreate-6.4.1\n"
          ],
          "name": "stdout"
        }
      ]
    },
    {
      "cell_type": "code",
      "metadata": {
        "scrolled": false,
        "id": "FNpARQmjfxwc"
      },
      "source": [
        "import turicreate"
      ],
      "execution_count": 3,
      "outputs": []
    },
    {
      "cell_type": "markdown",
      "metadata": {
        "collapsed": true,
        "id": "Pkdt844sfxwc"
      },
      "source": [
        "# Load the lending club dataset"
      ]
    },
    {
      "cell_type": "code",
      "metadata": {
        "colab": {
          "resources": {
            "http://localhost:8080/nbextensions/google.colab/files.js": {
              "data": "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",
              "ok": true,
              "headers": [
                [
                  "content-type",
                  "application/javascript"
                ]
              ],
              "status": 200,
              "status_text": ""
            }
          },
          "base_uri": "https://localhost:8080/",
          "height": 72
        },
        "id": "JGUBwIQ6f8eg",
        "outputId": "17444a0f-bb21-491c-8b4e-6dbb29ac0d39"
      },
      "source": [
        "from google.colab import files\n",
        "uploaded = files.upload()"
      ],
      "execution_count": 4,
      "outputs": [
        {
          "output_type": "display_data",
          "data": {
            "text/html": [
              "\n",
              "     <input type=\"file\" id=\"files-0a60a39c-75d8-4309-9e6f-22c4df82f63a\" name=\"files[]\" multiple disabled\n",
              "        style=\"border:none\" />\n",
              "     <output id=\"result-0a60a39c-75d8-4309-9e6f-22c4df82f63a\">\n",
              "      Upload widget is only available when the cell has been executed in the\n",
              "      current browser session. Please rerun this cell to enable.\n",
              "      </output>\n",
              "      <script src=\"/nbextensions/google.colab/files.js\"></script> "
            ],
            "text/plain": [
              "<IPython.core.display.HTML object>"
            ]
          },
          "metadata": {
            "tags": []
          }
        },
        {
          "output_type": "stream",
          "text": [
            "Saving lending-club-data.sframe.zip to lending-club-data.sframe.zip\n"
          ],
          "name": "stdout"
        }
      ]
    },
    {
      "cell_type": "code",
      "metadata": {
        "colab": {
          "base_uri": "https://localhost:8080/"
        },
        "id": "Xi2u361af-jI",
        "outputId": "de8d6928-7a9d-48f0-b7ab-4441b9316c62"
      },
      "source": [
        "from zipfile import ZipFile\n",
        "file_name = \"lending-club-data.sframe.zip\"\n",
        "with ZipFile(file_name,'r')as zip:\n",
        "  zip.extractall()\n",
        "  print('Done')"
      ],
      "execution_count": 46,
      "outputs": [
        {
          "output_type": "stream",
          "text": [
            "Done\n"
          ],
          "name": "stdout"
        }
      ]
    },
    {
      "cell_type": "markdown",
      "metadata": {
        "id": "2TTcPPygfxwc"
      },
      "source": [
        "We will be using the same [LendingClub](https://www.lendingclub.com/) dataset as in the previous assignment."
      ]
    },
    {
      "cell_type": "code",
      "metadata": {
        "id": "VJ2lU1wrfxwc"
      },
      "source": [
        "loans = turicreate.SFrame('lending-club-data.sframe/')"
      ],
      "execution_count": 6,
      "outputs": []
    },
    {
      "cell_type": "markdown",
      "metadata": {
        "id": "3uXWx-o0fxwd"
      },
      "source": [
        "Like the previous assignment, we reassign the labels to have +1 for a safe loan, and -1 for a risky (bad) loan."
      ]
    },
    {
      "cell_type": "code",
      "metadata": {
        "id": "dXOWwsqTfxwd"
      },
      "source": [
        "loans['safe_loans'] = loans['bad_loans'].apply(lambda x : +1 if x==0 else -1)\n",
        "loans = loans.remove_column('bad_loans')"
      ],
      "execution_count": 7,
      "outputs": []
    },
    {
      "cell_type": "markdown",
      "metadata": {
        "id": "kwge2rbcfxwd"
      },
      "source": [
        "Unlike the previous assignment where we used several features, in this assignment, we will just be using 4 categorical\n",
        "features: \n",
        "\n",
        "1. grade of the loan \n",
        "2. the length of the loan term\n",
        "3. the home ownership status: own, mortgage, rent\n",
        "4. number of years of employment.\n",
        "\n",
        "Since we are building a binary decision tree, we will have to convert these categorical features to a binary representation in a subsequent section using 1-hot encoding."
      ]
    },
    {
      "cell_type": "code",
      "metadata": {
        "scrolled": false,
        "id": "vu-74crLfxwd"
      },
      "source": [
        "features = ['grade',              # grade of the loan\n",
        "            'term',               # the term of the loan\n",
        "            'home_ownership',     # home_ownership status: own, mortgage or rent\n",
        "            'emp_length',         # number of years of employment\n",
        "           ]\n",
        "target = 'safe_loans'\n",
        "loans = loans[features + [target]]"
      ],
      "execution_count": 8,
      "outputs": []
    },
    {
      "cell_type": "markdown",
      "metadata": {
        "id": "hrxSzpZtfxwe"
      },
      "source": [
        "Let's explore what the dataset looks like."
      ]
    },
    {
      "cell_type": "code",
      "metadata": {
        "colab": {
          "base_uri": "https://localhost:8080/",
          "height": 279
        },
        "id": "X4WUkLLzfxwe",
        "outputId": "584b8118-eacc-4cab-b1b1-f1d77dd42d58"
      },
      "source": [
        "loans"
      ],
      "execution_count": 9,
      "outputs": [
        {
          "output_type": "execute_result",
          "data": {
            "text/html": [
              "<div style=\"max-height:1000px;max-width:1500px;overflow:auto;\"><table frame=\"box\" rules=\"cols\">\n",
              "    <tr>\n",
              "        <th style=\"padding-left: 1em; padding-right: 1em; text-align: center\">grade</th>\n",
              "        <th style=\"padding-left: 1em; padding-right: 1em; text-align: center\">term</th>\n",
              "        <th style=\"padding-left: 1em; padding-right: 1em; text-align: center\">home_ownership</th>\n",
              "        <th style=\"padding-left: 1em; padding-right: 1em; text-align: center\">emp_length</th>\n",
              "        <th style=\"padding-left: 1em; padding-right: 1em; text-align: center\">safe_loans</th>\n",
              "    </tr>\n",
              "    <tr>\n",
              "        <td style=\"padding-left: 1em; padding-right: 1em; text-align: center; vertical-align: top\">B</td>\n",
              "        <td style=\"padding-left: 1em; padding-right: 1em; text-align: center; vertical-align: top\"> 36 months</td>\n",
              "        <td style=\"padding-left: 1em; padding-right: 1em; text-align: center; vertical-align: top\">RENT</td>\n",
              "        <td style=\"padding-left: 1em; padding-right: 1em; text-align: center; vertical-align: top\">10+ years</td>\n",
              "        <td style=\"padding-left: 1em; padding-right: 1em; text-align: center; vertical-align: top\">1</td>\n",
              "    </tr>\n",
              "    <tr>\n",
              "        <td style=\"padding-left: 1em; padding-right: 1em; text-align: center; vertical-align: top\">C</td>\n",
              "        <td style=\"padding-left: 1em; padding-right: 1em; text-align: center; vertical-align: top\"> 60 months</td>\n",
              "        <td style=\"padding-left: 1em; padding-right: 1em; text-align: center; vertical-align: top\">RENT</td>\n",
              "        <td style=\"padding-left: 1em; padding-right: 1em; text-align: center; vertical-align: top\">&lt; 1 year</td>\n",
              "        <td style=\"padding-left: 1em; padding-right: 1em; text-align: center; vertical-align: top\">-1</td>\n",
              "    </tr>\n",
              "    <tr>\n",
              "        <td style=\"padding-left: 1em; padding-right: 1em; text-align: center; vertical-align: top\">C</td>\n",
              "        <td style=\"padding-left: 1em; padding-right: 1em; text-align: center; vertical-align: top\"> 36 months</td>\n",
              "        <td style=\"padding-left: 1em; padding-right: 1em; text-align: center; vertical-align: top\">RENT</td>\n",
              "        <td style=\"padding-left: 1em; padding-right: 1em; text-align: center; vertical-align: top\">10+ years</td>\n",
              "        <td style=\"padding-left: 1em; padding-right: 1em; text-align: center; vertical-align: top\">1</td>\n",
              "    </tr>\n",
              "    <tr>\n",
              "        <td style=\"padding-left: 1em; padding-right: 1em; text-align: center; vertical-align: top\">C</td>\n",
              "        <td style=\"padding-left: 1em; padding-right: 1em; text-align: center; vertical-align: top\"> 36 months</td>\n",
              "        <td style=\"padding-left: 1em; padding-right: 1em; text-align: center; vertical-align: top\">RENT</td>\n",
              "        <td style=\"padding-left: 1em; padding-right: 1em; text-align: center; vertical-align: top\">10+ years</td>\n",
              "        <td style=\"padding-left: 1em; padding-right: 1em; text-align: center; vertical-align: top\">1</td>\n",
              "    </tr>\n",
              "    <tr>\n",
              "        <td style=\"padding-left: 1em; padding-right: 1em; text-align: center; vertical-align: top\">A</td>\n",
              "        <td style=\"padding-left: 1em; padding-right: 1em; text-align: center; vertical-align: top\"> 36 months</td>\n",
              "        <td style=\"padding-left: 1em; padding-right: 1em; text-align: center; vertical-align: top\">RENT</td>\n",
              "        <td style=\"padding-left: 1em; padding-right: 1em; text-align: center; vertical-align: top\">3 years</td>\n",
              "        <td style=\"padding-left: 1em; padding-right: 1em; text-align: center; vertical-align: top\">1</td>\n",
              "    </tr>\n",
              "    <tr>\n",
              "        <td style=\"padding-left: 1em; padding-right: 1em; text-align: center; vertical-align: top\">E</td>\n",
              "        <td style=\"padding-left: 1em; padding-right: 1em; text-align: center; vertical-align: top\"> 36 months</td>\n",
              "        <td style=\"padding-left: 1em; padding-right: 1em; text-align: center; vertical-align: top\">RENT</td>\n",
              "        <td style=\"padding-left: 1em; padding-right: 1em; text-align: center; vertical-align: top\">9 years</td>\n",
              "        <td style=\"padding-left: 1em; padding-right: 1em; text-align: center; vertical-align: top\">1</td>\n",
              "    </tr>\n",
              "    <tr>\n",
              "        <td style=\"padding-left: 1em; padding-right: 1em; text-align: center; vertical-align: top\">F</td>\n",
              "        <td style=\"padding-left: 1em; padding-right: 1em; text-align: center; vertical-align: top\"> 60 months</td>\n",
              "        <td style=\"padding-left: 1em; padding-right: 1em; text-align: center; vertical-align: top\">OWN</td>\n",
              "        <td style=\"padding-left: 1em; padding-right: 1em; text-align: center; vertical-align: top\">4 years</td>\n",
              "        <td style=\"padding-left: 1em; padding-right: 1em; text-align: center; vertical-align: top\">-1</td>\n",
              "    </tr>\n",
              "    <tr>\n",
              "        <td style=\"padding-left: 1em; padding-right: 1em; text-align: center; vertical-align: top\">B</td>\n",
              "        <td style=\"padding-left: 1em; padding-right: 1em; text-align: center; vertical-align: top\"> 60 months</td>\n",
              "        <td style=\"padding-left: 1em; padding-right: 1em; text-align: center; vertical-align: top\">RENT</td>\n",
              "        <td style=\"padding-left: 1em; padding-right: 1em; text-align: center; vertical-align: top\">&lt; 1 year</td>\n",
              "        <td style=\"padding-left: 1em; padding-right: 1em; text-align: center; vertical-align: top\">-1</td>\n",
              "    </tr>\n",
              "    <tr>\n",
              "        <td style=\"padding-left: 1em; padding-right: 1em; text-align: center; vertical-align: top\">C</td>\n",
              "        <td style=\"padding-left: 1em; padding-right: 1em; text-align: center; vertical-align: top\"> 60 months</td>\n",
              "        <td style=\"padding-left: 1em; padding-right: 1em; text-align: center; vertical-align: top\">OWN</td>\n",
              "        <td style=\"padding-left: 1em; padding-right: 1em; text-align: center; vertical-align: top\">5 years</td>\n",
              "        <td style=\"padding-left: 1em; padding-right: 1em; text-align: center; vertical-align: top\">1</td>\n",
              "    </tr>\n",
              "    <tr>\n",
              "        <td style=\"padding-left: 1em; padding-right: 1em; text-align: center; vertical-align: top\">B</td>\n",
              "        <td style=\"padding-left: 1em; padding-right: 1em; text-align: center; vertical-align: top\"> 36 months</td>\n",
              "        <td style=\"padding-left: 1em; padding-right: 1em; text-align: center; vertical-align: top\">OWN</td>\n",
              "        <td style=\"padding-left: 1em; padding-right: 1em; text-align: center; vertical-align: top\">10+ years</td>\n",
              "        <td style=\"padding-left: 1em; padding-right: 1em; text-align: center; vertical-align: top\">1</td>\n",
              "    </tr>\n",
              "</table>\n",
              "[122607 rows x 5 columns]<br/>Note: Only the head of the SFrame is printed.<br/>You can use print_rows(num_rows=m, num_columns=n) to print more rows and columns.\n",
              "</div>"
            ],
            "text/plain": [
              "Columns:\n",
              "\tgrade\tstr\n",
              "\tterm\tstr\n",
              "\thome_ownership\tstr\n",
              "\temp_length\tstr\n",
              "\tsafe_loans\tint\n",
              "\n",
              "Rows: 122607\n",
              "\n",
              "Data:\n",
              "+-------+------------+----------------+------------+------------+\n",
              "| grade |    term    | home_ownership | emp_length | safe_loans |\n",
              "+-------+------------+----------------+------------+------------+\n",
              "|   B   |  36 months |      RENT      | 10+ years  |     1      |\n",
              "|   C   |  60 months |      RENT      |  < 1 year  |     -1     |\n",
              "|   C   |  36 months |      RENT      | 10+ years  |     1      |\n",
              "|   C   |  36 months |      RENT      | 10+ years  |     1      |\n",
              "|   A   |  36 months |      RENT      |  3 years   |     1      |\n",
              "|   E   |  36 months |      RENT      |  9 years   |     1      |\n",
              "|   F   |  60 months |      OWN       |  4 years   |     -1     |\n",
              "|   B   |  60 months |      RENT      |  < 1 year  |     -1     |\n",
              "|   C   |  60 months |      OWN       |  5 years   |     1      |\n",
              "|   B   |  36 months |      OWN       | 10+ years  |     1      |\n",
              "+-------+------------+----------------+------------+------------+\n",
              "[122607 rows x 5 columns]\n",
              "Note: Only the head of the SFrame is printed.\n",
              "You can use print_rows(num_rows=m, num_columns=n) to print more rows and columns."
            ]
          },
          "metadata": {
            "tags": []
          },
          "execution_count": 9
        }
      ]
    },
    {
      "cell_type": "markdown",
      "metadata": {
        "id": "Q8H-w0wRfxwe"
      },
      "source": [
        "## Subsample dataset to make sure classes are balanced"
      ]
    },
    {
      "cell_type": "markdown",
      "metadata": {
        "id": "Ax_V80lAfxwe"
      },
      "source": [
        "Just as we did in the previous assignment, we will undersample the larger class (safe loans) in order to balance out our dataset. This means we are throwing away many data points. We use `seed=1` so everyone gets the same results."
      ]
    },
    {
      "cell_type": "code",
      "metadata": {
        "colab": {
          "base_uri": "https://localhost:8080/"
        },
        "id": "3nPtXFQLfxwe",
        "outputId": "8fa6dfc9-3847-4d26-8fa2-8a67a98c8392"
      },
      "source": [
        "safe_loans_raw = loans[loans[target] == 1]\n",
        "risky_loans_raw = loans[loans[target] == -1]\n",
        "\n",
        "# Since there are less risky loans than safe loans, find the ratio of the sizes\n",
        "# and use that percentage to undersample the safe loans.\n",
        "percentage = len(risky_loans_raw)/float(len(safe_loans_raw))\n",
        "safe_loans = safe_loans_raw.sample(percentage, seed = 1)\n",
        "risky_loans = risky_loans_raw\n",
        "loans_data = risky_loans.append(safe_loans)\n",
        "\n",
        "print(\"Percentage of safe loans                 :\", len(safe_loans) / float(len(loans_data)))\n",
        "print(\"Percentage of risky loans                :\", len(risky_loans) / float(len(loans_data)))\n",
        "print(\"Total number of loans in our new dataset :\", len(loans_data))"
      ],
      "execution_count": 11,
      "outputs": [
        {
          "output_type": "stream",
          "text": [
            "Percentage of safe loans                 : 0.5022361744216048\n",
            "Percentage of risky loans                : 0.4977638255783951\n",
            "Total number of loans in our new dataset : 46508\n"
          ],
          "name": "stdout"
        }
      ]
    },
    {
      "cell_type": "markdown",
      "metadata": {
        "id": "tUWIJNA5fxwf"
      },
      "source": [
        "**Note:** There are many approaches for dealing with imbalanced data, including some where we modify the learning algorithm. These approaches are beyond the scope of this course, but some of them are reviewed in \"[Learning from Imbalanced Data](http://www.ele.uri.edu/faculty/he/PDFfiles/ImbalancedLearning.pdf)\" by Haibo He and Edwardo A. Garcia, *IEEE Transactions on Knowledge and Data Engineering* **21**(9) (June 26, 2009), p. 1263–1284. For this assignment, we use the simplest possible approach, where we subsample the overly represented class to get a more balanced dataset. In general, and especially when the data is highly imbalanced, we recommend using more advanced methods."
      ]
    },
    {
      "cell_type": "markdown",
      "metadata": {
        "id": "Uj06AFuyfxwf"
      },
      "source": [
        "## Transform categorical data into binary features"
      ]
    },
    {
      "cell_type": "markdown",
      "metadata": {
        "id": "1SxyEejgfxwf"
      },
      "source": [
        "In this assignment, we will implement **binary decision trees** (decision trees for binary features, a specific case of categorical variables taking on two values, e.g., true/false). Since all of our features are currently categorical features, we want to turn them into binary features. \n",
        "\n",
        "For instance, the **home_ownership** feature represents the home ownership status of the loanee, which is either `own`, `mortgage` or `rent`. For example, if a data point has the feature \n",
        "```\n",
        "   {'home_ownership': 'RENT'}\n",
        "```\n",
        "we want to turn this into three features: \n",
        "```\n",
        " { \n",
        "   'home_ownership = OWN'      : 0, \n",
        "   'home_ownership = MORTGAGE' : 0, \n",
        "   'home_ownership = RENT'     : 1\n",
        " }\n",
        "```\n",
        "\n",
        "Since this code requires a few Python and Turi Create tricks, feel free to use this block of code as is. Refer to the API documentation for a deeper understanding."
      ]
    },
    {
      "cell_type": "code",
      "metadata": {
        "id": "Kt3Ovydnfxwf"
      },
      "source": [
        "loans_data = risky_loans.append(safe_loans)\n",
        "for feature in features:\n",
        "    loans_data_one_hot_encoded = loans_data[feature].apply(lambda x: {x: 1})    \n",
        "    loans_data_unpacked = loans_data_one_hot_encoded.unpack(column_name_prefix=feature)\n",
        "    \n",
        "    # Change None's to 0's\n",
        "    for column in loans_data_unpacked.column_names():\n",
        "        loans_data_unpacked[column] = loans_data_unpacked[column].fillna(0)\n",
        "\n",
        "    loans_data = loans_data.remove_column(feature)\n",
        "    loans_data = loans_data.add_columns(loans_data_unpacked)"
      ],
      "execution_count": 12,
      "outputs": []
    },
    {
      "cell_type": "markdown",
      "metadata": {
        "id": "isKHlwEafxwg"
      },
      "source": [
        "Let's see what the feature columns look like now:"
      ]
    },
    {
      "cell_type": "code",
      "metadata": {
        "colab": {
          "base_uri": "https://localhost:8080/"
        },
        "id": "_OJVHHOhfxwg",
        "outputId": "0c99fc02-d909-4c77-8564-55a479f2f67a"
      },
      "source": [
        "features = loans_data.column_names()\n",
        "features.remove('safe_loans')  # Remove the response variable\n",
        "features"
      ],
      "execution_count": 13,
      "outputs": [
        {
          "output_type": "execute_result",
          "data": {
            "text/plain": [
              "['grade.A',\n",
              " 'grade.B',\n",
              " 'grade.C',\n",
              " 'grade.D',\n",
              " 'grade.E',\n",
              " 'grade.F',\n",
              " 'grade.G',\n",
              " 'term. 36 months',\n",
              " 'term. 60 months',\n",
              " 'home_ownership.MORTGAGE',\n",
              " 'home_ownership.OTHER',\n",
              " 'home_ownership.OWN',\n",
              " 'home_ownership.RENT',\n",
              " 'emp_length.1 year',\n",
              " 'emp_length.10+ years',\n",
              " 'emp_length.2 years',\n",
              " 'emp_length.3 years',\n",
              " 'emp_length.4 years',\n",
              " 'emp_length.5 years',\n",
              " 'emp_length.6 years',\n",
              " 'emp_length.7 years',\n",
              " 'emp_length.8 years',\n",
              " 'emp_length.9 years',\n",
              " 'emp_length.< 1 year',\n",
              " 'emp_length.n/a']"
            ]
          },
          "metadata": {
            "tags": []
          },
          "execution_count": 13
        }
      ]
    },
    {
      "cell_type": "code",
      "metadata": {
        "colab": {
          "base_uri": "https://localhost:8080/"
        },
        "id": "UFQc6V7Sfxwg",
        "outputId": "2eb18de3-5c3e-4baa-9246-8d74ffd62c11"
      },
      "source": [
        "print(\"Number of features (after binarizing categorical variables) = %s\" % len(features))"
      ],
      "execution_count": 14,
      "outputs": [
        {
          "output_type": "stream",
          "text": [
            "Number of features (after binarizing categorical variables) = 25\n"
          ],
          "name": "stdout"
        }
      ]
    },
    {
      "cell_type": "markdown",
      "metadata": {
        "id": "r_Q-YoJIfxwg"
      },
      "source": [
        "Let's explore what one of these columns looks like:"
      ]
    },
    {
      "cell_type": "code",
      "metadata": {
        "colab": {
          "base_uri": "https://localhost:8080/"
        },
        "id": "AMDKDk20fxwg",
        "outputId": "71d72307-60f8-4c78-d603-dc8b4e3c290f"
      },
      "source": [
        "loans_data['grade.A']"
      ],
      "execution_count": 15,
      "outputs": [
        {
          "output_type": "execute_result",
          "data": {
            "text/plain": [
              "dtype: int\n",
              "Rows: 46508\n",
              "[0, 0, 0, 0, 0, 0, 0, 0, 0, 1, 0, 0, 0, 0, 0, 0, 0, 0, 0, 0, 0, 0, 0, 1, 0, 0, 0, 0, 1, 0, 0, 0, 0, 0, 0, 0, 0, 0, 0, 0, 0, 0, 0, 0, 0, 0, 1, 0, 0, 1, 0, 0, 0, 0, 0, 0, 0, 0, 0, 1, 0, 0, 1, 0, 1, 0, 0, 1, 0, 0, 0, 0, 0, 0, 0, 0, 0, 1, 0, 1, 0, 0, 0, 0, 0, 0, 1, 0, 0, 0, 0, 0, 0, 1, 1, 0, 0, 0, 1, 0, ... ]"
            ]
          },
          "metadata": {
            "tags": []
          },
          "execution_count": 15
        }
      ]
    },
    {
      "cell_type": "markdown",
      "metadata": {
        "id": "LmA4CjYPfxwg"
      },
      "source": [
        "This column is set to 1 if the loan grade is A and 0 otherwise.\n",
        "\n",
        "**Checkpoint:** Make sure the following answers match up."
      ]
    },
    {
      "cell_type": "code",
      "metadata": {
        "colab": {
          "base_uri": "https://localhost:8080/"
        },
        "id": "tsWHl8n4fxwh",
        "outputId": "7742c801-5280-47f5-e4d1-5bf7b3d4bd10"
      },
      "source": [
        "print(\"Total number of grade.A loans : %s\" % loans_data['grade.A'].sum())\n",
        "print(\"Expexted answer               : 6422\")"
      ],
      "execution_count": 16,
      "outputs": [
        {
          "output_type": "stream",
          "text": [
            "Total number of grade.A loans : 6422\n",
            "Expexted answer               : 6422\n"
          ],
          "name": "stdout"
        }
      ]
    },
    {
      "cell_type": "markdown",
      "metadata": {
        "id": "0j6ssF4-fxwh"
      },
      "source": [
        "## Train-test split\n",
        "\n",
        "We split the data into a train test split with 80% of the data in the training set and 20% of the data in the test set. We use `seed=1` so that everyone gets the same result."
      ]
    },
    {
      "cell_type": "code",
      "metadata": {
        "collapsed": true,
        "id": "gKKbeBIefxwh"
      },
      "source": [
        "train_data, test_data = loans_data.random_split(.8, seed=1)"
      ],
      "execution_count": 17,
      "outputs": []
    },
    {
      "cell_type": "code",
      "metadata": {
        "id": "7xG5uiqtrvt3"
      },
      "source": [
        "import numpy as np"
      ],
      "execution_count": 18,
      "outputs": []
    },
    {
      "cell_type": "markdown",
      "metadata": {
        "id": "n-0OPc1Mfxwh"
      },
      "source": [
        "# Decision tree implementation"
      ]
    },
    {
      "cell_type": "markdown",
      "metadata": {
        "id": "gh7SFEJCfxwh"
      },
      "source": [
        "In this section, we will implement binary decision trees from scratch. There are several steps involved in building a decision tree. For that reason, we have split the entire assignment into several sections.\n",
        "\n",
        "## Function to count number of mistakes while predicting majority class\n",
        "\n",
        "Recall from the lecture that prediction at an intermediate node works by predicting the **majority class** for all data points that belong to this node.\n",
        "\n",
        "Now, we will write a function that calculates the number of **missclassified examples** when predicting the **majority class**. This will be used to help determine which feature is the best to split on at a given node of the tree.\n",
        "\n",
        "**Note**: Keep in mind that in order to compute the number of mistakes for a majority classifier, we only need the label (y values) of the data points in the node. \n",
        "\n",
        "** Steps to follow **:\n",
        "* **Step 1:** Calculate the number of safe loans and risky loans.\n",
        "* **Step 2:** Since we are assuming majority class prediction, all the data points that are **not** in the majority class are considered **mistakes**.\n",
        "* **Step 3:** Return the number of **mistakes**.\n",
        "\n",
        "\n",
        "Now, let us write the function `intermediate_node_num_mistakes` which computes the number of misclassified examples of an intermediate node given the set of labels (y values) of the data points contained in the node. Fill in the places where you find `## YOUR CODE HERE`. There are **three** places in this function for you to fill in."
      ]
    },
    {
      "cell_type": "code",
      "metadata": {
        "collapsed": true,
        "id": "GT_227f-fxwh"
      },
      "source": [
        "def intermediate_node_num_mistakes(labels_in_node):\n",
        "    # Corner case: If labels_in_node is empty, return 0\n",
        "    if len(labels_in_node) == 0:\n",
        "        return 0\n",
        "    \n",
        "    # Count the number of 1's (safe loans)\n",
        "    ## YOUR CODE HERE\n",
        "    #print(np.where(labels_in_node==1))\n",
        "    num_safe=len((np.where(labels_in_node==1))[0])\n",
        "    #print(num_safe)\n",
        "    \n",
        "    # Count the number of -1's (risky loans)\n",
        "    ## YOUR CODE HERE\n",
        "    num_risk=len((np.where(labels_in_node==-1))[0])\n",
        "    #print(num_risk)\n",
        "                \n",
        "    # Return the number of mistakes that the majority classifier makes.\n",
        "    ## YOUR CODE HERE\n",
        "    if (num_risk>num_safe):\n",
        "      return num_safe\n",
        "    else :\n",
        "      return num_risk   \n",
        "\n",
        "    "
      ],
      "execution_count": 19,
      "outputs": []
    },
    {
      "cell_type": "markdown",
      "metadata": {
        "id": "FBW1rDTefxwi"
      },
      "source": [
        "Because there are several steps in this assignment, we have introduced some stopping points where you can check your code and make sure it is correct before proceeding. To test your `intermediate_node_num_mistakes` function, run the following code until you get a **Test passed!**, then you should proceed. Otherwise, you should spend some time figuring out where things went wrong."
      ]
    },
    {
      "cell_type": "code",
      "metadata": {
        "id": "7qZc10Zifxwi",
        "colab": {
          "base_uri": "https://localhost:8080/"
        },
        "outputId": "a6611fe5-581e-44c9-9158-afae8c1146b9"
      },
      "source": [
        "# Test case 1\n",
        "example_labels = turicreate.SArray([-1, -1, 1, 1, 1])\n",
        "if intermediate_node_num_mistakes(example_labels) == 2:\n",
        "    print('Test passed!')\n",
        "else:\n",
        "    print('Test 1 failed... try again!')\n",
        "\n",
        "# Test case 2\n",
        "example_labels = turicreate.SArray([-1, -1, 1, 1, 1, 1, 1])\n",
        "if intermediate_node_num_mistakes(example_labels) == 2:\n",
        "    print('Test passed!')\n",
        "else:\n",
        "    print('Test 2 failed... try again!')\n",
        "\n",
        "# Test case 3\n",
        "example_labels = turicreate.SArray([-1, -1, -1, -1, -1, 1, 1])\n",
        "if intermediate_node_num_mistakes(example_labels) == 2:\n",
        "    print('Test passed!')\n",
        "else:\n",
        "    print('Test 3 failed... try again!')"
      ],
      "execution_count": 20,
      "outputs": [
        {
          "output_type": "stream",
          "text": [
            "Test passed!\n",
            "Test passed!\n",
            "Test passed!\n"
          ],
          "name": "stdout"
        }
      ]
    },
    {
      "cell_type": "markdown",
      "metadata": {
        "id": "3LQ46Fvufxwj"
      },
      "source": [
        "## Function to pick best feature to split on"
      ]
    },
    {
      "cell_type": "markdown",
      "metadata": {
        "id": "UB3LqxeUfxwj"
      },
      "source": [
        "The function **best_splitting_feature** takes 3 arguments: \n",
        "1. The data (SFrame of data which includes all of the feature columns and label column)\n",
        "2. The features to consider for splits (a list of strings of column names to consider for splits)\n",
        "3. The name of the target/label column (string)\n",
        "\n",
        "The function will loop through the list of possible features, and consider splitting on each of them. It will calculate the classification error of each split and return the feature that had the smallest classification error when split on.\n",
        "\n",
        "Recall that the **classification error** is defined as follows:\n",
        "$$\n",
        "\\mbox{classification error} = \\frac{\\mbox{# mistakes}}{\\mbox{# total examples}}\n",
        "$$\n",
        "\n",
        "Follow these steps: \n",
        "* **Step 1:** Loop over each feature in the feature list\n",
        "* **Step 2:** Within the loop, split the data into two groups: one group where all of the data has feature value 0 or False (we will call this the **left** split), and one group where all of the data has feature value 1 or True (we will call this the **right** split). Make sure the **left** split corresponds with 0 and the **right** split corresponds with 1 to ensure your implementation fits with our implementation of the tree building process.\n",
        "* **Step 3:** Calculate the number of misclassified examples in both groups of data and use the above formula to compute the **classification error**.\n",
        "* **Step 4:** If the computed error is smaller than the best error found so far, store this **feature and its error**.\n",
        "\n",
        "This may seem like a lot, but we have provided pseudocode in the comments in order to help you implement the function correctly.\n",
        "\n",
        "**Note:** Remember that since we are only dealing with binary features, we do not have to consider thresholds for real-valued features. This makes the implementation of this function much easier.\n",
        "\n",
        "Fill in the places where you find `## YOUR CODE HERE`. There are **five** places in this function for you to fill in."
      ]
    },
    {
      "cell_type": "code",
      "metadata": {
        "id": "ZuRCjmvUfxwj"
      },
      "source": [
        "def best_splitting_feature(data, features, target):\n",
        "    \n",
        "    best_feature = None # Keep track of the best feature \n",
        "    best_error = 10     # Keep track of the best error so far \n",
        "    # Note: Since error is always <= 1, we should intialize it with something larger than 1.\n",
        "\n",
        "    # Convert to float to make sure error gets computed correctly.\n",
        "    num_data_points = float(len(data))  \n",
        "    \n",
        "    # Loop through each feature to consider splitting on that feature\n",
        "    for feature in features:\n",
        "       \n",
        "        # The left split will have all data points where the feature value is 0\n",
        "        left_split = data[data[feature] == 0]\n",
        "        \n",
        "        # The right split will have all data points where the feature value is 1\n",
        "        ## YOUR CODE HERE\n",
        "        right_split =  data[data[feature] == 1]\n",
        "            \n",
        "        # Calculate the number of misclassified examples in the left split.\n",
        "        # Remember that we implemented a function for this! (It was called intermediate_node_num_mistakes)\n",
        "        # YOUR CODE HERE\n",
        "        left_mistakes = intermediate_node_num_mistakes(left_split[target])           \n",
        "\n",
        "        # Calculate the number of misclassified examples in the right split.\n",
        "        ## YOUR CODE HERE\n",
        "        right_mistakes = intermediate_node_num_mistakes(right_split[target])\n",
        "            \n",
        "        # Compute the classification error of this split.\n",
        "        # Error = (# of mistakes (left) + # of mistakes (right)) / (# of data points)\n",
        "        ## YOUR CODE HERE\n",
        "        error =( left_mistakes+right_mistakes)/float(len(data))\n",
        "\n",
        "        # If this is the best error we have found so far, store the feature as best_feature and the error as best_error\n",
        "        ## YOUR CODE HERE\n",
        "        if error < best_error:\n",
        "          best_feature=feature\n",
        "          best_error=error\n",
        "        \n",
        "    \n",
        "    return best_feature # Return the best feature we found"
      ],
      "execution_count": 21,
      "outputs": []
    },
    {
      "cell_type": "markdown",
      "metadata": {
        "id": "LKcdZIdXfxwk"
      },
      "source": [
        "To test your `best_splitting_feature` function, run the following code:"
      ]
    },
    {
      "cell_type": "code",
      "metadata": {
        "id": "riKdse26fxwk",
        "colab": {
          "base_uri": "https://localhost:8080/"
        },
        "outputId": "d4fbe39f-ee7f-4529-969a-fd86daae7227"
      },
      "source": [
        "if best_splitting_feature(train_data, features, 'safe_loans') == 'term. 36 months':\n",
        "    print('Test passed!')\n",
        "else:\n",
        "    print('Test failed... try again!')"
      ],
      "execution_count": 22,
      "outputs": [
        {
          "output_type": "stream",
          "text": [
            "Test passed!\n"
          ],
          "name": "stdout"
        }
      ]
    },
    {
      "cell_type": "markdown",
      "metadata": {
        "id": "JGdBW8Gvfxwk"
      },
      "source": [
        "## Building the tree\n",
        "\n",
        "With the above functions implemented correctly, we are now ready to build our decision tree. Each node in the decision tree is represented as a dictionary which contains the following keys and possible values:\n",
        "\n",
        "    { \n",
        "       'is_leaf'            : True/False.\n",
        "       'prediction'         : Prediction at the leaf node.\n",
        "       'left'               : (dictionary corresponding to the left tree).\n",
        "       'right'              : (dictionary corresponding to the right tree).\n",
        "       'splitting_feature'  : The feature that this node splits on.\n",
        "    }\n",
        "\n",
        "First, we will write a function that creates a leaf node given a set of target values. Fill in the places where you find `## YOUR CODE HERE`. There are **three** places in this function for you to fill in."
      ]
    },
    {
      "cell_type": "code",
      "metadata": {
        "id": "CgO3Fyc1fxwk"
      },
      "source": [
        "def create_leaf(target_values):\n",
        "    \n",
        "    # Create a leaf node\n",
        "    leaf = {'splitting_feature' : None,\n",
        "            'left' : None,\n",
        "            'right' : None,\n",
        "            'is_leaf':  True   }   ## YOUR CODE HERE\n",
        "\n",
        "    \n",
        "    # Count the number of data points that are +1 and -1 in this node.\n",
        "    num_ones = len(target_values[target_values == +1])\n",
        "    num_minus_ones = len(target_values[target_values == -1])\n",
        "    \n",
        "    # For the leaf node, set the prediction to be the majority class.\n",
        "    # Store the predicted class (1 or -1) in leaf['prediction']\n",
        "    if num_ones > num_minus_ones:\n",
        "        leaf['prediction'] = 1        ## YOUR CODE HERE\n",
        "    else:\n",
        "        leaf['prediction'] = -1      ## YOUR CODE HERE\n",
        "        \n",
        "    # Return the leaf node        \n",
        "    return leaf "
      ],
      "execution_count": 130,
      "outputs": []
    },
    {
      "cell_type": "markdown",
      "metadata": {
        "id": "3pkBCYT0fxwl"
      },
      "source": [
        "We have provided a function that learns the decision tree recursively and implements 3 stopping conditions:\n",
        "1. **Stopping condition 1:** All data points in a node are from the same class.\n",
        "2. **Stopping condition 2:** No more features to split on.\n",
        "3. **Additional stopping condition:** In addition to the above two stopping conditions covered in lecture, in this assignment we will also consider a stopping condition based on the **max_depth** of the tree. By not letting the tree grow too deep, we will save computational effort in the learning process. \n",
        "\n",
        "Now, we will write down the skeleton of the learning algorithm. Fill in the places where you find `## YOUR CODE HERE`. There are **seven** places in this function for you to fill in."
      ]
    },
    {
      "cell_type": "code",
      "metadata": {
        "id": "DZcvXf9zfxwl"
      },
      "source": [
        "def decision_tree_create(data, features, target, current_depth = 0, max_depth = 10):\n",
        "    remaining_features = features[:] # Make a copy of the features.\n",
        "    \n",
        "    target_values = data[target]\n",
        "    print(\"--------------------------------------------------------------------\")\n",
        "    print(\"Subtree, depth = %s (%s data points).\" % (current_depth, len(target_values)))\n",
        "\n",
        "\n",
        "    # Stopping condition 1\n",
        "    # (Check if there are mistakes at current node.\n",
        "    # Recall you wrote a function intermediate_node_num_mistakes to compute this.)\n",
        "    if  intermediate_node_num_mistakes(target_values)== 0:  ## YOUR CODE HERE\n",
        "        print(\"Stopping condition 1 reached.\")\n",
        "        # If not mistakes at current node, make current node a leaf node\n",
        "        return create_leaf(target_values)\n",
        "    \n",
        "    # Stopping condition 2 (check if there are remaining features to consider splitting on)\n",
        "    if remaining_features ==0 :   ## YOUR CODE HERE\n",
        "        print(\"Stopping condition 2 reached.\")\n",
        "        # If there are no remaining features to consider, make current node a leaf node\n",
        "        return create_leaf(target_values)    \n",
        "    \n",
        "    # Additional stopping condition (limit tree depth)\n",
        "    if current_depth >= max_depth:  ## YOUR CODE HERE\n",
        "        print(\"Reached maximum depth. Stopping for now.\")\n",
        "        # If the max tree depth has been reached, make current node a leaf node\n",
        "        return create_leaf(target_values)\n",
        "\n",
        "    # Find the best splitting feature (recall the function best_splitting_feature implemented above)\n",
        "    ## YOUR CODE HERE\n",
        "    splitting_feature=best_splitting_feature(data, features, target)\n",
        "    \n",
        "    # Split on the best feature that we found. \n",
        "    left_split = data[data[splitting_feature] == 0]\n",
        "    right_split =  data[data[splitting_feature] == 1]     ## YOUR CODE HERE\n",
        "    remaining_features.remove(splitting_feature)\n",
        "    print(\"Split on feature %s. (%s, %s)\" % (\\\n",
        "                      splitting_feature, len(left_split), len(right_split)))\n",
        "    \n",
        "    # Create a leaf node if the split is \"perfect\"\n",
        "    if len(left_split) == len(data):\n",
        "        print(\"Creating leaf node.\")\n",
        "        return create_leaf(left_split[target])\n",
        "    if len(right_split) == len(data):\n",
        "        print(\"Creating leaf node.\")\n",
        "        return create_leaf(right_split[target])\n",
        "        ## YOUR CODE HERE\n",
        "\n",
        "        \n",
        "    # Repeat (recurse) on left and right subtrees\n",
        "    left_tree = decision_tree_create(left_split, remaining_features, target, current_depth + 1, max_depth)        \n",
        "    ## YOUR CODE HERE\n",
        "    right_tree = decision_tree_create(right_split, remaining_features, target, current_depth + 1, max_depth)\n",
        "\n",
        "    return {'is_leaf'          : False, \n",
        "            'prediction'       : None,\n",
        "            'splitting_feature': splitting_feature,\n",
        "            'left'             : left_tree, \n",
        "            'right'            : right_tree}"
      ],
      "execution_count": 131,
      "outputs": []
    },
    {
      "cell_type": "code",
      "metadata": {
        "id": "GLtowKMH9V4-"
      },
      "source": [
        "\n",
        "def decision_tree_create(data, features, target, current_depth = 0, max_depth = 10):\n",
        "    remaining_features = features[:] # Make a copy of the features.\n",
        "    \n",
        "    target_values = data[target]\n",
        "    print( \"--------------------------------------------------------------------\")\n",
        "    print (\"Subtree, depth = %s (%s data points).\" % (current_depth, len(target_values)))\n",
        "    \n",
        "\n",
        "    # Stopping condition 1\n",
        "    # (Check if there are mistakes at current node.\n",
        "    # Recall you wrote a function intermediate_node_num_mistakes to compute this.)\n",
        "    if intermediate_node_num_mistakes(target_values) == 0:  ## YOUR CODE HERE\n",
        "        print( \"Stopping condition 1 reached.\"     )\n",
        "        # If not mistakes at current node, make current node a leaf node\n",
        "        return create_leaf(target_values)\n",
        "    \n",
        "    # Stopping condition 2 (check if there are remaining features to consider splitting on)\n",
        "    if remaining_features == []:   ## YOUR CODE HERE\n",
        "        print( \"Stopping condition 2 reached.\"    )\n",
        "        # If there are no remaining features to consider, make current node a leaf node\n",
        "        return create_leaf(target_values)    \n",
        "    \n",
        "    # Additional stopping condition (limit tree depth)\n",
        "    if current_depth >= max_depth:  ## YOUR CODE HERE\n",
        "        print( \"Reached maximum depth. Stopping for now.\")\n",
        "        # If the max tree depth has been reached, make current node a leaf node\n",
        "        return create_leaf(target_values)\n",
        "\n",
        "    # Find the best splitting feature (recall the function best_splitting_feature implemented above)\n",
        "    ## YOUR CODE HERE\n",
        "    splitting_feature = best_splitting_feature(data, remaining_features, target)\n",
        "    \n",
        "    # Split on the best feature that we found. \n",
        "    left_split = data[data[splitting_feature] == 0]\n",
        "    right_split = data[data[splitting_feature] == 1]      ## YOUR CODE HERE\n",
        "    remaining_features.remove(splitting_feature)\n",
        "    print (\"Split on feature %s. (%s, %s)\" % (\\\n",
        "                      splitting_feature, len(left_split), len(right_split)))\n",
        "    \n",
        "    # Create a leaf node if the split is \"perfect\"\n",
        "    if len(left_split) == len(data):\n",
        "        print (\"Creating leaf node.\")\n",
        "        return create_leaf(left_split[target])\n",
        "    if len(right_split) == len(data):\n",
        "        print (\"Creating leaf node.\")\n",
        "        ## YOUR CODE HERE\n",
        "        return create_leaf(right_split[target])\n",
        "        \n",
        "    # Repeat (recurse) on left and right subtrees\n",
        "    left_tree = decision_tree_create(left_split, remaining_features, target, current_depth + 1, max_depth)        \n",
        "    ## YOUR CODE HERE\n",
        "    right_tree = decision_tree_create(right_split, remaining_features, target, current_depth + 1, max_depth)\n",
        "\n",
        "    return {'is_leaf'          : False, \n",
        "            'prediction'       : None,\n",
        "            'splitting_feature': splitting_feature,\n",
        "            'left'             : left_tree, \n",
        "            'right'            : right_tree}"
      ],
      "execution_count": 50,
      "outputs": []
    },
    {
      "cell_type": "markdown",
      "metadata": {
        "id": "xCKsZADOfxwl"
      },
      "source": [
        "Here is a recursive function to count the nodes in your tree:"
      ]
    },
    {
      "cell_type": "code",
      "metadata": {
        "id": "F-FhyLysfxwl"
      },
      "source": [
        "def count_nodes(tree):\n",
        " # print(tree['is_leaf'])\n",
        "  if (tree['is_leaf']!=None and tree['is_leaf']==True) :\n",
        "    return 1\n",
        "  if (tree['is_leaf']!=None and tree['is_leaf']==False and tree['left']!=None and tree['right']==None ):\n",
        "    return 2 + count_nodes(tree['left']) \n",
        "  if (tree['is_leaf']!=None and tree['is_leaf']==False and tree['left']==None and tree['right']!=None ):\n",
        "    return 2 + count_nodes(tree['right']) \n",
        "  if (tree['is_leaf']!=None and tree['is_leaf']==False and tree['left']!=None and tree['right']!=None ):\n",
        "    return 1 + count_nodes(tree['left']) +count_nodes(tree['right'])\n",
        "  if (tree['is_leaf']!=None and tree['is_leaf']==False and tree['left']==None and tree['right']==None ):\n",
        "    return 1 \n",
        "   "
      ],
      "execution_count": 132,
      "outputs": []
    },
    {
      "cell_type": "markdown",
      "metadata": {
        "id": "uSyj2PSufxwl"
      },
      "source": [
        "Run the following test code to check your implementation. Make sure you get **'Test passed'** before proceeding."
      ]
    },
    {
      "cell_type": "code",
      "metadata": {
        "id": "lkTG-z3ifxwm",
        "colab": {
          "base_uri": "https://localhost:8080/"
        },
        "outputId": "b6b5f522-573c-46a6-d187-65509a161406"
      },
      "source": [
        "small_data_decision_tree = decision_tree_create(train_data, features, 'safe_loans', max_depth = 3)\n"
      ],
      "execution_count": 133,
      "outputs": [
        {
          "output_type": "stream",
          "text": [
            "--------------------------------------------------------------------\n",
            "Subtree, depth = 0 (37224 data points).\n",
            "Split on feature term. 36 months. (9223, 28001)\n",
            "--------------------------------------------------------------------\n",
            "Subtree, depth = 1 (9223 data points).\n",
            "Split on feature grade.A. (9122, 101)\n",
            "--------------------------------------------------------------------\n",
            "Subtree, depth = 2 (9122 data points).\n",
            "Split on feature grade.B. (8074, 1048)\n",
            "--------------------------------------------------------------------\n",
            "Subtree, depth = 3 (8074 data points).\n",
            "Reached maximum depth. Stopping for now.\n",
            "--------------------------------------------------------------------\n",
            "Subtree, depth = 3 (1048 data points).\n",
            "Reached maximum depth. Stopping for now.\n",
            "--------------------------------------------------------------------\n",
            "Subtree, depth = 2 (101 data points).\n",
            "Split on feature emp_length.n/a. (96, 5)\n",
            "--------------------------------------------------------------------\n",
            "Subtree, depth = 3 (96 data points).\n",
            "Reached maximum depth. Stopping for now.\n",
            "--------------------------------------------------------------------\n",
            "Subtree, depth = 3 (5 data points).\n",
            "Reached maximum depth. Stopping for now.\n",
            "--------------------------------------------------------------------\n",
            "Subtree, depth = 1 (28001 data points).\n",
            "Split on feature grade.D. (23300, 4701)\n",
            "--------------------------------------------------------------------\n",
            "Subtree, depth = 2 (23300 data points).\n",
            "Split on feature grade.E. (22024, 1276)\n",
            "--------------------------------------------------------------------\n",
            "Subtree, depth = 3 (22024 data points).\n",
            "Reached maximum depth. Stopping for now.\n",
            "--------------------------------------------------------------------\n",
            "Subtree, depth = 3 (1276 data points).\n",
            "Reached maximum depth. Stopping for now.\n",
            "--------------------------------------------------------------------\n",
            "Subtree, depth = 2 (4701 data points).\n",
            "Split on feature grade.A. (4701, 0)\n",
            "Creating leaf node.\n"
          ],
          "name": "stdout"
        }
      ]
    },
    {
      "cell_type": "code",
      "metadata": {
        "id": "dbe9SQZZC-T3",
        "outputId": "e7fac3fa-a010-494d-e7d2-90bbefc8a543",
        "colab": {
          "base_uri": "https://localhost:8080/"
        }
      },
      "source": [
        "if small_data_decision_tree['is_leaf']==True:\n",
        "  print(\"true\")\n",
        "else:\n",
        "  print(\"no\")  \n"
      ],
      "execution_count": 55,
      "outputs": [
        {
          "output_type": "stream",
          "text": [
            "no\n"
          ],
          "name": "stdout"
        }
      ]
    },
    {
      "cell_type": "code",
      "metadata": {
        "id": "NbuONJws-2py",
        "outputId": "d0788e58-03e5-4e5c-da7c-76845f592ee8",
        "colab": {
          "base_uri": "https://localhost:8080/"
        }
      },
      "source": [
        "small_data_decision_tree['right']"
      ],
      "execution_count": 56,
      "outputs": [
        {
          "output_type": "execute_result",
          "data": {
            "text/plain": [
              "{'is_leaf': False,\n",
              " 'left': {'is_leaf': False,\n",
              "  'left': {'is_leaf': False,\n",
              "   'left': None,\n",
              "   'prediction': 1,\n",
              "   'right': None,\n",
              "   'splitting_feature': None},\n",
              "  'prediction': None,\n",
              "  'right': {'is_leaf': False,\n",
              "   'left': None,\n",
              "   'prediction': -1,\n",
              "   'right': None,\n",
              "   'splitting_feature': None},\n",
              "  'splitting_feature': 'grade.E'},\n",
              " 'prediction': None,\n",
              " 'right': {'is_leaf': False,\n",
              "  'left': None,\n",
              "  'prediction': -1,\n",
              "  'right': None,\n",
              "  'splitting_feature': None},\n",
              " 'splitting_feature': 'grade.D'}"
            ]
          },
          "metadata": {
            "tags": []
          },
          "execution_count": 56
        }
      ]
    },
    {
      "cell_type": "code",
      "metadata": {
        "id": "26z44aHI_CPr"
      },
      "source": [
        "\"{'is_leaf': False,\n",
        " 'left': {'is_leaf': False,\n",
        "  'left': {'is_leaf': False,\n",
        "   'left': {'is_leaf': False,\n",
        "    'left': None,\n",
        "    'prediction': -1,\n",
        "    'right': None,\n",
        "    'splitting_feature': None},\n",
        "   'prediction': None,\n",
        "   'right': {'is_leaf': False,\n",
        "    'left': None,\n",
        "    'prediction': -1,\n",
        "    'right': None,\n",
        "    'splitting_feature': None},\n",
        "   'splitting_feature': 'grade.B'},\n",
        "  'prediction': None,\n",
        "  'right': {'is_leaf': False,\n",
        "   'left': {'is_leaf': False,\n",
        "    'left': None,\n",
        "    'prediction': 1,\n",
        "    'right': None,\n",
        "    'splitting_feature': None},\n",
        "   'prediction': None,\n",
        "   'right': {'is_leaf': False,\n",
        "    'left': None,\n",
        "    'prediction': -1,\n",
        "    'right': None,\n",
        "    'splitting_feature': None},\n",
        "   'splitting_feature': 'emp_length.n/a'},\n",
        "  'splitting_feature': 'grade.A'},\n",
        " 'prediction': None,\n",
        " 'right': {'is_leaf': False,\n",
        "  'left': {'is_leaf': False,\n",
        "   'left': {'is_leaf': False,\n",
        "    'left': None,\n",
        "    'prediction': 1,\n",
        "    'right': None,\n",
        "    'splitting_feature': None},\n",
        "   'prediction': None,\n",
        "   'right': {'is_leaf': False,\n",
        "    'left': None,\n",
        "    'prediction': -1,\n",
        "    'right': None,\n",
        "    'splitting_feature': None},\n",
        "   'splitting_feature': 'grade.E'},\n",
        "  'prediction': None,\n",
        "  'right': {'is_leaf': False,\n",
        "   'left': None,\n",
        "   'prediction': -1,\n",
        "   'right': None,\n",
        "   'splitting_feature': None},\n",
        "  'splitting_feature': 'grade.D'},\n",
        " \n",
        " 'splitting_feature': 'term. 36 months'}"
      ],
      "execution_count": null,
      "outputs": []
    },
    {
      "cell_type": "code",
      "metadata": {
        "id": "d05G_z35-uP6",
        "outputId": "46340582-4211-414f-9526-fe71ea88f583",
        "colab": {
          "base_uri": "https://localhost:8080/"
        }
      },
      "source": [
        "if count_nodes(small_data_decision_tree) == 13:\n",
        "    print('Test passed!')\n",
        "else:\n",
        "    print('Test failed... try again!')\n",
        "    print('Number of nodes found                :', count_nodes(small_data_decision_tree))\n",
        "    print('Number of nodes that should be there : 13' )"
      ],
      "execution_count": 134,
      "outputs": [
        {
          "output_type": "stream",
          "text": [
            "Test passed!\n"
          ],
          "name": "stdout"
        }
      ]
    },
    {
      "cell_type": "markdown",
      "metadata": {
        "id": "lCUMamIXfxwm"
      },
      "source": [
        "## Build the tree!\n",
        "\n",
        "Now that all the tests are passing, we will train a tree model on the **train_data**. Limit the depth to 6 (**max_depth = 6**) to make sure the algorithm doesn't run for too long. Call this tree **my_decision_tree**. \n",
        "\n",
        "**Warning**: This code block may take 1-2 minutes to learn. "
      ]
    },
    {
      "cell_type": "code",
      "metadata": {
        "id": "9AYEWoOZfxwm",
        "colab": {
          "base_uri": "https://localhost:8080/"
        },
        "outputId": "3bebcc10-a2ca-4ce3-f745-1e05d42af0f6"
      },
      "source": [
        "# Make sure to cap the depth at 6 by using max_depth = 6\n",
        "my_decision_tree=decision_tree_create(train_data, features, target, current_depth = 0, max_depth = 6)"
      ],
      "execution_count": 135,
      "outputs": [
        {
          "output_type": "stream",
          "text": [
            "--------------------------------------------------------------------\n",
            "Subtree, depth = 0 (37224 data points).\n",
            "Split on feature term. 36 months. (9223, 28001)\n",
            "--------------------------------------------------------------------\n",
            "Subtree, depth = 1 (9223 data points).\n",
            "Split on feature grade.A. (9122, 101)\n",
            "--------------------------------------------------------------------\n",
            "Subtree, depth = 2 (9122 data points).\n",
            "Split on feature grade.B. (8074, 1048)\n",
            "--------------------------------------------------------------------\n",
            "Subtree, depth = 3 (8074 data points).\n",
            "Split on feature grade.C. (5884, 2190)\n",
            "--------------------------------------------------------------------\n",
            "Subtree, depth = 4 (5884 data points).\n",
            "Split on feature grade.D. (3826, 2058)\n",
            "--------------------------------------------------------------------\n",
            "Subtree, depth = 5 (3826 data points).\n",
            "Split on feature grade.E. (1693, 2133)\n",
            "--------------------------------------------------------------------\n",
            "Subtree, depth = 6 (1693 data points).\n",
            "Reached maximum depth. Stopping for now.\n",
            "--------------------------------------------------------------------\n",
            "Subtree, depth = 6 (2133 data points).\n",
            "Reached maximum depth. Stopping for now.\n",
            "--------------------------------------------------------------------\n",
            "Subtree, depth = 5 (2058 data points).\n",
            "Split on feature grade.E. (2058, 0)\n",
            "Creating leaf node.\n",
            "--------------------------------------------------------------------\n",
            "Subtree, depth = 4 (2190 data points).\n",
            "Split on feature grade.D. (2190, 0)\n",
            "Creating leaf node.\n",
            "--------------------------------------------------------------------\n",
            "Subtree, depth = 3 (1048 data points).\n",
            "Split on feature emp_length.5 years. (969, 79)\n",
            "--------------------------------------------------------------------\n",
            "Subtree, depth = 4 (969 data points).\n",
            "Split on feature grade.C. (969, 0)\n",
            "Creating leaf node.\n",
            "--------------------------------------------------------------------\n",
            "Subtree, depth = 4 (79 data points).\n",
            "Split on feature home_ownership.MORTGAGE. (34, 45)\n",
            "--------------------------------------------------------------------\n",
            "Subtree, depth = 5 (34 data points).\n",
            "Split on feature grade.C. (34, 0)\n",
            "Creating leaf node.\n",
            "--------------------------------------------------------------------\n",
            "Subtree, depth = 5 (45 data points).\n",
            "Split on feature grade.C. (45, 0)\n",
            "Creating leaf node.\n",
            "--------------------------------------------------------------------\n",
            "Subtree, depth = 2 (101 data points).\n",
            "Split on feature emp_length.n/a. (96, 5)\n",
            "--------------------------------------------------------------------\n",
            "Subtree, depth = 3 (96 data points).\n",
            "Split on feature emp_length.< 1 year. (85, 11)\n",
            "--------------------------------------------------------------------\n",
            "Subtree, depth = 4 (85 data points).\n",
            "Split on feature grade.B. (85, 0)\n",
            "Creating leaf node.\n",
            "--------------------------------------------------------------------\n",
            "Subtree, depth = 4 (11 data points).\n",
            "Split on feature grade.B. (11, 0)\n",
            "Creating leaf node.\n",
            "--------------------------------------------------------------------\n",
            "Subtree, depth = 3 (5 data points).\n",
            "Split on feature grade.B. (5, 0)\n",
            "Creating leaf node.\n",
            "--------------------------------------------------------------------\n",
            "Subtree, depth = 1 (28001 data points).\n",
            "Split on feature grade.D. (23300, 4701)\n",
            "--------------------------------------------------------------------\n",
            "Subtree, depth = 2 (23300 data points).\n",
            "Split on feature grade.E. (22024, 1276)\n",
            "--------------------------------------------------------------------\n",
            "Subtree, depth = 3 (22024 data points).\n",
            "Split on feature grade.F. (21666, 358)\n",
            "--------------------------------------------------------------------\n",
            "Subtree, depth = 4 (21666 data points).\n",
            "Split on feature emp_length.n/a. (20734, 932)\n",
            "--------------------------------------------------------------------\n",
            "Subtree, depth = 5 (20734 data points).\n",
            "Split on feature grade.G. (20638, 96)\n",
            "--------------------------------------------------------------------\n",
            "Subtree, depth = 6 (20638 data points).\n",
            "Reached maximum depth. Stopping for now.\n",
            "--------------------------------------------------------------------\n",
            "Subtree, depth = 6 (96 data points).\n",
            "Reached maximum depth. Stopping for now.\n",
            "--------------------------------------------------------------------\n",
            "Subtree, depth = 5 (932 data points).\n",
            "Split on feature grade.A. (702, 230)\n",
            "--------------------------------------------------------------------\n",
            "Subtree, depth = 6 (702 data points).\n",
            "Reached maximum depth. Stopping for now.\n",
            "--------------------------------------------------------------------\n",
            "Subtree, depth = 6 (230 data points).\n",
            "Reached maximum depth. Stopping for now.\n",
            "--------------------------------------------------------------------\n",
            "Subtree, depth = 4 (358 data points).\n",
            "Split on feature emp_length.8 years. (347, 11)\n",
            "--------------------------------------------------------------------\n",
            "Subtree, depth = 5 (347 data points).\n",
            "Split on feature grade.A. (347, 0)\n",
            "Creating leaf node.\n",
            "--------------------------------------------------------------------\n",
            "Subtree, depth = 5 (11 data points).\n",
            "Split on feature home_ownership.OWN. (9, 2)\n",
            "--------------------------------------------------------------------\n",
            "Subtree, depth = 6 (9 data points).\n",
            "Reached maximum depth. Stopping for now.\n",
            "--------------------------------------------------------------------\n",
            "Subtree, depth = 6 (2 data points).\n",
            "Stopping condition 1 reached.\n",
            "--------------------------------------------------------------------\n",
            "Subtree, depth = 3 (1276 data points).\n",
            "Split on feature grade.A. (1276, 0)\n",
            "Creating leaf node.\n",
            "--------------------------------------------------------------------\n",
            "Subtree, depth = 2 (4701 data points).\n",
            "Split on feature grade.A. (4701, 0)\n",
            "Creating leaf node.\n"
          ],
          "name": "stdout"
        }
      ]
    },
    {
      "cell_type": "code",
      "metadata": {
        "id": "w7ei6rSmGfv5",
        "outputId": "7f5b5a6a-473b-499d-99b6-c6e108bf4331",
        "colab": {
          "base_uri": "https://localhost:8080/",
          "height": 35
        }
      },
      "source": [
        "my_decision_tree['splitting_feature']"
      ],
      "execution_count": 136,
      "outputs": [
        {
          "output_type": "execute_result",
          "data": {
            "application/vnd.google.colaboratory.intrinsic+json": {
              "type": "string"
            },
            "text/plain": [
              "'term. 36 months'"
            ]
          },
          "metadata": {
            "tags": []
          },
          "execution_count": 136
        }
      ]
    },
    {
      "cell_type": "code",
      "metadata": {
        "id": "Hfeks9VWCZHv",
        "outputId": "67981746-ceb5-4e0e-f332-c97d6bedd25c",
        "colab": {
          "base_uri": "https://localhost:8080/"
        }
      },
      "source": [
        "my_decision_tree"
      ],
      "execution_count": 137,
      "outputs": [
        {
          "output_type": "execute_result",
          "data": {
            "text/plain": [
              "{'is_leaf': False,\n",
              " 'left': {'is_leaf': False,\n",
              "  'left': {'is_leaf': False,\n",
              "   'left': {'is_leaf': False,\n",
              "    'left': {'is_leaf': False,\n",
              "     'left': {'is_leaf': False,\n",
              "      'left': {'is_leaf': True,\n",
              "       'left': None,\n",
              "       'prediction': -1,\n",
              "       'right': None,\n",
              "       'splitting_feature': None},\n",
              "      'prediction': None,\n",
              "      'right': {'is_leaf': True,\n",
              "       'left': None,\n",
              "       'prediction': -1,\n",
              "       'right': None,\n",
              "       'splitting_feature': None},\n",
              "      'splitting_feature': 'grade.E'},\n",
              "     'prediction': None,\n",
              "     'right': {'is_leaf': True,\n",
              "      'left': None,\n",
              "      'prediction': -1,\n",
              "      'right': None,\n",
              "      'splitting_feature': None},\n",
              "     'splitting_feature': 'grade.D'},\n",
              "    'prediction': None,\n",
              "    'right': {'is_leaf': True,\n",
              "     'left': None,\n",
              "     'prediction': -1,\n",
              "     'right': None,\n",
              "     'splitting_feature': None},\n",
              "    'splitting_feature': 'grade.C'},\n",
              "   'prediction': None,\n",
              "   'right': {'is_leaf': False,\n",
              "    'left': {'is_leaf': True,\n",
              "     'left': None,\n",
              "     'prediction': -1,\n",
              "     'right': None,\n",
              "     'splitting_feature': None},\n",
              "    'prediction': None,\n",
              "    'right': {'is_leaf': False,\n",
              "     'left': {'is_leaf': True,\n",
              "      'left': None,\n",
              "      'prediction': 1,\n",
              "      'right': None,\n",
              "      'splitting_feature': None},\n",
              "     'prediction': None,\n",
              "     'right': {'is_leaf': True,\n",
              "      'left': None,\n",
              "      'prediction': -1,\n",
              "      'right': None,\n",
              "      'splitting_feature': None},\n",
              "     'splitting_feature': 'home_ownership.MORTGAGE'},\n",
              "    'splitting_feature': 'emp_length.5 years'},\n",
              "   'splitting_feature': 'grade.B'},\n",
              "  'prediction': None,\n",
              "  'right': {'is_leaf': False,\n",
              "   'left': {'is_leaf': False,\n",
              "    'left': {'is_leaf': True,\n",
              "     'left': None,\n",
              "     'prediction': 1,\n",
              "     'right': None,\n",
              "     'splitting_feature': None},\n",
              "    'prediction': None,\n",
              "    'right': {'is_leaf': True,\n",
              "     'left': None,\n",
              "     'prediction': -1,\n",
              "     'right': None,\n",
              "     'splitting_feature': None},\n",
              "    'splitting_feature': 'emp_length.< 1 year'},\n",
              "   'prediction': None,\n",
              "   'right': {'is_leaf': True,\n",
              "    'left': None,\n",
              "    'prediction': -1,\n",
              "    'right': None,\n",
              "    'splitting_feature': None},\n",
              "   'splitting_feature': 'emp_length.n/a'},\n",
              "  'splitting_feature': 'grade.A'},\n",
              " 'prediction': None,\n",
              " 'right': {'is_leaf': False,\n",
              "  'left': {'is_leaf': False,\n",
              "   'left': {'is_leaf': False,\n",
              "    'left': {'is_leaf': False,\n",
              "     'left': {'is_leaf': False,\n",
              "      'left': {'is_leaf': True,\n",
              "       'left': None,\n",
              "       'prediction': 1,\n",
              "       'right': None,\n",
              "       'splitting_feature': None},\n",
              "      'prediction': None,\n",
              "      'right': {'is_leaf': True,\n",
              "       'left': None,\n",
              "       'prediction': -1,\n",
              "       'right': None,\n",
              "       'splitting_feature': None},\n",
              "      'splitting_feature': 'grade.G'},\n",
              "     'prediction': None,\n",
              "     'right': {'is_leaf': False,\n",
              "      'left': {'is_leaf': True,\n",
              "       'left': None,\n",
              "       'prediction': -1,\n",
              "       'right': None,\n",
              "       'splitting_feature': None},\n",
              "      'prediction': None,\n",
              "      'right': {'is_leaf': True,\n",
              "       'left': None,\n",
              "       'prediction': 1,\n",
              "       'right': None,\n",
              "       'splitting_feature': None},\n",
              "      'splitting_feature': 'grade.A'},\n",
              "     'splitting_feature': 'emp_length.n/a'},\n",
              "    'prediction': None,\n",
              "    'right': {'is_leaf': False,\n",
              "     'left': {'is_leaf': True,\n",
              "      'left': None,\n",
              "      'prediction': -1,\n",
              "      'right': None,\n",
              "      'splitting_feature': None},\n",
              "     'prediction': None,\n",
              "     'right': {'is_leaf': False,\n",
              "      'left': {'is_leaf': True,\n",
              "       'left': None,\n",
              "       'prediction': 1,\n",
              "       'right': None,\n",
              "       'splitting_feature': None},\n",
              "      'prediction': None,\n",
              "      'right': {'is_leaf': True,\n",
              "       'left': None,\n",
              "       'prediction': -1,\n",
              "       'right': None,\n",
              "       'splitting_feature': None},\n",
              "      'splitting_feature': 'home_ownership.OWN'},\n",
              "     'splitting_feature': 'emp_length.8 years'},\n",
              "    'splitting_feature': 'grade.F'},\n",
              "   'prediction': None,\n",
              "   'right': {'is_leaf': True,\n",
              "    'left': None,\n",
              "    'prediction': -1,\n",
              "    'right': None,\n",
              "    'splitting_feature': None},\n",
              "   'splitting_feature': 'grade.E'},\n",
              "  'prediction': None,\n",
              "  'right': {'is_leaf': True,\n",
              "   'left': None,\n",
              "   'prediction': -1,\n",
              "   'right': None,\n",
              "   'splitting_feature': None},\n",
              "  'splitting_feature': 'grade.D'},\n",
              " 'splitting_feature': 'term. 36 months'}"
            ]
          },
          "metadata": {
            "tags": []
          },
          "execution_count": 137
        }
      ]
    },
    {
      "cell_type": "code",
      "metadata": {
        "id": "x8PlSMfAC9RO"
      },
      "source": [
        "{'is_leaf': False,\n",
        " 'left': {'is_leaf': False,\n",
        "  'left': {'is_leaf': False,\n",
        "   'left': {'is_leaf': False,\n",
        "    'left': {'is_leaf': False,\n",
        "     'left': {'is_leaf': False,\n",
        "      'left': {'is_leaf': False,\n",
        "       'left': None,\n",
        "       'prediction': -1,\n",
        "       'right': None,\n",
        "       'splitting_feature': None},\n",
        "      'prediction': None,\n",
        "      'right': {'is_leaf': False,\n",
        "       'left': None,\n",
        "       'prediction': -1,\n",
        "       'right': None,\n",
        "       'splitting_feature': None},\n",
        "      'splitting_feature': 'grade.E'},\n",
        "     'prediction': None,\n",
        "     'right': {'is_leaf': False,\n",
        "      'left': None,\n",
        "      'prediction': -1,\n",
        "      'right': None,\n",
        "      'splitting_feature': None},\n",
        "     'splitting_feature': 'grade.D'},\n",
        "    'prediction': None,\n",
        "    'right': {'is_leaf': False,\n",
        "     'left': None,\n",
        "     'prediction': -1,\n",
        "     'right': None,\n",
        "     'splitting_feature': None},\n",
        "    'splitting_feature': 'grade.C'},\n",
        "   'prediction': None,\n",
        "   'right': {'is_leaf': False,\n",
        "    'left': {'is_leaf': False,\n",
        "     'left': None,\n",
        "     'prediction': -1,\n",
        "     'right': None,\n",
        "     'splitting_feature': None},\n",
        "    'prediction': None,\n",
        "    'right': {'is_leaf': False,\n",
        "     'left': {'is_leaf': False,\n",
        "      'left': None,\n",
        "      'prediction': 1,\n",
        "      'right': None,\n",
        "      'splitting_feature': None},\n",
        "     'prediction': None,\n",
        "     'right': {'is_leaf': False,\n",
        "      'left': None,\n",
        "      'prediction': -1,\n",
        "      'right': None,\n",
        "      'splitting_feature': None},\n",
        "     'splitting_feature': 'home_ownership.MORTGAGE'},\n",
        "    'splitting_feature': 'emp_length.5 years'},\n",
        "   'splitting_feature': 'grade.B'},\n",
        "  'prediction': None,\n",
        "  'right': {'is_leaf': False,\n",
        "   'left': {'is_leaf': False,\n",
        "    'left': {'is_leaf': False,\n",
        "     'left': None,\n",
        "     'prediction': 1,\n",
        "     'right': None,\n",
        "     'splitting_feature': None},\n",
        "    'prediction': None,\n",
        "    'right': {'is_leaf': False,\n",
        "     'left': None,\n",
        "     'prediction': -1,\n",
        "     'right': None,\n",
        "     'splitting_feature': None},\n",
        "    'splitting_feature': 'emp_length.< 1 year'},\n",
        "   'prediction': None,\n",
        "   'right': {'is_leaf': False,\n",
        "    'left': None,\n",
        "    'prediction': -1,\n",
        "    'right': None,\n",
        "    'splitting_feature': None},\n",
        "   'splitting_feature': 'emp_length.n/a'},\n",
        "  'splitting_feature': 'grade.A'},\n",
        " 'prediction': None,\n",
        " 'right': {'is_leaf': False,\n",
        "  'left': {'is_leaf': False,\n",
        "   'left': {'is_leaf': False,\n",
        "    'left': {'is_leaf': False,\n",
        "     'left': {'is_leaf': False,\n",
        "      'left': {'is_leaf': False,\n",
        "       'left': None,\n",
        "       'prediction': 1,\n",
        "       'right': None,\n",
        "       'splitting_feature': None},\n",
        "      'prediction': None,\n",
        "      'right': {'is_leaf': False,\n",
        "       'left': None,\n",
        "       'prediction': -1,\n",
        "       'right': None,\n",
        "       'splitting_feature': None},\n",
        "      'splitting_feature': 'grade.G'},\n",
        "     'prediction': None,\n",
        "     'right': {'is_leaf': False,\n",
        "      'left': {'is_leaf': False,\n",
        "       'left': None,\n",
        "       'prediction': -1,\n",
        "       'right': None,\n",
        "       'splitting_feature': None},\n",
        "      'prediction': None,\n",
        "      'right': {'is_leaf': False,\n",
        "       'left': None,\n",
        "       'prediction': 1,\n",
        "       'right': None,\n",
        "       'splitting_feature': None},\n",
        "      'splitting_feature': 'grade.A'},\n",
        "     'splitting_feature': 'emp_length.n/a'},\n",
        "    'prediction': None,\n",
        "    'right': {'is_leaf': False,\n",
        "     'left': {'is_leaf': False,\n",
        "      'left': None,\n",
        "      'prediction': -1,\n",
        "      'right': None,\n",
        "      'splitting_feature': None},\n",
        "     'prediction': None,\n",
        "     'right': {'is_leaf': False,\n",
        "      'left': {'is_leaf': False,\n",
        "       'left': None,\n",
        "       'prediction': 1,\n",
        "       'right': None,\n",
        "       'splitting_feature': None},\n",
        "      'prediction': None,\n",
        "      'right': {'is_leaf': False,\n",
        "       'left': None,\n",
        "       'prediction': -1,\n",
        "       'right': None,\n",
        "       'splitting_feature': None},\n",
        "      'splitting_feature': 'home_ownership.OWN'},\n",
        "     'splitting_feature': 'emp_length.8 years'},\n",
        "    'splitting_feature': 'grade.F'},\n",
        "   'prediction': None,\n",
        "   'right': {'is_leaf': False,\n",
        "    'left': None,\n",
        "    'prediction': -1,\n",
        "    'right': None,\n",
        "    'splitting_feature': None},\n",
        "   'splitting_feature': 'grade.E'},\n",
        "  'prediction': None,\n",
        "  'right': {'is_leaf': False,\n",
        "   'left': None,\n",
        "   'prediction': -1,\n",
        "   'right': None,\n",
        "   'splitting_feature': None},\n",
        "  'splitting_feature': 'grade.D'},\n",
        " 'splitting_feature': 'term. 36 months'}"
      ],
      "execution_count": null,
      "outputs": []
    },
    {
      "cell_type": "markdown",
      "metadata": {
        "id": "YJJoWMwVfxwm"
      },
      "source": [
        "## Making predictions with a decision tree\n",
        "\n",
        "As discussed in the lecture, we can make predictions from the decision tree with a simple recursive function. Below, we call this function `classify`, which takes in a learned `tree` and a test point `x` to classify.  We include an option `annotate` that describes the prediction path when set to `True`.\n",
        "\n",
        "Fill in the places where you find `## YOUR CODE HERE`. There is **one** place in this function for you to fill in."
      ]
    },
    {
      "cell_type": "code",
      "metadata": {
        "id": "vAdffD3jfxwm"
      },
      "source": [
        "def classify(tree, x, annotate = False):   \n",
        "    # if the node is a leaf node.\n",
        "    if tree['is_leaf'] and tree['is_leaf']!=None and tree['prediction']!=None:\n",
        "        if annotate: \n",
        "          print(\"At leaf, predicting %s\" % tree['prediction'])\n",
        "        return tree['prediction'] \n",
        "    else :\n",
        "        # split on feature.\n",
        "        if (tree['splitting_feature']!=None):\n",
        "          split_feature_value = x[tree['splitting_feature']]\n",
        "          if annotate: \n",
        "            print(\"Split on %s = %s\" % (tree['splitting_feature'], split_feature_value))\n",
        "          if split_feature_value == 0:\n",
        "            return classify(tree['left'], x, annotate)\n",
        "          else:\n",
        "            return classify(tree['right'], x, annotate)\n",
        "               ### YOUR CODE HERE"
      ],
      "execution_count": 138,
      "outputs": []
    },
    {
      "cell_type": "markdown",
      "metadata": {
        "id": "sWxFcOcYfxwm"
      },
      "source": [
        "Now, let's consider the first example of the test set and see what `my_decision_tree` model predicts for this data point."
      ]
    },
    {
      "cell_type": "code",
      "metadata": {
        "id": "77XehMhNfxwm",
        "colab": {
          "base_uri": "https://localhost:8080/"
        },
        "outputId": "0ad1cfea-29ed-4182-88a0-c7574f0b3173"
      },
      "source": [
        "test_data[0]"
      ],
      "execution_count": 139,
      "outputs": [
        {
          "output_type": "execute_result",
          "data": {
            "text/plain": [
              "{'emp_length.1 year': 0,\n",
              " 'emp_length.10+ years': 0,\n",
              " 'emp_length.2 years': 1,\n",
              " 'emp_length.3 years': 0,\n",
              " 'emp_length.4 years': 0,\n",
              " 'emp_length.5 years': 0,\n",
              " 'emp_length.6 years': 0,\n",
              " 'emp_length.7 years': 0,\n",
              " 'emp_length.8 years': 0,\n",
              " 'emp_length.9 years': 0,\n",
              " 'emp_length.< 1 year': 0,\n",
              " 'emp_length.n/a': 0,\n",
              " 'grade.A': 0,\n",
              " 'grade.B': 0,\n",
              " 'grade.C': 0,\n",
              " 'grade.D': 1,\n",
              " 'grade.E': 0,\n",
              " 'grade.F': 0,\n",
              " 'grade.G': 0,\n",
              " 'home_ownership.MORTGAGE': 0,\n",
              " 'home_ownership.OTHER': 0,\n",
              " 'home_ownership.OWN': 0,\n",
              " 'home_ownership.RENT': 1,\n",
              " 'safe_loans': -1,\n",
              " 'term. 36 months': 0,\n",
              " 'term. 60 months': 1}"
            ]
          },
          "metadata": {
            "tags": []
          },
          "execution_count": 139
        }
      ]
    },
    {
      "cell_type": "code",
      "metadata": {
        "id": "yT4Mgz0jfxwn",
        "colab": {
          "base_uri": "https://localhost:8080/"
        },
        "outputId": "d83690ba-d640-4864-c879-3573d797cd3d"
      },
      "source": [
        "print('Predicted class: %s ' % classify(my_decision_tree,test_data[0]))"
      ],
      "execution_count": 140,
      "outputs": [
        {
          "output_type": "stream",
          "text": [
            "Predicted class: -1 \n"
          ],
          "name": "stdout"
        }
      ]
    },
    {
      "cell_type": "markdown",
      "metadata": {
        "id": "HSChtQ6pfxwn"
      },
      "source": [
        "Let's add some annotations to our prediction to see what the prediction path was that lead to this predicted class:"
      ]
    },
    {
      "cell_type": "code",
      "metadata": {
        "id": "6EZaJ_Ubfxwn",
        "colab": {
          "base_uri": "https://localhost:8080/"
        },
        "outputId": "1701f136-0973-4a64-cbb6-49ea46ab2d4c"
      },
      "source": [
        "classify(my_decision_tree, test_data[0], annotate=True)"
      ],
      "execution_count": 141,
      "outputs": [
        {
          "output_type": "stream",
          "text": [
            "Split on term. 36 months = 0\n",
            "Split on grade.A = 0\n",
            "Split on grade.B = 0\n",
            "Split on grade.C = 0\n",
            "Split on grade.D = 1\n",
            "At leaf, predicting -1\n"
          ],
          "name": "stdout"
        },
        {
          "output_type": "execute_result",
          "data": {
            "text/plain": [
              "-1"
            ]
          },
          "metadata": {
            "tags": []
          },
          "execution_count": 141
        }
      ]
    },
    {
      "cell_type": "markdown",
      "metadata": {
        "id": "Zx5wcfhvfxwn"
      },
      "source": [
        "**Quiz Question:** What was the feature that **my_decision_tree** first split on while making the prediction for test_data[0]?"
      ]
    },
    {
      "cell_type": "markdown",
      "metadata": {
        "id": "Qbhf73Wgfxwn"
      },
      "source": [
        "**Quiz Question:** What was the first feature that lead to a right split of test_data[0]?"
      ]
    },
    {
      "cell_type": "markdown",
      "metadata": {
        "id": "LIYPFZsrfxwn"
      },
      "source": [
        "**Quiz Question:** What was the last feature split on before reaching a leaf node for test_data[0]?"
      ]
    },
    {
      "cell_type": "markdown",
      "metadata": {
        "id": "UkIm0yMzfxwn"
      },
      "source": [
        "## Evaluating your decision tree"
      ]
    },
    {
      "cell_type": "markdown",
      "metadata": {
        "id": "S0kgHEYKfxwn"
      },
      "source": [
        "Now, we will write a function to evaluate a decision tree by computing the classification error of the tree on the given dataset.\n",
        "\n",
        "Again, recall that the **classification error** is defined as follows:\n",
        "$$\n",
        "\\mbox{classification error} = \\frac{\\mbox{# mistakes}}{\\mbox{# total examples}}\n",
        "$$\n",
        "\n",
        "Now, write a function called `evaluate_classification_error` that takes in as input:\n",
        "1. `tree` (as described above)\n",
        "2. `data` (an SFrame)\n",
        "3. `target` (a string - the name of the target/label column)\n",
        "\n",
        "This function should calculate a prediction (class label) for each row in `data` using the decision `tree` and return the classification error computed using the above formula. Fill in the places where you find `## YOUR CODE HERE`. There is **one** place in this function for you to fill in."
      ]
    },
    {
      "cell_type": "code",
      "metadata": {
        "id": "n2vxPH5Zfxwq"
      },
      "source": [
        "def evaluate_classification_error(tree, data, target):\n",
        "    # Apply the classify(tree, x) to each row in your data\n",
        "    prediction = data.apply(lambda x: classify(tree, x))\n",
        "    print(prediction)\n",
        "    # Once you've made the predictions, calculate the classification error and return it\n",
        "    ## YOUR CODE HERE\n",
        "    print(data[target])\n",
        "    a=np.where(prediction!=data[target])\n",
        "    print(a[0])\n",
        "    classification_error=len(a[0])/len(data)\n",
        "    return classification_error\n",
        "\n",
        "    "
      ],
      "execution_count": 142,
      "outputs": []
    },
    {
      "cell_type": "markdown",
      "metadata": {
        "id": "d8-kmE6Yfxwq"
      },
      "source": [
        "Now, let's use this function to evaluate the classification error on the test set."
      ]
    },
    {
      "cell_type": "code",
      "metadata": {
        "id": "rCkYXdZMfxwq",
        "colab": {
          "base_uri": "https://localhost:8080/"
        },
        "outputId": "0e2d5b47-c6b8-4871-c8c2-edbf833fb0bb"
      },
      "source": [
        "evaluate_classification_error(my_decision_tree, test_data, target)"
      ],
      "execution_count": 143,
      "outputs": [
        {
          "output_type": "stream",
          "text": [
            "[-1, 1, -1, -1, 1, -1, -1, 1, -1, -1, -1, 1, 1, -1, 1, 1, 1, -1, -1, -1, -1, 1, -1, -1, -1, 1, 1, -1, 1, -1, -1, -1, -1, 1, 1, -1, 1, -1, 1, -1, 1, 1, 1, 1, 1, -1, 1, -1, 1, 1, -1, -1, -1, 1, -1, 1, 1, 1, -1, -1, 1, -1, 1, -1, 1, 1, -1, -1, -1, -1, 1, 1, -1, 1, -1, -1, -1, 1, -1, -1, -1, -1, 1, 1, 1, 1, 1, 1, -1, -1, -1, 1, -1, -1, -1, -1, -1, -1, -1, -1, ... ]\n",
            "[-1, -1, -1, -1, -1, -1, -1, -1, -1, -1, -1, -1, -1, -1, -1, -1, -1, -1, -1, -1, -1, -1, -1, -1, -1, -1, -1, -1, -1, -1, -1, -1, -1, -1, -1, -1, -1, -1, -1, -1, -1, -1, -1, -1, -1, -1, -1, -1, -1, -1, -1, -1, -1, -1, -1, -1, -1, -1, -1, -1, -1, -1, -1, -1, -1, -1, -1, -1, -1, -1, -1, -1, -1, -1, -1, -1, -1, -1, -1, -1, -1, -1, -1, -1, -1, -1, -1, -1, -1, -1, -1, -1, -1, -1, -1, -1, -1, -1, -1, -1, ... ]\n",
            "[   1    4    7 ... 9279 9281 9282]\n"
          ],
          "name": "stdout"
        },
        {
          "output_type": "execute_result",
          "data": {
            "text/plain": [
              "0.3837785437311504"
            ]
          },
          "metadata": {
            "tags": []
          },
          "execution_count": 143
        }
      ]
    },
    {
      "cell_type": "markdown",
      "metadata": {
        "id": "d6ob3bA2fxwq"
      },
      "source": [
        "**Quiz Question:** Rounded to 2nd decimal point, what is the classification error of **my_decision_tree** on the **test_data**?"
      ]
    },
    {
      "cell_type": "markdown",
      "metadata": {
        "id": "G_msmc0bfxwq"
      },
      "source": [
        "## Printing out a decision stump"
      ]
    },
    {
      "cell_type": "markdown",
      "metadata": {
        "id": "RCj4berwfxwq"
      },
      "source": [
        "As discussed in the lecture, we can print out a single decision stump (printing out the entire tree is left as an exercise to the curious reader). "
      ]
    },
    {
      "cell_type": "code",
      "metadata": {
        "id": "BBUKqgTmfxwr"
      },
      "source": [
        "def print_stump(tree, name = 'root'):\n",
        "    split_name = tree['splitting_feature'] # split_name is something like 'term. 36 months'\n",
        "    if split_name is None:\n",
        "        print(\"(leaf, label: %s)\" % tree['prediction'])\n",
        "        return None\n",
        "    split_feature, split_value = split_name.split('.')\n",
        "    print('                       %s' % name)\n",
        "    print('         |---------------|----------------|')\n",
        "    print('         |                                |')\n",
        "    print('         |                                |')\n",
        "    print('         |                                |')\n",
        "    print('  [{0} == 0]               [{0} == 1]    '.format(split_name))\n",
        "    print('         |                                |')\n",
        "    print('         |                                |')\n",
        "    print('         |                                |')\n",
        "    print('    (%s)                         (%s)' \\\n",
        "        % (('leaf, label: ' + str(tree['left']['prediction']) if tree['left']['is_leaf'] else 'subtree'),\n",
        "           ('leaf, label: ' + str(tree['right']['prediction']) if tree['right']['is_leaf'] else 'subtree')))"
      ],
      "execution_count": 144,
      "outputs": []
    },
    {
      "cell_type": "code",
      "metadata": {
        "id": "4sNtwziQfxwr",
        "colab": {
          "base_uri": "https://localhost:8080/"
        },
        "outputId": "141c31ae-925c-4095-874e-3d37194068f2"
      },
      "source": [
        "print_stump(my_decision_tree)"
      ],
      "execution_count": 145,
      "outputs": [
        {
          "output_type": "stream",
          "text": [
            "                       root\n",
            "         |---------------|----------------|\n",
            "         |                                |\n",
            "         |                                |\n",
            "         |                                |\n",
            "  [term. 36 months == 0]               [term. 36 months == 1]    \n",
            "         |                                |\n",
            "         |                                |\n",
            "         |                                |\n",
            "    (subtree)                         (subtree)\n"
          ],
          "name": "stdout"
        }
      ]
    },
    {
      "cell_type": "markdown",
      "metadata": {
        "id": "R1eKxWJ3fxwr"
      },
      "source": [
        "**Quiz Question:** What is the feature that is used for the split at the root node?\n",
        "\n",
        "### Exploring the intermediate left subtree\n",
        "\n",
        "The tree is a recursive dictionary, so we do have access to all the nodes! We can use\n",
        "* `my_decision_tree['left']` to go left\n",
        "* `my_decision_tree['right']` to go right"
      ]
    },
    {
      "cell_type": "code",
      "metadata": {
        "id": "U3wT2tGffxwr",
        "colab": {
          "base_uri": "https://localhost:8080/"
        },
        "outputId": "98afbc3e-c40a-4345-ec81-78fff8e909a3"
      },
      "source": [
        "print_stump(my_decision_tree['left'], my_decision_tree['splitting_feature'])"
      ],
      "execution_count": 95,
      "outputs": [
        {
          "output_type": "stream",
          "text": [
            "                       term. 36 months\n",
            "         |---------------|----------------|\n",
            "         |                                |\n",
            "         |                                |\n",
            "         |                                |\n",
            "  [grade.A == 0]               [grade.A == 1]    \n",
            "         |                                |\n",
            "         |                                |\n",
            "         |                                |\n",
            "    (subtree)                         (subtree)\n"
          ],
          "name": "stdout"
        }
      ]
    },
    {
      "cell_type": "markdown",
      "metadata": {
        "id": "BJA1crEsfxwr"
      },
      "source": [
        "### Exploring the left subtree of the left subtree\n"
      ]
    },
    {
      "cell_type": "code",
      "metadata": {
        "id": "EUnBCXm0fxwr",
        "colab": {
          "base_uri": "https://localhost:8080/"
        },
        "outputId": "343b4771-e6ab-4419-c1e2-532ae35f4e34"
      },
      "source": [
        "print_stump(my_decision_tree['left']['left'], my_decision_tree['left']['splitting_feature'])"
      ],
      "execution_count": 93,
      "outputs": [
        {
          "output_type": "stream",
          "text": [
            "                       grade.A\n",
            "         |---------------|----------------|\n",
            "         |                                |\n",
            "         |                                |\n",
            "         |                                |\n",
            "  [grade.B == 0]               [grade.B == 1]    \n",
            "         |                                |\n",
            "         |                                |\n",
            "         |                                |\n",
            "    (subtree)                         (subtree)\n",
            "                       grade.A\n",
            "         |---------------|----------------|\n",
            "         |                                |\n",
            "         |                                |\n",
            "         |                                |\n",
            "  [grade.B == 0]               [grade.B == 1]    \n",
            "         |                                |\n",
            "         |                                |\n",
            "         |                                |\n",
            "    (subtree)                         (subtree)\n"
          ],
          "name": "stdout"
        }
      ]
    },
    {
      "cell_type": "markdown",
      "metadata": {
        "id": "a9yIPdHofxwr"
      },
      "source": [
        "**Quiz Question:** What is the path of the **first 3 feature splits** considered along the **left-most** branch of **my_decision_tree**?"
      ]
    },
    {
      "cell_type": "markdown",
      "metadata": {
        "id": "HsQPVZ-lfxwr"
      },
      "source": [
        "**Quiz Question:** What is the path of the **first 3 feature splits** considered along the **right-most** branch of **my_decision_tree**?"
      ]
    },
    {
      "cell_type": "code",
      "metadata": {
        "id": "PHW3wkYvfxws",
        "colab": {
          "base_uri": "https://localhost:8080/"
        },
        "outputId": "7469e049-c088-44e5-db39-d79eb4400936"
      },
      "source": [
        "print_stump(my_decision_tree['right'],my_decision_tree['right']['splitting_feature'])"
      ],
      "execution_count": 96,
      "outputs": [
        {
          "output_type": "stream",
          "text": [
            "                       grade.D\n",
            "         |---------------|----------------|\n",
            "         |                                |\n",
            "         |                                |\n",
            "         |                                |\n",
            "  [grade.D == 0]               [grade.D == 1]    \n",
            "         |                                |\n",
            "         |                                |\n",
            "         |                                |\n",
            "    (subtree)                         (subtree)\n"
          ],
          "name": "stdout"
        }
      ]
    },
    {
      "cell_type": "code",
      "metadata": {
        "id": "7pHFkWlFeYf6",
        "outputId": "4115c191-4e4c-4fcc-e711-31aa90f79b9f",
        "colab": {
          "base_uri": "https://localhost:8080/"
        }
      },
      "source": [
        "print_stump(my_decision_tree['right']['right'],my_decision_tree['right']['splitting_feature'])"
      ],
      "execution_count": 98,
      "outputs": [
        {
          "output_type": "stream",
          "text": [
            "(leaf, label: -1)\n"
          ],
          "name": "stdout"
        }
      ]
    },
    {
      "cell_type": "code",
      "metadata": {
        "id": "NQHGwpPEtVBH"
      },
      "source": [
        ""
      ],
      "execution_count": null,
      "outputs": []
    }
  ]
}